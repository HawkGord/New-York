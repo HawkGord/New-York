{
 "cells": [
  {
   "cell_type": "markdown",
   "metadata": {},
   "source": [
    "# Тетрадь по курсу \"Python: основы и применение\"\n",
    "\n",
    "Ссылка на курс\n",
    "https://stepik.org/course/512/syllabus"
   ]
  },
  {
   "cell_type": "markdown",
   "metadata": {},
   "source": [
    "## 1. Базовые принципы языка Python"
   ]
  },
  {
   "cell_type": "markdown",
   "metadata": {},
   "source": [
    "### 1.2 Модель данных: объекты"
   ]
  },
  {
   "cell_type": "markdown",
   "metadata": {},
   "source": [
    "- Объект - абстракция для данных.\n",
    "- Данные - объекты и отношения между ними.\n",
    "- У любого объекта есть 3 обязательные вещи: идентификатор, тип, значение.\n",
    "- Идентификатор не может измениться\n",
    "\n",
    "Если встречается число, сразу создается объект. Если встречается список, то сначала создается объект для каждого элемента списка, а потом объект и для самого списка."
   ]
  },
  {
   "cell_type": "markdown",
   "metadata": {},
   "source": [
    "#### Идентификатор\n",
    "\n",
    "\n",
    "- Создается объект 4\n",
    "- Соответствие переменной **x** и идентификатора объекта 4\n",
    "\n",
    "имя = (объект)"
   ]
  },
  {
   "cell_type": "code",
   "execution_count": 2,
   "metadata": {},
   "outputs": [],
   "source": [
    "x = 4"
   ]
  },
  {
   "cell_type": "markdown",
   "metadata": {},
   "source": [
    "- Получение идентификатора с помощью функции `id()`\n",
    "\n",
    "получается два разных объекта с разным идентификатором, так как созданы в разное время"
   ]
  },
  {
   "cell_type": "code",
   "execution_count": 4,
   "metadata": {},
   "outputs": [
    {
     "name": "stdout",
     "output_type": "stream",
     "text": [
      "2202710312904\n",
      "2202710083144\n"
     ]
    }
   ],
   "source": [
    "x = [1,2,3]\n",
    "print(id(x))\n",
    "print(id([1,2,3]))"
   ]
  },
  {
   "cell_type": "markdown",
   "metadata": {},
   "source": [
    "- Ссылаются ли две переменные на один объект можно проверить оператором `is`"
   ]
  },
  {
   "cell_type": "code",
   "execution_count": 8,
   "metadata": {},
   "outputs": [
    {
     "name": "stdout",
     "output_type": "stream",
     "text": [
      "True\n",
      "False\n"
     ]
    }
   ],
   "source": [
    "x = [1,2,3]\n",
    "y = x\n",
    "print(y is x) #True\n",
    "print(y is [1,2,3]) #False"
   ]
  },
  {
   "cell_type": "markdown",
   "metadata": {},
   "source": [
    "- Изменяется объект, а не переменная\n",
    "\n",
    "Наглядный пример списки, так как они изменяемые. Если две переменные ссылаются на один список, то изменив его через одну переменную, при вызове через другую мы вызовем измененный список"
   ]
  },
  {
   "cell_type": "code",
   "execution_count": 10,
   "metadata": {},
   "outputs": [
    {
     "name": "stdout",
     "output_type": "stream",
     "text": [
      "[1, 2, 3, 4]\n",
      "[1, 2, 3, 4]\n"
     ]
    }
   ],
   "source": [
    "x = [1,2,3]\n",
    "y = x\n",
    "x.append(4)\n",
    "print(x) # [1, 2, 3, 4]\n",
    "print(y) # [1, 2, 3, 4]"
   ]
  },
  {
   "cell_type": "code",
   "execution_count": 12,
   "metadata": {},
   "outputs": [
    {
     "data": {
      "text/plain": [
       "int"
      ]
     },
     "execution_count": 12,
     "metadata": {},
     "output_type": "execute_result"
    }
   ],
   "source": [
    "type(id(x)) # идентификатор это число типа int"
   ]
  },
  {
   "cell_type": "code",
   "execution_count": 22,
   "metadata": {},
   "outputs": [
    {
     "name": "stdout",
     "output_type": "stream",
     "text": [
      "id(x): 2202737284360\n",
      "id(y): 2202737284360\n",
      "id(s): 2202736669168\n",
      "id(t): 2202736669168\n",
      "id(t): 2202709455088\n",
      "\n",
      "[1, 2, 3, 4] 123\n"
     ]
    }
   ],
   "source": [
    "# Задание на знание того, что строки - неизменяемые объекты\n",
    "x = [1, 2, 3]\n",
    "y = x\n",
    "y.append(4)\n",
    "print(\"id(x): \" + str(id(x)))\n",
    "print(\"id(y): \" + str(id(y)))\n",
    "\n",
    "s = \"123\" \n",
    "print(\"id(s): \" + str(id(s)))\n",
    "\n",
    "t = s       \n",
    "print(\"id(t): \" + str(id(t)))\n",
    "\n",
    "t = t + \"4\" #по сути мы создаем копию, а не ссылаемся на тот же объект, так как строку менять нельзя\n",
    "print(\"id(t): \" + str(id(t)))\n",
    "\n",
    "print()\n",
    "print(str(x) + \" \" + s)"
   ]
  },
  {
   "cell_type": "markdown",
   "metadata": {},
   "source": [
    "Ниже отличный пример из комментариев и пояснение\n",
    "\n",
    "В первом случае `y=y*2` мы вызываем метод `__mul__` у объекта \"y\" - он присваивает переменной \"y\" новый объект (результат умножения) - то есть \"x\" и \"y\" в данном случае разные объекты, т.к \"y\" теперь ссылается на другой объект\n",
    "\n",
    "А во втором случае `y*=2` у \"y\" вызывается метод `__imul__` который модифицирует сам объект, т.е ссылка \"y\" указывает на то же самое место в памяти, туда же, куда указывает и \"x\", в результате умножения объект изменяется и в результате обе ссылки показывают его новое значение"
   ]
  },
  {
   "cell_type": "code",
   "execution_count": 23,
   "metadata": {
    "collapsed": true
   },
   "outputs": [
    {
     "name": "stdout",
     "output_type": "stream",
     "text": [
      "[1, 2, 3]\n",
      "[1, 2, 3, 1, 2, 3]\n",
      "[1, 2, 3, 1, 2, 3]\n",
      "[1, 2, 3, 1, 2, 3]\n"
     ]
    }
   ],
   "source": [
    "x=[1,2,3]\n",
    "y=x\n",
    "y=y*2\n",
    "print(x) #[1, 2, 3]\n",
    "print(y) #[1, 2, 3, 1, 2, 3]\n",
    "\n",
    "#\n",
    "\n",
    "x=[1,2,3]\n",
    "y=x\n",
    "y*=2\n",
    "print(x) #[1, 2, 3, 1, 2, 3]\n",
    "print(y) #[1, 2, 3, 1, 2, 3]"
   ]
  },
  {
   "cell_type": "markdown",
   "metadata": {},
   "source": [
    "#### Тип объекта\n",
    "\n",
    "- Тип объекта не может быть изменен после создания объекта (как и идентификатор)\n",
    "- Узнать тип объекта можно при помощи функции `type()` "
   ]
  },
  {
   "cell_type": "code",
   "execution_count": 27,
   "metadata": {},
   "outputs": [
    {
     "name": "stdout",
     "output_type": "stream",
     "text": [
      "<class 'list'>\n",
      "<class 'int'>\n",
      "<class 'type'>\n"
     ]
    }
   ],
   "source": [
    "x = [1,2,3]\n",
    "print(type(x)) #<class 'list'>\n",
    "print(type(4)) #<class 'int'>\n",
    "print(type(type(x))) #<class 'type'>"
   ]
  },
  {
   "cell_type": "markdown",
   "metadata": {},
   "source": [
    "##### Два вида объектов - Mutable (изменчивый)  и Immutable (неизменный)\n",
    "\n",
    "- ***Immutable***\n",
    "    - int\n",
    "    - float\n",
    "    - complex\n",
    "    - bool\n",
    "    - tuple\n",
    "    - str\n",
    "    - frozenset\n",
    "        \n",
    "    \n",
    "- ***Mutable***\n",
    "    - list\n",
    "    - dict\n",
    "    - set\n",
    "   "
   ]
  },
  {
   "cell_type": "markdown",
   "metadata": {},
   "source": [
    "##### Словари (dict)\n",
    "неупорядоченные коллекции произвольных объектов с доступом по ключу. Их иногда ещё называют ассоциативными массивами или хеш-таблицами.\n",
    "\n",
    "Чтобы работать со словарём, его нужно создать. Создать его можно несколькими способами: \n",
    "- с помощью литерала `{}`\n",
    "- с помощью функции `dict`\n",
    "- с помощью метода `fromkeys`\n",
    "- с помощью генераторов словарей, которые очень похожи на генераторы списков"
   ]
  },
  {
   "cell_type": "code",
   "execution_count": 56,
   "metadata": {
    "scrolled": true
   },
   "outputs": [
    {
     "name": "stdout",
     "output_type": "stream",
     "text": [
      "{}\n",
      "{'dict': 1, 'dictionary': 2}\n"
     ]
    }
   ],
   "source": [
    "d = {}\n",
    "print(d)\n",
    "\n",
    "d = {'dict': 1, 'dictionary': 2}\n",
    "print(d)"
   ]
  },
  {
   "cell_type": "code",
   "execution_count": 57,
   "metadata": {},
   "outputs": [
    {
     "name": "stdout",
     "output_type": "stream",
     "text": [
      "{'short': 'dict', 'long': 'dictionary'}\n",
      "{1: 1, 2: 4}\n"
     ]
    }
   ],
   "source": [
    "d = dict(short='dict', long='dictionary')\n",
    "print(d)\n",
    "\n",
    "d = dict([(1, 1), (2, 4)])\n",
    "print(d)"
   ]
  },
  {
   "cell_type": "code",
   "execution_count": 58,
   "metadata": {},
   "outputs": [
    {
     "name": "stdout",
     "output_type": "stream",
     "text": [
      "{'a': None, 'b': None}\n",
      "{'a': 100, 'b': 100}\n"
     ]
    }
   ],
   "source": [
    "d = dict.fromkeys(['a', 'b'])\n",
    "print(d)\n",
    "\n",
    "d = dict.fromkeys(['a', 'b'], 100)\n",
    "print(d)"
   ]
  },
  {
   "cell_type": "code",
   "execution_count": 61,
   "metadata": {
    "scrolled": true
   },
   "outputs": [
    {
     "data": {
      "text/plain": [
       "{0: 0, 1: 1, 2: 4, 3: 9, 4: 16, 5: 25, 6: 36}"
      ]
     },
     "execution_count": 61,
     "metadata": {},
     "output_type": "execute_result"
    }
   ],
   "source": [
    "d = {a: a ** 2 for a in range(7)}\n",
    "d"
   ]
  },
  {
   "cell_type": "code",
   "execution_count": 63,
   "metadata": {},
   "outputs": [
    {
     "name": "stdout",
     "output_type": "stream",
     "text": [
      "2\n",
      "{1: 2, 2: 4, 3: 9, 4: 16}\n"
     ]
    }
   ],
   "source": [
    "d = {1: 2, 2: 4, 3: 9}\n",
    "print(d[1])\n",
    "d[4] = 4 ** 2\n",
    "print(d)"
   ]
  },
  {
   "cell_type": "markdown",
   "metadata": {},
   "source": [
    "#####  Множества (set)\n",
    "Множество в python - \"контейнер\", содержащий не повторяющиеся элементы в случайном порядке."
   ]
  },
  {
   "cell_type": "code",
   "execution_count": 39,
   "metadata": {},
   "outputs": [
    {
     "name": "stdout",
     "output_type": "stream",
     "text": [
      "{'l', 'h', 'e', 'o'}\n",
      "{0, 1, 64, 4, 36, 9, 16, 49, 81, 25}\n",
      "<class 'dict'>\n"
     ]
    }
   ],
   "source": [
    "#Примеры для set (множества)\n",
    "\n",
    "a = set('hello')\n",
    "print(a) #{'l', 'h', 'e', 'o'} - хранятся уникальные значения\n",
    "\n",
    "a = {i ** 2 for i in range(10)} # генератор множеств\n",
    "print(a) #{0, 1, 64, 4, 36, 9, 16, 49, 81, 25}\n",
    "\n",
    "a = {}  # А так нельзя!\n",
    "print(type(a)) #Получим словарь <class 'dict'>"
   ]
  },
  {
   "cell_type": "code",
   "execution_count": 46,
   "metadata": {},
   "outputs": [
    {
     "name": "stdout",
     "output_type": "stream",
     "text": [
      "{'w', 'y', 1, 'e', 'r', 'q', 't'}\n"
     ]
    }
   ],
   "source": [
    "#Примеры для frozenset\n",
    "\n",
    "a = set('qwerty')\n",
    "b = frozenset('qwerty')\n",
    "a == b #True\n",
    "type(a - b) #<class 'set'>\n",
    "type(a | b) #<class 'set'>\n",
    "a.add(1)\n",
    "print(a)"
   ]
  },
  {
   "cell_type": "code",
   "execution_count": 44,
   "metadata": {},
   "outputs": [
    {
     "ename": "AttributeError",
     "evalue": "'frozenset' object has no attribute 'add'",
     "output_type": "error",
     "traceback": [
      "\u001b[1;31m---------------------------------------------------------------------------\u001b[0m",
      "\u001b[1;31mAttributeError\u001b[0m                            Traceback (most recent call last)",
      "\u001b[1;32m<ipython-input-44-0e06f9372d14>\u001b[0m in \u001b[0;36m<module>\u001b[1;34m\u001b[0m\n\u001b[1;32m----> 1\u001b[1;33m \u001b[0mb\u001b[0m\u001b[1;33m.\u001b[0m\u001b[0madd\u001b[0m\u001b[1;33m(\u001b[0m\u001b[1;36m1\u001b[0m\u001b[1;33m)\u001b[0m \u001b[1;31m#нельзя менять frozenset\u001b[0m\u001b[1;33m\u001b[0m\u001b[1;33m\u001b[0m\u001b[0m\n\u001b[0m",
      "\u001b[1;31mAttributeError\u001b[0m: 'frozenset' object has no attribute 'add'"
     ]
    }
   ],
   "source": [
    "b.add(1) #нельзя менять frozenset"
   ]
  },
  {
   "cell_type": "markdown",
   "metadata": {},
   "source": [
    "##### Кортежи (tuple)\n",
    "\n",
    "Кортеж, по сути - неизменяемый список.\n",
    "\n",
    "Зачем нужны кортежи, если есть списки?\n",
    "- Защита от дурака. То есть кортеж защищен от изменений, как намеренных (что плохо), так и случайных (что хорошо).\n",
    "- Меньший размер.\n",
    "- Возможность использовать кортежи в качестве ключей словаря:"
   ]
  },
  {
   "cell_type": "code",
   "execution_count": 48,
   "metadata": {},
   "outputs": [
    {
     "name": "stdout",
     "output_type": "stream",
     "text": [
      "72\n",
      "88\n"
     ]
    }
   ],
   "source": [
    "a = (1, 2, 3, 4, 5, 6)\n",
    "b = [1, 2, 3, 4, 5, 6]\n",
    "print(a.__sizeof__()) #72 - меньше память\n",
    "print(b.__sizeof__()) #88"
   ]
  },
  {
   "cell_type": "code",
   "execution_count": 53,
   "metadata": {},
   "outputs": [
    {
     "data": {
      "text/plain": [
       "{(1, 1, 1): 1}"
      ]
     },
     "execution_count": 53,
     "metadata": {},
     "output_type": "execute_result"
    }
   ],
   "source": [
    "# Возможность использовать кортежи в качестве ключей словаря:\n",
    "d = {(1, 1, 1) : 1}\n",
    "d #{(1, 1, 1): 1}"
   ]
  },
  {
   "cell_type": "code",
   "execution_count": 54,
   "metadata": {},
   "outputs": [
    {
     "ename": "TypeError",
     "evalue": "unhashable type: 'list'",
     "output_type": "error",
     "traceback": [
      "\u001b[1;31m---------------------------------------------------------------------------\u001b[0m",
      "\u001b[1;31mTypeError\u001b[0m                                 Traceback (most recent call last)",
      "\u001b[1;32m<ipython-input-54-dbf8c6bbab54>\u001b[0m in \u001b[0;36m<module>\u001b[1;34m\u001b[0m\n\u001b[1;32m----> 1\u001b[1;33m \u001b[0md\u001b[0m \u001b[1;33m=\u001b[0m \u001b[1;33m{\u001b[0m\u001b[1;33m[\u001b[0m\u001b[1;36m1\u001b[0m\u001b[1;33m,\u001b[0m \u001b[1;36m1\u001b[0m\u001b[1;33m,\u001b[0m \u001b[1;36m1\u001b[0m\u001b[1;33m]\u001b[0m \u001b[1;33m:\u001b[0m \u001b[1;36m1\u001b[0m\u001b[1;33m}\u001b[0m \u001b[1;31m#нельзя использовать список\u001b[0m\u001b[1;33m\u001b[0m\u001b[1;33m\u001b[0m\u001b[0m\n\u001b[0m",
      "\u001b[1;31mTypeError\u001b[0m: unhashable type: 'list'"
     ]
    }
   ],
   "source": [
    "d = {[1, 1, 1] : 1} #нельзя использовать список"
   ]
  },
  {
   "cell_type": "code",
   "execution_count": 60,
   "metadata": {},
   "outputs": [
    {
     "data": {
      "text/plain": [
       "('h', 'e', 'l', 'l', 'o', ',', ' ', 'w', 'o', 'r', 'l', 'd', '!')"
      ]
     },
     "execution_count": 60,
     "metadata": {},
     "output_type": "execute_result"
    }
   ],
   "source": [
    "a = tuple('hello, world!')\n",
    "a"
   ]
  },
  {
   "cell_type": "markdown",
   "metadata": {},
   "source": [
    "###### Итоговое задание 1.2\n",
    "\n",
    "*Реализуйте программу, которая будет вычислять количество различных объектов в списке.\n",
    "Два объекта a и b считаются различными, если a is b равно False.*\n",
    "\n",
    "Что важно:\n",
    "\n",
    "`True == 1` (True), но `True is 1 ` (False)\n",
    "\n",
    "Задание требует проверять через `is`, а `set` проверяет через ==\n",
    "\n",
    "Пояснение автора курса:\n",
    "___\n",
    "В процессе решения данной задачи, вы в комментариях задали один очень интересный вопрос: почему внутри set 1 и True считаются одинаковыми элементами, в то время, как True is not 1.\n",
    "\n",
    "Ответ заключается в том, как в языке python устроены множества (сет) и словари (dict), а также, важная деталь про значения 1 и True.\n",
    "\n",
    "Прежде всего убедитесь в том, что `1 == True` и `True is not 1`(запустите это в интерпретаторе)\n",
    "\n",
    "Объекты (коробки) действительно разные, однако оператор == будет возвращать значение True, равенство логических значений значениям 0 и 1 появилось в очень старые времена (во многих языках).\n",
    "\n",
    "Теперь проясним одну важную деталь языка python: чтобы узнать, лежит ли объект внутри множества (или ключей словаря) или нет, мы пользуемся hash и сравнением через == : https://docs.python.org/3/reference/datamodel.html#object.__hash__ \n",
    "\n",
    "Таким образом, раз `1 == True` (и `hash(1) == hash(True)`) внутри множества эти объекты считаются одинаковыми, несмотря на то, что объекты различаются (так как `1 is not True`).\n",
    "\n",
    "Похожим примером будет сравнение листов: вы можете убедиться, что `[1, 2, 3] is not [1, 2, 3]` однако `[1, 2, 3] == [1, 2, 3]`\n",
    "___"
   ]
  },
  {
   "cell_type": "code",
   "execution_count": 74,
   "metadata": {},
   "outputs": [
    {
     "name": "stdout",
     "output_type": "stream",
     "text": [
      "{False, 1, 2, 3, 'asd'}\n",
      "5\n"
     ]
    }
   ],
   "source": [
    "#Такое решение не подходит\n",
    "objects = [1, 2, 1, 2, 3, 'asd', True, False, 0] \n",
    "a = set(objects)\n",
    "print(a)\n",
    "print(len(a))"
   ]
  },
  {
   "cell_type": "code",
   "execution_count": 76,
   "metadata": {},
   "outputs": [
    {
     "name": "stdout",
     "output_type": "stream",
     "text": [
      "True\n",
      "False\n"
     ]
    }
   ],
   "source": [
    "print (1 == True)\n",
    "print (True is 1)"
   ]
  },
  {
   "cell_type": "code",
   "execution_count": 114,
   "metadata": {},
   "outputs": [
    {
     "name": "stdout",
     "output_type": "stream",
     "text": [
      "5\n"
     ]
    }
   ],
   "source": [
    "#Один из вариантов, но не совсем верно, так как надо количество уникальных, а я нашел количество тех, у которых нет копий.\n",
    "\n",
    "objects = [1, 2, 1, 2, 3, 'asd', True, False, 0, 1] \n",
    "\n",
    "not_uniq = 0\n",
    "\n",
    "for i in range(len(objects)): # доступная переменная objects\n",
    "    objects2 = objects.copy() \n",
    "    objects2.pop(i)\n",
    "    for obj2 in objects2:\n",
    "        if objects[i] is obj2: \n",
    "            not_uniq += 1\n",
    "            break;\n",
    "\n",
    "print(len(objects)-not_uniq)"
   ]
  },
  {
   "cell_type": "code",
   "execution_count": 120,
   "metadata": {},
   "outputs": [
    {
     "name": "stdout",
     "output_type": "stream",
     "text": [
      "7\n"
     ]
    }
   ],
   "source": [
    "#Верное решение\n",
    "\n",
    "objects = [1, 2, 1, 2, 3, 'asd', True, False, 0, 1] \n",
    "objects_id = []\n",
    "for obj in objects:\n",
    "    objects_id.append(id(obj))\n",
    "    \n",
    "ans = len(set(objects_id)) \n",
    "print(ans)"
   ]
  },
  {
   "cell_type": "code",
   "execution_count": 121,
   "metadata": {},
   "outputs": [
    {
     "name": "stdout",
     "output_type": "stream",
     "text": [
      "7\n"
     ]
    }
   ],
   "source": [
    "#Тоже самое, только короче, с использованием map\n",
    "print(len(set(map(id, objects))))"
   ]
  },
  {
   "cell_type": "code",
   "execution_count": 122,
   "metadata": {},
   "outputs": [
    {
     "name": "stdout",
     "output_type": "stream",
     "text": [
      "7\n"
     ]
    }
   ],
   "source": [
    "n = len(objects)\n",
    "ans = n\n",
    "for i in range(n):\n",
    "    for j in range(i):\n",
    "        if id(objects[i]) == id(objects[j]):\n",
    "            ans -= 1\n",
    "            break\n",
    "\n",
    "print(ans)"
   ]
  },
  {
   "cell_type": "code",
   "execution_count": null,
   "metadata": {},
   "outputs": [],
   "source": []
  }
 ],
 "metadata": {
  "kernelspec": {
   "display_name": "Python 3",
   "language": "python",
   "name": "python3"
  },
  "language_info": {
   "codemirror_mode": {
    "name": "ipython",
    "version": 3
   },
   "file_extension": ".py",
   "mimetype": "text/x-python",
   "name": "python",
   "nbconvert_exporter": "python",
   "pygments_lexer": "ipython3",
   "version": "3.7.6"
  }
 },
 "nbformat": 4,
 "nbformat_minor": 4
}
