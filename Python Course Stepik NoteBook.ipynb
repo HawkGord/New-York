{
 "cells": [
  {
   "cell_type": "markdown",
   "metadata": {},
   "source": [
    "# Тетрадь по курсу \"Python: основы и применение\"\n",
    "\n",
    "Ссылка на курс\n",
    "https://stepik.org/course/512/syllabus"
   ]
  },
  {
   "cell_type": "markdown",
   "metadata": {},
   "source": [
    "___\n",
    "## Оглавление:\n",
    "- [1. Базовые принципы языка Python](#1)\n",
    "    - [1.2 Модель данных: объекты](#1-2)\n",
    "    - [1.3 Функции и стек вызовов](#1-3)\n",
    "    - [1.4 Пространства имён и области видимости](#1-4)\n",
    "    - [1.5 Введение в классы](#1-5)\n",
    "    - [1.6 Наследование классов](#1-6)\n",
    "- [2  Cтандартные средства языка Python](#2)\n",
    "    - [2.1 Ошибки и исключения](#2-1)\n",
    "    - [2.2 Работа с кодом: модули и импорт](#2-2)\n",
    "    - [2.3 Итераторы и генераторы](#2-3)\n",
    "    - [2.4 Работа с файловой системой и файлами](#2-4)\n",
    "    - [2.5 Работа с функциями: functool и лямбда функции + декораторы](#2-5)\n",
    "    - [2.6 Стиль программирования: pep8 и документация](#2-6)\n",
    "- [3  Применение Python: анализ текста](#3)\n",
    "    - [3.1 Стандартные методы и функции для строк](#3-1)\n",
    "    - [3.2 Регулярные выражения в Python](#3-2)\n",
    "    - [3.3 Обзорно об интернете: http-запросы, html-страницы и requests](#3-3)\n",
    "    - [3.4 Распространённые форматы текстовых файлов: CSV, JSON](#3-4)\n",
    "    - [3.5 API](#3-5)\n",
    "    - [3.6 XML, библиотека ElementTree, библиотека lxml](#3-6)"
   ]
  },
  {
   "cell_type": "markdown",
   "metadata": {},
   "source": [
    "___\n",
    "## 1. Базовые принципы языка Python <a class=\"anchor\" id=\"1\"></a>"
   ]
  },
  {
   "cell_type": "markdown",
   "metadata": {},
   "source": [
    "### 1.2 Модель данных: объекты <a class=\"anchor\" id=\"1-2\"></a>"
   ]
  },
  {
   "cell_type": "markdown",
   "metadata": {},
   "source": [
    "- Объект - абстракция для данных.\n",
    "- Данные - объекты и отношения между ними.\n",
    "- У любого объекта есть 3 обязательные вещи: идентификатор, тип, значение.\n",
    "- Идентификатор не может измениться\n",
    "\n",
    "Если встречается число, сразу создается объект. Если встречается список, то сначала создается объект для каждого элемента списка, а потом объект и для самого списка."
   ]
  },
  {
   "cell_type": "markdown",
   "metadata": {},
   "source": [
    "**Идентификатор**\n",
    "\n",
    "- Создается объект 4\n",
    "- Соответствие переменной **x** и идентификатора объекта 4\n",
    "\n",
    "имя = (объект)"
   ]
  },
  {
   "cell_type": "code",
   "execution_count": 32,
   "metadata": {},
   "outputs": [],
   "source": [
    "x = 4"
   ]
  },
  {
   "cell_type": "markdown",
   "metadata": {},
   "source": [
    "- Получение идентификатора с помощью функции `id()`\n",
    "\n",
    "получается два разных объекта с разным идентификатором, так как созданы в разное время"
   ]
  },
  {
   "cell_type": "code",
   "execution_count": 33,
   "metadata": {},
   "outputs": [
    {
     "name": "stdout",
     "output_type": "stream",
     "text": [
      "2250027345928\n",
      "2250028261832\n"
     ]
    }
   ],
   "source": [
    "x = [1,2,3]\n",
    "print(id(x))\n",
    "print(id([1,2,3]))"
   ]
  },
  {
   "cell_type": "markdown",
   "metadata": {},
   "source": [
    "- Ссылаются ли две переменные на один объект можно проверить оператором `is`"
   ]
  },
  {
   "cell_type": "code",
   "execution_count": 34,
   "metadata": {},
   "outputs": [
    {
     "name": "stdout",
     "output_type": "stream",
     "text": [
      "True\n",
      "False\n"
     ]
    }
   ],
   "source": [
    "x = [1,2,3]\n",
    "y = x\n",
    "print(y is x) #True\n",
    "print(y is [1,2,3]) #False"
   ]
  },
  {
   "cell_type": "markdown",
   "metadata": {},
   "source": [
    "- Изменяется объект, а не переменная\n",
    "\n",
    "Наглядный пример списки, так как они изменяемые. Если две переменные ссылаются на один список, то изменив его через одну переменную, при вызове через другую мы вызовем измененный список"
   ]
  },
  {
   "cell_type": "code",
   "execution_count": 35,
   "metadata": {},
   "outputs": [
    {
     "name": "stdout",
     "output_type": "stream",
     "text": [
      "[1, 2, 3, 4]\n",
      "[1, 2, 3, 4]\n"
     ]
    }
   ],
   "source": [
    "x = [1,2,3]\n",
    "y = x\n",
    "x.append(4)\n",
    "print(x) # [1, 2, 3, 4]\n",
    "print(y) # [1, 2, 3, 4]"
   ]
  },
  {
   "cell_type": "code",
   "execution_count": 36,
   "metadata": {},
   "outputs": [
    {
     "data": {
      "text/plain": [
       "int"
      ]
     },
     "execution_count": 36,
     "metadata": {},
     "output_type": "execute_result"
    }
   ],
   "source": [
    "type(id(x)) # идентификатор это число типа int"
   ]
  },
  {
   "cell_type": "code",
   "execution_count": 37,
   "metadata": {},
   "outputs": [
    {
     "name": "stdout",
     "output_type": "stream",
     "text": [
      "id(x): 2250027344008\n",
      "id(y): 2250027344008\n",
      "id(s): 2250028243440\n",
      "id(t): 2250028243440\n",
      "id(t): 2250026261360\n",
      "\n",
      "[1, 2, 3, 4] 123\n"
     ]
    }
   ],
   "source": [
    "# Задание на знание того, что строки - неизменяемые объекты\n",
    "x = [1, 2, 3]\n",
    "y = x\n",
    "y.append(4)\n",
    "print(\"id(x): \" + str(id(x)))\n",
    "print(\"id(y): \" + str(id(y)))\n",
    "\n",
    "s = \"123\" \n",
    "print(\"id(s): \" + str(id(s)))\n",
    "\n",
    "t = s       \n",
    "print(\"id(t): \" + str(id(t)))\n",
    "\n",
    "t = t + \"4\" #по сути мы создаем копию, а не ссылаемся на тот же объект, так как строку менять нельзя\n",
    "print(\"id(t): \" + str(id(t)))\n",
    "\n",
    "print()\n",
    "print(str(x) + \" \" + s)"
   ]
  },
  {
   "cell_type": "markdown",
   "metadata": {},
   "source": [
    "Ниже отличный пример из комментариев и пояснение\n",
    "\n",
    "В первом случае `y=y*2` мы вызываем метод `__mul__` у объекта \"y\" - он присваивает переменной \"y\" новый объект (результат умножения) - то есть \"x\" и \"y\" в данном случае разные объекты, т.к \"y\" теперь ссылается на другой объект\n",
    "\n",
    "А во втором случае `y*=2` у \"y\" вызывается метод `__imul__` который модифицирует сам объект, т.е ссылка \"y\" указывает на то же самое место в памяти, туда же, куда указывает и \"x\", в результате умножения объект изменяется и в результате обе ссылки показывают его новое значение"
   ]
  },
  {
   "cell_type": "code",
   "execution_count": 38,
   "metadata": {},
   "outputs": [
    {
     "name": "stdout",
     "output_type": "stream",
     "text": [
      "[1, 2, 3]\n",
      "[1, 2, 3, 1, 2, 3]\n",
      "[1, 2, 3, 1, 2, 3]\n",
      "[1, 2, 3, 1, 2, 3]\n"
     ]
    }
   ],
   "source": [
    "x=[1,2,3]\n",
    "y=x\n",
    "y=y*2\n",
    "print(x) #[1, 2, 3]\n",
    "print(y) #[1, 2, 3, 1, 2, 3]\n",
    "\n",
    "#\n",
    "\n",
    "x=[1,2,3]\n",
    "y=x\n",
    "y*=2\n",
    "print(x) #[1, 2, 3, 1, 2, 3]\n",
    "print(y) #[1, 2, 3, 1, 2, 3]"
   ]
  },
  {
   "cell_type": "markdown",
   "metadata": {},
   "source": [
    "**Тип объекта**\n",
    "\n",
    "- Тип объекта не может быть изменен после создания объекта (как и идентификатор)\n",
    "- Узнать тип объекта можно при помощи функции `type()` "
   ]
  },
  {
   "cell_type": "code",
   "execution_count": 39,
   "metadata": {},
   "outputs": [
    {
     "name": "stdout",
     "output_type": "stream",
     "text": [
      "<class 'list'>\n",
      "<class 'int'>\n",
      "<class 'type'>\n"
     ]
    }
   ],
   "source": [
    "x = [1,2,3]\n",
    "print(type(x)) #<class 'list'>\n",
    "print(type(4)) #<class 'int'>\n",
    "print(type(type(x))) #<class 'type'>"
   ]
  },
  {
   "cell_type": "markdown",
   "metadata": {},
   "source": [
    "**Два вида объектов - Mutable (изменчивый)  и Immutable (неизменный)**\n",
    "\n",
    "- **Immutable**\n",
    "    - int\n",
    "    - float\n",
    "    - complex\n",
    "    - bool\n",
    "    - tuple\n",
    "    - str\n",
    "    - frozenset\n",
    "        \n",
    "    \n",
    "- **Mutable***\n",
    "    - list\n",
    "    - dict\n",
    "    - set\n",
    "   "
   ]
  },
  {
   "cell_type": "markdown",
   "metadata": {},
   "source": [
    "**Словари (dict)**\n",
    "неупорядоченные коллекции произвольных объектов с доступом по ключу. Их иногда ещё называют ассоциативными массивами или хеш-таблицами.\n",
    "\n",
    "Чтобы работать со словарём, его нужно создать. Создать его можно несколькими способами: \n",
    "- с помощью литерала `{}`\n",
    "- с помощью функции `dict`\n",
    "- с помощью метода `fromkeys`\n",
    "- с помощью генераторов словарей, которые очень похожи на генераторы списков"
   ]
  },
  {
   "cell_type": "code",
   "execution_count": 40,
   "metadata": {
    "scrolled": true
   },
   "outputs": [
    {
     "name": "stdout",
     "output_type": "stream",
     "text": [
      "{}\n",
      "{'dict': 1, 'dictionary': 2}\n"
     ]
    }
   ],
   "source": [
    "d = {}\n",
    "print(d)\n",
    "\n",
    "d = {'dict': 1, 'dictionary': 2}\n",
    "print(d)"
   ]
  },
  {
   "cell_type": "code",
   "execution_count": 41,
   "metadata": {},
   "outputs": [
    {
     "name": "stdout",
     "output_type": "stream",
     "text": [
      "{'short': 'dict', 'long': 'dictionary'}\n",
      "{1: 1, 2: 4}\n"
     ]
    }
   ],
   "source": [
    "d = dict(short='dict', long='dictionary')\n",
    "print(d)\n",
    "\n",
    "d = dict([(1, 1), (2, 4)])\n",
    "print(d)"
   ]
  },
  {
   "cell_type": "code",
   "execution_count": 42,
   "metadata": {},
   "outputs": [
    {
     "name": "stdout",
     "output_type": "stream",
     "text": [
      "{'a': None, 'b': None}\n",
      "{'a': 100, 'b': 100}\n"
     ]
    }
   ],
   "source": [
    "d = dict.fromkeys(['a', 'b'])\n",
    "print(d)\n",
    "\n",
    "d = dict.fromkeys(['a', 'b'], 100)\n",
    "print(d)"
   ]
  },
  {
   "cell_type": "code",
   "execution_count": 43,
   "metadata": {
    "scrolled": true
   },
   "outputs": [
    {
     "data": {
      "text/plain": [
       "{0: 0, 1: 1, 2: 4, 3: 9, 4: 16, 5: 25, 6: 36}"
      ]
     },
     "execution_count": 43,
     "metadata": {},
     "output_type": "execute_result"
    }
   ],
   "source": [
    "d = {a: a ** 2 for a in range(7)}\n",
    "d"
   ]
  },
  {
   "cell_type": "code",
   "execution_count": 44,
   "metadata": {},
   "outputs": [
    {
     "name": "stdout",
     "output_type": "stream",
     "text": [
      "2\n",
      "{1: 2, 2: 4, 3: 9, 4: 16}\n"
     ]
    }
   ],
   "source": [
    "d = {1: 2, 2: 4, 3: 9}\n",
    "print(d[1])\n",
    "d[4] = 4 ** 2\n",
    "print(d)"
   ]
  },
  {
   "cell_type": "markdown",
   "metadata": {},
   "source": [
    "**Множества (set)**\n",
    "\n",
    "Множество в python - \"контейнер\", содержащий не повторяющиеся элементы в случайном порядке."
   ]
  },
  {
   "cell_type": "code",
   "execution_count": 45,
   "metadata": {},
   "outputs": [
    {
     "name": "stdout",
     "output_type": "stream",
     "text": [
      "{'l', 'e', 'h', 'o'}\n",
      "{0, 1, 64, 4, 36, 9, 16, 49, 81, 25}\n",
      "<class 'dict'>\n"
     ]
    }
   ],
   "source": [
    "#Примеры для set (множества)\n",
    "\n",
    "a = set('hello')\n",
    "print(a) #{'l', 'h', 'e', 'o'} - хранятся уникальные значения\n",
    "\n",
    "a = {i ** 2 for i in range(10)} # генератор множеств\n",
    "print(a) #{0, 1, 64, 4, 36, 9, 16, 49, 81, 25}\n",
    "\n",
    "a = {}  # А так нельзя!\n",
    "print(type(a)) #Получим словарь <class 'dict'>"
   ]
  },
  {
   "cell_type": "code",
   "execution_count": 46,
   "metadata": {},
   "outputs": [
    {
     "name": "stdout",
     "output_type": "stream",
     "text": [
      "{'e', 1, 't', 'r', 'q', 'y', 'w'}\n"
     ]
    }
   ],
   "source": [
    "#Примеры для frozenset\n",
    "\n",
    "a = set('qwerty')\n",
    "b = frozenset('qwerty')\n",
    "a == b #True\n",
    "type(a - b) #<class 'set'>\n",
    "type(a | b) #<class 'set'>\n",
    "a.add(1)\n",
    "print(a)"
   ]
  },
  {
   "cell_type": "code",
   "execution_count": 47,
   "metadata": {},
   "outputs": [
    {
     "ename": "AttributeError",
     "evalue": "'frozenset' object has no attribute 'add'",
     "output_type": "error",
     "traceback": [
      "\u001b[1;31m---------------------------------------------------------------------------\u001b[0m",
      "\u001b[1;31mAttributeError\u001b[0m                            Traceback (most recent call last)",
      "\u001b[1;32m<ipython-input-47-0e06f9372d14>\u001b[0m in \u001b[0;36m<module>\u001b[1;34m\u001b[0m\n\u001b[1;32m----> 1\u001b[1;33m \u001b[0mb\u001b[0m\u001b[1;33m.\u001b[0m\u001b[0madd\u001b[0m\u001b[1;33m(\u001b[0m\u001b[1;36m1\u001b[0m\u001b[1;33m)\u001b[0m \u001b[1;31m#нельзя менять frozenset\u001b[0m\u001b[1;33m\u001b[0m\u001b[1;33m\u001b[0m\u001b[0m\n\u001b[0m",
      "\u001b[1;31mAttributeError\u001b[0m: 'frozenset' object has no attribute 'add'"
     ]
    }
   ],
   "source": [
    "b.add(1) #нельзя менять frozenset"
   ]
  },
  {
   "cell_type": "markdown",
   "metadata": {},
   "source": [
    "**Кортежи (tuple)**\n",
    "\n",
    "Кортеж, по сути - неизменяемый список.\n",
    "\n",
    "Зачем нужны кортежи, если есть списки?\n",
    "- Защита от дурака. То есть кортеж защищен от изменений, как намеренных (что плохо), так и случайных (что хорошо).\n",
    "- Меньший размер.\n",
    "- Возможность использовать кортежи в качестве ключей словаря:"
   ]
  },
  {
   "cell_type": "code",
   "execution_count": 48,
   "metadata": {},
   "outputs": [
    {
     "name": "stdout",
     "output_type": "stream",
     "text": [
      "72\n",
      "88\n"
     ]
    }
   ],
   "source": [
    "a = (1, 2, 3, 4, 5, 6)\n",
    "b = [1, 2, 3, 4, 5, 6]\n",
    "print(a.__sizeof__()) #72 - меньше память\n",
    "print(b.__sizeof__()) #88"
   ]
  },
  {
   "cell_type": "code",
   "execution_count": 49,
   "metadata": {},
   "outputs": [
    {
     "data": {
      "text/plain": [
       "{(1, 1, 1): 1}"
      ]
     },
     "execution_count": 49,
     "metadata": {},
     "output_type": "execute_result"
    }
   ],
   "source": [
    "# Возможность использовать кортежи в качестве ключей словаря:\n",
    "d = {(1, 1, 1) : 1}\n",
    "d #{(1, 1, 1): 1}"
   ]
  },
  {
   "cell_type": "code",
   "execution_count": 50,
   "metadata": {},
   "outputs": [
    {
     "ename": "TypeError",
     "evalue": "unhashable type: 'list'",
     "output_type": "error",
     "traceback": [
      "\u001b[1;31m---------------------------------------------------------------------------\u001b[0m",
      "\u001b[1;31mTypeError\u001b[0m                                 Traceback (most recent call last)",
      "\u001b[1;32m<ipython-input-50-dbf8c6bbab54>\u001b[0m in \u001b[0;36m<module>\u001b[1;34m\u001b[0m\n\u001b[1;32m----> 1\u001b[1;33m \u001b[0md\u001b[0m \u001b[1;33m=\u001b[0m \u001b[1;33m{\u001b[0m\u001b[1;33m[\u001b[0m\u001b[1;36m1\u001b[0m\u001b[1;33m,\u001b[0m \u001b[1;36m1\u001b[0m\u001b[1;33m,\u001b[0m \u001b[1;36m1\u001b[0m\u001b[1;33m]\u001b[0m \u001b[1;33m:\u001b[0m \u001b[1;36m1\u001b[0m\u001b[1;33m}\u001b[0m \u001b[1;31m#нельзя использовать список\u001b[0m\u001b[1;33m\u001b[0m\u001b[1;33m\u001b[0m\u001b[0m\n\u001b[0m",
      "\u001b[1;31mTypeError\u001b[0m: unhashable type: 'list'"
     ]
    }
   ],
   "source": [
    "d = {[1, 1, 1] : 1} #нельзя использовать список"
   ]
  },
  {
   "cell_type": "code",
   "execution_count": 61,
   "metadata": {},
   "outputs": [
    {
     "data": {
      "text/plain": [
       "('h', 'e', 'l', 'l', 'o', ',', ' ', 'w', 'o', 'r', 'l', 'd', '!')"
      ]
     },
     "execution_count": 61,
     "metadata": {},
     "output_type": "execute_result"
    }
   ],
   "source": [
    "a = tuple('hello, world!')\n",
    "a"
   ]
  },
  {
   "cell_type": "markdown",
   "metadata": {},
   "source": [
    "**Итоговое задание 1.2**\n",
    "\n",
    "*Реализуйте программу, которая будет вычислять количество различных объектов в списке.\n",
    "Два объекта a и b считаются различными, если a is b равно False.*\n",
    "\n",
    "Что важно:\n",
    "\n",
    "`True == 1` (True), но `True is 1 ` (False)\n",
    "\n",
    "Задание требует проверять через `is`, а `set` проверяет через ==\n",
    "\n",
    "Пояснение автора курса:\n",
    "___\n",
    "В процессе решения данной задачи, вы в комментариях задали один очень интересный вопрос: почему внутри set 1 и True считаются одинаковыми элементами, в то время, как True is not 1.\n",
    "\n",
    "Ответ заключается в том, как в языке python устроены множества (сет) и словари (dict), а также, важная деталь про значения 1 и True.\n",
    "\n",
    "Прежде всего убедитесь в том, что `1 == True` и `True is not 1`(запустите это в интерпретаторе)\n",
    "\n",
    "Объекты (коробки) действительно разные, однако оператор == будет возвращать значение True, равенство логических значений значениям 0 и 1 появилось в очень старые времена (во многих языках).\n",
    "\n",
    "Теперь проясним одну важную деталь языка python: чтобы узнать, лежит ли объект внутри множества (или ключей словаря) или нет, мы пользуемся hash и сравнением через == : https://docs.python.org/3/reference/datamodel.html#object.__hash__ \n",
    "\n",
    "Таким образом, раз `1 == True` (и `hash(1) == hash(True)`) внутри множества эти объекты считаются одинаковыми, несмотря на то, что объекты различаются (так как `1 is not True`).\n",
    "\n",
    "Похожим примером будет сравнение листов: вы можете убедиться, что `[1, 2, 3] is not [1, 2, 3]` однако `[1, 2, 3] == [1, 2, 3]`\n",
    "___"
   ]
  },
  {
   "cell_type": "code",
   "execution_count": null,
   "metadata": {},
   "outputs": [],
   "source": [
    "#Такое решение не подходит\n",
    "objects = [1, 2, 1, 2, 3, 'asd', True, False, 0] \n",
    "a = set(objects)\n",
    "print(a)\n",
    "print(len(a))"
   ]
  },
  {
   "cell_type": "code",
   "execution_count": null,
   "metadata": {},
   "outputs": [],
   "source": [
    "print (1 == True)\n",
    "print (True is 1)"
   ]
  },
  {
   "cell_type": "code",
   "execution_count": null,
   "metadata": {},
   "outputs": [],
   "source": [
    "#Один из вариантов, но не совсем верно, так как надо количество уникальных, а я нашел количество тех, у которых нет копий.\n",
    "\n",
    "objects = [1, 2, 1, 2, 3, 'asd', True, False, 0, 1] \n",
    "\n",
    "not_uniq = 0\n",
    "\n",
    "for i in range(len(objects)): # доступная переменная objects\n",
    "    objects2 = objects.copy() \n",
    "    objects2.pop(i)\n",
    "    for obj2 in objects2:\n",
    "        if objects[i] is obj2: \n",
    "            not_uniq += 1\n",
    "            break;\n",
    "\n",
    "print(len(objects)-not_uniq)"
   ]
  },
  {
   "cell_type": "code",
   "execution_count": null,
   "metadata": {},
   "outputs": [],
   "source": [
    "#Верное решение\n",
    "\n",
    "objects = [1, 2, 1, 2, 3, 'asd', True, False, 0, 1] \n",
    "objects_id = []\n",
    "for obj in objects:\n",
    "    objects_id.append(id(obj))\n",
    "    \n",
    "ans = len(set(objects_id)) \n",
    "print(ans)"
   ]
  },
  {
   "cell_type": "code",
   "execution_count": null,
   "metadata": {},
   "outputs": [],
   "source": [
    "#Тоже самое, только короче, с использованием map\n",
    "print(len(set(map(id, objects))))"
   ]
  },
  {
   "cell_type": "code",
   "execution_count": null,
   "metadata": {},
   "outputs": [],
   "source": [
    "n = len(objects)\n",
    "ans = n\n",
    "for i in range(n):\n",
    "    for j in range(i):\n",
    "        if id(objects[i]) == id(objects[j]):\n",
    "            ans -= 1\n",
    "            break\n",
    "\n",
    "print(ans)"
   ]
  },
  {
   "cell_type": "markdown",
   "metadata": {},
   "source": [
    "### 1.3 Функции и стек вызовов <a class=\"anchor\" id=\"1-3\"></a>"
   ]
  },
  {
   "cell_type": "markdown",
   "metadata": {},
   "source": [
    "Причины использованиы функций\n",
    "1. Переиспользование кода\n",
    "2. Структурирование кода (читабельность кода)\n",
    "3. Сокрытие деталий реализации (например функция `print`, не знаем как устроена, но знаем, что она делает)"
   ]
  },
  {
   "cell_type": "markdown",
   "metadata": {},
   "source": [
    "Синтаксис\n",
    "\n",
    "- `function_name` - имя функции (начинать с цифры нельзя)\n",
    "- `( )` - обязательные скобки\n",
    "- `argument1, argument2` - аргументы (параметры?) функции\n",
    "- `function body` - тело функции, отступ в 4 пробела обязателен"
   ]
  },
  {
   "cell_type": "code",
   "execution_count": null,
   "metadata": {
    "scrolled": true
   },
   "outputs": [],
   "source": [
    "#Синтаксис\n",
    "def function_name(argument1, argument2): #\n",
    "    # function body\n",
    "    return argument1 + argument2\n",
    "x = function_name(2, 8)\n",
    "y = function_name(x, 21)\n",
    "print(y)"
   ]
  },
  {
   "cell_type": "markdown",
   "metadata": {},
   "source": [
    "Функции являются так же объектом, сначало считывается весь код тела функции, потом `function_name` ссылается на него"
   ]
  },
  {
   "cell_type": "code",
   "execution_count": null,
   "metadata": {
    "scrolled": true
   },
   "outputs": [],
   "source": [
    "print(type(function_name))\n",
    "print(id(function_name))"
   ]
  },
  {
   "cell_type": "markdown",
   "metadata": {},
   "source": [
    "При вызове функции `x = function_name(2, 8)`, интерпретатор смотрит на переменную и на какой объект она ссылается, понимает, что принимаются аргументы, и до исполнения тела функции инициализирует переменные. Т.е. первый аргумент начнет ссылаться на 2, а второй на 8. Далее построчное исполнение тела функции, и потом инструкция return. Далее создается объект суммы - 10 (если его не было ранее в памяти), и сумма будет ссылаться на этот объект. В итоге передается ссылка на объект 10 переменной `x`."
   ]
  },
  {
   "cell_type": "markdown",
   "metadata": {},
   "source": [
    "http://www.pythontutor.com/visualize.html - отличный сайт для визуализации кода\n",
    "\n",
    "На примере ниже смотрим, как работает интепретатор."
   ]
  },
  {
   "cell_type": "code",
   "execution_count": null,
   "metadata": {},
   "outputs": [],
   "source": [
    "def list_sum(lst):\n",
    "    result = 0\n",
    "    for element in lst:\n",
    "        result += element\n",
    "    return result\n",
    "\n",
    "def sum(a, b):\n",
    "    return a + b\n",
    "\n",
    "y = sum(14, 29)\n",
    "z = list_sum([1,2,3])\n",
    "print(y)\n",
    "print(z)"
   ]
  },
  {
   "cell_type": "markdown",
   "metadata": {},
   "source": [
    "Задание: Что будет выведено на экран в результате исполнения данного кода?"
   ]
  },
  {
   "cell_type": "code",
   "execution_count": null,
   "metadata": {},
   "outputs": [],
   "source": [
    "a = []\n",
    "\n",
    "def foo(arg1, arg2):\n",
    "    print(arg1)\n",
    "    a.append(\"foo\")\n",
    "\n",
    "foo(a.append(\"arg1\"), a.append(\"arg2\"))\n",
    "\n",
    "#print(a)\n",
    "\n",
    "# Через визуализатор видим, что arg1, arg2 и return имеют значение None, который является объектом со своим id"
   ]
  },
  {
   "cell_type": "code",
   "execution_count": null,
   "metadata": {},
   "outputs": [],
   "source": [
    "print(id(None))\n",
    "print(type(None))"
   ]
  },
  {
   "cell_type": "markdown",
   "metadata": {},
   "source": [
    "**Стек вызовов**\n",
    "\n",
    "Стек - абстрактная структура данных. Можно сравнить со стопкой элементов, можем класть элементы наверх, или убирать сверху. Нельзя класть или забирать не из верха. Кладем комнанда `push`, забираем команда `pop`.\n",
    "\n",
    "Стек вызовов хранит функции, которые мы вызвали. Если нужно испольнить функции, интерпретатор кладет функцию на стек, если завершает исполнение, он со стека ее снимает.\n",
    "\n",
    "В самом начале стека находится функция module, она исполняет наши запросы. Она определяет функции, скалдывает числа и т.д."
   ]
  },
  {
   "cell_type": "code",
   "execution_count": null,
   "metadata": {},
   "outputs": [],
   "source": [
    "def g():\n",
    "    print(\"I am in function g\")\n",
    "    \n",
    "def f():\n",
    "    print(\"I am in function f\")\n",
    "    g()\n",
    "    print(\"I am in function f\")\n",
    "    \n",
    "print(\"I am outside of any function f\")\n",
    "f()\n",
    "print(\"I am outside of any function f\")"
   ]
  },
  {
   "cell_type": "markdown",
   "metadata": {},
   "source": [
    "Реализация стека при помощи списка. При помощи методов `append()` и `pop()` мы имитируем стек. Добавляем в конец и убираем."
   ]
  },
  {
   "cell_type": "code",
   "execution_count": null,
   "metadata": {},
   "outputs": [],
   "source": [
    "x = [1,2,3]\n",
    "\n",
    "x.append(4)\n",
    "x.append(5)\n",
    "\n",
    "print(x) # [1, 2, 3, 4, 5]\n",
    "\n",
    "top = x.pop()\n",
    "print(top) # 5\n",
    "print(x)  # [1, 2, 3, 4]\n",
    "\n",
    "top = x.pop()\n",
    "print(top) # 4\n",
    "print(x) # [1, 2, 3]"
   ]
  },
  {
   "cell_type": "markdown",
   "metadata": {},
   "source": [
    "**Задание:**\n",
    "\n",
    "В процессе выполнения кода на стек добавляются и со стека снимаются функции. Добавление функции на стек увеличивает его размер на 1, снятие функции со стека уменьшает его размер на 1.\n",
    "\n",
    "Чему равен максимальный размер стека в процессе выполнения следующего кода?\n",
    "___\n",
    "\n",
    "    def h():\n",
    "      print(12)\n",
    "    \n",
    "    def f():\n",
    "      g(h)\n",
    "    \n",
    "    def g(a):\n",
    "      a()\n",
    "      \n",
    "    g(f)\n",
    "___"
   ]
  },
  {
   "cell_type": "code",
   "execution_count": null,
   "metadata": {},
   "outputs": [],
   "source": [
    "#Так можем проверить\n",
    "def h():\n",
    "    print(\"- H\")\n",
    "    print(\"- 12\")\n",
    "    print(\"H - end\")\n",
    "\n",
    "def f():\n",
    "    print(\"- F\")\n",
    "    g(h)\n",
    "    print(\"F - end\")\n",
    "\n",
    "def g(a):\n",
    "    print(\"- G\")\n",
    "    a()\n",
    "    print(\"G - end\")\n",
    "\n",
    "print(\"\\n- MODULE\")\n",
    "g(f)"
   ]
  },
  {
   "cell_type": "markdown",
   "metadata": {},
   "source": [
    "- Функции возвращают значение при помощи return. Если их несколько, после первого выполненого остальные не будут вызваны\n",
    "- Не обязательно должен быть return (возвращает объект None)"
   ]
  },
  {
   "cell_type": "code",
   "execution_count": null,
   "metadata": {},
   "outputs": [],
   "source": [
    "x = print(4)\n",
    "print(x)\n",
    "print(type(x))\n",
    "print(x is None) #проверять ссылку на None только так"
   ]
  },
  {
   "cell_type": "markdown",
   "metadata": {},
   "source": [
    "**Задание:**\n",
    "    \n",
    "Напишите реализацию функции closest_mod_5, принимающую в качестве единственного аргумента целое число x и возвращающую самое маленькое целое число y, такое что:\n",
    "\n",
    "- y больше или равно x\n",
    "- y делится нацело на 5"
   ]
  },
  {
   "cell_type": "code",
   "execution_count": null,
   "metadata": {},
   "outputs": [],
   "source": [
    "#Мое решение\n",
    "def closest_mod_5(x):\n",
    "    y = x\n",
    "    while y % 5 != 0:\n",
    "        y += 1\n",
    "    return y"
   ]
  },
  {
   "cell_type": "code",
   "execution_count": null,
   "metadata": {},
   "outputs": [],
   "source": [
    "closest_mod_5(17)"
   ]
  },
  {
   "cell_type": "code",
   "execution_count": null,
   "metadata": {},
   "outputs": [],
   "source": [
    "#Пример рекурсивного решения\n",
    "def closest_mod_5(x):\n",
    "    return x if x % 5 == 0 else closest_mod_5(x + 1)"
   ]
  },
  {
   "cell_type": "markdown",
   "metadata": {},
   "source": [
    "___\n",
    "Правила вызова функций\n",
    "1. Каждый аргумент должен быть проинициализирован\n",
    "2. Ни один аргумент не должен быть инициализирован дважды\n",
    "\n",
    "Примеры вызова функций\n",
    "1. Классический (позиционные аргументы) - `printab(10,20)`  \n",
    "2. Именованные аргументы - `printab(a = 10, b = 20)`"
   ]
  },
  {
   "cell_type": "code",
   "execution_count": null,
   "metadata": {},
   "outputs": [],
   "source": [
    "def printab(a,b):\n",
    "    print(a)\n",
    "    print(b)\n",
    "    \n",
    "#CORRECT WAYS TO CALL A FUNCTION\n",
    "printab(10, 20)\n",
    "printab(a = 10, b = 20) #порядок не так важен, printab(b = 20, a = 10)\n",
    "#keyword argument always afterr non-keyword argument\n",
    "printab(10, b=20) #сначало обязательно позициоонный аргумент\n",
    "\n",
    "lst = [10, 20]\n",
    "printab(*lst) # = printab(lst[0], lst[1])\n",
    "\n",
    "args = {'a': 10, 'b': 20}\n",
    "printab(**args) # = printab(key1=args[key1],\n",
    "                #       key2=args[key2])\n",
    "    \n",
    "#звездочки (*) выполняют функцию развертования"
   ]
  },
  {
   "cell_type": "code",
   "execution_count": null,
   "metadata": {},
   "outputs": [],
   "source": [
    "#INCORRECT\n",
    "printab(a = 10, b) "
   ]
  },
  {
   "cell_type": "markdown",
   "metadata": {},
   "source": [
    "___\n",
    "Такие же правила определения функций с значениями по умолчанию"
   ]
  },
  {
   "cell_type": "code",
   "execution_count": null,
   "metadata": {},
   "outputs": [],
   "source": [
    "# CORRECT\n",
    "def printab(a,b):\n",
    "    print(a)\n",
    "    print(b)\n",
    "    \n",
    "def printab(a, b = 10): # printab(5)\n",
    "    print(a)\n",
    "    print(b)\n",
    "    \n",
    "def printab(a = 10, b = 10): # printab()\n",
    "    print(a)\n",
    "    print(b)"
   ]
  },
  {
   "cell_type": "code",
   "execution_count": null,
   "metadata": {},
   "outputs": [],
   "source": [
    "# INCORRECT\n",
    "def printab(a = 10, b):\n",
    "    print(a)\n",
    "    print(b)"
   ]
  },
  {
   "cell_type": "code",
   "execution_count": null,
   "metadata": {},
   "outputs": [],
   "source": [
    "#Передача непоределенного числа аргументов\n",
    "\n",
    "#здесь звездочки (*) наоборот свертовают в кортеж\n",
    "def printab(a,b, *args):\n",
    "    print(\"positional argument a:\", a)\n",
    "    print(\"positional argument b:\", b)\n",
    "    print(\"additional arguments:\", end = ' ')\n",
    "    for arg in args:\n",
    "        print(arg, end = ' ')\n",
    "        \n",
    "printab(10, 20, 30, 40, 50) # все после второго аргументы помещаеются в кортеж\n",
    "                            # args = (30, 40, 50)"
   ]
  },
  {
   "cell_type": "code",
   "execution_count": null,
   "metadata": {},
   "outputs": [],
   "source": [
    "#используем словарь\n",
    "def printab(a,b, **kwargs):\n",
    "    print(\"positional argument a:\", a)\n",
    "    print(\"positional argument b:\", b)\n",
    "    print(\"additional arguments:\")\n",
    "    for key in kwargs:\n",
    "        print(key, kwargs[key])\n",
    "        \n",
    "printab(10, 20, c = 30, d = 40, jimmi = 123)\n",
    "\n",
    "#kwargs = {'c': 30, 'd': 40, 'jimmi': 123}"
   ]
  },
  {
   "cell_type": "code",
   "execution_count": null,
   "metadata": {},
   "outputs": [],
   "source": [
    "printab(10, c = 30, d = 40, jimmi = 123, b = 20)\n",
    "# ничего не меняется, хотя \"b = 20\" поставили в конец"
   ]
  },
  {
   "cell_type": "markdown",
   "metadata": {},
   "source": [
    "___\n",
    "*Общий синтаксис определения функции*\n",
    "\n",
    "    def function_name([ positional_args,\n",
    "                      [ positional_args_with_default,\n",
    "                      [ *pos_args_name,\n",
    "                      [ keyword_only_args,\n",
    "                      [ **kw_args_name]]]]]):"
   ]
  },
  {
   "cell_type": "code",
   "execution_count": null,
   "metadata": {},
   "outputs": [],
   "source": [
    "#Пример для понимание, как все складывается\n",
    "def pr(a, b, c, *lst, **dct):\n",
    "    print(a)\n",
    "    print(b)\n",
    "    print(c)\n",
    "    print(lst) \n",
    "    print(dct) \n",
    "    \n",
    "pr(1, 2, 3, 4, 5, 6, one = 7, two = 8)"
   ]
  },
  {
   "cell_type": "markdown",
   "metadata": {},
   "source": [
    "**Задание**\n",
    "\n",
    "Дана функция *s*:\n",
    "\n",
    "    def s(a, *vs, b=10):\n",
    "       res = a + b\n",
    "       for v in vs:\n",
    "           res += v\n",
    "       return res\n",
    "В результате каких вызовов данная функция вернет число 31?"
   ]
  },
  {
   "cell_type": "code",
   "execution_count": null,
   "metadata": {},
   "outputs": [],
   "source": [
    "def s(a, *vs, b=10):\n",
    "    res = a + b\n",
    "    for v in vs:\n",
    "        res += v\n",
    "    return res\n",
    "\n",
    "print(s(0, 0, 31))\n",
    "print(s(11, 10, 10))\n",
    "print(s(11, b=20))\n",
    "#print(s(b=31, 0)) \n",
    "print(s(11, 10))\n",
    "print(s(21))\n",
    "print(s(11, 10, b=10))\n",
    "#print(s(b=31))\n",
    "print(s(5, 5, 5, 5, 1))"
   ]
  },
  {
   "cell_type": "code",
   "execution_count": null,
   "metadata": {},
   "outputs": [],
   "source": [
    "#Рекурсивные функции на примере последовательности числер Фибоначчи\n",
    "# 1 1 2 3 5 8 ...\n",
    "def fib(x):\n",
    "    if x == 0 or x == 1:\n",
    "        return 1\n",
    "    else:\n",
    "        return fib(x-1)+fib(x-2)\n",
    "    \n",
    "y = fib(5)\n",
    "print(y) # 8"
   ]
  },
  {
   "cell_type": "markdown",
   "metadata": {},
   "source": [
    "**Итоговое задание 1.3**\n",
    "\n",
    "Сочетанием из n элементов по k называется подмножество этих n элементов размера k.\n",
    "Два сочетания называются различными, если одно из сочетаний содержит элемент, который не содержит другое.\n",
    "Числом сочетаний из n по k называется количество различных сочетаний из n по k. Обозначим это число за C(n, k).\n",
    "\n",
    "Пример:\n",
    "Пусть n = 3, т. е. есть три элемента (1, 2, 3). Пусть k = 2.\n",
    "Все различные сочетания из 3 элементов по 2: (1, 2), (1, 3), (2, 3).\n",
    "Различных сочетаний три, поэтому C(3, 2) = 3.\n",
    "\n",
    "Несложно понять, что C(n, 0) = 1, так как из n элементов выбрать 0 можно единственным образом, а именно, ничего не выбрать.\n",
    "Также несложно понять, что если k > n, то C(n, k) = 0, так как невозможно, например, из трех элементов выбрать пять.\n",
    "\n",
    "Для вычисления C(n, k) в других случаях используется следующая рекуррентная формула:\n",
    "C(n, k) = C(n - 1, k) + C(n - 1, k - 1).\n",
    "\n",
    "Реализуйте программу, которая для заданных n и k вычисляет C(n, k).\n",
    "\n",
    "Вашей программе на вход подается строка, содержащая два целых числа n и k (1 ≤ n ≤ 10, 0 ≤ k ≤ 10).\n",
    "Ваша программа должна вывести единственное число: C(n, k).\n",
    "\n",
    "Примечание:\n",
    "Считать два числа n и k вы можете, например, следующим образом:\n",
    "\n",
    "`n, k = map(int, input().split())`"
   ]
  },
  {
   "cell_type": "code",
   "execution_count": null,
   "metadata": {},
   "outputs": [],
   "source": [
    "n, k = map(int, input().split())\n",
    "def C(n, k):\n",
    "    if k == 0:\n",
    "        return 1\n",
    "    elif k > n:\n",
    "        return 0\n",
    "    else:\n",
    "        return C(n-1, k)+C(n-1, k-1)\n",
    "\n",
    "res = C(n, k)\n",
    "print(res)"
   ]
  },
  {
   "cell_type": "markdown",
   "metadata": {},
   "source": [
    "### 1.4 Пространства имён и области видимости <a class=\"anchor\" id=\"1-4\"></a>\n",
    "\n",
    "**Namespace** - сопоставление имен наших переменных, функций или классов и реальных объектов из оперативной памяти\n",
    "\n",
    "Пространств имен много\n",
    "\n",
    "Cоздаются namespace:\n",
    "1. builtins: int, str, float, max, abs, id... (когда запускаем интерпретатор)\n",
    "2. main (является глобальным, и содержит имена, которые мы определили на верхнем уровне нашего кода)"
   ]
  },
  {
   "cell_type": "code",
   "execution_count": 51,
   "metadata": {},
   "outputs": [
    {
     "name": "stdout",
     "output_type": "stream",
     "text": [
      "64.4\n",
      "ok\n"
     ]
    }
   ],
   "source": [
    "t_c = 18\n",
    "tmp = 'ok'\n",
    "\n",
    "def fahrenheit(t_c):\n",
    "    tmp = t_c * 9 /5\n",
    "    return tmp+32\n",
    "\n",
    "print(fahrenheit(t_c))\n",
    "print(tmp)\n",
    "\n",
    "# Здесь демонстрируется порядок использование переменных в программе.\n",
    "# Иерархия использования строится с верхней части стека, \n",
    "# и далее в самый низ до builtins.\n",
    "# t_c и tmp добавляются в global (это над builtins).\n",
    "# далее при вызове функции с теми же переменными\n",
    "# мы используем не глобальные их ссылки, а локальные"
   ]
  },
  {
   "cell_type": "markdown",
   "metadata": {},
   "source": [
    "**Области видимости (a scope)** - текстовые фрагменты программы, в которых локальные namespace доступны напрямую.\n",
    "У каждого фрагмента программы своя область видимости. \n",
    "\n",
    "Существуют 4 категории \"скоупов\" - **LEGB** \n",
    "- Local\n",
    "- Enclosing\n",
    "- Global\n",
    "- Builtins\n",
    "\n",
    "Поиск имен начинается сверху вниз\n",
    "\n",
    "Далее два примера, показывающих как строится эта иерархия и где может быть ошибка:"
   ]
  },
  {
   "cell_type": "code",
   "execution_count": 52,
   "metadata": {},
   "outputs": [
    {
     "name": "stdout",
     "output_type": "stream",
     "text": [
      "31\n"
     ]
    }
   ],
   "source": [
    "def b():\n",
    "    x = 31\n",
    "    \n",
    "    def a():\n",
    "        print(x)\n",
    "    a()\n",
    "    \n",
    "b()\n",
    "\n",
    "# порядок построяния скоупов:\n",
    "# a scope -> b scope -> global scope -> builtins"
   ]
  },
  {
   "cell_type": "code",
   "execution_count": 53,
   "metadata": {},
   "outputs": [
    {
     "name": "stdout",
     "output_type": "stream",
     "text": [
      "[1, 2, 3]\n"
     ]
    }
   ],
   "source": [
    "def a():\n",
    "    print(x)\n",
    "\n",
    "def b():\n",
    "    x = 31\n",
    "    a()\n",
    "     \n",
    "b() #NameError\n",
    "\n",
    "# здесь порядок иной, a scope и b scope находятся на одной линии\n",
    "#\n",
    "# b scope -> \n",
    "#             global scope -> builtins   \n",
    "# a scope -> \n",
    "#\n",
    "# a scope не видит x, который находится в b scope"
   ]
  },
  {
   "cell_type": "markdown",
   "metadata": {},
   "source": [
    "**Вопрос**\n",
    "\n",
    "В какой момент создается локальное пространство имен для функции?\n",
    "\n",
    "**Ответ**: В момент вызова функции"
   ]
  },
  {
   "cell_type": "markdown",
   "metadata": {},
   "source": [
    "___\n",
    "При использование циклов и условных операторов, пространство имен не создается"
   ]
  },
  {
   "cell_type": "code",
   "execution_count": 54,
   "metadata": {},
   "outputs": [
    {
     "name": "stdout",
     "output_type": "stream",
     "text": [
      "14\n"
     ]
    }
   ],
   "source": [
    "x = 13\n",
    "if x % 2 == 1:\n",
    "    x += 1 #x тот же, что и выше\n",
    "    \n",
    "print(x) #14"
   ]
  },
  {
   "cell_type": "code",
   "execution_count": 55,
   "metadata": {},
   "outputs": [
    {
     "name": "stdout",
     "output_type": "stream",
     "text": [
      "16\n"
     ]
    }
   ],
   "source": [
    "for i in range(5):\n",
    "    x = i*i #создали в глобальном namespace\n",
    "\n",
    "print(x) #16"
   ]
  },
  {
   "cell_type": "code",
   "execution_count": 56,
   "metadata": {},
   "outputs": [
    {
     "ename": "NameError",
     "evalue": "name 'y' is not defined",
     "output_type": "error",
     "traceback": [
      "\u001b[1;31m---------------------------------------------------------------------------\u001b[0m",
      "\u001b[1;31mNameError\u001b[0m                                 Traceback (most recent call last)",
      "\u001b[1;32m<ipython-input-56-52426ba6be63>\u001b[0m in \u001b[0;36m<module>\u001b[1;34m\u001b[0m\n\u001b[0;32m      4\u001b[0m     \u001b[0my\u001b[0m \u001b[1;33m=\u001b[0m \u001b[0mi\u001b[0m\u001b[1;33m*\u001b[0m\u001b[0mi\u001b[0m\u001b[1;33m\u001b[0m\u001b[1;33m\u001b[0m\u001b[0m\n\u001b[0;32m      5\u001b[0m \u001b[1;33m\u001b[0m\u001b[0m\n\u001b[1;32m----> 6\u001b[1;33m \u001b[0mprint\u001b[0m\u001b[1;33m(\u001b[0m\u001b[0my\u001b[0m\u001b[1;33m)\u001b[0m\u001b[1;33m\u001b[0m\u001b[1;33m\u001b[0m\u001b[0m\n\u001b[0m",
      "\u001b[1;31mNameError\u001b[0m: name 'y' is not defined"
     ]
    }
   ],
   "source": [
    "del y #удалим, чтобы продемострировать ошибку\n",
    "\n",
    "for i in []: #мы не входим в цикл, а значит не создаем y\n",
    "    y = i*i\n",
    "\n",
    "print(y) "
   ]
  },
  {
   "cell_type": "markdown",
   "metadata": {},
   "source": [
    "___\n",
    "Если хотим менять менять и использовать глобальную переменную внутри функции, используем команду `global`"
   ]
  },
  {
   "cell_type": "code",
   "execution_count": 57,
   "metadata": {
    "scrolled": true
   },
   "outputs": [
    {
     "name": "stdout",
     "output_type": "stream",
     "text": [
      "True\n",
      "True\n",
      "False\n",
      "False\n"
     ]
    }
   ],
   "source": [
    "#полезно для отслеживание статуса на примере поиска гласных в списке\n",
    "\n",
    "ok_status = True\n",
    "vowels = ['a', 'u', 'i', 'e', 'o']\n",
    "\n",
    "def check(word):\n",
    "    global ok_status # = True\n",
    "    for vowel in vowels:\n",
    "        if vowel in word:\n",
    "            return True\n",
    "    ok_status = False\n",
    "    return False\n",
    "\n",
    "print(check('abacaba')) #True\n",
    "print(ok_status) #True\n",
    "print(check('www')) #False\n",
    "print(ok_status) #False"
   ]
  },
  {
   "cell_type": "markdown",
   "metadata": {},
   "source": [
    "___\n",
    "Ниже пример, который демонстрирует, что если между namespace'ом функции и глобалом поместить еще один слой (добавить функцию), то использовать `global` уже не получится"
   ]
  },
  {
   "cell_type": "code",
   "execution_count": 58,
   "metadata": {},
   "outputs": [
    {
     "name": "stdout",
     "output_type": "stream",
     "text": [
      "True\n",
      "True\n",
      "False\n",
      "True\n",
      "False\n"
     ]
    }
   ],
   "source": [
    "def f():\n",
    "    ok_status = True\n",
    "    vowels = ['a', 'u', 'i', 'e', 'o']\n",
    "\n",
    "    def check(word):\n",
    "        global ok_status # Тут мы его создаем, так как в глобале его нет\n",
    "        for vowel in vowels:\n",
    "            if vowel in word:\n",
    "                return True\n",
    "        ok_status = False\n",
    "        return False\n",
    "\n",
    "    print(check('abacaba')) #True\n",
    "    print(ok_status) #True\n",
    "    print(check('www')) #False\n",
    "    print(ok_status) #True <------ ok_status is not global\n",
    "    \n",
    "f()\n",
    "print(ok_status) #False <------ ok_status is global"
   ]
  },
  {
   "cell_type": "markdown",
   "metadata": {},
   "source": [
    "`nonlocal` - позволяет искать ближайшее пространство имен, в которое вложенно текущее пространство, и обращаться к указанной переменной из него\n",
    "\n",
    "Ссылка на документацию\n",
    "https://docs.python.org/3.7/tutorial/classes.html#python-scopes-and-namespaces"
   ]
  },
  {
   "cell_type": "code",
   "execution_count": 59,
   "metadata": {},
   "outputs": [
    {
     "name": "stdout",
     "output_type": "stream",
     "text": [
      "True\n",
      "True\n",
      "False\n",
      "False\n"
     ]
    },
    {
     "ename": "NameError",
     "evalue": "name 'ok_status' is not defined",
     "output_type": "error",
     "traceback": [
      "\u001b[1;31m---------------------------------------------------------------------------\u001b[0m",
      "\u001b[1;31mNameError\u001b[0m                                 Traceback (most recent call last)",
      "\u001b[1;32m<ipython-input-59-41aaefabc17e>\u001b[0m in \u001b[0;36m<module>\u001b[1;34m\u001b[0m\n\u001b[0;32m     20\u001b[0m \u001b[1;33m\u001b[0m\u001b[0m\n\u001b[0;32m     21\u001b[0m \u001b[0mf\u001b[0m\u001b[1;33m(\u001b[0m\u001b[1;33m)\u001b[0m\u001b[1;33m\u001b[0m\u001b[1;33m\u001b[0m\u001b[0m\n\u001b[1;32m---> 22\u001b[1;33m \u001b[0mprint\u001b[0m\u001b[1;33m(\u001b[0m\u001b[0mok_status\u001b[0m\u001b[1;33m)\u001b[0m \u001b[1;31m#NameError\u001b[0m\u001b[1;33m\u001b[0m\u001b[1;33m\u001b[0m\u001b[0m\n\u001b[0m",
      "\u001b[1;31mNameError\u001b[0m: name 'ok_status' is not defined"
     ]
    }
   ],
   "source": [
    "del ok_status\n",
    "\n",
    "def f():\n",
    "    ok_status = True\n",
    "    vowels = ['a', 'u', 'i', 'e', 'o']\n",
    "\n",
    "    def check(word):\n",
    "        nonlocal ok_status # Ищем ближайшее пространство имен к check - \n",
    "                           # это пространство f()\n",
    "        for vowel in vowels:\n",
    "            if vowel in word:\n",
    "                return True\n",
    "        ok_status = False\n",
    "        return False\n",
    "\n",
    "    print(check('abacaba')) #True\n",
    "    print(ok_status) #True\n",
    "    print(check('www')) #False\n",
    "    print(ok_status) #True\n",
    "    \n",
    "f()\n",
    "print(ok_status) #NameError"
   ]
  },
  {
   "cell_type": "markdown",
   "metadata": {},
   "source": [
    "___\n",
    "**Итоговое задание 1.4**\n",
    "\n",
    "Реализуйте программу, которая будет эмулировать работу с пространствами имен. Необходимо реализовать поддержку создания пространств имен и добавление в них переменных.\n",
    "\n",
    "Полное задание длинное, прочитать можно по ссылке https://stepik.org/lesson/24460/step/10?unit=6766"
   ]
  },
  {
   "cell_type": "code",
   "execution_count": 60,
   "metadata": {},
   "outputs": [
    {
     "name": "stdout",
     "output_type": "stream",
     "text": [
      "0\n"
     ]
    }
   ],
   "source": [
    "def get(namespace, arg):\n",
    "    '''\n",
    "    Рекурсивный вызов функции.\n",
    "    Ищем у \"namespace\" в \"vars\" значение \"arg\".\n",
    "    Если находим, выводим \"namespace\".\n",
    "    Иначе, вызываем снова эту функцию, \n",
    "    со значением \"namespace\" = get('parent')   \n",
    "    '''\n",
    "    global program_ns\n",
    "    if namespace == 'global' and arg not in program_ns[namespace].get('vars'):\n",
    "        return print(None)\n",
    "    elif arg in program_ns[namespace].get('vars'):\n",
    "        return print(namespace)\n",
    "    else:\n",
    "        get(program_ns[namespace].get('parent'), arg)\n",
    "        \n",
    "n = int(input()) #кол-во строк, которые будут поступать\n",
    "program_ns = {'global': {'vars': [], 'parent': None, 'inc': []}} # шаблон\n",
    "\n",
    "for _ in range(n): #цикл без лишней переменной, которая будет итерировать\n",
    "    cmd, namespace, arg = input().split() #ввод\n",
    "    if cmd == 'create':   \n",
    "        program_ns[namespace] = {'vars': [], 'parent': arg, 'inc': []}\n",
    "        program_ns[arg]['inc'].append(namespace)\n",
    "    elif cmd == 'add':\n",
    "        program_ns[namespace]['vars'].append(arg)\n",
    "    elif cmd == 'get':\n",
    "        get(namespace, arg)"
   ]
  },
  {
   "cell_type": "markdown",
   "metadata": {},
   "source": [
    "### 1.5 Введение в классы <a class=\"anchor\" id=\"1-5\"></a>"
   ]
  },
  {
   "cell_type": "markdown",
   "metadata": {},
   "source": [
    "Классы используются для создания и описания своих собственных типов данных. "
   ]
  },
  {
   "cell_type": "code",
   "execution_count": 1,
   "metadata": {},
   "outputs": [],
   "source": [
    "class MyClass: #MyClass - имя класса\n",
    "    #Тело класса\n",
    "    a = 10\n",
    "    \n",
    "    def func(self):\n",
    "        print('Hello')"
   ]
  },
  {
   "cell_type": "code",
   "execution_count": 9,
   "metadata": {
    "scrolled": true
   },
   "outputs": [
    {
     "name": "stdout",
     "output_type": "stream",
     "text": [
      "10\n",
      "<function MyClass.func at 0x0000019297B22AF8>\n"
     ]
    }
   ],
   "source": [
    "# переменная a и func существуют в namespace MyClass\n",
    "print(MyClass.a)\n",
    "print(MyClass.func)"
   ]
  },
  {
   "cell_type": "code",
   "execution_count": 20,
   "metadata": {},
   "outputs": [],
   "source": [
    "# Конструктор у встроенных классов (list)\n",
    "lst = list() #явный запуск конструктора\n",
    "lst = [] #использование синтаксиса для вызова конструктора"
   ]
  },
  {
   "cell_type": "code",
   "execution_count": 21,
   "metadata": {},
   "outputs": [
    {
     "name": "stdout",
     "output_type": "stream",
     "text": [
      "<class '__main__.MyClass'>\n",
      "<class 'type'>\n"
     ]
    }
   ],
   "source": [
    "x = MyClass() # Здесь вызывается конструктор класса и создается объект\n",
    "\n",
    "print(type(x))\n",
    "print(type(MyClass))"
   ]
  },
  {
   "cell_type": "markdown",
   "metadata": {},
   "source": [
    "Нам гарантирован вызов конструктора класса и обращение к его атрибутам"
   ]
  },
  {
   "cell_type": "code",
   "execution_count": 19,
   "metadata": {
    "scrolled": true
   },
   "outputs": [
    {
     "name": "stdout",
     "output_type": "stream",
     "text": [
      "<class '__main__.Counter'>\n",
      "<__main__.Counter object at 0x0000019299477C88>\n"
     ]
    }
   ],
   "source": [
    "class Counter:\n",
    "    pass # пустое тело\n",
    "\n",
    "print(Counter)\n",
    "x = Counter() #создается объект экземпляра (instance object)\n",
    "# для каждого экземпляра создается свое пространство имен\n",
    "print(x)\n",
    "x.counter = 0 # для нашего экземпляра создается \n",
    "              #имя 'count' (атрибут) и оно ссылается на 0\n",
    "x.counter += 1 #теперь ссылается на 1"
   ]
  },
  {
   "cell_type": "markdown",
   "metadata": {},
   "source": [
    "Конструкторы нужны для создания новых объектов нашего класса\n",
    "Для определения поведения конструктора необходимо определить функцию `__init__` внутри нашего класса"
   ]
  },
  {
   "cell_type": "code",
   "execution_count": 25,
   "metadata": {},
   "outputs": [
    {
     "name": "stdout",
     "output_type": "stream",
     "text": [
      "0\n",
      "1\n"
     ]
    }
   ],
   "source": [
    "class Counter:\n",
    "    def __init__(self): #может принимать и не один аргумент\n",
    "        # self это экземпляр нашего класса\n",
    "        self.count = 0\n",
    "        \n",
    "Counter # class object\n",
    "x = Counter()\n",
    "print(x.count)\n",
    "x.count += 1\n",
    "print(x.count)"
   ]
  },
  {
   "cell_type": "code",
   "execution_count": 27,
   "metadata": {},
   "outputs": [
    {
     "name": "stdout",
     "output_type": "stream",
     "text": [
      "0\n",
      "10\n"
     ]
    }
   ],
   "source": [
    "class Counter:\n",
    "    def __init__(self, start = 0): #может принимать и не один аргумент\n",
    "        # self это экземпляр нашего класса\n",
    "        self.count = start\n",
    "        \n",
    "Counter # class object\n",
    "x1 = Counter(10) #задаем значение start = 10\n",
    "x = Counter() #по умолчанию count 0\n",
    "print(x.count)\n",
    "print(x1.count)"
   ]
  },
  {
   "cell_type": "code",
   "execution_count": 29,
   "metadata": {},
   "outputs": [
    {
     "name": "stdout",
     "output_type": "stream",
     "text": [
      "[1, 2, 3]\n"
     ]
    }
   ],
   "source": [
    "#Классы так же могут иметь методы\n",
    "x = [2,3,1]\n",
    "x.sort() # метод сорт позволяет сортировать список\n",
    "print(x)"
   ]
  },
  {
   "cell_type": "code",
   "execution_count": 31,
   "metadata": {},
   "outputs": [
    {
     "name": "stdout",
     "output_type": "stream",
     "text": [
      "1\n",
      "2\n",
      "0\n"
     ]
    }
   ],
   "source": [
    "class Counter:\n",
    "    def __init__(self): \n",
    "        self.count = 0\n",
    "        \n",
    "    def inc(self):\n",
    "        self.count += 1\n",
    "    \n",
    "    def reset(self):\n",
    "        self.count = 0\n",
    "\n",
    "Counter # class object\n",
    "x = Counter() #создаем экземпляр класса\n",
    "x.inc() # вызываем метод inc\n",
    "# Сначало inc ищется в пространстве имен x, но там находится только 'count'\n",
    "# Далее интерпретатор переходит искать в пространство имен класса Counter\n",
    "print(x.count)\n",
    "Counter.inc(x) # == x.inc(). Абсолютно эквивалентны. Можно передавать как функцию\n",
    "print(x.count)\n",
    "x.reset()\n",
    "print(x.count)"
   ]
  },
  {
   "cell_type": "markdown",
   "metadata": {},
   "source": [
    "Bound Method (связанные методы)\n",
    "\n",
    "вызывая `x.inc()` ~ `Counter.inc(x)`"
   ]
  },
  {
   "cell_type": "markdown",
   "metadata": {},
   "source": [
    "___\n",
    "**Задание**\n",
    "\n",
    "Реализуйте класс MoneyBox, для работы с виртуальной копилкой.\n",
    "\n",
    "Каждая копилка имеет ограниченную вместимость, которая выражается целым числом – количеством монет, которые можно положить в копилку. Класс должен поддерживать информацию о количестве монет в копилке, предоставлять возможность добавлять монеты в копилку и узнавать, можно ли добавить в копилку ещё какое-то количество монет, не превышая ее вместимость.\n",
    "\n",
    "При создании копилки, число монет в ней равно 0.\n",
    "Примечание:\n",
    "Гарантируется, что метод `add(self, v)` будет вызываться только если `can_add(self, v) – True`."
   ]
  },
  {
   "cell_type": "code",
   "execution_count": 46,
   "metadata": {},
   "outputs": [
    {
     "name": "stdout",
     "output_type": "stream",
     "text": [
      "Вместимость копилки будет превышена\n",
      "0\n",
      "20\n"
     ]
    }
   ],
   "source": [
    "class MoneyBox:\n",
    "    def __init__(self, capacity):\n",
    "        # конструктор с аргументом – вместимость копилки\n",
    "        self.count = 0 #количество монет в копилке\n",
    "        self.capacity = capacity #вместимость копилки\n",
    "\n",
    "    def can_add(self, v):\n",
    "        # True, если можно добавить v монет, False иначе\n",
    "        return self.count + v <= self.capacity\n",
    "\n",
    "    def add(self, v):\n",
    "        # положить v монет в копилку\n",
    "        if self.can_add(v):\n",
    "            self.count += v\n",
    "        else:\n",
    "            print('Вместимость копилки будет превышена')\n",
    "            \n",
    "box = MoneyBox(50)\n",
    "box.add(60)\n",
    "print(box.count)\n",
    "\n",
    "box.add(20)\n",
    "print(box.count)"
   ]
  },
  {
   "cell_type": "markdown",
   "metadata": {},
   "source": [
    "___\n",
    "**Задание**\n",
    "\n",
    "Вам дается последовательность целых чисел и вам нужно ее обработать и вывести на экран сумму первой пятерки чисел из этой последовательности, затем сумму второй пятерки, и т. д.\n",
    "\n",
    "Но последовательность не дается вам сразу целиком. С течением времени к вам поступают её последовательные части. Например, сначала первые три элемента, потом следующие шесть, потом следующие два и т. д.\n",
    "\n",
    "Реализуйте класс Buffer, который будет накапливать в себе элементы последовательности и выводить сумму пятерок последовательных элементов по мере их накопления.\n",
    "\n",
    "Одним из требований к классу является то, что он не должен хранить в себе больше элементов, чем ему действительно необходимо, т. е. он не должен хранить элементы, которые уже вошли в пятерку, для которой была выведена сумма."
   ]
  },
  {
   "cell_type": "code",
   "execution_count": 7,
   "metadata": {},
   "outputs": [],
   "source": [
    "#Мой вариант\n",
    "\n",
    "class Buffer:\n",
    "    def __init__(self):\n",
    "        # конструктор без аргументов\n",
    "        self.lst = []\n",
    "\n",
    "    def add(self, *a):\n",
    "        # добавить следующую часть последовательности\n",
    "        self.lst.extend(a)\n",
    "        while len(self.lst) >= 5:\n",
    "            sum = 0\n",
    "            for _ in range(5):\n",
    "                sum += self.lst.pop(0)\n",
    "            print(sum)\n",
    "\n",
    "    def get_current_part(self):\n",
    "        # вернуть сохраненные в текущий момент элементы последовательности \n",
    "        # в порядке, в котором они были добавлены\n",
    "        return self.lst"
   ]
  },
  {
   "cell_type": "code",
   "execution_count": 8,
   "metadata": {},
   "outputs": [
    {
     "name": "stdout",
     "output_type": "stream",
     "text": [
      "15\n",
      "40\n",
      "5\n",
      "5\n"
     ]
    },
    {
     "data": {
      "text/plain": [
       "[1]"
      ]
     },
     "execution_count": 8,
     "metadata": {},
     "output_type": "execute_result"
    }
   ],
   "source": [
    "#Пример работы с классом\n",
    "buf = Buffer()\n",
    "buf.add(1, 2, 3)\n",
    "buf.get_current_part() # вернуть [1, 2, 3]\n",
    "buf.add(4, 5, 6) # print(15) – вывод суммы первой пятерки элементов\n",
    "buf.get_current_part() # вернуть [6]\n",
    "buf.add(7, 8, 9, 10) # print(40) – вывод суммы второй пятерки элементов\n",
    "buf.get_current_part() # вернуть []\n",
    "buf.add(1, 1, 1, 1, 1, 1, 1, 1, 1, 1, 1) # print(5), print(5) – вывод сумм третьей и четвертой пятерки\n",
    "buf.get_current_part() # вернуть [1]"
   ]
  },
  {
   "cell_type": "code",
   "execution_count": 10,
   "metadata": {},
   "outputs": [],
   "source": [
    "#Вариант препода\n",
    "\n",
    "class Buffer:\n",
    "    def __init__(self):\n",
    "        self.part = []\n",
    "\n",
    "    def add(self, *a):\n",
    "        for i in a: \n",
    "            self.part.append(i) #он здесь добавляет по одному элементу\n",
    "            #и сразу делает проверку, а в конце удаляет.\n",
    "            #выглядит оптимальнее чем мой вариант\n",
    "            if len(self.part) == 5:\n",
    "                print(sum(self.part))\n",
    "                self.part.clear()\n",
    "\n",
    "    def get_current_part(self):\n",
    "        return self.part"
   ]
  },
  {
   "cell_type": "markdown",
   "metadata": {},
   "source": [
    "___\n",
    "Переменные класса. Создавая переменную в структуре класса, она общая. Пример ниже это демонстрирует. Если нам надо создать отдельно теги для каждой песни, мы должны были сделать tags в конструкторе класса"
   ]
  },
  {
   "cell_type": "code",
   "execution_count": 17,
   "metadata": {},
   "outputs": [
    {
     "name": "stdout",
     "output_type": "stream",
     "text": [
      "['tag1', 'tag2', 'tag3', 'tag4']\n"
     ]
    }
   ],
   "source": [
    "class Song:\n",
    "    tags = []\n",
    "    \n",
    "    def __init__(self, artist, song):\n",
    "        self.artist = artist\n",
    "        self.song = song\n",
    "        #self.tags = [] - так теги будут у каждой песни свои\n",
    "        \n",
    "    def add_tags(self, *args):\n",
    "        self.tags.extend(args)\n",
    "        \n",
    "song1 = Song('Test_artist', 'Test_song')\n",
    "song1.add_tags('tag1', 'tag2')\n",
    "\n",
    "song2 = Song('Test_artist2', 'Test_song2')\n",
    "song2.add_tags('tag3', 'tag4')\n",
    "\n",
    "print(song2.tags) #теги для всех песен общие"
   ]
  },
  {
   "cell_type": "markdown",
   "metadata": {},
   "source": [
    "**Пояснение к заданию ниже**\n",
    "\n",
    "Запись a.bar() запускает в работу функцию bar, которая увеличивает значение атрибута val экземпляра a (a.val) на единицу, но изначальное значение a.val не определено конструктором, поэтому в качестве начального значения a.val программа берет значение атрибута val всего класса A (A.val), которое изначально равно единице.\n",
    "\n",
    "Запись a.foo() запускает в работу функцию foo, которая увеличивает значение атрибута A.val на два. Функция foo при этом не изменяет значение a.val !!\n",
    "\n",
    "Поскольку значения b.val и c.val не заданы, то программа при выводе обращается к значению A.val, которое, как показано выше, к моменту исполнения данных строк уже не равняется единице."
   ]
  },
  {
   "cell_type": "code",
   "execution_count": 19,
   "metadata": {},
   "outputs": [
    {
     "name": "stdout",
     "output_type": "stream",
     "text": [
      "2\n",
      "3\n",
      "3\n"
     ]
    }
   ],
   "source": [
    "#Задание - что выведется в результате выполнения кода?\n",
    "class A:\n",
    "    val = 1\n",
    "\n",
    "    def foo(self):\n",
    "        # мы всегда обращаемся к атрибуту класса, из любого экземпляра\n",
    "        A.val = A.val + 2\n",
    "\n",
    "    def bar(self):\n",
    "                   # во время первого вызова bar это обращение к атрибуту класса, \n",
    "                   # т.к. у экземпляра класса еще нет атрибута val\n",
    "                   # |\n",
    "                   # |\n",
    "        self.val = self.val + 1\n",
    "        # |\n",
    "        # |\n",
    "        # после присвоения, у экземпляра появится свой атрибут val,\n",
    "        # все последующие вызовы bar будут работать с ним\n",
    "\n",
    "a = A() # инстанс класса А, у него нет своего атрибута val \n",
    "b = A() # инстанс класса А, у него нет своего атрибута val \n",
    "\n",
    "A.bar(a) # у экземпляра a появился свой атрибут a.val = A.val + 1\n",
    "A.foo(a) # изменение атрибута класса A.val = A.val + 2\n",
    "\n",
    "c = A() # инстанс класса А, у него нет своего атрибута val\n",
    "\n",
    "print(a.val)\n",
    "print(b.val)\n",
    "print(c.val)"
   ]
  },
  {
   "cell_type": "markdown",
   "metadata": {},
   "source": [
    "**Итог:**\n",
    "3 новых типа\n",
    "- объекты класса - описываем\n",
    "- объекты экземпляра\n",
    "- связанные методы"
   ]
  },
  {
   "cell_type": "markdown",
   "metadata": {},
   "source": [
    "### 1.6 Наследование классов <a class=\"anchor\" id=\"1-6\"></a>"
   ]
  },
  {
   "cell_type": "code",
   "execution_count": 21,
   "metadata": {},
   "outputs": [
    {
     "name": "stdout",
     "output_type": "stream",
     "text": [
      "[]\n",
      "[1, 2, 3, 4, 5]\n",
      "False\n",
      "True\n"
     ]
    }
   ],
   "source": [
    "#Унаследуем класс list, чтобы расширить его функционал\n",
    "class MyList(list): #В скобках указываем класс, который наследуем\n",
    "    def even_length(self):\n",
    "        return len(self) % 2 == 0\n",
    "    \n",
    "x = MyList()\n",
    "print(x) # []\n",
    "x.extend([1,2,3,4,5]) #методы от класса list\n",
    "#сначала ищем методы в namespace икса, потом в MyList, потом идем в насл. классы\n",
    "print(x) # [1,2,3,4,5]\n",
    "print(x.even_length()) #False\n",
    "x.append(6)\n",
    "print(x.even_length()) #True"
   ]
  },
  {
   "cell_type": "markdown",
   "metadata": {},
   "source": [
    "___\n",
    "Классы, для которых не указано наследование, автоматически наследуются от класса object. Картинка с схемой ниже"
   ]
  },
  {
   "cell_type": "code",
   "execution_count": 22,
   "metadata": {},
   "outputs": [],
   "source": [
    "#Множественное наследование\n",
    "class D: pass\n",
    "class E: pass\n",
    "class B(D, E): pass\n",
    "class C: pass\n",
    "class A(B, C): pass\n",
    "# Схема наследования\n",
    "#           ---> D\n",
    "#   ---> B  ---> E\n",
    "# A ---> C\n",
    "# А наследуется от B и C, B от D и E"
   ]
  },
  {
   "cell_type": "code",
   "execution_count": 23,
   "metadata": {},
   "outputs": [
    {
     "data": {
      "text/plain": [
       "False"
      ]
     },
     "execution_count": 23,
     "metadata": {},
     "output_type": "execute_result"
    }
   ],
   "source": [
    "#Функция, проверяющая, является ли класс наследником\n",
    "issubclass(A, A) # True (любой класс наследник сам себя)\n",
    "issubclass(C, D) # False\n",
    "issubclass(A, D) # True\n",
    "issubclass(C, object) # True\n",
    "issubclass(object, C) # False"
   ]
  },
  {
   "cell_type": "code",
   "execution_count": 25,
   "metadata": {},
   "outputs": [
    {
     "data": {
      "text/plain": [
       "False"
      ]
     },
     "execution_count": 25,
     "metadata": {},
     "output_type": "execute_result"
    }
   ],
   "source": [
    "# Проверка объекта на экземпляр класса\n",
    "# по сути проверяет, является ли type(x) наследником класса \n",
    "x = A()\n",
    "isinstance(x, A) # True\n",
    "isinstance(x, B) # True\n",
    "isinstance(x, object) # True\n",
    "isinstance(x, str) # Falsr"
   ]
  },
  {
   "cell_type": "code",
   "execution_count": 26,
   "metadata": {},
   "outputs": [],
   "source": [
    "#Немного о наследование\n",
    "class MyList(list): #В скобках указываем класс, который наследуем\n",
    "    def even_length(self):\n",
    "        return len(self) % 2 == 0\n",
    "    \n",
    "x = MyList() \n",
    "# При создании объекта, используется конструктор\n",
    "# [def __init__(self,...):] от класса list\n",
    "\n",
    "print(x)\n",
    "# при вызове принта, мы вызываем метод  __repr__(self): [representetion]\n",
    "# его тоже из list, так как мы такой не создавали"
   ]
  },
  {
   "cell_type": "markdown",
   "metadata": {},
   "source": [
    "Порядок выполнения методов. \n",
    "\n",
    "Вопрос стоит в том, какой будет выполнятся метод, если класс наследуется от двух сразу.\n",
    "\n",
    "Для отображение порядка есть метов `.mro()`\n",
    "\n",
    "![](mro.png)\n",
    "\n",
    "\n",
    "Их порядок зависит от порядка их объявления в скобках"
   ]
  },
  {
   "cell_type": "code",
   "execution_count": 29,
   "metadata": {
    "scrolled": true
   },
   "outputs": [
    {
     "name": "stdout",
     "output_type": "stream",
     "text": [
      "[<class '__main__.A'>, <class '__main__.B'>, <class '__main__.D'>, <class '__main__.E'>, <class '__main__.C'>, <class 'object'>]\n"
     ]
    }
   ],
   "source": [
    "class D: pass\n",
    "class E: pass\n",
    "class B(D, E): pass\n",
    "class C: pass\n",
    "class A(B, C): pass\n",
    "\n",
    "print(A.mro()) #[methor resolution order]\n",
    "#<class '__main__.A'>, \n",
    "#<class '__main__.B'>, \n",
    "#<class '__main__.D'>, \n",
    "#<class '__main__.E'>, \n",
    "#<class '__main__.C'>, \n",
    "#<class 'object'>"
   ]
  },
  {
   "cell_type": "code",
   "execution_count": 31,
   "metadata": {},
   "outputs": [
    {
     "name": "stdout",
     "output_type": "stream",
     "text": [
      "Last value is 17\n",
      "17\n",
      "[1, 2, 4]\n"
     ]
    }
   ],
   "source": [
    "#Опрелеение метода, совпадающего с родительским классом\n",
    "\n",
    "class EvenLengthMixin: \n",
    "    def even_length(self):\n",
    "        return len(self) % 2 == 0\n",
    "    \n",
    "class MyList(list, EvenLengthMixin): #В скобках указываем класс, который наследуем\n",
    "    def pop(self):\n",
    "        x = super(MyList, self).pop() # функция супер позволяет вызвать метод\n",
    "                                      # из родительского класса, в скобках\n",
    "                                      # super(класс_в_чьих_родителях искать, self)\n",
    "                                      # ~list.pop(self)        \n",
    "        print(\"Last value is\", x)\n",
    "        return x\n",
    "    \n",
    "ml = MyList([1,2,4,17])\n",
    "z = ml.pop() # метод из класса MyList\n",
    "print(z)\n",
    "print(ml)"
   ]
  },
  {
   "cell_type": "code",
   "execution_count": null,
   "metadata": {},
   "outputs": [],
   "source": [
    "# пример с котопсом: (из комментариев)\n",
    "\n",
    "class Cat():\n",
    "    def say(self,times):\n",
    "        print('Meow '*times)\n",
    "class Dog():\n",
    "    def say(self,times):\n",
    "        print('Bow-Wow '*times)\n",
    "class CatDog(Cat,Dog):\n",
    "    pass\n",
    "\n",
    "class DogCat(Dog,Cat):\n",
    "    pass\n",
    "\n",
    "muteDog=CatDog()\n",
    "muteDog.say(3)       #Meow Meow Meow\n",
    "\n",
    "muteCat=DogCat()\n",
    "muteCat.say(2)       #Bow-Wow Bow-Wow"
   ]
  },
  {
   "cell_type": "markdown",
   "metadata": {},
   "source": [
    "___\n",
    "На задание ниже разбираем последовательность выполнения методов\n",
    "\n",
    "Итак, мы обычно идем налево вверх к родителю (E -> B -> A), но если родитель (A) имеет еще наследника, идущего после (B) в списке, то проверяем сначало другого наследника (C) и (C2), и только потом переходим к родителю (A) "
   ]
  },
  {
   "cell_type": "code",
   "execution_count": 42,
   "metadata": {
    "scrolled": true
   },
   "outputs": [
    {
     "name": "stdout",
     "output_type": "stream",
     "text": [
      "C2\n",
      "[<class '__main__.E'>, <class '__main__.B'>, <class '__main__.C'>, <class '__main__.C2'>, <class '__main__.A'>, <class '__main__.D'>, <class 'object'>]\n"
     ]
    }
   ],
   "source": [
    "class A:\n",
    "    def foo(self):\n",
    "        print(\"A\")\n",
    "\n",
    "class B(A):\n",
    "    pass\n",
    "\n",
    "class C(A):\n",
    "    pass\n",
    "#    def foo(self):\n",
    "#        print(\"C\")\n",
    "        \n",
    "class C2(A):\n",
    "    def foo(self):\n",
    "        print(\"C2\")\n",
    "\n",
    "class D:\n",
    "    def foo(self):\n",
    "        print(\"D\")\n",
    "\n",
    "class E(B, C, C2, D):\n",
    "    pass\n",
    "\n",
    "E().foo() # я ожидал ответа A, поэтому разбираемся\n",
    "print(E.mro())"
   ]
  },
  {
   "cell_type": "markdown",
   "metadata": {},
   "source": [
    "___\n",
    "Ниже задание, показывающие пример с ошибкой. Нельзя родителя (С) в списке E(B, C, D) указывать перед потомком (D). \n",
    "\n",
    "Текст с пояснением из комментариев:\n",
    "\n",
    "Для запоминания порядка MRO:\n",
    "\n",
    "1) если среди родителей класса - два класса, которые являются прямыми \"родственниками\", причём \"родитель\" перечислен до \"потомка\" - то возникает ошибка.  Потому, как - вроде программист определяет такой  порядок, а MRO предусматривает обратный (т.е. сначала \"потомки\" - потом \"родители\").\n",
    "\n",
    "P.S. (1) Конечно, разработчикам можно было и избегать ошибки, самостоятельно определяя что приоритетнее - но это противоречит \"Дзену Python'а\" (явное лучше подразумеваемого) - а потому, python заставляет программиста точно определиться - либо поменять порядок, либо выкинуть один из классов из списка родителей..\n",
    "\n",
    "2) если же предыдущее правило не нарушается, то MRO строится \"слева --> направо\" до ближайшего \"общего родителя\". Все \"родители\" должны расположится после своих \"прямых\" и \"опосредованных\" потомков, но как можно левее (раньше).\n",
    " \n",
    "P.S. (2) Получается что-то похожее на рекурсию или алгоритм класса \"разделяй и властвуй\", когда модель графа наследования делятся на кусочки до \"ближайшего общего родителя\", выполняется построение до этого \"общего родителя\", а потом этот \"родитель\" рассматривается как отдельный узел графа для выстраивания последующего порядка разрешения методов.."
   ]
  },
  {
   "cell_type": "code",
   "execution_count": 43,
   "metadata": {
    "scrolled": false
   },
   "outputs": [
    {
     "ename": "TypeError",
     "evalue": "Cannot create a consistent method resolution\norder (MRO) for bases object, C, D",
     "output_type": "error",
     "traceback": [
      "\u001b[1;31m---------------------------------------------------------------------------\u001b[0m",
      "\u001b[1;31mTypeError\u001b[0m                                 Traceback (most recent call last)",
      "\u001b[1;32m<ipython-input-43-7067f6076d32>\u001b[0m in \u001b[0;36m<module>\u001b[1;34m\u001b[0m\n\u001b[0;32m     11\u001b[0m     \u001b[1;32mpass\u001b[0m\u001b[1;33m\u001b[0m\u001b[1;33m\u001b[0m\u001b[0m\n\u001b[0;32m     12\u001b[0m \u001b[1;33m\u001b[0m\u001b[0m\n\u001b[1;32m---> 13\u001b[1;33m \u001b[1;32mclass\u001b[0m \u001b[0mE\u001b[0m\u001b[1;33m(\u001b[0m\u001b[0mB\u001b[0m\u001b[1;33m,\u001b[0m \u001b[0mC\u001b[0m\u001b[1;33m,\u001b[0m \u001b[0mD\u001b[0m\u001b[1;33m)\u001b[0m\u001b[1;33m:\u001b[0m\u001b[1;33m\u001b[0m\u001b[1;33m\u001b[0m\u001b[0m\n\u001b[0m\u001b[0;32m     14\u001b[0m     \u001b[1;32mpass\u001b[0m\u001b[1;33m\u001b[0m\u001b[1;33m\u001b[0m\u001b[0m\n",
      "\u001b[1;31mTypeError\u001b[0m: Cannot create a consistent method resolution\norder (MRO) for bases object, C, D"
     ]
    }
   ],
   "source": [
    "class A:\n",
    "    pass\n",
    "\n",
    "class B(A):\n",
    "    pass\n",
    "\n",
    "class C:\n",
    "    pass\n",
    "\n",
    "class D(C):\n",
    "    pass\n",
    "\n",
    "class E(B, C, D):\n",
    "    pass"
   ]
  },
  {
   "cell_type": "markdown",
   "metadata": {},
   "source": [
    "___\n",
    "**Задание 1**\n",
    "\n",
    "Формат входных данных\n",
    "\n",
    "В первой строке входных данных содержится целое число n - число классов.\n",
    "\n",
    "В следующих n строках содержится описание наследования классов. В i-й строке указано от каких классов наследуется i-й класс. Обратите внимание, что класс может ни от кого не наследоваться. Гарантируется, что класс не наследуется сам от себя (прямо или косвенно), что класс не наследуется явно от одного класса более одного раза.\n",
    "\n",
    "В следующей строке содержится число q - количество запросов.\n",
    "\n",
    "В следующих q строках содержится описание запросов в формате <имя класса 1> <имя класса 2>.\n",
    "Имя класса – строка, состоящая из символов латинского алфавита, длины не более 50.\n",
    "\n",
    "Формат выходных данных\n",
    "\n",
    "Для каждого запроса выведите в отдельной строке слово \"Ye"
   ]
  },
  {
   "cell_type": "code",
   "execution_count": null,
   "metadata": {},
   "outputs": [],
   "source": [
    "#Мое решение (немного громосткое, много где можно было упростить)\n",
    "\n",
    "def is_par(cl1, cl2):\n",
    "    global is_find\n",
    "    global class_graph\n",
    "    parents = class_graph[cl2].get('parent')\n",
    "    if cl1 in parents:\n",
    "        is_find = True\n",
    "        return print('Yes') \n",
    "    elif 'object' not in parents:\n",
    "        for par in parents:\n",
    "            if is_find  == False:\n",
    "                is_par(cl1, par)\n",
    "\n",
    "class_graph = {'object': {'parent': [None]}} \n",
    "\n",
    "n = int(input()) \n",
    "\n",
    "for _ in range(n):\n",
    "    inp = input().split()\n",
    "    if len(inp) > 2:\n",
    "        class_graph[inp[0]] = {'parent': [*inp[2:]]}\n",
    "    else:\n",
    "        class_graph[inp[0]] = {'parent': ['object']}\n",
    "\n",
    "q = int(input()) \n",
    "\n",
    "for _ in range(q):\n",
    "    cl1, cl2 = input().split()\n",
    "    is_find = False\n",
    "    if cl1 in class_graph.keys() and cl2 in class_graph.keys():\n",
    "        if cl1 == cl2:\n",
    "            is_find = True\n",
    "            print('Yes')\n",
    "        else:\n",
    "            is_par(cl1, cl2)\n",
    "    if is_find == False:\n",
    "        print('No')"
   ]
  },
  {
   "cell_type": "code",
   "execution_count": null,
   "metadata": {},
   "outputs": [],
   "source": [
    "#Решение препода\n",
    "\n",
    "n = int(input())\n",
    "\n",
    "parents = {}\n",
    "for _ in range(n):\n",
    "    a = input().split()\n",
    "    parents[a[0]] = [] if len(a) == 1 else a[2:]\n",
    "\n",
    "def is_parent(child, parent):\n",
    "    return child == parent or any(map(lambda p: is_parent(p, parent), parents[child]))\n",
    "\n",
    "q = int(input())\n",
    "for _ in range(q):\n",
    "    a, b = input().split()\n",
    "    print(\"Yes\" if is_parent(b, a) else \"No\")"
   ]
  },
  {
   "cell_type": "markdown",
   "metadata": {},
   "source": [
    "___\n",
    "**Задание 2**\n",
    "\n",
    "Реализуйте структуру данных, представляющую собой расширенную структуру стек. Необходимо поддерживать добавление элемента на вершину стека, удаление с вершины стека, и необходимо поддерживать операции сложения, вычитания, умножения и целочисленного деления.\n",
    "\n",
    "Операция сложения на стеке определяется следующим образом. Со стека снимается верхний элемент (top1), затем снимается следующий верхний элемент (top2), и затем как результат операции сложения на вершину стека кладется элемент, равный top1 + top2.\n",
    "\n",
    "Аналогичным образом определяются операции вычитания (top1 - top2), умножения (top1 * top2) и целочисленного деления (top1 // top2).\n",
    "\n",
    "Реализуйте эту структуру данных как класс ExtendedStack, отнаследовав его от стандартного класса list.\n",
    "\n",
    "Примечание\n",
    "Для добавления элемента на стек используется метод append, а для снятия со стека – метод pop.\n",
    "Гарантируется, что операции будут совершаться только когда в стеке есть хотя бы два элемента."
   ]
  },
  {
   "cell_type": "code",
   "execution_count": 37,
   "metadata": {},
   "outputs": [],
   "source": [
    "class ExtendedStack(list):\n",
    "    def av_len(self):\n",
    "        return len(self) > 1\n",
    "    \n",
    "    def sum(self):\n",
    "        # операция сложения\n",
    "        if self.av_len:\n",
    "            top1 = self.pop()\n",
    "            top2 = self.pop()\n",
    "            self.append(top1 + top2)\n",
    "\n",
    "    def sub(self):\n",
    "        # операция вычитания\n",
    "        if self.av_len:\n",
    "            top1 = self.pop()\n",
    "            top2 = self.pop()\n",
    "            self.append(top1 - top2)\n",
    "\n",
    "    def mul(self):\n",
    "        # операция умножения\n",
    "        if self.av_len:\n",
    "            top1 = self.pop()\n",
    "            top2 = self.pop()\n",
    "            self.append(top1 * top2)\n",
    "\n",
    "    def div(self):\n",
    "        # операция целочисленного деления\n",
    "        if self.av_len:\n",
    "            top1 = self.pop()\n",
    "            top2 = self.pop()\n",
    "            self.append(top1 // top2)\n",
    "    \n"
   ]
  },
  {
   "cell_type": "code",
   "execution_count": 43,
   "metadata": {},
   "outputs": [
    {
     "ename": "AssertionError",
     "evalue": "ex_stack.pop() != 2",
     "output_type": "error",
     "traceback": [
      "\u001b[1;31m---------------------------------------------------------------------------\u001b[0m",
      "\u001b[1;31mAssertionError\u001b[0m                            Traceback (most recent call last)",
      "\u001b[1;32m<ipython-input-43-ff5df750cec1>\u001b[0m in \u001b[0;36m<module>\u001b[1;34m\u001b[0m\n\u001b[0;32m      2\u001b[0m \u001b[0mex_stack\u001b[0m \u001b[1;33m=\u001b[0m \u001b[0mExtendedStack\u001b[0m\u001b[1;33m(\u001b[0m\u001b[1;33m[\u001b[0m\u001b[1;36m1\u001b[0m\u001b[1;33m,\u001b[0m \u001b[1;36m2\u001b[0m\u001b[1;33m,\u001b[0m \u001b[1;36m3\u001b[0m\u001b[1;33m,\u001b[0m \u001b[1;36m4\u001b[0m\u001b[1;33m,\u001b[0m \u001b[1;33m-\u001b[0m\u001b[1;36m3\u001b[0m\u001b[1;33m,\u001b[0m \u001b[1;36m3\u001b[0m\u001b[1;33m,\u001b[0m \u001b[1;36m5\u001b[0m\u001b[1;33m,\u001b[0m \u001b[1;36m10\u001b[0m\u001b[1;33m]\u001b[0m\u001b[1;33m)\u001b[0m\u001b[1;33m\u001b[0m\u001b[1;33m\u001b[0m\u001b[0m\n\u001b[0;32m      3\u001b[0m \u001b[0mex_stack\u001b[0m\u001b[1;33m.\u001b[0m\u001b[0mdiv\u001b[0m\u001b[1;33m(\u001b[0m\u001b[1;33m)\u001b[0m\u001b[1;33m\u001b[0m\u001b[1;33m\u001b[0m\u001b[0m\n\u001b[1;32m----> 4\u001b[1;33m \u001b[1;32massert\u001b[0m \u001b[0mex_stack\u001b[0m\u001b[1;33m.\u001b[0m\u001b[0mpop\u001b[0m\u001b[1;33m(\u001b[0m\u001b[1;33m)\u001b[0m \u001b[1;33m==\u001b[0m \u001b[1;36m3\u001b[0m\u001b[1;33m,\u001b[0m \u001b[1;34m'ex_stack.pop() != 2'\u001b[0m\u001b[1;33m\u001b[0m\u001b[1;33m\u001b[0m\u001b[0m\n\u001b[0m\u001b[0;32m      5\u001b[0m \u001b[0mex_stack\u001b[0m\u001b[1;33m.\u001b[0m\u001b[0msub\u001b[0m\u001b[1;33m(\u001b[0m\u001b[1;33m)\u001b[0m\u001b[1;33m\u001b[0m\u001b[1;33m\u001b[0m\u001b[0m\n\u001b[0;32m      6\u001b[0m \u001b[1;32massert\u001b[0m \u001b[0mex_stack\u001b[0m\u001b[1;33m.\u001b[0m\u001b[0mpop\u001b[0m\u001b[1;33m(\u001b[0m\u001b[1;33m)\u001b[0m \u001b[1;33m==\u001b[0m \u001b[1;36m6\u001b[0m\u001b[1;33m\u001b[0m\u001b[1;33m\u001b[0m\u001b[0m\n",
      "\u001b[1;31mAssertionError\u001b[0m: ex_stack.pop() != 2"
     ]
    }
   ],
   "source": [
    "#Тест\n",
    "ex_stack = ExtendedStack([1, 2, 3, 4, -3, 3, 5, 10])\n",
    "ex_stack.div()\n",
    "assert ex_stack.pop() == 3, 'ex_stack.pop() != 2'\n",
    "ex_stack.sub()\n",
    "assert ex_stack.pop() == 6\n",
    "ex_stack.sum()\n",
    "assert ex_stack.pop() == 7\n",
    "ex_stack.mul()\n",
    "assert ex_stack.pop() == 2\n",
    "assert len(ex_stack) == 0"
   ]
  },
  {
   "cell_type": "markdown",
   "metadata": {},
   "source": [
    "**Задание**\n",
    "\n",
    "Одно из применений множественного наследование – расширение функциональности класса каким-то заранее определенным способом. Например, если нам понадобится логировать какую-то информацию при обращении к методам класса.\n",
    "\n",
    "Рассмотрим класс Loggable:\n",
    "\n",
    "    import time\n",
    "    \n",
    "        class Loggable:\n",
    "            def log(self, msg):\n",
    "                print(str(time.ctime()) + \": \" + str(msg))\n",
    "                \n",
    "У него есть ровно один метод log, который позволяет выводить в лог (в данном случае в stdout) какое-то сообщение, добавляя при этом текущее время.\n",
    "\n",
    "Реализуйте класс LoggableList, отнаследовав его от классов list и Loggable таким образом, чтобы при добавлении элемента в список посредством метода append в лог отправлялось сообщение, состоящее из только что добавленного элемента.\n",
    "\n",
    "Примечание.\n",
    "Ваша программа не должна содержать класс Loggable. При проверке вашей программе будет доступен этот класс, и он будет содержать метод log, описанный выше."
   ]
  },
  {
   "cell_type": "code",
   "execution_count": 35,
   "metadata": {},
   "outputs": [],
   "source": [
    "import time\n",
    "\n",
    "class Loggable:\n",
    "    def log(self, msg):\n",
    "        print(str(time.ctime()) + \": \" + str(msg))\n",
    "        \n",
    "class LoggableList(Loggable, list):\n",
    "    def append(self, value):\n",
    "        self.log(value)\n",
    "        super(LoggableList, self).append(value)\n"
   ]
  },
  {
   "cell_type": "code",
   "execution_count": 41,
   "metadata": {},
   "outputs": [],
   "source": [
    "x = LoggableList()"
   ]
  },
  {
   "cell_type": "code",
   "execution_count": 47,
   "metadata": {},
   "outputs": [
    {
     "name": "stdout",
     "output_type": "stream",
     "text": [
      "Fri Mar 19 14:47:19 2021: 4\n"
     ]
    }
   ],
   "source": [
    "x.append(4)"
   ]
  },
  {
   "cell_type": "markdown",
   "metadata": {},
   "source": [
    "___\n",
    "## 2. Cтандартные средства языка Python <a class=\"anchor\" id=\"2\"></a>"
   ]
  },
  {
   "cell_type": "markdown",
   "metadata": {},
   "source": [
    "### 2.1 Ошибки и исключения <a class=\"anchor\" id=\"2-1\"></a>"
   ]
  },
  {
   "cell_type": "markdown",
   "metadata": {},
   "source": [
    "Далее небольшой код по работе с исключениями. Если мы понимаем, что может быть ошибка \"деление на ноль\", то пишем это в except и обрабатываем ее. Так же можем поступить с типом данных. Все ошибки представляют из себя классы и имеют иерархию наследования, например ZeroDivisionError является наследником ArithmeticError.\n",
    "\n",
    "Список наследования exception:\n",
    "\n",
    "https://docs.python.org/3/library/exceptions.html#exception-hierarchy"
   ]
  },
  {
   "cell_type": "code",
   "execution_count": 5,
   "metadata": {
    "scrolled": false
   },
   "outputs": [
    {
     "name": "stdout",
     "output_type": "stream",
     "text": [
      "<class 'ZeroDivisionError'>\n",
      "division by zero\n",
      "('division by zero',)\n",
      "None\n",
      "Error\n",
      "None\n",
      "Div by zero\n",
      "[<class 'ZeroDivisionError'>, <class 'ArithmeticError'>, <class 'Exception'>, <class 'BaseException'>, <class 'object'>]\n",
      "Div by zero2\n"
     ]
    }
   ],
   "source": [
    "def f(x, y):\n",
    "    try:\n",
    "        return x / y\n",
    "    except (TypeError, ZeroDivisionError) as e:\n",
    "        print(type(e))\n",
    "        print(e)\n",
    "        print(e.args)\n",
    "\n",
    "\n",
    "def f2(x, y):\n",
    "    try:\n",
    "        return x / y\n",
    "    except:\n",
    "        print(\"Error\")\n",
    "\n",
    "\n",
    "print(f(5, 0))\n",
    "print(f2(5, []))\n",
    "\n",
    "\n",
    "try:\n",
    "    15/0\n",
    "except ZeroDivisionError:  # isinstance(e, ZeroDivisionError) == True\n",
    "    print(\"Div by zero\")\n",
    "\n",
    "\n",
    "print(ZeroDivisionError.mro())\n",
    "\n",
    "\n",
    "try:\n",
    "    15/0\n",
    "    # e\n",
    "except ArithmeticError:  # isinstance(e, ArithmeticError) == True\n",
    "    print(\"Div by zero2\")\n",
    "except ZeroDivisionError:  # isinstance(e, ZeroDivisionError) == True\n",
    "    print(\"Div by zero\")\n"
   ]
  },
  {
   "cell_type": "markdown",
   "metadata": {},
   "source": [
    "___\n",
    "Ниже показана работа с try - except - else, а так же finally, которая выполняет код внутри независимо от того, что произойдет. "
   ]
  },
  {
   "cell_type": "code",
   "execution_count": 11,
   "metadata": {},
   "outputs": [
    {
     "name": "stdout",
     "output_type": "stream",
     "text": [
      "result is:  2.0\n",
      "finaly\n",
      "division by zero\n",
      "finaly\n",
      "finaly\n"
     ]
    },
    {
     "ename": "TypeError",
     "evalue": "unsupported operand type(s) for /: 'int' and 'list'",
     "output_type": "error",
     "traceback": [
      "\u001b[1;31m---------------------------------------------------------------------------\u001b[0m",
      "\u001b[1;31mTypeError\u001b[0m                                 Traceback (most recent call last)",
      "\u001b[1;32m<ipython-input-11-f0fb6ad5f652>\u001b[0m in \u001b[0;36m<module>\u001b[1;34m\u001b[0m\n\u001b[0;32m     11\u001b[0m \u001b[0mdivide\u001b[0m\u001b[1;33m(\u001b[0m\u001b[1;36m2\u001b[0m\u001b[1;33m,\u001b[0m\u001b[1;36m1\u001b[0m\u001b[1;33m)\u001b[0m\u001b[1;33m\u001b[0m\u001b[1;33m\u001b[0m\u001b[0m\n\u001b[0;32m     12\u001b[0m \u001b[0mdivide\u001b[0m\u001b[1;33m(\u001b[0m\u001b[1;36m2\u001b[0m\u001b[1;33m,\u001b[0m\u001b[1;36m0\u001b[0m\u001b[1;33m)\u001b[0m\u001b[1;33m\u001b[0m\u001b[1;33m\u001b[0m\u001b[0m\n\u001b[1;32m---> 13\u001b[1;33m \u001b[0mdivide\u001b[0m\u001b[1;33m(\u001b[0m\u001b[1;36m2\u001b[0m\u001b[1;33m,\u001b[0m\u001b[1;33m[\u001b[0m\u001b[1;33m]\u001b[0m\u001b[1;33m)\u001b[0m\u001b[1;33m\u001b[0m\u001b[1;33m\u001b[0m\u001b[0m\n\u001b[0m",
      "\u001b[1;32m<ipython-input-11-f0fb6ad5f652>\u001b[0m in \u001b[0;36mdivide\u001b[1;34m(x, y)\u001b[0m\n\u001b[0;32m      1\u001b[0m \u001b[1;32mdef\u001b[0m \u001b[0mdivide\u001b[0m\u001b[1;33m(\u001b[0m\u001b[0mx\u001b[0m\u001b[1;33m,\u001b[0m \u001b[0my\u001b[0m\u001b[1;33m)\u001b[0m\u001b[1;33m:\u001b[0m\u001b[1;33m\u001b[0m\u001b[1;33m\u001b[0m\u001b[0m\n\u001b[0;32m      2\u001b[0m     \u001b[1;32mtry\u001b[0m\u001b[1;33m:\u001b[0m\u001b[1;33m\u001b[0m\u001b[1;33m\u001b[0m\u001b[0m\n\u001b[1;32m----> 3\u001b[1;33m         \u001b[0mresult\u001b[0m \u001b[1;33m=\u001b[0m \u001b[0mx\u001b[0m \u001b[1;33m/\u001b[0m \u001b[0my\u001b[0m\u001b[1;33m\u001b[0m\u001b[1;33m\u001b[0m\u001b[0m\n\u001b[0m\u001b[0;32m      4\u001b[0m     \u001b[1;32mexcept\u001b[0m \u001b[0mZeroDivisionError\u001b[0m\u001b[1;33m:\u001b[0m\u001b[1;33m\u001b[0m\u001b[1;33m\u001b[0m\u001b[0m\n\u001b[0;32m      5\u001b[0m         \u001b[0mprint\u001b[0m\u001b[1;33m(\u001b[0m\u001b[1;34m\"division by zero\"\u001b[0m\u001b[1;33m)\u001b[0m\u001b[1;33m\u001b[0m\u001b[1;33m\u001b[0m\u001b[0m\n",
      "\u001b[1;31mTypeError\u001b[0m: unsupported operand type(s) for /: 'int' and 'list'"
     ]
    }
   ],
   "source": [
    "def divide(x, y):\n",
    "    try:\n",
    "        result = x / y\n",
    "    except ZeroDivisionError:\n",
    "        print(\"division by zero\")\n",
    "    else:\n",
    "        print(\"result is: \", result)\n",
    "    finally:\n",
    "        print(\"finaly\")\n",
    "        \n",
    "divide(2,1)\n",
    "divide(2,0)\n",
    "divide(2,[])"
   ]
  },
  {
   "cell_type": "markdown",
   "metadata": {},
   "source": [
    "___\n",
    "Используем команду `raise` чтобы выбросить ошибку. Класс ошибки *BadName* наследуется от *Exception*. Выводится ошибка, которую мы сами написали."
   ]
  },
  {
   "cell_type": "code",
   "execution_count": 12,
   "metadata": {
    "scrolled": true
   },
   "outputs": [
    {
     "ename": "BadName",
     "evalue": "dmitry is inappropriate name",
     "output_type": "error",
     "traceback": [
      "\u001b[1;31m---------------------------------------------------------------------------\u001b[0m",
      "\u001b[1;31mBadName\u001b[0m                                   Traceback (most recent call last)",
      "\u001b[1;32m<ipython-input-12-7e65e42f2bb5>\u001b[0m in \u001b[0;36m<module>\u001b[1;34m\u001b[0m\n\u001b[0;32m      9\u001b[0m         \u001b[1;32mraise\u001b[0m \u001b[0mBadName\u001b[0m\u001b[1;33m(\u001b[0m\u001b[0mname\u001b[0m \u001b[1;33m+\u001b[0m \u001b[1;34m\" is inappropriate name\"\u001b[0m\u001b[1;33m)\u001b[0m\u001b[1;33m\u001b[0m\u001b[1;33m\u001b[0m\u001b[0m\n\u001b[0;32m     10\u001b[0m \u001b[1;33m\u001b[0m\u001b[0m\n\u001b[1;32m---> 11\u001b[1;33m \u001b[0mgreet\u001b[0m\u001b[1;33m(\u001b[0m\u001b[1;34m'dmitry'\u001b[0m\u001b[1;33m)\u001b[0m\u001b[1;33m\u001b[0m\u001b[1;33m\u001b[0m\u001b[0m\n\u001b[0m",
      "\u001b[1;32m<ipython-input-12-7e65e42f2bb5>\u001b[0m in \u001b[0;36mgreet\u001b[1;34m(name)\u001b[0m\n\u001b[0;32m      7\u001b[0m         \u001b[1;32mreturn\u001b[0m \u001b[1;34m\"Hello, \"\u001b[0m \u001b[1;33m+\u001b[0m \u001b[0mname\u001b[0m\u001b[1;33m\u001b[0m\u001b[1;33m\u001b[0m\u001b[0m\n\u001b[0;32m      8\u001b[0m     \u001b[1;32melse\u001b[0m\u001b[1;33m:\u001b[0m\u001b[1;33m\u001b[0m\u001b[1;33m\u001b[0m\u001b[0m\n\u001b[1;32m----> 9\u001b[1;33m         \u001b[1;32mraise\u001b[0m \u001b[0mBadName\u001b[0m\u001b[1;33m(\u001b[0m\u001b[0mname\u001b[0m \u001b[1;33m+\u001b[0m \u001b[1;34m\" is inappropriate name\"\u001b[0m\u001b[1;33m)\u001b[0m\u001b[1;33m\u001b[0m\u001b[1;33m\u001b[0m\u001b[0m\n\u001b[0m\u001b[0;32m     10\u001b[0m \u001b[1;33m\u001b[0m\u001b[0m\n\u001b[0;32m     11\u001b[0m \u001b[0mgreet\u001b[0m\u001b[1;33m(\u001b[0m\u001b[1;34m'dmitry'\u001b[0m\u001b[1;33m)\u001b[0m\u001b[1;33m\u001b[0m\u001b[1;33m\u001b[0m\u001b[0m\n",
      "\u001b[1;31mBadName\u001b[0m: dmitry is inappropriate name"
     ]
    }
   ],
   "source": [
    "class BadName(Exception):\n",
    "    pass\n",
    "\n",
    "\n",
    "def greet(name):\n",
    "    if name[0].isupper():\n",
    "        return \"Hello, \" + name\n",
    "    else:\n",
    "        raise BadName(name + \" is inappropriate name\")\n",
    "\n",
    "greet('dmitry')"
   ]
  },
  {
   "cell_type": "markdown",
   "metadata": {},
   "source": [
    "___\n",
    "Работаем с циклом, который повторяет ввод, если ошибка. Только после удачной попытки, все равно выдает ошибку. Почему так, я не знаю =("
   ]
  },
  {
   "cell_type": "code",
   "execution_count": 10,
   "metadata": {},
   "outputs": [
    {
     "name": "stdout",
     "output_type": "stream",
     "text": [
      "Please enter your name: dmitry\n",
      "Try again\n",
      "Please enter your name: Dmitry\n",
      "Hello, Dmitry\n"
     ]
    },
    {
     "ename": "ValueError",
     "evalue": "dmitry is inappropriate name",
     "output_type": "error",
     "traceback": [
      "\u001b[1;31m---------------------------------------------------------------------------\u001b[0m",
      "\u001b[1;31mValueError\u001b[0m                                Traceback (most recent call last)",
      "\u001b[1;32m<ipython-input-10-455a82bebbd7>\u001b[0m in \u001b[0;36m<module>\u001b[1;34m\u001b[0m\n\u001b[0;32m     17\u001b[0m \u001b[1;33m\u001b[0m\u001b[0m\n\u001b[0;32m     18\u001b[0m \u001b[1;33m\u001b[0m\u001b[0m\n\u001b[1;32m---> 19\u001b[1;33m \u001b[0mgreet\u001b[0m\u001b[1;33m(\u001b[0m\u001b[1;34m'dmitry'\u001b[0m\u001b[1;33m)\u001b[0m\u001b[1;33m\u001b[0m\u001b[1;33m\u001b[0m\u001b[0m\n\u001b[0m",
      "\u001b[1;32m<ipython-input-10-455a82bebbd7>\u001b[0m in \u001b[0;36mgreet\u001b[1;34m(name)\u001b[0m\n\u001b[0;32m      3\u001b[0m         \u001b[1;32mreturn\u001b[0m \u001b[1;34m\"Hello, \"\u001b[0m \u001b[1;33m+\u001b[0m \u001b[0mname\u001b[0m\u001b[1;33m\u001b[0m\u001b[1;33m\u001b[0m\u001b[0m\n\u001b[0;32m      4\u001b[0m     \u001b[1;32melse\u001b[0m\u001b[1;33m:\u001b[0m\u001b[1;33m\u001b[0m\u001b[1;33m\u001b[0m\u001b[0m\n\u001b[1;32m----> 5\u001b[1;33m         \u001b[1;32mraise\u001b[0m \u001b[0mValueError\u001b[0m\u001b[1;33m(\u001b[0m\u001b[0mname\u001b[0m \u001b[1;33m+\u001b[0m \u001b[1;34m\" is inappropriate name\"\u001b[0m\u001b[1;33m)\u001b[0m\u001b[1;33m\u001b[0m\u001b[1;33m\u001b[0m\u001b[0m\n\u001b[0m\u001b[0;32m      6\u001b[0m \u001b[1;33m\u001b[0m\u001b[0m\n\u001b[0;32m      7\u001b[0m \u001b[1;33m\u001b[0m\u001b[0m\n",
      "\u001b[1;31mValueError\u001b[0m: dmitry is inappropriate name"
     ]
    }
   ],
   "source": [
    "def greet(name):\n",
    "    if name[0].isupper():\n",
    "        return \"Hello, \" + name\n",
    "    else:\n",
    "        raise ValueError(name + \" is inappropriate name\")\n",
    "\n",
    "        \n",
    "while True:\n",
    "    try:\n",
    "        name = input(\"Please enter your name: \")\n",
    "        greeting = greet(name)\n",
    "        print(greeting)\n",
    "    except ValueError:\n",
    "        print(\"Try again\")\n",
    "    else:\n",
    "        break\n",
    "        \n",
    "        \n",
    "greet('dmitry')"
   ]
  },
  {
   "cell_type": "markdown",
   "metadata": {},
   "source": [
    "___\n",
    "**Задание 2.1.1**\n",
    "\n",
    "Вашей программе будет доступна функция foo, которая может бросать исключения.\n",
    "\n",
    "Вам необходимо написать код, который запускает эту функцию, затем ловит исключения ArithmeticError, AssertionError, ZeroDivisionError и выводит имя пойманного исключения."
   ]
  },
  {
   "cell_type": "code",
   "execution_count": 2,
   "metadata": {},
   "outputs": [],
   "source": [
    "def foo():\n",
    "    pass\n",
    "\n",
    "\n",
    "try:\n",
    "    foo()\n",
    "except ZeroDivisionError:\n",
    "    print(\"ZeroDivisionError\")\n",
    "except ArithmeticError:\n",
    "    print(\"ArithmeticError\")\n",
    "except AssertionError:\n",
    "    print(\"AssertionError\")"
   ]
  },
  {
   "cell_type": "markdown",
   "metadata": {},
   "source": [
    "___\n",
    "**Задание 2.1.2**\n",
    "\n",
    "https://stepik.org/lesson/24463/step/7?unit=6771"
   ]
  },
  {
   "cell_type": "code",
   "execution_count": 3,
   "metadata": {
    "collapsed": true
   },
   "outputs": [
    {
     "name": "stdout",
     "output_type": "stream",
     "text": [
      "2\n"
     ]
    },
    {
     "ename": "KeyboardInterrupt",
     "evalue": "",
     "output_type": "error",
     "traceback": [
      "\u001b[1;31m---------------------------------------------------------------------------\u001b[0m",
      "\u001b[1;31mKeyboardInterrupt\u001b[0m                         Traceback (most recent call last)",
      "\u001b[1;32mC:\\ProgramData\\Anaconda3\\lib\\site-packages\\ipykernel\\kernelbase.py\u001b[0m in \u001b[0;36m_input_request\u001b[1;34m(self, prompt, ident, parent, password)\u001b[0m\n\u001b[0;32m    883\u001b[0m             \u001b[1;32mtry\u001b[0m\u001b[1;33m:\u001b[0m\u001b[1;33m\u001b[0m\u001b[1;33m\u001b[0m\u001b[0m\n\u001b[1;32m--> 884\u001b[1;33m                 \u001b[0mident\u001b[0m\u001b[1;33m,\u001b[0m \u001b[0mreply\u001b[0m \u001b[1;33m=\u001b[0m \u001b[0mself\u001b[0m\u001b[1;33m.\u001b[0m\u001b[0msession\u001b[0m\u001b[1;33m.\u001b[0m\u001b[0mrecv\u001b[0m\u001b[1;33m(\u001b[0m\u001b[0mself\u001b[0m\u001b[1;33m.\u001b[0m\u001b[0mstdin_socket\u001b[0m\u001b[1;33m,\u001b[0m \u001b[1;36m0\u001b[0m\u001b[1;33m)\u001b[0m\u001b[1;33m\u001b[0m\u001b[1;33m\u001b[0m\u001b[0m\n\u001b[0m\u001b[0;32m    885\u001b[0m             \u001b[1;32mexcept\u001b[0m \u001b[0mException\u001b[0m\u001b[1;33m:\u001b[0m\u001b[1;33m\u001b[0m\u001b[1;33m\u001b[0m\u001b[0m\n",
      "\u001b[1;32mC:\\ProgramData\\Anaconda3\\lib\\site-packages\\jupyter_client\\session.py\u001b[0m in \u001b[0;36mrecv\u001b[1;34m(self, socket, mode, content, copy)\u001b[0m\n\u001b[0;32m    802\u001b[0m         \u001b[1;32mtry\u001b[0m\u001b[1;33m:\u001b[0m\u001b[1;33m\u001b[0m\u001b[1;33m\u001b[0m\u001b[0m\n\u001b[1;32m--> 803\u001b[1;33m             \u001b[0mmsg_list\u001b[0m \u001b[1;33m=\u001b[0m \u001b[0msocket\u001b[0m\u001b[1;33m.\u001b[0m\u001b[0mrecv_multipart\u001b[0m\u001b[1;33m(\u001b[0m\u001b[0mmode\u001b[0m\u001b[1;33m,\u001b[0m \u001b[0mcopy\u001b[0m\u001b[1;33m=\u001b[0m\u001b[0mcopy\u001b[0m\u001b[1;33m)\u001b[0m\u001b[1;33m\u001b[0m\u001b[1;33m\u001b[0m\u001b[0m\n\u001b[0m\u001b[0;32m    804\u001b[0m         \u001b[1;32mexcept\u001b[0m \u001b[0mzmq\u001b[0m\u001b[1;33m.\u001b[0m\u001b[0mZMQError\u001b[0m \u001b[1;32mas\u001b[0m \u001b[0me\u001b[0m\u001b[1;33m:\u001b[0m\u001b[1;33m\u001b[0m\u001b[1;33m\u001b[0m\u001b[0m\n",
      "\u001b[1;32mC:\\ProgramData\\Anaconda3\\lib\\site-packages\\zmq\\sugar\\socket.py\u001b[0m in \u001b[0;36mrecv_multipart\u001b[1;34m(self, flags, copy, track)\u001b[0m\n\u001b[0;32m    474\u001b[0m         \"\"\"\n\u001b[1;32m--> 475\u001b[1;33m         \u001b[0mparts\u001b[0m \u001b[1;33m=\u001b[0m \u001b[1;33m[\u001b[0m\u001b[0mself\u001b[0m\u001b[1;33m.\u001b[0m\u001b[0mrecv\u001b[0m\u001b[1;33m(\u001b[0m\u001b[0mflags\u001b[0m\u001b[1;33m,\u001b[0m \u001b[0mcopy\u001b[0m\u001b[1;33m=\u001b[0m\u001b[0mcopy\u001b[0m\u001b[1;33m,\u001b[0m \u001b[0mtrack\u001b[0m\u001b[1;33m=\u001b[0m\u001b[0mtrack\u001b[0m\u001b[1;33m)\u001b[0m\u001b[1;33m]\u001b[0m\u001b[1;33m\u001b[0m\u001b[1;33m\u001b[0m\u001b[0m\n\u001b[0m\u001b[0;32m    476\u001b[0m         \u001b[1;31m# have first part already, only loop while more to receive\u001b[0m\u001b[1;33m\u001b[0m\u001b[1;33m\u001b[0m\u001b[1;33m\u001b[0m\u001b[0m\n",
      "\u001b[1;32mzmq/backend/cython/socket.pyx\u001b[0m in \u001b[0;36mzmq.backend.cython.socket.Socket.recv\u001b[1;34m()\u001b[0m\n",
      "\u001b[1;32mzmq/backend/cython/socket.pyx\u001b[0m in \u001b[0;36mzmq.backend.cython.socket.Socket.recv\u001b[1;34m()\u001b[0m\n",
      "\u001b[1;32mzmq/backend/cython/socket.pyx\u001b[0m in \u001b[0;36mzmq.backend.cython.socket._recv_copy\u001b[1;34m()\u001b[0m\n",
      "\u001b[1;32mC:\\ProgramData\\Anaconda3\\lib\\site-packages\\zmq\\backend\\cython\\checkrc.pxd\u001b[0m in \u001b[0;36mzmq.backend.cython.checkrc._check_rc\u001b[1;34m()\u001b[0m\n",
      "\u001b[1;31mKeyboardInterrupt\u001b[0m: ",
      "\nDuring handling of the above exception, another exception occurred:\n",
      "\u001b[1;31mKeyboardInterrupt\u001b[0m                         Traceback (most recent call last)",
      "\u001b[1;32m<ipython-input-3-22ed9181e9de>\u001b[0m in \u001b[0;36m<module>\u001b[1;34m\u001b[0m\n\u001b[1;32m----> 1\u001b[1;33m \u001b[0mn\u001b[0m \u001b[1;33m=\u001b[0m \u001b[0mint\u001b[0m\u001b[1;33m(\u001b[0m\u001b[0minput\u001b[0m\u001b[1;33m(\u001b[0m\u001b[1;33m)\u001b[0m\u001b[1;33m)\u001b[0m\u001b[1;33m\u001b[0m\u001b[1;33m\u001b[0m\u001b[0m\n\u001b[0m\u001b[0;32m      2\u001b[0m \u001b[1;33m\u001b[0m\u001b[0m\n\u001b[0;32m      3\u001b[0m \u001b[0mparents\u001b[0m \u001b[1;33m=\u001b[0m \u001b[1;33m{\u001b[0m\u001b[1;33m}\u001b[0m\u001b[1;33m\u001b[0m\u001b[1;33m\u001b[0m\u001b[0m\n\u001b[0;32m      4\u001b[0m \u001b[1;32mfor\u001b[0m \u001b[0m_\u001b[0m \u001b[1;32min\u001b[0m \u001b[0mrange\u001b[0m\u001b[1;33m(\u001b[0m\u001b[0mn\u001b[0m\u001b[1;33m)\u001b[0m\u001b[1;33m:\u001b[0m\u001b[1;33m\u001b[0m\u001b[1;33m\u001b[0m\u001b[0m\n\u001b[0;32m      5\u001b[0m     \u001b[0ma\u001b[0m \u001b[1;33m=\u001b[0m \u001b[0minput\u001b[0m\u001b[1;33m(\u001b[0m\u001b[1;33m)\u001b[0m\u001b[1;33m.\u001b[0m\u001b[0msplit\u001b[0m\u001b[1;33m(\u001b[0m\u001b[1;33m)\u001b[0m\u001b[1;33m\u001b[0m\u001b[1;33m\u001b[0m\u001b[0m\n",
      "\u001b[1;32mC:\\ProgramData\\Anaconda3\\lib\\site-packages\\ipykernel\\kernelbase.py\u001b[0m in \u001b[0;36mraw_input\u001b[1;34m(self, prompt)\u001b[0m\n\u001b[0;32m    857\u001b[0m             \u001b[0mself\u001b[0m\u001b[1;33m.\u001b[0m\u001b[0m_parent_ident\u001b[0m\u001b[1;33m,\u001b[0m\u001b[1;33m\u001b[0m\u001b[1;33m\u001b[0m\u001b[0m\n\u001b[0;32m    858\u001b[0m             \u001b[0mself\u001b[0m\u001b[1;33m.\u001b[0m\u001b[0m_parent_header\u001b[0m\u001b[1;33m,\u001b[0m\u001b[1;33m\u001b[0m\u001b[1;33m\u001b[0m\u001b[0m\n\u001b[1;32m--> 859\u001b[1;33m             \u001b[0mpassword\u001b[0m\u001b[1;33m=\u001b[0m\u001b[1;32mFalse\u001b[0m\u001b[1;33m,\u001b[0m\u001b[1;33m\u001b[0m\u001b[1;33m\u001b[0m\u001b[0m\n\u001b[0m\u001b[0;32m    860\u001b[0m         )\n\u001b[0;32m    861\u001b[0m \u001b[1;33m\u001b[0m\u001b[0m\n",
      "\u001b[1;32mC:\\ProgramData\\Anaconda3\\lib\\site-packages\\ipykernel\\kernelbase.py\u001b[0m in \u001b[0;36m_input_request\u001b[1;34m(self, prompt, ident, parent, password)\u001b[0m\n\u001b[0;32m    887\u001b[0m             \u001b[1;32mexcept\u001b[0m \u001b[0mKeyboardInterrupt\u001b[0m\u001b[1;33m:\u001b[0m\u001b[1;33m\u001b[0m\u001b[1;33m\u001b[0m\u001b[0m\n\u001b[0;32m    888\u001b[0m                 \u001b[1;31m# re-raise KeyboardInterrupt, to truncate traceback\u001b[0m\u001b[1;33m\u001b[0m\u001b[1;33m\u001b[0m\u001b[1;33m\u001b[0m\u001b[0m\n\u001b[1;32m--> 889\u001b[1;33m                 \u001b[1;32mraise\u001b[0m \u001b[0mKeyboardInterrupt\u001b[0m\u001b[1;33m\u001b[0m\u001b[1;33m\u001b[0m\u001b[0m\n\u001b[0m\u001b[0;32m    890\u001b[0m             \u001b[1;32melse\u001b[0m\u001b[1;33m:\u001b[0m\u001b[1;33m\u001b[0m\u001b[1;33m\u001b[0m\u001b[0m\n\u001b[0;32m    891\u001b[0m                 \u001b[1;32mbreak\u001b[0m\u001b[1;33m\u001b[0m\u001b[1;33m\u001b[0m\u001b[0m\n",
      "\u001b[1;31mKeyboardInterrupt\u001b[0m: "
     ]
    }
   ],
   "source": [
    "n = int(input())\n",
    "\n",
    "parents = {}\n",
    "for _ in range(n):\n",
    "    a = input().split()\n",
    "    parents[a[0]] = [] if len(a) == 1 else a[2:]\n",
    "\n",
    "\n",
    "def is_parent(child, parent):\n",
    "    return child == parent or any(map(lambda p: is_parent(p, parent), parents[child]))\n",
    "\n",
    "\n",
    "m = int(input())\n",
    "inp_lst = []\n",
    "for i in range(m):\n",
    "    temp = input()\n",
    "    for elem in inp_lst:\n",
    "        if is_parent(temp, elem):\n",
    "            print(temp)\n",
    "            break\n",
    "    inp_lst.append(temp)"
   ]
  },
  {
   "cell_type": "markdown",
   "metadata": {},
   "source": [
    "___\n",
    "**Задание 2.1.3**\n",
    "\n",
    "Реализуйте класс PositiveList, отнаследовав его от класса list, для хранения положительных целых чисел.\n",
    "Также реализуйте новое исключение NonPositiveError.\n",
    "\n",
    "В классе PositiveList переопределите метод append(self, x) таким образом, чтобы при попытке добавить неположительное целое число бросалось исключение NonPositiveError и число не добавлялось, а при попытке добавить положительное целое число, число добавлялось бы как в стандартный list.\n",
    "\n",
    "В данной задаче гарантируется, что в качестве аргумента x метода append всегда будет передаваться целое число.\n",
    "\n",
    "Примечание:\n",
    "Положительными считаются числа, строго большие нуля."
   ]
  },
  {
   "cell_type": "code",
   "execution_count": 4,
   "metadata": {},
   "outputs": [],
   "source": [
    "class PositiveList(list):\n",
    "    def append(self, value):\n",
    "        if value > 0:\n",
    "            super(PositiveList, self).append(value)\n",
    "        else:\n",
    "            raise NonPositiveError\n",
    "#raise выбрасывает ошибку, ее можно поймать\n",
    "\n",
    "class NonPositiveError(Exception):\n",
    "    pass"
   ]
  },
  {
   "cell_type": "markdown",
   "metadata": {},
   "source": [
    "### 2.2 Работа с кодом: модули и импорт <a class=\"anchor\" id=\"2-2\"></a>"
   ]
  },
  {
   "cell_type": "markdown",
   "metadata": {},
   "source": [
    "Разбираем работу с import\n",
    "\n",
    "Заимпортируем следующий код из файла greeting:"
   ]
  },
  {
   "cell_type": "code",
   "execution_count": 32,
   "metadata": {},
   "outputs": [
    {
     "name": "stdout",
     "output_type": "stream",
     "text": [
      "Hello, Dmitry\n"
     ]
    }
   ],
   "source": [
    "#  код файла greeting.py\n",
    "\n",
    "class BadName(Exception):\n",
    "    pass\n",
    "\n",
    "\n",
    "def greet(name):\n",
    "    if name[0].isupper():\n",
    "        return \"Hello, \" + name\n",
    "    else:\n",
    "        raise BadName(name + \" is inappropriate name\")\n",
    "        \n",
    "        \n",
    "print(greet('Dmitry'))"
   ]
  },
  {
   "cell_type": "code",
   "execution_count": 1,
   "metadata": {},
   "outputs": [
    {
     "name": "stdout",
     "output_type": "stream",
     "text": [
      "Hello, Dmitry\n",
      "Hello, Alex\n"
     ]
    }
   ],
   "source": [
    "import greeting\n",
    "\n",
    "print(greeting.greet('Alex'))"
   ]
  },
  {
   "cell_type": "markdown",
   "metadata": {},
   "source": [
    "Из примера выше мы видим, что при импорте выполняется весь код, так как вывелся \"Hello, Dmitry\", который нахожится в файле greeting. Если мы один раз где-то в коде импортируем, второго импорта происходить не будет. "
   ]
  },
  {
   "cell_type": "code",
   "execution_count": 2,
   "metadata": {},
   "outputs": [],
   "source": [
    "import greeting\n",
    "\n",
    "# \"Hello, Dmitry\" не выводится."
   ]
  },
  {
   "cell_type": "markdown",
   "metadata": {},
   "source": [
    "Когда мы работаем со скриптом внутри него, его `__name__` == `__main__`."
   ]
  },
  {
   "cell_type": "code",
   "execution_count": 3,
   "metadata": {
    "scrolled": true
   },
   "outputs": [
    {
     "name": "stdout",
     "output_type": "stream",
     "text": [
      "__main__\n"
     ]
    }
   ],
   "source": [
    "print(__name__)"
   ]
  },
  {
   "cell_type": "markdown",
   "metadata": {},
   "source": [
    "Ниже код файла fib.py. Далее импортируем его, и обращаем внимание, что вместо `__main__` выводится имя модуля `fib`. Это можно использовать, чтобы разграничивать часть кода, которую мы используем при работе с файлом напрямую, и часть, которую мы импортируем."
   ]
  },
  {
   "cell_type": "code",
   "execution_count": 3,
   "metadata": {},
   "outputs": [
    {
     "name": "stdout",
     "output_type": "stream",
     "text": [
      "__main__\n",
      "2178309\n"
     ]
    }
   ],
   "source": [
    "#  Файл fib.py\n",
    "\n",
    "print(__name__)\n",
    "\n",
    "\n",
    "def fib(k):\n",
    "    if k==0 or k==1:\n",
    "        return 1\n",
    "    else:\n",
    "        return fib(k-1)+fib(k-2)\n",
    "    \n",
    "    \n",
    "print(fib(31))"
   ]
  },
  {
   "cell_type": "code",
   "execution_count": 4,
   "metadata": {
    "scrolled": true
   },
   "outputs": [
    {
     "name": "stdout",
     "output_type": "stream",
     "text": [
      "fib\n",
      "2178309\n"
     ]
    }
   ],
   "source": [
    "import fib"
   ]
  },
  {
   "cell_type": "markdown",
   "metadata": {},
   "source": [
    "Добавляем в файл `if __name__ == \"__main__\":` к коду, который мы не хотим выполнять при импорте. Этим самым мы обезопасиваем себя от лишних вычислений."
   ]
  },
  {
   "cell_type": "code",
   "execution_count": 6,
   "metadata": {},
   "outputs": [
    {
     "name": "stdout",
     "output_type": "stream",
     "text": [
      "__main__\n",
      "2178309\n"
     ]
    }
   ],
   "source": [
    "print(__name__)\n",
    "\n",
    "\n",
    "def fib(k):\n",
    "    if k==0 or k==1:\n",
    "        return 1\n",
    "    else:\n",
    "        return fib(k-1)+fib(k-2)\n",
    "    \n",
    "\n",
    "if __name__ == \"__main__\":\n",
    "    print(fib(31))"
   ]
  },
  {
   "cell_type": "markdown",
   "metadata": {},
   "source": [
    "Внутри программы есть словарь (dict) *sys.modules*, который при импорте проверяет, находится ли там ключ. Например, при импорте `import fib`, если его там нет, то он испольняет данный модуль, а если есть, то не делает этого."
   ]
  },
  {
   "cell_type": "code",
   "execution_count": 10,
   "metadata": {},
   "outputs": [],
   "source": [
    "import sys"
   ]
  },
  {
   "cell_type": "code",
   "execution_count": 11,
   "metadata": {},
   "outputs": [
    {
     "name": "stdout",
     "output_type": "stream",
     "text": [
      "<class 'dict'>\n"
     ]
    }
   ],
   "source": [
    "print(type(sys.modules)) #словарь"
   ]
  },
  {
   "cell_type": "code",
   "execution_count": 16,
   "metadata": {
    "scrolled": true
   },
   "outputs": [],
   "source": [
    "sys.modules;"
   ]
  },
  {
   "cell_type": "markdown",
   "metadata": {},
   "source": [
    "Вывод довольно объемный.\n",
    "В списке ключей находим greeting и fib\n",
    "\n",
    "'greeting': <module 'greeting' from 'C:\\\\Python\\\\Python основы и применение\\\\greeting.py'>\n",
    "\n",
    "'fib': <module 'fib' from 'C:\\\\Python\\\\Python основы и применение\\\\fib.py'>"
   ]
  },
  {
   "cell_type": "code",
   "execution_count": 21,
   "metadata": {},
   "outputs": [
    {
     "name": "stdout",
     "output_type": "stream",
     "text": [
      "<class 'module'>\n",
      "2150698166456\n",
      "2150698166456\n"
     ]
    }
   ],
   "source": [
    "print(type(greeting))   #  <class 'module'>\n",
    "print(id(greeting))  #  2150698166456\n",
    "import greeting\n",
    "print(id(greeting))  #  2150698166456\n",
    "#  после повторно импорта id не меняется, импорта не произошло"
   ]
  },
  {
   "cell_type": "markdown",
   "metadata": {},
   "source": [
    "___\n",
    "Для исключения конфликта имен при импорте через звездочку `from greeting2 import *` мы можем использовать команду `__all__ = [\"BadName\", \"greet\"]`, чтобы сказать, к каким именам мы можем обращаться. Также можно ставить нижнее подчеркивание `_` перед именем переменной, чтобы к ней нельзя было обратиться"
   ]
  },
  {
   "cell_type": "code",
   "execution_count": null,
   "metadata": {},
   "outputs": [],
   "source": [
    "#  код файла greeting2.py\n",
    "\n",
    "_GREETING = \"Hello, \"\n",
    "aaa = 1\n",
    "\n",
    "class BadName(Exception):\n",
    "    pass\n",
    "\n",
    "\n",
    "def greet(name):\n",
    "    if name[0].isupper():\n",
    "        return _GREETING + name\n",
    "    else:\n",
    "        raise BadName(name + \" is inappropriate name\")\n",
    "        \n",
    "        \n",
    "__all__ = [\"BadName\", \"greet\"]"
   ]
  },
  {
   "cell_type": "code",
   "execution_count": 28,
   "metadata": {},
   "outputs": [],
   "source": [
    "from greeting2 import *"
   ]
  },
  {
   "cell_type": "code",
   "execution_count": 33,
   "metadata": {
    "scrolled": false
   },
   "outputs": [
    {
     "name": "stdout",
     "output_type": "stream",
     "text": [
      "Hello, Dima\n"
     ]
    }
   ],
   "source": [
    "#Будет выводится ошибка NameError, данные имена не импортировались\n",
    "\n",
    "#aaa\n",
    "#_GREETING\n",
    "#GREETI\n",
    "\n",
    "print(greet('Dima'))"
   ]
  },
  {
   "cell_type": "markdown",
   "metadata": {},
   "source": [
    "___\n",
    "**Задание 2.2.1**\n",
    "\n",
    "В первой строке дано три числа, соответствующие некоторой дате date -- год, месяц и день.\n",
    "Во второй строке дано одно число days -- число дней.\n",
    "\n",
    "Вычислите и выведите год, месяц и день даты, которая наступит, когда с момента исходной даты date пройдет число дней, равное days.\n",
    "\n",
    "Примечание:\n",
    "Для решения этой задачи используйте стандартный модуль datetime.\n",
    "Вам будут полезны класс datetime.date для хранения даты и класс datetime.timedelta для прибавления дней к дате."
   ]
  },
  {
   "cell_type": "code",
   "execution_count": 2,
   "metadata": {},
   "outputs": [
    {
     "name": "stdout",
     "output_type": "stream",
     "text": [
      "2021 02 16\n",
      "91\n",
      "2021 5 18\n"
     ]
    }
   ],
   "source": [
    "from datetime import date, timedelta\n",
    "\n",
    "y, d, m = input().split()\n",
    "x = date(int(y), int(d), int(m))\n",
    "\n",
    "diff = timedelta(int(input()))\n",
    "res = x+diff\n",
    "\n",
    "print(res.year, res.month, res.day)"
   ]
  },
  {
   "cell_type": "markdown",
   "metadata": {},
   "source": [
    "___\n",
    "**Задание**\n",
    "\n",
    "Алиса владеет интересной информацией, которую хочет заполучить Боб.\n",
    "Алиса умна, поэтому она хранит свою информацию в зашифрованном файле.\n",
    "У Алисы плохая память, поэтому она хранит все свои пароли в открытом виде в текстовом файле.\n",
    "\n",
    "Бобу удалось завладеть зашифрованным файлом с интересной информацией и файлом с паролями, но он не смог понять какой из паролей ему нужен. Помогите ему решить эту проблему.\n",
    "\n",
    "Алиса зашифровала свою информацию с помощью библиотеки simple-crypt.\n",
    "Она представила информацию в виде строки, и затем записала в бинарный файл результат работы метода simplecrypt.encrypt.\n",
    "\n",
    "Вам необходимо установить библиотеку simple-crypt, и с помощью метода simplecrypt.decrypt узнать, какой из паролей служит ключом для расшифровки файла с интересной информацией.\n",
    "\n",
    "Ответом для данной задачи служит расшифрованная интересная информация Алисы."
   ]
  },
  {
   "cell_type": "code",
   "execution_count": null,
   "metadata": {},
   "outputs": [],
   "source": [
    "pip install simple-crypt"
   ]
  },
  {
   "cell_type": "code",
   "execution_count": 3,
   "metadata": {},
   "outputs": [
    {
     "name": "stdout",
     "output_type": "stream",
     "text": [
      "<class 'list'>\n",
      "b'sc\\x00\\x02\\x96\\x93^\\xd7&1\\x9f\\xd0\\x14\\x02\\x14\\xd1\\x92`\\xeb\\x1b\\xdbulr\\x0e\\xeb\\x0f\\xf0D\\xcf\\x87\\xf5\\xd5\\xf2oKA\\x89b/\\xaa\\xa6y;\\x8b)\\x89\\xbdl\\x0f\\x96\\x144\\x8e\\xe2P\\xa8\\xcf\\xc7T\\xf6>.`m\\xfbC/\\xc1V\\xd2>\\xd0\\xaf\\xbb0%V\\x14\\xac\\xf7\\n\\xcd'\n",
      "['9XB8nsIqRfYeswC', '4sEhUGLEZti9BiN', 'bDjmT0NcIW8nzhb', 'ZN6QQoMOO1ZQLUY', 'RVrF2qdMpoq6Lib', 'tnnX7HH3vJ9Hiji', 'C24TJYYkqekv40l', 'B2ropluPaMAitzE', 'DRezNUVnr2zC0CP', 'XCNmpTvvZb1n3mX']\n",
      "Error password:  9XB8nsIqRfYeswC\n",
      "Error password:  4sEhUGLEZti9BiN\n",
      "Error password:  bDjmT0NcIW8nzhb\n",
      "Error password:  ZN6QQoMOO1ZQLUY\n",
      "Alice loves Bob\n",
      "Error password:  tnnX7HH3vJ9Hiji\n",
      "Error password:  C24TJYYkqekv40l\n",
      "Error password:  B2ropluPaMAitzE\n",
      "Error password:  DRezNUVnr2zC0CP\n",
      "Error password:  XCNmpTvvZb1n3mX\n",
      "Alice loves Bob\n"
     ]
    }
   ],
   "source": [
    "import simplecrypt\n",
    "\n",
    "\n",
    "with open(\"encrypted.bin\", \"rb\") as inp:\n",
    "    encrypted = inp.read()\n",
    "\n",
    "with open(\"passwords.txt\", \"rt\") as inp:\n",
    "    password = inp.read().strip().split()\n",
    "\n",
    "print(type(password))\n",
    "print(encrypted)\n",
    "print(password)\n",
    "\n",
    "asd = 'asdgfsdf'\n",
    "for pw in password:\n",
    "    try:\n",
    "        res = simplecrypt.decrypt(pw, encrypted)\n",
    "        print(res.decode('utf8'))\n",
    "    except:\n",
    "        print(\"Error password: \", pw)\n",
    "\n",
    "print(res.decode('utf8'))\n",
    "\n",
    "#  Alice loves Bob - ответ"
   ]
  },
  {
   "cell_type": "markdown",
   "metadata": {},
   "source": [
    "___\n",
    "The Python Package Index (PyPI) is a repository of software for the Python programming language.\n",
    "\n",
    "https://pypi.org/"
   ]
  },
  {
   "cell_type": "markdown",
   "metadata": {},
   "source": [
    "### 2.3 Итераторы и генераторы <a class=\"anchor\" id=\"2-3\"></a>"
   ]
  },
  {
   "cell_type": "markdown",
   "metadata": {},
   "source": [
    "Итератор - объект перечислитель. Чтобы через цикл for перебирать список x, нам нужен итератор, который будет говорить, какой элемент следующий. Если элементы кончились, бросается ошибка StopIteretion\n",
    "\n",
    "Для создания итератора:\n",
    "\n",
    "`iter(object)`"
   ]
  },
  {
   "cell_type": "code",
   "execution_count": 36,
   "metadata": {},
   "outputs": [
    {
     "name": "stdout",
     "output_type": "stream",
     "text": [
      "1\n",
      "2\n",
      "3\n"
     ]
    },
    {
     "ename": "StopIteration",
     "evalue": "",
     "output_type": "error",
     "traceback": [
      "\u001b[1;31m---------------------------------------------------------------------------\u001b[0m",
      "\u001b[1;31mStopIteration\u001b[0m                             Traceback (most recent call last)",
      "\u001b[1;32m<ipython-input-36-b070a704a88e>\u001b[0m in \u001b[0;36m<module>\u001b[1;34m\u001b[0m\n\u001b[0;32m      4\u001b[0m \u001b[0mprint\u001b[0m\u001b[1;33m(\u001b[0m\u001b[0mnext\u001b[0m\u001b[1;33m(\u001b[0m\u001b[0miterator\u001b[0m\u001b[1;33m)\u001b[0m\u001b[1;33m)\u001b[0m\u001b[1;33m\u001b[0m\u001b[1;33m\u001b[0m\u001b[0m\n\u001b[0;32m      5\u001b[0m \u001b[0mprint\u001b[0m\u001b[1;33m(\u001b[0m\u001b[0mnext\u001b[0m\u001b[1;33m(\u001b[0m\u001b[0miterator\u001b[0m\u001b[1;33m)\u001b[0m\u001b[1;33m)\u001b[0m\u001b[1;33m\u001b[0m\u001b[1;33m\u001b[0m\u001b[0m\n\u001b[1;32m----> 6\u001b[1;33m \u001b[0mprint\u001b[0m\u001b[1;33m(\u001b[0m\u001b[0mnext\u001b[0m\u001b[1;33m(\u001b[0m\u001b[0miterator\u001b[0m\u001b[1;33m)\u001b[0m\u001b[1;33m)\u001b[0m\u001b[1;33m\u001b[0m\u001b[1;33m\u001b[0m\u001b[0m\n\u001b[0m",
      "\u001b[1;31mStopIteration\u001b[0m: "
     ]
    }
   ],
   "source": [
    "x = [1, 2, 3]\n",
    "iterator = iter(x)  #  создаем итератор\n",
    "print(next(iterator))\n",
    "print(next(iterator))\n",
    "print(next(iterator))\n",
    "print(next(iterator))"
   ]
  },
  {
   "cell_type": "code",
   "execution_count": 38,
   "metadata": {},
   "outputs": [
    {
     "name": "stdout",
     "output_type": "stream",
     "text": [
      "H\n",
      "e\n",
      "l\n",
      "l\n"
     ]
    }
   ],
   "source": [
    "string = \"Hello, world!\"\n",
    "iterator = iter(string)  #  создаем итератор\n",
    "print(next(iterator))\n",
    "print(next(iterator))\n",
    "print(next(iterator))\n",
    "print(next(iterator))"
   ]
  },
  {
   "cell_type": "code",
   "execution_count": 40,
   "metadata": {},
   "outputs": [
    {
     "name": "stdout",
     "output_type": "stream",
     "text": [
      "1\n",
      "2\n",
      "3\n",
      "1\n",
      "2\n",
      "3\n"
     ]
    }
   ],
   "source": [
    "x = [1, 2, 3]\n",
    "\n",
    "for i in x:\n",
    "    print(i)\n",
    "    \n",
    "# при работе for происходит примерно следующий код:\n",
    "\n",
    "it = iter(x)\n",
    "while True:\n",
    "    try:\n",
    "        i = next(it)\n",
    "        #тело цикла\n",
    "        print(i)\n",
    "    except StopIteration:\n",
    "        break"
   ]
  },
  {
   "cell_type": "code",
   "execution_count": 45,
   "metadata": {},
   "outputs": [
    {
     "name": "stdout",
     "output_type": "stream",
     "text": [
      "<list_iterator object at 0x000001F4C17B9A48>\n"
     ]
    }
   ],
   "source": [
    "print(it) # итератор не выводится"
   ]
  },
  {
   "cell_type": "markdown",
   "metadata": {},
   "source": [
    "___\n",
    "Создаем свой класс, чтобы работать с ним при помощи итератора.\n",
    "\n",
    "Объект является итератором, если есть метод:\n",
    "- `__next__()` - можно использовать next()\n",
    "\n",
    "Объект является итерируемым, если есть метод:\n",
    "- `__iter__` - для вызова команды `iter()` и для использование нашего класса в цикле for"
   ]
  },
  {
   "cell_type": "code",
   "execution_count": 58,
   "metadata": {},
   "outputs": [
    {
     "name": "stdout",
     "output_type": "stream",
     "text": [
      "0.2919971032604264\n",
      "0.3265572174374387\n",
      "0.20359707978724295\n",
      "-----------\n",
      "0.40622904445188524\n",
      "0.10553636642787922\n",
      "0.9550815727353452\n",
      "0.8694653177487423\n",
      "0.9919634711612375\n",
      "0.05114216223134538\n",
      "0.3588748399937517\n",
      "0.7860486310868356\n",
      "0.9637568645053111\n",
      "0.5413850041643883\n"
     ]
    }
   ],
   "source": [
    "from random import random\n",
    "\n",
    "\n",
    "class RandomIterator:\n",
    "    def __iter__(self):\n",
    "        return self\n",
    "    \n",
    "    def __init__(self, k):\n",
    "        self.k = k\n",
    "        self.i = 0\n",
    "    \n",
    "    def __next__(self):\n",
    "        if self.i < self.k:\n",
    "            self.i += 1\n",
    "            return random()\n",
    "        else:\n",
    "            raise StopIteration\n",
    "    \n",
    "\n",
    "x = RandomIterator(3)\n",
    "print(next(x))  #  next(x)  ~ x.__next__()\n",
    "print(next(x))\n",
    "print(next(x))\n",
    "\n",
    "iter(x) # TypeError: 'RandomIterator' object is not iterable, если нет метода __iter__ \n",
    "\n",
    "print('-----------')\n",
    "for x in RandomIterator(10):\n",
    "    print(x)\n"
   ]
  },
  {
   "cell_type": "markdown",
   "metadata": {},
   "source": [
    "___\n"
   ]
  },
  {
   "cell_type": "code",
   "execution_count": 75,
   "metadata": {},
   "outputs": [
    {
     "name": "stdout",
     "output_type": "stream",
     "text": [
      "(1, 2)\n",
      "(3, 4)\n",
      "(5, 6)\n"
     ]
    }
   ],
   "source": [
    "#  Создаем итератор перебора элементов по два\n",
    "class DoubleElementListIterator:\n",
    "    def __init__(self, lst):\n",
    "        self.lst = lst\n",
    "        self.i = 0\n",
    "        \n",
    "    def __next__(self):\n",
    "        if self.i < len(self.lst):\n",
    "            self.i += 2\n",
    "            return self.lst[self.i-2], self.lst[self.i - 1]\n",
    "        else:\n",
    "            raise StopIteration\n",
    "\n",
    "            \n",
    "# Итерируемый класс (можем использовать для цикла for)\n",
    "class MyList(list):\n",
    "    def __iter__(self):\n",
    "        return DoubleElementListIterator(self)\n",
    "    \n",
    "\n",
    "for pair in MyList([1,2,3,4,5,6]):\n",
    "    print(pair)"
   ]
  },
  {
   "cell_type": "markdown",
   "metadata": {},
   "source": [
    "___\n",
    "**Генераторы**\n",
    "\n",
    "Для написания итераторов, необходимо использовать классы, это трудоемко иногда. Для простых задач можно использовать генератор\n",
    "\n",
    "Функции, в которых вместо слова `return` используем слово `yield` (произвести, сгенерировать).\n",
    "\n",
    "В генераторе хранится тело функции, и исполняет его, когда мы обращаемся к генератором через `next()`. Он исполняет один раз функцию до `yield`"
   ]
  },
  {
   "cell_type": "code",
   "execution_count": 126,
   "metadata": {},
   "outputs": [
    {
     "name": "stdout",
     "output_type": "stream",
     "text": [
      "Checkpoint 1\n",
      "1\n",
      "Checkpoint 2\n",
      "2\n"
     ]
    }
   ],
   "source": [
    "def simple_gen():\n",
    "    print('Checkpoint 1')\n",
    "    yield 1\n",
    "    print(\"Checkpoint 2\")\n",
    "    yield 2\n",
    "    print(\"Checkpoint 3\")\n",
    "    \n",
    "gen = simple_gen()\n",
    "x = next(gen)\n",
    "print(x)\n",
    "y = next(gen)\n",
    "print(y)\n",
    "#z = next(gen)\n",
    "#print(z)"
   ]
  },
  {
   "cell_type": "code",
   "execution_count": 82,
   "metadata": {},
   "outputs": [
    {
     "name": "stdout",
     "output_type": "stream",
     "text": [
      "<class 'generator'>\n",
      "0.4973642529089578\n",
      "0.5403847326169986\n",
      "0.45322543221690637\n"
     ]
    }
   ],
   "source": [
    "#Перепишем рандом итератор через генератор\n",
    "\n",
    "from random import random\n",
    "\n",
    "class RandomIterator:\n",
    "    def __iter__(self):\n",
    "        return self\n",
    "    \n",
    "    def __init__(self, k):\n",
    "        self.k = k\n",
    "        self.i = 0\n",
    "    \n",
    "    def __next__(self):\n",
    "        if self.i < self.k:\n",
    "            self.i += 1\n",
    "            return random()\n",
    "        else:\n",
    "            raise StopIteration\n",
    "\n",
    "            \n",
    "#  Будем возвращать значение функции k раз, и спрашивать\n",
    "#  какое следующее при помощи next()\n",
    "def random_generator(k):  #  генератор\n",
    "    for i in range(k):\n",
    "        yield random()\n",
    "    \n",
    "\n",
    "gen = random_generator(3)\n",
    "print(type(gen))  #  <class 'generator'>\n",
    "\n",
    "for i in gen:\n",
    "    print(i)"
   ]
  },
  {
   "cell_type": "code",
   "execution_count": 125,
   "metadata": {},
   "outputs": [
    {
     "name": "stdout",
     "output_type": "stream",
     "text": [
      "Checkpoint 1\n",
      "1\n"
     ]
    }
   ],
   "source": [
    "def simple_gen():\n",
    "    print('Checkpoint 1')\n",
    "    yield 1\n",
    "    print(\"Checkpoint 2\")\n",
    "    return \"No more elements\" #  С помощью return даем ошибке сообщение StopIteration: No more elements\n",
    "    yield 2\n",
    "    print(\"Checkpoint 3\")\n",
    "    \n",
    "gen = simple_gen()\n",
    "x = next(gen)\n",
    "print(x)\n",
    "#y = next(gen)\n",
    "#print(y)\n",
    "#z = next(gen)\n",
    "#print(z)"
   ]
  },
  {
   "cell_type": "markdown",
   "metadata": {},
   "source": [
    "___\n",
    "**Задание 2.3.1**\n",
    "\n",
    "https://stepik.org/lesson/24464/step/4?unit=6769"
   ]
  },
  {
   "cell_type": "code",
   "execution_count": 164,
   "metadata": {},
   "outputs": [],
   "source": [
    "#  через __next__\n",
    "\n",
    "class multifilter:\n",
    "    def judge_half(pos, neg):\n",
    "        # допускает элемент, если его допускает хотя бы половина фукнций (pos >= neg)\n",
    "       \n",
    "        return pos >= neg\n",
    "    \n",
    "    def judge_any(pos, neg):\n",
    "        # допускает элемент, если его допускает хотя бы одна функция (pos >= 1)\n",
    "        \n",
    "        return pos >= 1\n",
    "\n",
    "    def judge_all(pos, neg):\n",
    "        # допускает элемент, если его допускают все функции (neg == 0)\n",
    "                \n",
    "        return neg == 0\n",
    "\n",
    "    def __init__(self, iterable, *funcs, judge=judge_any):\n",
    "        # iterable - исходная последовательность\n",
    "        # funcs - допускающие функции\n",
    "        # judge - решающая функция\n",
    "        self.lst = iterable\n",
    "        self.funcs = funcs\n",
    "        self.judge = judge\n",
    "        self.i = 0\n",
    "\n",
    "    def __iter__(self):\n",
    "        # возвращает итератор по результирующей последовательности\n",
    "        return self\n",
    "\n",
    "    \n",
    "    def __next__(self):               \n",
    "        while self.i < len(self.lst):\n",
    "            pos = 0\n",
    "            neg = 0\n",
    "            for func in self.funcs:\n",
    "                if func(self.lst[self.i]):\n",
    "                    pos += 1\n",
    "                else:\n",
    "                    neg += 1\n",
    "            \n",
    "            self.i += 1\n",
    "            if self.judge(pos, neg):\n",
    "                return self.lst[self.i - 1]\n",
    "        raise StopIteration"
   ]
  },
  {
   "cell_type": "code",
   "execution_count": 161,
   "metadata": {},
   "outputs": [],
   "source": [
    "#  через yield\n",
    "\n",
    "def random_generator(k):  #  генератор\n",
    "    for i in range(k):\n",
    "        yield random()\n",
    "    \n",
    "\n",
    "\n",
    "class multifilter:\n",
    "    def judge_half(pos, neg):\n",
    "        # допускает элемент, если его допускает хотя бы половина фукнций (pos >= neg)\n",
    "       \n",
    "        return pos >= neg\n",
    "    \n",
    "    def judge_any(pos, neg):\n",
    "        # допускает элемент, если его допускает хотя бы одна функция (pos >= 1)\n",
    "        \n",
    "        return pos >= 1\n",
    "\n",
    "    def judge_all(pos, neg):\n",
    "        # допускает элемент, если его допускают все функции (neg == 0)\n",
    "                \n",
    "        return neg == 0\n",
    "\n",
    "    def __init__(self, iterable, *funcs, judge=judge_any):\n",
    "        # iterable - исходная последовательность\n",
    "        # funcs - допускающие функции\n",
    "        # judge - решающая функция\n",
    "        self.lst = iterable\n",
    "        self.funcs = funcs\n",
    "        self.judge = judge\n",
    "        self.i = 0\n",
    "\n",
    "    def __iter__(self):\n",
    "        # возвращает итератор по результирующей последовательности\n",
    "        for x in self.lst:\n",
    "            pos = 0\n",
    "            neg = 0\n",
    "            for func in self.funcs:                                      \n",
    "                if func(x):\n",
    "                    pos += 1\n",
    "                else:\n",
    "                    neg += 1                    \n",
    "            if self.judge(pos, neg):\n",
    "                yield x"
   ]
  },
  {
   "cell_type": "code",
   "execution_count": 165,
   "metadata": {},
   "outputs": [
    {
     "name": "stdout",
     "output_type": "stream",
     "text": [
      "[0, 2, 3, 4, 5, 6, 8, 9, 10, 12, 14, 15, 16, 18, 20, 21, 22, 24, 25, 26, 27, 28, 30]\n",
      "[0, 6, 10, 12, 15, 18, 20, 24, 30]\n",
      "[0, 30]\n"
     ]
    }
   ],
   "source": [
    "#  тест для проверки\n",
    "\n",
    "def mul2(x):\n",
    "    return x % 2 == 0\n",
    "\n",
    "def mul3(x):\n",
    "    return x % 3 == 0\n",
    "\n",
    "def mul5(x):\n",
    "    return x % 5 == 0\n",
    "\n",
    "\n",
    "a = [i for i in range(31)] # [0, 1, 2, ... , 30]\n",
    "\n",
    "print(list(multifilter(a, mul2, mul3, mul5))) \n",
    "# [0, 2, 3, 4, 5, 6, 8, 9, 10, 12, 14, 15, 16, 18, 20, 21, 22, 24, 25, 26, 27, 28, 30]\n",
    "\n",
    "print(list(multifilter(a, mul2, mul3, mul5, judge=multifilter.judge_half))) \n",
    "# [0, 6, 10, 12, 15, 18, 20, 24, 30]\n",
    "\n",
    "print(list(multifilter(a, mul2, mul3, mul5, judge=multifilter.judge_all))) \n",
    "# [0, 30]"
   ]
  },
  {
   "cell_type": "markdown",
   "metadata": {},
   "source": [
    "___\n",
    "**Задание 2.3.2**\n",
    "\n",
    "Целое положительное число называется простым, если оно имеет ровно два различных делителя, то есть делится только на единицу и на само себя.\n",
    "Например, число 2 является простым, так как делится только на 1 и 2. Также простыми являются, например, числа 3, 5, 31, и еще бесконечно много чисел.\n",
    "Число 4, например, не является простым, так как имеет три делителя – 1, 2, 4. Также простым не является число 1, так как оно имеет ровно один делитель – 1.\n",
    "\n",
    "Реализуйте функцию-генератор primes, которая будет генерировать простые числа в порядке возрастания, начиная с числа 2."
   ]
  },
  {
   "cell_type": "code",
   "execution_count": 20,
   "metadata": {},
   "outputs": [],
   "source": [
    "#  генератор простых чисел\n",
    "\n",
    "def primes():\n",
    "    is_prime = 2\n",
    "    while True:\n",
    "        delit = 1\n",
    "        for i in range(2, is_prime+1):\n",
    "            if is_prime % i == 0:\n",
    "                delit += 1\n",
    "        is_prime += 1\n",
    "        if delit == 2:   \n",
    "            yield is_prime-1"
   ]
  },
  {
   "cell_type": "code",
   "execution_count": 25,
   "metadata": {},
   "outputs": [
    {
     "name": "stdout",
     "output_type": "stream",
     "text": [
      "2\n",
      "3\n",
      "5\n",
      "7\n",
      "11\n",
      "13\n"
     ]
    }
   ],
   "source": [
    "a = primes()\n",
    "print(next(a))\n",
    "print(next(a))\n",
    "print(next(a))\n",
    "print(next(a))\n",
    "print(next(a))\n",
    "print(next(a))"
   ]
  },
  {
   "cell_type": "code",
   "execution_count": 24,
   "metadata": {},
   "outputs": [
    {
     "name": "stdout",
     "output_type": "stream",
     "text": [
      "[2, 3, 5, 7, 11, 13, 17, 19, 23, 29, 31]\n"
     ]
    }
   ],
   "source": [
    "#  Тест\n",
    "\n",
    "import itertools\n",
    "\n",
    "print(list(itertools.takewhile(lambda x : x <= 31, primes())))\n",
    "# [2, 3, 5, 7, 11, 13, 17, 19, 23, 29, 31]"
   ]
  },
  {
   "cell_type": "markdown",
   "metadata": {},
   "source": [
    "___\n",
    "**list comprehension** - генератор списков"
   ]
  },
  {
   "cell_type": "code",
   "execution_count": 9,
   "metadata": {},
   "outputs": [
    {
     "name": "stdout",
     "output_type": "stream",
     "text": [
      "[4, 1, 0, 1, 4]\n"
     ]
    }
   ],
   "source": [
    "#  метод создания списков без использования list comprehension\n",
    "\n",
    "x = [-2, 1, 0, 1, 2]\n",
    "y = []\n",
    "for i in x:\n",
    "    y.append(i * i)\n",
    "\n",
    "print(y)"
   ]
  },
  {
   "cell_type": "code",
   "execution_count": 11,
   "metadata": {},
   "outputs": [
    {
     "name": "stdout",
     "output_type": "stream",
     "text": [
      "[4, 1, 0, 1, 4]\n"
     ]
    }
   ],
   "source": [
    "#  тоже самое с list comprehension\n",
    "\n",
    "x = [-2, 1, 0, 1, 2]\n",
    "y = [i * i for i in x]\n",
    "print(y)"
   ]
  },
  {
   "cell_type": "code",
   "execution_count": 12,
   "metadata": {},
   "outputs": [
    {
     "name": "stdout",
     "output_type": "stream",
     "text": [
      "[1, 1, 4]\n"
     ]
    }
   ],
   "source": [
    "#  еще один пример\n",
    "\n",
    "x = [-2, 1, 0, 1, 2]\n",
    "y = [i * i for i in x if i > 0]\n",
    "print(y)"
   ]
  },
  {
   "cell_type": "code",
   "execution_count": 17,
   "metadata": {},
   "outputs": [
    {
     "name": "stdout",
     "output_type": "stream",
     "text": [
      "[(0, 0), (0, 1), (0, 2), (1, 1), (1, 2), (2, 2)]\n",
      "[(0, 0), (0, 1), (0, 2), (1, 1), (1, 2), (2, 2)]\n"
     ]
    }
   ],
   "source": [
    "z = []\n",
    "for x in range(3):\n",
    "    for y in range(3):\n",
    "        if y >= x:\n",
    "            z.append((x, y))\n",
    "print(z)\n",
    "\n",
    "#  тоже самое с list comprehension, короче и так же понятна\n",
    "z = [(x, y) for x in range(3) for y in range(3) if y >= x]\n",
    "print(z)"
   ]
  },
  {
   "cell_type": "code",
   "execution_count": 25,
   "metadata": {},
   "outputs": [
    {
     "name": "stdout",
     "output_type": "stream",
     "text": [
      "<generator object <genexpr> at 0x0000023F1DCF8C48>\n"
     ]
    }
   ],
   "source": [
    "#  круглыми скобками создаем генератор\n",
    "\n",
    "z = ((x, y) for x in range(3) for y in range(3) if y >= x) \n",
    "print(z)"
   ]
  },
  {
   "cell_type": "code",
   "execution_count": 26,
   "metadata": {},
   "outputs": [
    {
     "name": "stdout",
     "output_type": "stream",
     "text": [
      "(0, 0)\n",
      "(0, 1)\n",
      "(0, 2)\n",
      "(1, 1)\n"
     ]
    }
   ],
   "source": [
    "print(next(z))\n",
    "print(next(z))\n",
    "print(next(z))\n",
    "print(next(z))"
   ]
  },
  {
   "cell_type": "markdown",
   "metadata": {},
   "source": [
    "### 2.4 Работа с файловой системой и файлами <a class=\"anchor\" id=\"2-4\"></a>"
   ]
  },
  {
   "cell_type": "markdown",
   "metadata": {},
   "source": [
    "Типы файлов:\n",
    "- текстовые (.txt, .html)\n",
    "- бинарные или двоичные - почти все остальное (.mp3, .bin, .png)"
   ]
  },
  {
   "cell_type": "markdown",
   "metadata": {},
   "source": [
    "**Чтение файла**"
   ]
  },
  {
   "cell_type": "code",
   "execution_count": 30,
   "metadata": {},
   "outputs": [],
   "source": [
    "#  Режимы чтения:\n",
    "#  \n",
    "#  Character Meaning\n",
    "#  --------- ---------------------------------------------------------------\n",
    "#  'r'       open for reading (default)\n",
    "#  'w'       open for writing, truncating the file first\n",
    "#  'x'       create a new file and open it for writing\n",
    "#  'a'       open for writing, appending to the end of the file if it exists\n",
    "#  'b'       binary mode\n",
    "#  't'       text mode (default)\n",
    "#  '+'       open a disk file for updating (reading and writing)\n",
    "#  'U'       universal newline mode (deprecated)\n",
    "#  ========= ==============================================================="
   ]
  },
  {
   "cell_type": "code",
   "execution_count": 37,
   "metadata": {},
   "outputs": [
    {
     "name": "stdout",
     "output_type": "stream",
     "text": [
      "First\n",
      " line\n",
      "Second Line\n",
      "Third Line\n",
      "' line\\nSecond Line\\nThird Line'\n"
     ]
    },
    {
     "data": {
      "text/plain": [
       "<function TextIOWrapper.close()>"
      ]
     },
     "execution_count": 37,
     "metadata": {},
     "output_type": "execute_result"
    }
   ],
   "source": [
    "f = open(\"test.txt\", \"r\")\n",
    "\n",
    "x = f.read(5) #  первые пять символов\n",
    "print(x)\n",
    "y = f.read()  #  все остальное\n",
    "print(y) \n",
    "print(repr(y)) #  ' line\\nSecond Line\\nThird Line'\n",
    "#  При считывание также записывается символ переноса строки и пробелы\n",
    "\n",
    "f.close()"
   ]
  },
  {
   "cell_type": "code",
   "execution_count": 41,
   "metadata": {},
   "outputs": [
    {
     "name": "stdout",
     "output_type": "stream",
     "text": [
      "['First line', 'Second Line', 'Third Line']\n"
     ]
    },
    {
     "data": {
      "text/plain": [
       "<function TextIOWrapper.close()>"
      ]
     },
     "execution_count": 41,
     "metadata": {},
     "output_type": "execute_result"
    }
   ],
   "source": [
    "f = open(\"test.txt\", \"r\")\n",
    "\n",
    "x = f.read() \n",
    "x = x.splitlines()  #  метод разделения на строки и занесения в список\n",
    "print(x)\n",
    "\n",
    "\n",
    "f.close()"
   ]
  },
  {
   "cell_type": "code",
   "execution_count": 46,
   "metadata": {},
   "outputs": [
    {
     "name": "stdout",
     "output_type": "stream",
     "text": [
      "'First line\\n'\n",
      "'First line'\n",
      "'Second Line'\n"
     ]
    },
    {
     "data": {
      "text/plain": [
       "<function TextIOWrapper.close()>"
      ]
     },
     "execution_count": 46,
     "metadata": {},
     "output_type": "execute_result"
    }
   ],
   "source": [
    "f = open(\"test.txt\", \"r\")\n",
    "\n",
    "x = f.readline() #  считывание по строкам, но с \\n на конце\n",
    "print(repr(x)) #  'First line\\n'\n",
    "\n",
    "x = x.rstrip()  #  убирает лишние символы справа\n",
    "print(repr(x))  #  'First line'\n",
    "\n",
    "x = f.readline().rstrip()  #  сокращенная запись\n",
    "print(repr(x)) \n",
    "\n",
    "f.close()"
   ]
  },
  {
   "cell_type": "markdown",
   "metadata": {},
   "source": [
    "Более каноничным способом перебора строк внутри файла является итерация по файл обжекту.\n",
    "\n",
    "У файл обжекта есть итератор, при запросе элемента будет возвращать строку.\n",
    "\n",
    "Он написан эффективно по памяти, никогда не выгружает файл в память целиком. \n",
    "\n",
    "Итератор считывает файл пока не встретит перенос строки"
   ]
  },
  {
   "cell_type": "code",
   "execution_count": 52,
   "metadata": {},
   "outputs": [
    {
     "name": "stdout",
     "output_type": "stream",
     "text": [
      "'First line'\n",
      "'Second Line'\n",
      "'Third Line'\n",
      "''\n"
     ]
    },
    {
     "data": {
      "text/plain": [
       "<function TextIOWrapper.close()>"
      ]
     },
     "execution_count": 52,
     "metadata": {},
     "output_type": "execute_result"
    }
   ],
   "source": [
    "f = open(\"test.txt\", \"r\")\n",
    "\n",
    "for line in f:\n",
    "    line = line.rstrip()\n",
    "    print(repr(line))\n",
    "    \n",
    "print(repr(f.read()))\n",
    "\n",
    "f.close()"
   ]
  },
  {
   "cell_type": "markdown",
   "metadata": {},
   "source": [
    "**Запись в файл**"
   ]
  },
  {
   "cell_type": "code",
   "execution_count": 2,
   "metadata": {},
   "outputs": [],
   "source": [
    "f = open(\"test1.txt\", \"w\")  #  неважно что файла нет, он создается\n",
    "f.write(\"Hello\\n\")\n",
    "f.write(\"World\")\n",
    "\n",
    "f.close()"
   ]
  },
  {
   "cell_type": "code",
   "execution_count": 3,
   "metadata": {},
   "outputs": [],
   "source": [
    "lines = [\"Line 1\", \"Line 2\", \"Line 3\"]\n",
    "\n",
    "f = open(\"test1.txt\", \"w\") #  если уже есть такой, то перезаписывает\n",
    "\n",
    "contents = \"\\n\".join(lines)  #  метод join, соединяющий строки списка с разделителем\n",
    "f.write(contents)\n",
    "\n",
    "f.close()"
   ]
  },
  {
   "cell_type": "code",
   "execution_count": 9,
   "metadata": {},
   "outputs": [],
   "source": [
    "f = open(\"test1.txt\", \"a\") #  режим append - дозаписывает в файл\n",
    "\n",
    "f.write(\"New line\\n\")\n",
    "\n",
    "f.close()"
   ]
  },
  {
   "cell_type": "markdown",
   "metadata": {},
   "source": [
    "У таких вызовов файла есть недостаток. Если произойдет ошибка до исполнения `f.close()`, то файл не закроется.\n",
    "\n",
    "Для избежания этой ошибки используется `with`. Такая конструкция гарантирует нам выход из файла при ошибке"
   ]
  },
  {
   "cell_type": "code",
   "execution_count": 10,
   "metadata": {
    "scrolled": true
   },
   "outputs": [
    {
     "name": "stdout",
     "output_type": "stream",
     "text": [
      "'First line'\n",
      "'Second Line'\n",
      "'Third Line'\n"
     ]
    }
   ],
   "source": [
    "with open(\"test.txt\") as f:\n",
    "    for line in f:\n",
    "        line = line.rstrip()\n",
    "        print(repr(line))"
   ]
  },
  {
   "cell_type": "code",
   "execution_count": 11,
   "metadata": {},
   "outputs": [],
   "source": [
    "#  множественное открытие файлов\n",
    "with open(\"test.txt\") as f, open(\"test_copy.txt\", \"w\") as w:\n",
    "    for line in f:\n",
    "        w.write(line)"
   ]
  },
  {
   "cell_type": "markdown",
   "metadata": {},
   "source": [
    "___\n",
    "**Задание 2.4.1**\n",
    "\n",
    "Вам дается текстовый файл, содержащий некоторое количество непустых строк.\n",
    "На основе него сгенерируйте новый текстовый файл, содержащий те же строки в обратном порядке."
   ]
  },
  {
   "cell_type": "code",
   "execution_count": 14,
   "metadata": {},
   "outputs": [],
   "source": [
    "file = []\n",
    "with open(\"dataset_24465_4.txt\") as f, open(\"reverse.txt\", \"w\") as w:\n",
    "    for line in f:\n",
    "        file.append(line.rstrip())\n",
    "    \n",
    "    file.reverse()\n",
    "    result = \"\\n\".join(file)\n",
    "    w.write(result)        "
   ]
  },
  {
   "cell_type": "markdown",
   "metadata": {},
   "source": [
    "___\n",
    "Работа с библиотеками `os` и `os.path`"
   ]
  },
  {
   "cell_type": "code",
   "execution_count": 1,
   "metadata": {},
   "outputs": [],
   "source": [
    "import os\n",
    "import os.path"
   ]
  },
  {
   "cell_type": "code",
   "execution_count": 2,
   "metadata": {},
   "outputs": [
    {
     "name": "stdout",
     "output_type": "stream",
     "text": [
      "['.ipynb_checkpoints', '2.3.2(iterator).ipynb', 'dataset_24465_4.txt', 'encrypted.bin', 'fib.py', 'greeting.py', 'greeting2.py', 'mro.png', 'Part2', 'passwords.txt', 'Python Course Stepik NoteBook.ipynb', 'reverse.txt', 'test.txt', 'test1.txt', 'test_copy.txt', '__pycache__']\n",
      "C:\\Python\\Python основы и применение\n",
      "True\n",
      "False\n",
      "True\n",
      "True\n",
      "False\n",
      "False\n",
      "True\n"
     ]
    }
   ],
   "source": [
    "print(os.listdir()) #  файлы в текущей директории\n",
    "print(os.getcwd()) # путь в текущую директорию\n",
    "\n",
    "print(os.path.exists(\"greeting.py\"))  # проверка наличия файла в директории\n",
    "print(os.path.exists(\"random.py\")) # False\n",
    "print(os.path.exists(\"Part2\")) # проверка наличия папки Part2\n",
    "\n",
    "print(os.path.isfile(\"greeting.py\"))  # является ли файлом\n",
    "print(os.path.isfile(\"Part2\")) # False\n",
    "\n",
    "print(os.path.isdir(\"greeting.py\"))  # является ли директорией\n",
    "print(os.path.isdir(\"Part2\")) # True"
   ]
  },
  {
   "cell_type": "code",
   "execution_count": 3,
   "metadata": {
    "scrolled": true
   },
   "outputs": [
    {
     "name": "stdout",
     "output_type": "stream",
     "text": [
      "C:\\Python\\Python основы и применение\\greeting.py\n"
     ]
    }
   ],
   "source": [
    "print(os.path.abspath(\"greeting.py\"))  #  абсолютный путь"
   ]
  },
  {
   "cell_type": "code",
   "execution_count": 2,
   "metadata": {
    "scrolled": false
   },
   "outputs": [],
   "source": [
    "os.chdir(\"Part2\") #  Смена директории на внутреннюю папку Part2"
   ]
  },
  {
   "cell_type": "code",
   "execution_count": 3,
   "metadata": {},
   "outputs": [
    {
     "name": "stdout",
     "output_type": "stream",
     "text": [
      "['encrypted.bin', 'passwords.txt']\n"
     ]
    }
   ],
   "source": [
    "print(os.listdir())"
   ]
  },
  {
   "cell_type": "code",
   "execution_count": 23,
   "metadata": {},
   "outputs": [],
   "source": [
    "#  os.chdir(\"C:\\Python\\Python основы и применение\")\n",
    "os.chdir(\"..\") #  возврат назад"
   ]
  },
  {
   "cell_type": "code",
   "execution_count": 7,
   "metadata": {},
   "outputs": [
    {
     "name": "stdout",
     "output_type": "stream",
     "text": [
      "['.ipynb_checkpoints', '2.3.2(iterator).ipynb', 'dataset_24465_4.txt', 'encrypted.bin', 'fib.py', 'greeting.py', 'greeting2.py', 'mro.png', 'Part2', 'passwords.txt', 'Python Course Stepik NoteBook.ipynb', 'reverse.txt', 'test.txt', 'test1.txt', 'test_copy.txt', '__pycache__']\n"
     ]
    }
   ],
   "source": [
    "print(os.listdir())"
   ]
  },
  {
   "cell_type": "code",
   "execution_count": 10,
   "metadata": {},
   "outputs": [
    {
     "name": "stdout",
     "output_type": "stream",
     "text": [
      ". ['.ipynb_checkpoints', 'Part2', '__pycache__'] ['2.3.2(iterator).ipynb', 'dataset_24465_4.txt', 'encrypted.bin', 'fib.py', 'greeting.py', 'greeting2.py', 'mro.png', 'passwords.txt', 'Python Course Stepik NoteBook.ipynb', 'reverse.txt', 'test.txt', 'test1.txt', 'test_copy.txt']\n",
      ".\\.ipynb_checkpoints [] ['2.3.2(iterator)-checkpoint.ipynb', 'Python Course Stepik NoteBook-checkpoint.ipynb']\n",
      ".\\Part2 [] ['encrypted.bin', 'passwords.txt']\n",
      ".\\__pycache__ [] ['fib.cpython-37.pyc', 'greet.cpython-37.pyc', 'greeting.cpython-37.pyc', 'greeting2.cpython-37.pyc']\n"
     ]
    }
   ],
   "source": [
    "# перебор папок и файлов внутри текущей папки \n",
    "\n",
    "for current_dir, dirs, files in os.walk(\".\"):\n",
    "    print(current_dir, dirs, files)"
   ]
  },
  {
   "cell_type": "code",
   "execution_count": 11,
   "metadata": {},
   "outputs": [],
   "source": [
    "import shutil"
   ]
  },
  {
   "cell_type": "code",
   "execution_count": 12,
   "metadata": {},
   "outputs": [
    {
     "data": {
      "text/plain": [
       "'test1_copybyshutil.txt'"
      ]
     },
     "execution_count": 12,
     "metadata": {},
     "output_type": "execute_result"
    }
   ],
   "source": [
    "#  Копирование файла\n",
    "\n",
    "shutil.copy(\"test1.txt\", \"test1_copybyshutil.txt\")"
   ]
  },
  {
   "cell_type": "code",
   "execution_count": 14,
   "metadata": {},
   "outputs": [
    {
     "data": {
      "text/plain": [
       "'Part2/Part2'"
      ]
     },
     "execution_count": 14,
     "metadata": {},
     "output_type": "execute_result"
    }
   ],
   "source": [
    "#  Копирование папки в себя же\n",
    "\n",
    "shutil.copytree(\"Part2\", \"Part2/Part2\")"
   ]
  },
  {
   "cell_type": "markdown",
   "metadata": {},
   "source": [
    "___\n",
    "**Задание**\n",
    "\n",
    "Вам дана в архиве (https://stepik.org/media/attachments/lesson/24465/main.zip) файловая структура, состоящая из директорий и файлов.\n",
    "\n",
    "Вам необходимо распаковать этот архив, и затем найти в данной в файловой структуре все директории, в которых есть хотя бы один файл с расширением \".py\". \n",
    "\n",
    "Ответом на данную задачу будет являться файл со списком таких директорий, отсортированных в лексикографическом порядке."
   ]
  },
  {
   "cell_type": "code",
   "execution_count": 27,
   "metadata": {
    "scrolled": true
   },
   "outputs": [
    {
     "name": "stdout",
     "output_type": "stream",
     "text": [
      "True\n"
     ]
    }
   ],
   "source": [
    "#  Обучаемся на тренировочном архиве sample.zip\n",
    "#  Ответ лежит в sample_ans.txt\n",
    "\n",
    "import os\n",
    "import os.path\n",
    "\n",
    "import zipfile\n",
    "\n",
    "#  распаковываем файл sample.zip, внутри него лежит папка sample\n",
    "with zipfile.ZipFile(\"sample.zip\", 'r') as zip_ref:\n",
    "    zip_ref.extractall(\".\")\n",
    "    \n",
    "print(os.path.isdir(\"sample\")) #  Проверяем наличие этой папки"
   ]
  },
  {
   "cell_type": "code",
   "execution_count": 35,
   "metadata": {
    "scrolled": false
   },
   "outputs": [
    {
     "name": "stdout",
     "output_type": "stream",
     "text": [
      "sample ['a', 'b', 'c'] ['my_answer', 'not_py.txt', 'sample.py']\n",
      "sample\\a ['c'] ['a.py', 'not_py.txt']\n",
      "sample\\a\\c [] ['ac1.py', 'ac2.py', 'not_py.txt']\n",
      "sample\\b [] ['b.py']\n",
      "sample\\c [] []\n",
      "['sample', 'sample\\\\a', 'sample\\\\a\\\\c', 'sample\\\\b']\n"
     ]
    }
   ],
   "source": [
    "#  производим запись в файл\n",
    "\n",
    "result = []\n",
    "\n",
    "for current_dir, dirs, files in os.walk(\"sample\"):\n",
    "    print(current_dir, dirs, files)\n",
    "    for file in files:\n",
    "        if \".py\" in file:\n",
    "            result.append(current_dir)\n",
    "            break\n",
    "            \n",
    "result.sort()\n",
    "print(result)"
   ]
  },
  {
   "cell_type": "code",
   "execution_count": 36,
   "metadata": {},
   "outputs": [],
   "source": [
    "with open(\"my_answer.txt\", \"w\") as w:\n",
    "    w.write(\"\\n\".join(result))"
   ]
  },
  {
   "cell_type": "code",
   "execution_count": 37,
   "metadata": {},
   "outputs": [
    {
     "name": "stdout",
     "output_type": "stream",
     "text": [
      "True\n"
     ]
    }
   ],
   "source": [
    "#  Решение для main.zip\n",
    "\n",
    "import os\n",
    "import os.path\n",
    "\n",
    "import zipfile\n",
    "\n",
    "#  распаковываем файл sample.zip, внутри него лежит папка sample\n",
    "with zipfile.ZipFile(\"main.zip\", 'r') as zip_ref:\n",
    "    zip_ref.extractall(\".\")\n",
    "    \n",
    "print(os.path.isdir(\"main\")) #  Проверяем наличие этой папки"
   ]
  },
  {
   "cell_type": "code",
   "execution_count": 38,
   "metadata": {
    "scrolled": true
   },
   "outputs": [
    {
     "name": "stdout",
     "output_type": "stream",
     "text": [
      "main ['afkgv', 'ddiqo', 'frtrl', 'hgyoc', 'jrczb', 'ksuvk', 'lqbli', 'mwhci', 'olmhl', 'qkseh', 'sitdc', 'taivr', 'tgwey', 'uvvuz', 'wkwll', 'ybebm', 'zduna', 'zyczx'] ['aelpx.txt', 'dshyt.txt', 'fjcnm.py', 'fpyfb.py', 'iswbd.txt', 'ivcpr.txt', 'ivdfa.txt', 'ivkih.txt', 'iwohr.py', 'jogpz.py', 'kqgeg.txt', 'lmrrz.txt', 'lzccb.py', 'mdwam.txt', 'mwgax.txt', 'myjqk.py', 'nelpv.py', 'nrlqk.py', 'oizxq.txt', 'qbarq.txt', 'qcdrm.py', 'qdbhh.txt', 'qhjmz.txt', 'rlvgd.txt', 'rpuyq.txt', 'sgeru.txt', 'sidxx.txt', 'soldv.txt', 'suvtu.py', 'vaxyw.txt', 'wvere.txt', 'wxhtw.py', 'xmffa.txt', 'yohuh.txt', 'yvgwm.py', 'zgwye.txt']\n",
      "main\\afkgv [] ['bxdnn.py']\n",
      "main\\ddiqo [] ['qxbwf.txt']\n",
      "main\\frtrl [] ['eaemw.py', 'gycxp.txt', 'vfiks.txt']\n",
      "main\\hgyoc ['ilwwv', 'kwawh', 'tztsf', 'ycbxr', 'yfdwy'] ['avzvc.py', 'azghn.txt', 'bnunx.py', 'diyzm.txt', 'gvyia.py', 'jeejo.txt', 'kwfhy.txt', 'mcesa.py', 'ogoff.txt', 'skjvb.txt', 'xdwty.txt', 'xzwbm.txt']\n",
      "main\\hgyoc\\ilwwv [] ['psxra.txt']\n",
      "main\\hgyoc\\kwawh ['hapry', 'jxtqa', 'rzgzv', 'uunbz'] ['bxlns.txt', 'lrzxd.py']\n",
      "main\\hgyoc\\kwawh\\hapry [] ['mejcl.py', 'pevsg.py']\n",
      "main\\hgyoc\\kwawh\\jxtqa [] []\n",
      "main\\hgyoc\\kwawh\\rzgzv [] ['grbfr.txt', 'yraxd.py']\n",
      "main\\hgyoc\\kwawh\\uunbz [] ['biqwd.txt', 'mnnoy.txt', 'nkvij.txt']\n",
      "main\\hgyoc\\tztsf [] ['iynbe.txt', 'vegzp.txt']\n",
      "main\\hgyoc\\ycbxr ['ivjta', 'jpjxk', 'kokzg', 'xkvcg'] ['kslju.txt', 'qzqyg.txt', 'tdhup.txt']\n",
      "main\\hgyoc\\ycbxr\\ivjta [] ['kfllc.py']\n",
      "main\\hgyoc\\ycbxr\\jpjxk [] []\n",
      "main\\hgyoc\\ycbxr\\kokzg [] []\n",
      "main\\hgyoc\\ycbxr\\xkvcg [] ['clpnh.txt']\n",
      "main\\hgyoc\\yfdwy [] ['ortfz.txt']\n",
      "main\\jrczb [] ['ifupb.txt']\n",
      "main\\ksuvk ['xjrqt'] []\n",
      "main\\ksuvk\\xjrqt ['qdbqt', 'qjoks'] ['lbvrl.txt', 'ntdip.txt', 'wvtgk.py']\n",
      "main\\ksuvk\\xjrqt\\qdbqt ['hotgx', 'prkcp'] ['fnxzz.txt']\n",
      "main\\ksuvk\\xjrqt\\qdbqt\\hotgx ['efjkp', 'izwwv'] ['cpyns.txt', 'dudeb.py']\n",
      "main\\ksuvk\\xjrqt\\qdbqt\\hotgx\\efjkp [] []\n",
      "main\\ksuvk\\xjrqt\\qdbqt\\hotgx\\izwwv ['xrrlt'] ['xfqqg.py', 'yhgoq.py', 'zaxis.py']\n",
      "main\\ksuvk\\xjrqt\\qdbqt\\hotgx\\izwwv\\xrrlt [] ['dygkw.txt', 'kpkop.txt', 'mbict.txt', 'swmfb.txt']\n",
      "main\\ksuvk\\xjrqt\\qdbqt\\prkcp ['dnyyv'] ['qdugi.txt', 'qkxpf.txt']\n",
      "main\\ksuvk\\xjrqt\\qdbqt\\prkcp\\dnyyv ['rbcbt'] ['dbmss.py', 'gqjfx.txt', 'jlife.py', 'nozbp.py']\n",
      "main\\ksuvk\\xjrqt\\qdbqt\\prkcp\\dnyyv\\rbcbt [] []\n",
      "main\\ksuvk\\xjrqt\\qjoks ['lucwg'] ['gswni.txt', 'kqizu.txt']\n",
      "main\\ksuvk\\xjrqt\\qjoks\\lucwg [] ['rcczp.txt', 'tzpsu.txt']\n",
      "main\\lqbli ['otofk'] ['qybbd.txt']\n",
      "main\\lqbli\\otofk ['armko', 'zsojz'] ['akmok.py', 'hbxjv.txt', 'ofcia.txt', 'pbidc.py', 'ybrdw.py']\n",
      "main\\lqbli\\otofk\\armko ['svrbq', 'ufenh'] ['dofzv.txt', 'kchnx.py', 'nciua.txt', 'npucw.txt', 'ohwpa.txt']\n",
      "main\\lqbli\\otofk\\armko\\svrbq [] []\n",
      "main\\lqbli\\otofk\\armko\\ufenh [] []\n",
      "main\\lqbli\\otofk\\zsojz [] ['yqlyh.txt']\n",
      "main\\mwhci [] ['gymxy.txt', 'ttopz.py']\n",
      "main\\olmhl ['mmtsz'] ['bhmcc.txt', 'gnaag.txt', 'kgiik.txt', 'rnhvd.txt', 'whfbo.txt']\n",
      "main\\olmhl\\mmtsz ['nujko', 'phcap'] ['elpwr.py', 'hamfm.py', 'mvrdu.txt', 'ngutc.py', 'rsolr.py', 'xikrv.txt']\n",
      "main\\olmhl\\mmtsz\\nujko ['bjdpa', 'ywjka', 'ywjxy'] ['vlzlx.txt']\n",
      "main\\olmhl\\mmtsz\\nujko\\bjdpa [] ['lfxys.txt']\n",
      "main\\olmhl\\mmtsz\\nujko\\ywjka ['pxjip'] ['ailhc.py', 'kisdi.py', 'llzma.txt', 'uskqk.txt', 'wpeve.txt', 'zwmpm.txt']\n",
      "main\\olmhl\\mmtsz\\nujko\\ywjka\\pxjip ['wthmo'] ['aniue.py', 'fpuyw.txt', 'lmrtv.py', 'mcvwk.py', 'qshso.txt', 'ssfuy.py']\n",
      "main\\olmhl\\mmtsz\\nujko\\ywjka\\pxjip\\wthmo ['dgypg', 'rwwuw', 'wtgrc', 'yaqkg'] ['ewpru.py', 'hjsqc.txt', 'kdfnf.py', 'lcgtq.txt', 'mupic.txt', 'puzpd.py', 'rkrrw.txt', 'wwcga.txt', 'xfalg.txt', 'ytfxp.txt', 'zszcm.txt']\n",
      "main\\olmhl\\mmtsz\\nujko\\ywjka\\pxjip\\wthmo\\dgypg [] []\n",
      "main\\olmhl\\mmtsz\\nujko\\ywjka\\pxjip\\wthmo\\rwwuw [] ['xwmnb.py']\n",
      "main\\olmhl\\mmtsz\\nujko\\ywjka\\pxjip\\wthmo\\wtgrc ['grnfu', 'juoxd', 'kztxg', 'mgplg', 'zfukg'] ['gwqic.py', 'hckvz.txt', 'hiyqi.txt', 'nbenj.txt', 'qyduf.txt', 'rjhap.txt', 'smnsc.py']\n",
      "main\\olmhl\\mmtsz\\nujko\\ywjka\\pxjip\\wthmo\\wtgrc\\grnfu [] ['cubok.py']\n",
      "main\\olmhl\\mmtsz\\nujko\\ywjka\\pxjip\\wthmo\\wtgrc\\juoxd ['efbru'] ['cdizf.txt', 'duwbk.txt', 'hjgdf.py', 'vnysh.txt']\n",
      "main\\olmhl\\mmtsz\\nujko\\ywjka\\pxjip\\wthmo\\wtgrc\\juoxd\\efbru [] []\n",
      "main\\olmhl\\mmtsz\\nujko\\ywjka\\pxjip\\wthmo\\wtgrc\\kztxg ['qwlrx'] ['cnfnj.txt', 'ibude.txt', 'olwiq.txt']\n",
      "main\\olmhl\\mmtsz\\nujko\\ywjka\\pxjip\\wthmo\\wtgrc\\kztxg\\qwlrx ['dhnor', 'djozj', 'drovd', 'lirot', 'nfcxf'] ['blvtq.py', 'edmiy.txt', 'gyvur.txt', 'hstyv.py', 'hzhfn.py', 'igtmf.txt', 'jskvm.txt', 'loqtf.py', 'nwjdv.txt', 'vjhld.txt', 'wajrg.txt']\n",
      "main\\olmhl\\mmtsz\\nujko\\ywjka\\pxjip\\wthmo\\wtgrc\\kztxg\\qwlrx\\dhnor [] []\n",
      "main\\olmhl\\mmtsz\\nujko\\ywjka\\pxjip\\wthmo\\wtgrc\\kztxg\\qwlrx\\djozj [] ['ptdnq.py', 'vcipo.txt', 'xjsai.txt']\n",
      "main\\olmhl\\mmtsz\\nujko\\ywjka\\pxjip\\wthmo\\wtgrc\\kztxg\\qwlrx\\drovd [] []\n",
      "main\\olmhl\\mmtsz\\nujko\\ywjka\\pxjip\\wthmo\\wtgrc\\kztxg\\qwlrx\\lirot [] ['auwzy.py']\n",
      "main\\olmhl\\mmtsz\\nujko\\ywjka\\pxjip\\wthmo\\wtgrc\\kztxg\\qwlrx\\nfcxf [] ['jglht.txt', 'uvmef.py']\n",
      "main\\olmhl\\mmtsz\\nujko\\ywjka\\pxjip\\wthmo\\wtgrc\\mgplg ['rbyav'] ['bnlci.txt', 'deetn.txt']\n",
      "main\\olmhl\\mmtsz\\nujko\\ywjka\\pxjip\\wthmo\\wtgrc\\mgplg\\rbyav ['ppeir', 'qosgw', 'uaodv', 'yqzsa'] ['amgvh.txt', 'bqscf.txt', 'bxijj.py', 'dkcir.txt', 'nbjiu.txt', 'tjwtk.txt', 'xipxd.py', 'ywngw.txt', 'yxalw.txt']\n",
      "main\\olmhl\\mmtsz\\nujko\\ywjka\\pxjip\\wthmo\\wtgrc\\mgplg\\rbyav\\ppeir ['qyeyy', 'subdi', 'vsdfx'] ['fnsya.txt', 'hzbta.txt', 'vjodn.txt']\n",
      "main\\olmhl\\mmtsz\\nujko\\ywjka\\pxjip\\wthmo\\wtgrc\\mgplg\\rbyav\\ppeir\\qyeyy [] []\n",
      "main\\olmhl\\mmtsz\\nujko\\ywjka\\pxjip\\wthmo\\wtgrc\\mgplg\\rbyav\\ppeir\\subdi ['afrqp', 'elqwy', 'hsbbt', 'zljoz'] ['cbdqd.py', 'ccyrz.py', 'cqugd.py', 'eddpe.txt', 'egyde.txt', 'eihrp.py', 'fwxhe.py', 'ivfrj.txt', 'lazia.txt', 'maxmd.txt', 'nvcly.txt', 'ojogb.txt', 'ptykj.py', 'rebkn.txt', 'sfjei.txt', 'uiwot.py', 'wmlla.py', 'ybjka.txt']\n",
      "main\\olmhl\\mmtsz\\nujko\\ywjka\\pxjip\\wthmo\\wtgrc\\mgplg\\rbyav\\ppeir\\subdi\\afrqp ['iaujh'] []\n",
      "main\\olmhl\\mmtsz\\nujko\\ywjka\\pxjip\\wthmo\\wtgrc\\mgplg\\rbyav\\ppeir\\subdi\\afrqp\\iaujh ['addrx', 'jqjsg', 'jqnsz'] ['edamr.py', 'hbsuz.txt', 'rzsqn.txt', 'yadbj.txt']\n",
      "main\\olmhl\\mmtsz\\nujko\\ywjka\\pxjip\\wthmo\\wtgrc\\mgplg\\rbyav\\ppeir\\subdi\\afrqp\\iaujh\\addrx [] []\n",
      "main\\olmhl\\mmtsz\\nujko\\ywjka\\pxjip\\wthmo\\wtgrc\\mgplg\\rbyav\\ppeir\\subdi\\afrqp\\iaujh\\jqjsg ['xriod', 'zbzvv'] ['fpnip.txt', 'goiyc.txt', 'nnrrb.py', 'waxgh.txt', 'wpqqa.py']\n",
      "main\\olmhl\\mmtsz\\nujko\\ywjka\\pxjip\\wthmo\\wtgrc\\mgplg\\rbyav\\ppeir\\subdi\\afrqp\\iaujh\\jqjsg\\xriod ['dvban'] ['ifjxk.py', 'kxcas.txt', 'mbsnb.txt']\n",
      "main\\olmhl\\mmtsz\\nujko\\ywjka\\pxjip\\wthmo\\wtgrc\\mgplg\\rbyav\\ppeir\\subdi\\afrqp\\iaujh\\jqjsg\\xriod\\dvban ['gufln', 'jhpib'] ['rkqzh.txt']\n",
      "main\\olmhl\\mmtsz\\nujko\\ywjka\\pxjip\\wthmo\\wtgrc\\mgplg\\rbyav\\ppeir\\subdi\\afrqp\\iaujh\\jqjsg\\xriod\\dvban\\gufln ['yklwn'] []\n",
      "main\\olmhl\\mmtsz\\nujko\\ywjka\\pxjip\\wthmo\\wtgrc\\mgplg\\rbyav\\ppeir\\subdi\\afrqp\\iaujh\\jqjsg\\xriod\\dvban\\gufln\\yklwn ['efemx'] ['xfymd.txt']\n",
      "main\\olmhl\\mmtsz\\nujko\\ywjka\\pxjip\\wthmo\\wtgrc\\mgplg\\rbyav\\ppeir\\subdi\\afrqp\\iaujh\\jqjsg\\xriod\\dvban\\gufln\\yklwn\\efemx [] []\n",
      "main\\olmhl\\mmtsz\\nujko\\ywjka\\pxjip\\wthmo\\wtgrc\\mgplg\\rbyav\\ppeir\\subdi\\afrqp\\iaujh\\jqjsg\\xriod\\dvban\\jhpib ['ufrhp'] ['eyohd.txt', 'tkpoz.txt']\n",
      "main\\olmhl\\mmtsz\\nujko\\ywjka\\pxjip\\wthmo\\wtgrc\\mgplg\\rbyav\\ppeir\\subdi\\afrqp\\iaujh\\jqjsg\\xriod\\dvban\\jhpib\\ufrhp [] ['hglwu.txt', 'nfxlv.txt']\n",
      "main\\olmhl\\mmtsz\\nujko\\ywjka\\pxjip\\wthmo\\wtgrc\\mgplg\\rbyav\\ppeir\\subdi\\afrqp\\iaujh\\jqjsg\\zbzvv [] []\n",
      "main\\olmhl\\mmtsz\\nujko\\ywjka\\pxjip\\wthmo\\wtgrc\\mgplg\\rbyav\\ppeir\\subdi\\afrqp\\iaujh\\jqnsz [] ['cfbxr.py', 'ihdto.py', 'jqeou.py', 'lcgml.txt']\n",
      "main\\olmhl\\mmtsz\\nujko\\ywjka\\pxjip\\wthmo\\wtgrc\\mgplg\\rbyav\\ppeir\\subdi\\elqwy [] ['fcibk.txt', 'huzxi.txt', 'svkqp.txt', 'wbfcq.txt']\n",
      "main\\olmhl\\mmtsz\\nujko\\ywjka\\pxjip\\wthmo\\wtgrc\\mgplg\\rbyav\\ppeir\\subdi\\hsbbt [] []\n",
      "main\\olmhl\\mmtsz\\nujko\\ywjka\\pxjip\\wthmo\\wtgrc\\mgplg\\rbyav\\ppeir\\subdi\\zljoz ['hsndh', 'kgdme', 'sgmoj', 'xrvnu'] ['cjsev.txt', 'hjlgw.txt', 'judks.txt', 'lrshd.txt', 'nhzsu.txt', 'pkcoh.txt', 'swqks.py', 'tkmtk.py', 'xixnf.txt']\n",
      "main\\olmhl\\mmtsz\\nujko\\ywjka\\pxjip\\wthmo\\wtgrc\\mgplg\\rbyav\\ppeir\\subdi\\zljoz\\hsndh [] ['baffg.txt']\n",
      "main\\olmhl\\mmtsz\\nujko\\ywjka\\pxjip\\wthmo\\wtgrc\\mgplg\\rbyav\\ppeir\\subdi\\zljoz\\kgdme ['evnvn', 'jhhbu'] ['bdwkq.txt', 'dtlmp.txt', 'efipd.py', 'euduy.py', 'mfbag.txt', 'natoh.txt', 'pfxyh.txt', 'pxcim.txt', 'qnpjo.txt', 'rlccj.txt', 'sgtmk.txt', 'thrcn.py', 'uykvs.txt', 'vwicr.py', 'xdsja.txt']\n",
      "main\\olmhl\\mmtsz\\nujko\\ywjka\\pxjip\\wthmo\\wtgrc\\mgplg\\rbyav\\ppeir\\subdi\\zljoz\\kgdme\\evnvn ['axqur'] ['cgsyt.txt', 'zhvfc.txt']\n",
      "main\\olmhl\\mmtsz\\nujko\\ywjka\\pxjip\\wthmo\\wtgrc\\mgplg\\rbyav\\ppeir\\subdi\\zljoz\\kgdme\\evnvn\\axqur ['itkcz'] ['dsmgr.txt', 'exqbe.txt', 'fykwk.txt', 'karzq.txt', 'lrzdq.txt', 'pxmdu.txt', 'snjsf.py']\n",
      "main\\olmhl\\mmtsz\\nujko\\ywjka\\pxjip\\wthmo\\wtgrc\\mgplg\\rbyav\\ppeir\\subdi\\zljoz\\kgdme\\evnvn\\axqur\\itkcz [] ['hoyms.py', 'mggvs.txt', 'nnzmq.py', 'rvjcx.py']\n",
      "main\\olmhl\\mmtsz\\nujko\\ywjka\\pxjip\\wthmo\\wtgrc\\mgplg\\rbyav\\ppeir\\subdi\\zljoz\\kgdme\\jhhbu ['dufxr', 'khutz', 'rnqwd'] ['abkxq.txt', 'ddhit.txt', 'jckmn.txt', 'mvdbn.txt', 'tkkmf.txt']\n",
      "main\\olmhl\\mmtsz\\nujko\\ywjka\\pxjip\\wthmo\\wtgrc\\mgplg\\rbyav\\ppeir\\subdi\\zljoz\\kgdme\\jhhbu\\dufxr ['hlgup', 'jbsmx', 'sxojq', 'xksyt', 'xmqfi', 'xroxl'] ['heuap.txt', 'kesve.txt', 'mvznr.py', 'rselz.txt']\n",
      "main\\olmhl\\mmtsz\\nujko\\ywjka\\pxjip\\wthmo\\wtgrc\\mgplg\\rbyav\\ppeir\\subdi\\zljoz\\kgdme\\jhhbu\\dufxr\\hlgup ['auqky', 'kzoko'] ['cycho.txt', 'mozyb.txt', 'voshk.txt', 'wxxzu.py']\n",
      "main\\olmhl\\mmtsz\\nujko\\ywjka\\pxjip\\wthmo\\wtgrc\\mgplg\\rbyav\\ppeir\\subdi\\zljoz\\kgdme\\jhhbu\\dufxr\\hlgup\\auqky [] ['afymg.py']\n",
      "main\\olmhl\\mmtsz\\nujko\\ywjka\\pxjip\\wthmo\\wtgrc\\mgplg\\rbyav\\ppeir\\subdi\\zljoz\\kgdme\\jhhbu\\dufxr\\hlgup\\kzoko [] []\n",
      "main\\olmhl\\mmtsz\\nujko\\ywjka\\pxjip\\wthmo\\wtgrc\\mgplg\\rbyav\\ppeir\\subdi\\zljoz\\kgdme\\jhhbu\\dufxr\\jbsmx [] []\n",
      "main\\olmhl\\mmtsz\\nujko\\ywjka\\pxjip\\wthmo\\wtgrc\\mgplg\\rbyav\\ppeir\\subdi\\zljoz\\kgdme\\jhhbu\\dufxr\\sxojq ['rjekz'] ['frdru.py', 'grfwe.txt', 'ltedx.py', 'nugyo.txt']\n",
      "main\\olmhl\\mmtsz\\nujko\\ywjka\\pxjip\\wthmo\\wtgrc\\mgplg\\rbyav\\ppeir\\subdi\\zljoz\\kgdme\\jhhbu\\dufxr\\sxojq\\rjekz [] []\n",
      "main\\olmhl\\mmtsz\\nujko\\ywjka\\pxjip\\wthmo\\wtgrc\\mgplg\\rbyav\\ppeir\\subdi\\zljoz\\kgdme\\jhhbu\\dufxr\\xksyt [] []\n",
      "main\\olmhl\\mmtsz\\nujko\\ywjka\\pxjip\\wthmo\\wtgrc\\mgplg\\rbyav\\ppeir\\subdi\\zljoz\\kgdme\\jhhbu\\dufxr\\xmqfi [] ['ssflw.txt', 'uczpf.txt']\n",
      "main\\olmhl\\mmtsz\\nujko\\ywjka\\pxjip\\wthmo\\wtgrc\\mgplg\\rbyav\\ppeir\\subdi\\zljoz\\kgdme\\jhhbu\\dufxr\\xroxl ['abslw', 'rgunj'] ['lagpy.py', 'viutj.txt', 'wrxre.txt', 'xwnhn.txt', 'ybxzk.txt']\n",
      "main\\olmhl\\mmtsz\\nujko\\ywjka\\pxjip\\wthmo\\wtgrc\\mgplg\\rbyav\\ppeir\\subdi\\zljoz\\kgdme\\jhhbu\\dufxr\\xroxl\\abslw [] ['urqac.py']\n",
      "main\\olmhl\\mmtsz\\nujko\\ywjka\\pxjip\\wthmo\\wtgrc\\mgplg\\rbyav\\ppeir\\subdi\\zljoz\\kgdme\\jhhbu\\dufxr\\xroxl\\rgunj ['bdcjg'] ['hjzzj.txt', 'tjkav.txt', 'znkxz.txt']\n",
      "main\\olmhl\\mmtsz\\nujko\\ywjka\\pxjip\\wthmo\\wtgrc\\mgplg\\rbyav\\ppeir\\subdi\\zljoz\\kgdme\\jhhbu\\dufxr\\xroxl\\rgunj\\bdcjg ['ktkfx', 'nsyus', 'rydrk', 'vkntp', 'xpmcm'] ['lgunz.py', 'onkcs.txt']\n",
      "main\\olmhl\\mmtsz\\nujko\\ywjka\\pxjip\\wthmo\\wtgrc\\mgplg\\rbyav\\ppeir\\subdi\\zljoz\\kgdme\\jhhbu\\dufxr\\xroxl\\rgunj\\bdcjg\\ktkfx [] ['mkydd.py', 'vfylr.txt']\n",
      "main\\olmhl\\mmtsz\\nujko\\ywjka\\pxjip\\wthmo\\wtgrc\\mgplg\\rbyav\\ppeir\\subdi\\zljoz\\kgdme\\jhhbu\\dufxr\\xroxl\\rgunj\\bdcjg\\nsyus [] []\n",
      "main\\olmhl\\mmtsz\\nujko\\ywjka\\pxjip\\wthmo\\wtgrc\\mgplg\\rbyav\\ppeir\\subdi\\zljoz\\kgdme\\jhhbu\\dufxr\\xroxl\\rgunj\\bdcjg\\rydrk [] []\n",
      "main\\olmhl\\mmtsz\\nujko\\ywjka\\pxjip\\wthmo\\wtgrc\\mgplg\\rbyav\\ppeir\\subdi\\zljoz\\kgdme\\jhhbu\\dufxr\\xroxl\\rgunj\\bdcjg\\vkntp ['rjqjr'] ['enqxz.txt', 'nujsg.py', 'wutxm.txt']\n",
      "main\\olmhl\\mmtsz\\nujko\\ywjka\\pxjip\\wthmo\\wtgrc\\mgplg\\rbyav\\ppeir\\subdi\\zljoz\\kgdme\\jhhbu\\dufxr\\xroxl\\rgunj\\bdcjg\\vkntp\\rjqjr [] ['megyo.py', 'ugvgv.txt']\n",
      "main\\olmhl\\mmtsz\\nujko\\ywjka\\pxjip\\wthmo\\wtgrc\\mgplg\\rbyav\\ppeir\\subdi\\zljoz\\kgdme\\jhhbu\\dufxr\\xroxl\\rgunj\\bdcjg\\xpmcm [] ['eslhq.py']\n",
      "main\\olmhl\\mmtsz\\nujko\\ywjka\\pxjip\\wthmo\\wtgrc\\mgplg\\rbyav\\ppeir\\subdi\\zljoz\\kgdme\\jhhbu\\khutz [] []\n",
      "main\\olmhl\\mmtsz\\nujko\\ywjka\\pxjip\\wthmo\\wtgrc\\mgplg\\rbyav\\ppeir\\subdi\\zljoz\\kgdme\\jhhbu\\rnqwd ['cykbq', 'purto'] ['bjtsl.txt', 'obcpa.py', 'sbjht.py']\n",
      "main\\olmhl\\mmtsz\\nujko\\ywjka\\pxjip\\wthmo\\wtgrc\\mgplg\\rbyav\\ppeir\\subdi\\zljoz\\kgdme\\jhhbu\\rnqwd\\cykbq [] ['pdxto.txt']\n",
      "main\\olmhl\\mmtsz\\nujko\\ywjka\\pxjip\\wthmo\\wtgrc\\mgplg\\rbyav\\ppeir\\subdi\\zljoz\\kgdme\\jhhbu\\rnqwd\\purto ['bkfog', 'bsgqc', 'hmnro', 'mwhkt'] ['cyktn.txt', 'ihpqq.txt', 'kycri.txt', 'ppher.txt', 'qqyty.txt', 'ratqg.txt', 'sjhjd.py', 'ssjjr.py', 'trope.py', 'uvulr.py', 'uzvga.txt', 'zbqui.py', 'zclmh.py']\n",
      "main\\olmhl\\mmtsz\\nujko\\ywjka\\pxjip\\wthmo\\wtgrc\\mgplg\\rbyav\\ppeir\\subdi\\zljoz\\kgdme\\jhhbu\\rnqwd\\purto\\bkfog ['rvsfo'] ['dndhe.py', 'drkat.py', 'hkakk.txt', 'rjrcl.txt']\n",
      "main\\olmhl\\mmtsz\\nujko\\ywjka\\pxjip\\wthmo\\wtgrc\\mgplg\\rbyav\\ppeir\\subdi\\zljoz\\kgdme\\jhhbu\\rnqwd\\purto\\bkfog\\rvsfo ['gvbnv', 'rpnzm'] ['girkd.py']\n",
      "main\\olmhl\\mmtsz\\nujko\\ywjka\\pxjip\\wthmo\\wtgrc\\mgplg\\rbyav\\ppeir\\subdi\\zljoz\\kgdme\\jhhbu\\rnqwd\\purto\\bkfog\\rvsfo\\gvbnv [] ['qjicg.py']\n",
      "main\\olmhl\\mmtsz\\nujko\\ywjka\\pxjip\\wthmo\\wtgrc\\mgplg\\rbyav\\ppeir\\subdi\\zljoz\\kgdme\\jhhbu\\rnqwd\\purto\\bkfog\\rvsfo\\rpnzm ['ilogc', 'kafov', 'sydlz'] ['cdlnj.py', 'kholn.py', 'kxafz.py', 'wqsqb.py', 'xolho.txt']\n",
      "main\\olmhl\\mmtsz\\nujko\\ywjka\\pxjip\\wthmo\\wtgrc\\mgplg\\rbyav\\ppeir\\subdi\\zljoz\\kgdme\\jhhbu\\rnqwd\\purto\\bkfog\\rvsfo\\rpnzm\\ilogc ['reshp'] ['qtadz.py']\n",
      "main\\olmhl\\mmtsz\\nujko\\ywjka\\pxjip\\wthmo\\wtgrc\\mgplg\\rbyav\\ppeir\\subdi\\zljoz\\kgdme\\jhhbu\\rnqwd\\purto\\bkfog\\rvsfo\\rpnzm\\ilogc\\reshp [] ['czkpi.py', 'raznl.py', 'vbxad.txt', 'wevmv.py', 'zqwbg.txt']\n",
      "main\\olmhl\\mmtsz\\nujko\\ywjka\\pxjip\\wthmo\\wtgrc\\mgplg\\rbyav\\ppeir\\subdi\\zljoz\\kgdme\\jhhbu\\rnqwd\\purto\\bkfog\\rvsfo\\rpnzm\\kafov ['gndkk', 'iites'] ['gkqve.txt', 'uifjw.py']\n",
      "main\\olmhl\\mmtsz\\nujko\\ywjka\\pxjip\\wthmo\\wtgrc\\mgplg\\rbyav\\ppeir\\subdi\\zljoz\\kgdme\\jhhbu\\rnqwd\\purto\\bkfog\\rvsfo\\rpnzm\\kafov\\gndkk ['rdwhc'] []\n",
      "main\\olmhl\\mmtsz\\nujko\\ywjka\\pxjip\\wthmo\\wtgrc\\mgplg\\rbyav\\ppeir\\subdi\\zljoz\\kgdme\\jhhbu\\rnqwd\\purto\\bkfog\\rvsfo\\rpnzm\\kafov\\gndkk\\rdwhc [] []\n",
      "main\\olmhl\\mmtsz\\nujko\\ywjka\\pxjip\\wthmo\\wtgrc\\mgplg\\rbyav\\ppeir\\subdi\\zljoz\\kgdme\\jhhbu\\rnqwd\\purto\\bkfog\\rvsfo\\rpnzm\\kafov\\iites ['ygtox', 'yywbw'] ['ebguw.txt']\n",
      "main\\olmhl\\mmtsz\\nujko\\ywjka\\pxjip\\wthmo\\wtgrc\\mgplg\\rbyav\\ppeir\\subdi\\zljoz\\kgdme\\jhhbu\\rnqwd\\purto\\bkfog\\rvsfo\\rpnzm\\kafov\\iites\\ygtox ['bpmhg', 'rhvqn'] ['gqvel.txt']\n",
      "main\\olmhl\\mmtsz\\nujko\\ywjka\\pxjip\\wthmo\\wtgrc\\mgplg\\rbyav\\ppeir\\subdi\\zljoz\\kgdme\\jhhbu\\rnqwd\\purto\\bkfog\\rvsfo\\rpnzm\\kafov\\iites\\ygtox\\bpmhg [] ['ssizd.py', 'xoaoa.py']\n",
      "main\\olmhl\\mmtsz\\nujko\\ywjka\\pxjip\\wthmo\\wtgrc\\mgplg\\rbyav\\ppeir\\subdi\\zljoz\\kgdme\\jhhbu\\rnqwd\\purto\\bkfog\\rvsfo\\rpnzm\\kafov\\iites\\ygtox\\rhvqn ['ggfcr'] ['hafgb.txt', 'lxlbl.py', 'tftye.txt']\n",
      "main\\olmhl\\mmtsz\\nujko\\ywjka\\pxjip\\wthmo\\wtgrc\\mgplg\\rbyav\\ppeir\\subdi\\zljoz\\kgdme\\jhhbu\\rnqwd\\purto\\bkfog\\rvsfo\\rpnzm\\kafov\\iites\\ygtox\\rhvqn\\ggfcr ['bmihb', 'kxyxy'] ['cgzfk.py', 'qqqpe.py', 'taevp.py', 'xclus.txt']\n",
      "main\\olmhl\\mmtsz\\nujko\\ywjka\\pxjip\\wthmo\\wtgrc\\mgplg\\rbyav\\ppeir\\subdi\\zljoz\\kgdme\\jhhbu\\rnqwd\\purto\\bkfog\\rvsfo\\rpnzm\\kafov\\iites\\ygtox\\rhvqn\\ggfcr\\bmihb [] ['qnune.txt', 'qritj.txt']\n",
      "main\\olmhl\\mmtsz\\nujko\\ywjka\\pxjip\\wthmo\\wtgrc\\mgplg\\rbyav\\ppeir\\subdi\\zljoz\\kgdme\\jhhbu\\rnqwd\\purto\\bkfog\\rvsfo\\rpnzm\\kafov\\iites\\ygtox\\rhvqn\\ggfcr\\kxyxy ['inhuj', 'qrxwt'] ['dedkl.txt', 'rbykh.txt', 'tkjfg.txt', 'xxgjq.txt', 'ziymt.txt']\n",
      "main\\olmhl\\mmtsz\\nujko\\ywjka\\pxjip\\wthmo\\wtgrc\\mgplg\\rbyav\\ppeir\\subdi\\zljoz\\kgdme\\jhhbu\\rnqwd\\purto\\bkfog\\rvsfo\\rpnzm\\kafov\\iites\\ygtox\\rhvqn\\ggfcr\\kxyxy\\inhuj [] []\n",
      "main\\olmhl\\mmtsz\\nujko\\ywjka\\pxjip\\wthmo\\wtgrc\\mgplg\\rbyav\\ppeir\\subdi\\zljoz\\kgdme\\jhhbu\\rnqwd\\purto\\bkfog\\rvsfo\\rpnzm\\kafov\\iites\\ygtox\\rhvqn\\ggfcr\\kxyxy\\qrxwt [] ['djwiq.py']\n",
      "main\\olmhl\\mmtsz\\nujko\\ywjka\\pxjip\\wthmo\\wtgrc\\mgplg\\rbyav\\ppeir\\subdi\\zljoz\\kgdme\\jhhbu\\rnqwd\\purto\\bkfog\\rvsfo\\rpnzm\\kafov\\iites\\yywbw [] []\n",
      "main\\olmhl\\mmtsz\\nujko\\ywjka\\pxjip\\wthmo\\wtgrc\\mgplg\\rbyav\\ppeir\\subdi\\zljoz\\kgdme\\jhhbu\\rnqwd\\purto\\bkfog\\rvsfo\\rpnzm\\sydlz [] []\n",
      "main\\olmhl\\mmtsz\\nujko\\ywjka\\pxjip\\wthmo\\wtgrc\\mgplg\\rbyav\\ppeir\\subdi\\zljoz\\kgdme\\jhhbu\\rnqwd\\purto\\bsgqc ['ujtgh'] ['xljbc.txt', 'zjedz.txt']\n",
      "main\\olmhl\\mmtsz\\nujko\\ywjka\\pxjip\\wthmo\\wtgrc\\mgplg\\rbyav\\ppeir\\subdi\\zljoz\\kgdme\\jhhbu\\rnqwd\\purto\\bsgqc\\ujtgh ['tyapv'] ['aqqzt.py', 'jyckp.txt', 'uhuvh.py', 'zltuv.txt']\n",
      "main\\olmhl\\mmtsz\\nujko\\ywjka\\pxjip\\wthmo\\wtgrc\\mgplg\\rbyav\\ppeir\\subdi\\zljoz\\kgdme\\jhhbu\\rnqwd\\purto\\bsgqc\\ujtgh\\tyapv ['rbmqk', 'splzy'] ['dwwlp.py', 'edfgq.txt', 'mrkmf.py', 'nglat.txt', 'nqcnq.txt', 'sxsij.txt', 'tpycd.txt', 'vzkic.py', 'xaeym.txt', 'zatko.txt']\n",
      "main\\olmhl\\mmtsz\\nujko\\ywjka\\pxjip\\wthmo\\wtgrc\\mgplg\\rbyav\\ppeir\\subdi\\zljoz\\kgdme\\jhhbu\\rnqwd\\purto\\bsgqc\\ujtgh\\tyapv\\rbmqk [] ['omslv.txt']\n",
      "main\\olmhl\\mmtsz\\nujko\\ywjka\\pxjip\\wthmo\\wtgrc\\mgplg\\rbyav\\ppeir\\subdi\\zljoz\\kgdme\\jhhbu\\rnqwd\\purto\\bsgqc\\ujtgh\\tyapv\\splzy [] ['smzhc.txt']\n",
      "main\\olmhl\\mmtsz\\nujko\\ywjka\\pxjip\\wthmo\\wtgrc\\mgplg\\rbyav\\ppeir\\subdi\\zljoz\\kgdme\\jhhbu\\rnqwd\\purto\\hmnro ['jtmnb'] []\n",
      "main\\olmhl\\mmtsz\\nujko\\ywjka\\pxjip\\wthmo\\wtgrc\\mgplg\\rbyav\\ppeir\\subdi\\zljoz\\kgdme\\jhhbu\\rnqwd\\purto\\hmnro\\jtmnb [] ['ontkl.txt', 'rvzlj.py']\n",
      "main\\olmhl\\mmtsz\\nujko\\ywjka\\pxjip\\wthmo\\wtgrc\\mgplg\\rbyav\\ppeir\\subdi\\zljoz\\kgdme\\jhhbu\\rnqwd\\purto\\mwhkt [] []\n",
      "main\\olmhl\\mmtsz\\nujko\\ywjka\\pxjip\\wthmo\\wtgrc\\mgplg\\rbyav\\ppeir\\subdi\\zljoz\\sgmoj [] ['oteke.py', 'zxoah.py']\n",
      "main\\olmhl\\mmtsz\\nujko\\ywjka\\pxjip\\wthmo\\wtgrc\\mgplg\\rbyav\\ppeir\\subdi\\zljoz\\xrvnu [] ['dxvcb.py', 'gbevo.txt', 'rovjs.py']\n",
      "main\\olmhl\\mmtsz\\nujko\\ywjka\\pxjip\\wthmo\\wtgrc\\mgplg\\rbyav\\ppeir\\vsdfx [] ['pmnyj.txt']\n",
      "main\\olmhl\\mmtsz\\nujko\\ywjka\\pxjip\\wthmo\\wtgrc\\mgplg\\rbyav\\qosgw ['hxnor'] ['hcibv.txt', 'qpajn.py']\n",
      "main\\olmhl\\mmtsz\\nujko\\ywjka\\pxjip\\wthmo\\wtgrc\\mgplg\\rbyav\\qosgw\\hxnor [] []\n",
      "main\\olmhl\\mmtsz\\nujko\\ywjka\\pxjip\\wthmo\\wtgrc\\mgplg\\rbyav\\uaodv [] ['dikzy.py', 'lcoui.txt']\n",
      "main\\olmhl\\mmtsz\\nujko\\ywjka\\pxjip\\wthmo\\wtgrc\\mgplg\\rbyav\\yqzsa [] ['ufxbx.txt', 'yrxcm.txt']\n",
      "main\\olmhl\\mmtsz\\nujko\\ywjka\\pxjip\\wthmo\\wtgrc\\zfukg ['axlsq', 'cazio', 'jvmme', 'rvuph', 'ttmjw', 'vydse'] ['badbu.txt', 'eqozh.txt', 'exewx.py', 'flder.txt', 'lkale.txt', 'ncajz.py', 'ooyge.txt', 'vtsov.py', 'wggct.py', 'xcarh.py', 'yqthe.py', 'yxzsn.txt', 'yzjqu.txt', 'zqbnu.txt']\n",
      "main\\olmhl\\mmtsz\\nujko\\ywjka\\pxjip\\wthmo\\wtgrc\\zfukg\\axlsq [] ['ojzky.txt']\n",
      "main\\olmhl\\mmtsz\\nujko\\ywjka\\pxjip\\wthmo\\wtgrc\\zfukg\\cazio ['sosdj'] ['zkakj.py', 'zxxeu.py']\n",
      "main\\olmhl\\mmtsz\\nujko\\ywjka\\pxjip\\wthmo\\wtgrc\\zfukg\\cazio\\sosdj ['rcsvd', 'uuyrs', 'yujjk'] ['cbmii.txt', 'dzkem.txt', 'kjava.py']\n",
      "main\\olmhl\\mmtsz\\nujko\\ywjka\\pxjip\\wthmo\\wtgrc\\zfukg\\cazio\\sosdj\\rcsvd [] ['lmyue.py']\n",
      "main\\olmhl\\mmtsz\\nujko\\ywjka\\pxjip\\wthmo\\wtgrc\\zfukg\\cazio\\sosdj\\uuyrs [] ['lzvgo.py']\n",
      "main\\olmhl\\mmtsz\\nujko\\ywjka\\pxjip\\wthmo\\wtgrc\\zfukg\\cazio\\sosdj\\yujjk [] ['jrpje.txt', 'tglpv.txt', 'tmonk.py', 'tqbxn.txt']\n",
      "main\\olmhl\\mmtsz\\nujko\\ywjka\\pxjip\\wthmo\\wtgrc\\zfukg\\jvmme ['eayzq', 'ipboa', 'kehsm', 'vynzv', 'wvwva'] ['ndmba.txt', 'peoqq.txt', 'ycnmt.py']\n",
      "main\\olmhl\\mmtsz\\nujko\\ywjka\\pxjip\\wthmo\\wtgrc\\zfukg\\jvmme\\eayzq ['isyki', 'nuiwj', 'tixoq', 'wfnda'] []\n",
      "main\\olmhl\\mmtsz\\nujko\\ywjka\\pxjip\\wthmo\\wtgrc\\zfukg\\jvmme\\eayzq\\isyki [] ['ooakq.txt', 'pqzao.py', 'sxnyt.py', 'tzfue.txt']\n",
      "main\\olmhl\\mmtsz\\nujko\\ywjka\\pxjip\\wthmo\\wtgrc\\zfukg\\jvmme\\eayzq\\nuiwj [] ['qtfig.py']\n",
      "main\\olmhl\\mmtsz\\nujko\\ywjka\\pxjip\\wthmo\\wtgrc\\zfukg\\jvmme\\eayzq\\tixoq ['lldpv'] ['jzzng.txt', 'upvvt.txt']\n",
      "main\\olmhl\\mmtsz\\nujko\\ywjka\\pxjip\\wthmo\\wtgrc\\zfukg\\jvmme\\eayzq\\tixoq\\lldpv ['hbsiz'] ['hzgem.py', 'nzmgi.py', 'qxkag.py']\n",
      "main\\olmhl\\mmtsz\\nujko\\ywjka\\pxjip\\wthmo\\wtgrc\\zfukg\\jvmme\\eayzq\\tixoq\\lldpv\\hbsiz [] []\n",
      "main\\olmhl\\mmtsz\\nujko\\ywjka\\pxjip\\wthmo\\wtgrc\\zfukg\\jvmme\\eayzq\\wfnda [] ['bkfpc.txt', 'lzcsc.txt', 'myqbc.txt', 'wenln.py']\n",
      "main\\olmhl\\mmtsz\\nujko\\ywjka\\pxjip\\wthmo\\wtgrc\\zfukg\\jvmme\\ipboa [] []\n",
      "main\\olmhl\\mmtsz\\nujko\\ywjka\\pxjip\\wthmo\\wtgrc\\zfukg\\jvmme\\kehsm [] ['racex.py']\n",
      "main\\olmhl\\mmtsz\\nujko\\ywjka\\pxjip\\wthmo\\wtgrc\\zfukg\\jvmme\\vynzv [] ['cnlvc.txt', 'qtxsm.py']\n",
      "main\\olmhl\\mmtsz\\nujko\\ywjka\\pxjip\\wthmo\\wtgrc\\zfukg\\jvmme\\wvwva ['bufuy', 'jebnq', 'nosvo'] ['cyasy.txt', 'ehaxe.py', 'fkxut.txt', 'fwutv.py', 'ghtwx.py', 'hxbrt.txt', 'oqgva.txt']\n",
      "main\\olmhl\\mmtsz\\nujko\\ywjka\\pxjip\\wthmo\\wtgrc\\zfukg\\jvmme\\wvwva\\bufuy [] ['rhfsy.txt']\n",
      "main\\olmhl\\mmtsz\\nujko\\ywjka\\pxjip\\wthmo\\wtgrc\\zfukg\\jvmme\\wvwva\\jebnq ['kjmeo', 'phcud'] ['hkmde.txt']\n",
      "main\\olmhl\\mmtsz\\nujko\\ywjka\\pxjip\\wthmo\\wtgrc\\zfukg\\jvmme\\wvwva\\jebnq\\kjmeo [] ['jfckr.py', 'obnym.txt', 'ovpoz.txt']\n",
      "main\\olmhl\\mmtsz\\nujko\\ywjka\\pxjip\\wthmo\\wtgrc\\zfukg\\jvmme\\wvwva\\jebnq\\phcud ['vllzq'] ['oehnz.py', 'yonbu.txt']\n",
      "main\\olmhl\\mmtsz\\nujko\\ywjka\\pxjip\\wthmo\\wtgrc\\zfukg\\jvmme\\wvwva\\jebnq\\phcud\\vllzq [] []\n",
      "main\\olmhl\\mmtsz\\nujko\\ywjka\\pxjip\\wthmo\\wtgrc\\zfukg\\jvmme\\wvwva\\nosvo [] []\n",
      "main\\olmhl\\mmtsz\\nujko\\ywjka\\pxjip\\wthmo\\wtgrc\\zfukg\\rvuph [] ['fvrwq.txt']\n",
      "main\\olmhl\\mmtsz\\nujko\\ywjka\\pxjip\\wthmo\\wtgrc\\zfukg\\ttmjw [] []\n",
      "main\\olmhl\\mmtsz\\nujko\\ywjka\\pxjip\\wthmo\\wtgrc\\zfukg\\vydse ['uuzho'] ['yzhtw.py']\n",
      "main\\olmhl\\mmtsz\\nujko\\ywjka\\pxjip\\wthmo\\wtgrc\\zfukg\\vydse\\uuzho ['popcu'] ['duvqv.txt']\n",
      "main\\olmhl\\mmtsz\\nujko\\ywjka\\pxjip\\wthmo\\wtgrc\\zfukg\\vydse\\uuzho\\popcu [] []\n",
      "main\\olmhl\\mmtsz\\nujko\\ywjka\\pxjip\\wthmo\\yaqkg [] []\n",
      "main\\olmhl\\mmtsz\\nujko\\ywjxy [] ['danel.txt', 'isljh.py', 'smpkt.txt', 'tdktd.txt', 'ywjow.txt', 'zvlcy.txt']\n",
      "main\\olmhl\\mmtsz\\phcap [] ['etheg.txt', 'udied.py']\n",
      "main\\qkseh ['uxhxb'] ['fdfju.py', 'levqj.txt', 'mmvbh.py', 'sxtth.txt', 'wecoy.txt']\n",
      "main\\qkseh\\uxhxb ['mwaqm'] ['dkpkp.txt']\n",
      "main\\qkseh\\uxhxb\\mwaqm [] ['fcncy.txt']\n",
      "main\\sitdc [] ['kvayn.py', 'vucrc.txt']\n",
      "main\\taivr ['bcsow', 'yptwa'] ['nvbgf.py', 'qcwfi.txt']\n",
      "main\\taivr\\bcsow [] ['ajvsh.txt', 'ceqnw.py', 'nhhlc.txt', 'otmzp.txt', 'pmcca.txt', 'rqxod.txt', 'tfcnd.txt']\n",
      "main\\taivr\\yptwa ['xsbzr'] []\n",
      "main\\taivr\\yptwa\\xsbzr ['armfl', 'hcasz'] ['dcwkh.txt', 'podph.txt', 'tpzyb.py', 'xtrwo.txt']\n",
      "main\\taivr\\yptwa\\xsbzr\\armfl [] ['bfkjp.txt', 'nhwim.txt', 'zfdgl.txt', 'zldzs.txt']\n",
      "main\\taivr\\yptwa\\xsbzr\\hcasz ['ilitr'] []\n",
      "main\\taivr\\yptwa\\xsbzr\\hcasz\\ilitr ['joejy', 'urguw'] ['jvkxo.txt']\n",
      "main\\taivr\\yptwa\\xsbzr\\hcasz\\ilitr\\joejy ['bjusr'] ['cewmk.py']\n",
      "main\\taivr\\yptwa\\xsbzr\\hcasz\\ilitr\\joejy\\bjusr [] []\n",
      "main\\taivr\\yptwa\\xsbzr\\hcasz\\ilitr\\urguw ['sjmeg'] ['twpgm.txt', 'zxfpt.txt']\n",
      "main\\taivr\\yptwa\\xsbzr\\hcasz\\ilitr\\urguw\\sjmeg ['ddnaa'] ['sqlda.txt', 'xsukp.txt']\n",
      "main\\taivr\\yptwa\\xsbzr\\hcasz\\ilitr\\urguw\\sjmeg\\ddnaa ['ckaab', 'jxhbl', 'lszec'] ['bffrb.py', 'eihky.txt', 'ghojr.txt', 'hcyqp.txt', 'hyuxj.txt', 'lshgy.py', 'rvzwp.py', 'xpjax.txt']\n",
      "main\\taivr\\yptwa\\xsbzr\\hcasz\\ilitr\\urguw\\sjmeg\\ddnaa\\ckaab [] ['dlokm.txt', 'krlys.py', 'zppuj.py']\n",
      "main\\taivr\\yptwa\\xsbzr\\hcasz\\ilitr\\urguw\\sjmeg\\ddnaa\\jxhbl ['lradw', 'tpdvr'] []\n",
      "main\\taivr\\yptwa\\xsbzr\\hcasz\\ilitr\\urguw\\sjmeg\\ddnaa\\jxhbl\\lradw ['iglcm'] ['dnjsf.py', 'gxkwi.txt', 'izvpu.txt', 'zidfs.txt', 'zlyuw.txt']\n",
      "main\\taivr\\yptwa\\xsbzr\\hcasz\\ilitr\\urguw\\sjmeg\\ddnaa\\jxhbl\\lradw\\iglcm [] ['cnems.py', 'equko.py', 'esyhw.txt', 'fenje.txt', 'lfesp.py', 'wnzzk.py', 'xpfmw.py', 'xpulv.txt']\n",
      "main\\taivr\\yptwa\\xsbzr\\hcasz\\ilitr\\urguw\\sjmeg\\ddnaa\\jxhbl\\tpdvr ['mchbv', 'wrgbg'] ['pfoyt.py', 'qmrnz.txt', 'xsedu.txt']\n",
      "main\\taivr\\yptwa\\xsbzr\\hcasz\\ilitr\\urguw\\sjmeg\\ddnaa\\jxhbl\\tpdvr\\mchbv [] []\n",
      "main\\taivr\\yptwa\\xsbzr\\hcasz\\ilitr\\urguw\\sjmeg\\ddnaa\\jxhbl\\tpdvr\\wrgbg [] []\n",
      "main\\taivr\\yptwa\\xsbzr\\hcasz\\ilitr\\urguw\\sjmeg\\ddnaa\\lszec ['ncdyy', 'ofdms', 'wdftb'] ['dhkcg.txt', 'gaslh.txt', 'jleiq.py', 'pmxrs.py', 'pudrf.txt', 'sknss.py']\n",
      "main\\taivr\\yptwa\\xsbzr\\hcasz\\ilitr\\urguw\\sjmeg\\ddnaa\\lszec\\ncdyy [] ['jqivk.txt', 'rhozk.txt']\n",
      "main\\taivr\\yptwa\\xsbzr\\hcasz\\ilitr\\urguw\\sjmeg\\ddnaa\\lszec\\ofdms [] ['jppbd.txt', 'jxjlk.txt', 'knzps.txt']\n",
      "main\\taivr\\yptwa\\xsbzr\\hcasz\\ilitr\\urguw\\sjmeg\\ddnaa\\lszec\\wdftb ['fajay', 'mhqps'] ['brmmp.txt', 'chdnu.txt', 'crwkr.txt', 'jcxov.txt', 'opzlf.txt', 'ziwlw.txt']\n",
      "main\\taivr\\yptwa\\xsbzr\\hcasz\\ilitr\\urguw\\sjmeg\\ddnaa\\lszec\\wdftb\\fajay [] ['mkydb.txt', 'wcdub.txt']\n",
      "main\\taivr\\yptwa\\xsbzr\\hcasz\\ilitr\\urguw\\sjmeg\\ddnaa\\lszec\\wdftb\\mhqps [] ['alktd.txt', 'uqqxx.py', 'vkvkp.py']\n",
      "main\\tgwey [] []\n",
      "main\\uvvuz ['bdtyv', 'ksnof'] ['bmuav.py', 'dcfnq.txt', 'ksfjq.py', 'xxuhp.txt']\n",
      "main\\uvvuz\\bdtyv [] ['gldex.txt', 'gpwna.txt', 'sjhfg.txt', 'sztlk.txt', 'yhbfx.txt']\n",
      "main\\uvvuz\\ksnof [] ['vjvey.py', 'ylmqp.txt']\n",
      "main\\wkwll [] ['tfncr.txt']\n",
      "main\\ybebm [] ['rklqu.txt']\n",
      "main\\zduna ['enfpw', 'ywucw'] ['sqeuh.txt']\n",
      "main\\zduna\\enfpw [] []\n",
      "main\\zduna\\ywucw ['rcacj', 'tagpz'] ['buxwc.txt', 'ixrqq.py', 'kmiuh.txt', 'nrkfg.txt', 'oxauw.txt', 'rjjzv.py', 'rwejw.py', 'zzraa.txt']\n",
      "main\\zduna\\ywucw\\rcacj [] ['syitm.txt']\n",
      "main\\zduna\\ywucw\\tagpz [] []\n",
      "main\\zyczx [] ['dqiag.txt', 'edqml.txt', 'njkyn.py', 'wftkz.txt']\n",
      "['main', 'main\\\\afkgv', 'main\\\\frtrl', 'main\\\\hgyoc', 'main\\\\hgyoc\\\\kwawh', 'main\\\\hgyoc\\\\kwawh\\\\hapry', 'main\\\\hgyoc\\\\kwawh\\\\rzgzv', 'main\\\\hgyoc\\\\ycbxr\\\\ivjta', 'main\\\\ksuvk\\\\xjrqt', 'main\\\\ksuvk\\\\xjrqt\\\\qdbqt\\\\hotgx', 'main\\\\ksuvk\\\\xjrqt\\\\qdbqt\\\\hotgx\\\\izwwv', 'main\\\\ksuvk\\\\xjrqt\\\\qdbqt\\\\prkcp\\\\dnyyv', 'main\\\\lqbli\\\\otofk', 'main\\\\lqbli\\\\otofk\\\\armko', 'main\\\\mwhci', 'main\\\\olmhl\\\\mmtsz', 'main\\\\olmhl\\\\mmtsz\\\\nujko\\\\ywjka', 'main\\\\olmhl\\\\mmtsz\\\\nujko\\\\ywjka\\\\pxjip', 'main\\\\olmhl\\\\mmtsz\\\\nujko\\\\ywjka\\\\pxjip\\\\wthmo', 'main\\\\olmhl\\\\mmtsz\\\\nujko\\\\ywjka\\\\pxjip\\\\wthmo\\\\rwwuw', 'main\\\\olmhl\\\\mmtsz\\\\nujko\\\\ywjka\\\\pxjip\\\\wthmo\\\\wtgrc', 'main\\\\olmhl\\\\mmtsz\\\\nujko\\\\ywjka\\\\pxjip\\\\wthmo\\\\wtgrc\\\\grnfu', 'main\\\\olmhl\\\\mmtsz\\\\nujko\\\\ywjka\\\\pxjip\\\\wthmo\\\\wtgrc\\\\juoxd', 'main\\\\olmhl\\\\mmtsz\\\\nujko\\\\ywjka\\\\pxjip\\\\wthmo\\\\wtgrc\\\\kztxg\\\\qwlrx', 'main\\\\olmhl\\\\mmtsz\\\\nujko\\\\ywjka\\\\pxjip\\\\wthmo\\\\wtgrc\\\\kztxg\\\\qwlrx\\\\djozj', 'main\\\\olmhl\\\\mmtsz\\\\nujko\\\\ywjka\\\\pxjip\\\\wthmo\\\\wtgrc\\\\kztxg\\\\qwlrx\\\\lirot', 'main\\\\olmhl\\\\mmtsz\\\\nujko\\\\ywjka\\\\pxjip\\\\wthmo\\\\wtgrc\\\\kztxg\\\\qwlrx\\\\nfcxf', 'main\\\\olmhl\\\\mmtsz\\\\nujko\\\\ywjka\\\\pxjip\\\\wthmo\\\\wtgrc\\\\mgplg\\\\rbyav', 'main\\\\olmhl\\\\mmtsz\\\\nujko\\\\ywjka\\\\pxjip\\\\wthmo\\\\wtgrc\\\\mgplg\\\\rbyav\\\\ppeir\\\\subdi', 'main\\\\olmhl\\\\mmtsz\\\\nujko\\\\ywjka\\\\pxjip\\\\wthmo\\\\wtgrc\\\\mgplg\\\\rbyav\\\\ppeir\\\\subdi\\\\afrqp\\\\iaujh', 'main\\\\olmhl\\\\mmtsz\\\\nujko\\\\ywjka\\\\pxjip\\\\wthmo\\\\wtgrc\\\\mgplg\\\\rbyav\\\\ppeir\\\\subdi\\\\afrqp\\\\iaujh\\\\jqjsg', 'main\\\\olmhl\\\\mmtsz\\\\nujko\\\\ywjka\\\\pxjip\\\\wthmo\\\\wtgrc\\\\mgplg\\\\rbyav\\\\ppeir\\\\subdi\\\\afrqp\\\\iaujh\\\\jqjsg\\\\xriod', 'main\\\\olmhl\\\\mmtsz\\\\nujko\\\\ywjka\\\\pxjip\\\\wthmo\\\\wtgrc\\\\mgplg\\\\rbyav\\\\ppeir\\\\subdi\\\\afrqp\\\\iaujh\\\\jqnsz', 'main\\\\olmhl\\\\mmtsz\\\\nujko\\\\ywjka\\\\pxjip\\\\wthmo\\\\wtgrc\\\\mgplg\\\\rbyav\\\\ppeir\\\\subdi\\\\zljoz', 'main\\\\olmhl\\\\mmtsz\\\\nujko\\\\ywjka\\\\pxjip\\\\wthmo\\\\wtgrc\\\\mgplg\\\\rbyav\\\\ppeir\\\\subdi\\\\zljoz\\\\kgdme', 'main\\\\olmhl\\\\mmtsz\\\\nujko\\\\ywjka\\\\pxjip\\\\wthmo\\\\wtgrc\\\\mgplg\\\\rbyav\\\\ppeir\\\\subdi\\\\zljoz\\\\kgdme\\\\evnvn\\\\axqur', 'main\\\\olmhl\\\\mmtsz\\\\nujko\\\\ywjka\\\\pxjip\\\\wthmo\\\\wtgrc\\\\mgplg\\\\rbyav\\\\ppeir\\\\subdi\\\\zljoz\\\\kgdme\\\\evnvn\\\\axqur\\\\itkcz', 'main\\\\olmhl\\\\mmtsz\\\\nujko\\\\ywjka\\\\pxjip\\\\wthmo\\\\wtgrc\\\\mgplg\\\\rbyav\\\\ppeir\\\\subdi\\\\zljoz\\\\kgdme\\\\jhhbu\\\\dufxr', 'main\\\\olmhl\\\\mmtsz\\\\nujko\\\\ywjka\\\\pxjip\\\\wthmo\\\\wtgrc\\\\mgplg\\\\rbyav\\\\ppeir\\\\subdi\\\\zljoz\\\\kgdme\\\\jhhbu\\\\dufxr\\\\hlgup', 'main\\\\olmhl\\\\mmtsz\\\\nujko\\\\ywjka\\\\pxjip\\\\wthmo\\\\wtgrc\\\\mgplg\\\\rbyav\\\\ppeir\\\\subdi\\\\zljoz\\\\kgdme\\\\jhhbu\\\\dufxr\\\\hlgup\\\\auqky', 'main\\\\olmhl\\\\mmtsz\\\\nujko\\\\ywjka\\\\pxjip\\\\wthmo\\\\wtgrc\\\\mgplg\\\\rbyav\\\\ppeir\\\\subdi\\\\zljoz\\\\kgdme\\\\jhhbu\\\\dufxr\\\\sxojq', 'main\\\\olmhl\\\\mmtsz\\\\nujko\\\\ywjka\\\\pxjip\\\\wthmo\\\\wtgrc\\\\mgplg\\\\rbyav\\\\ppeir\\\\subdi\\\\zljoz\\\\kgdme\\\\jhhbu\\\\dufxr\\\\xroxl', 'main\\\\olmhl\\\\mmtsz\\\\nujko\\\\ywjka\\\\pxjip\\\\wthmo\\\\wtgrc\\\\mgplg\\\\rbyav\\\\ppeir\\\\subdi\\\\zljoz\\\\kgdme\\\\jhhbu\\\\dufxr\\\\xroxl\\\\abslw', 'main\\\\olmhl\\\\mmtsz\\\\nujko\\\\ywjka\\\\pxjip\\\\wthmo\\\\wtgrc\\\\mgplg\\\\rbyav\\\\ppeir\\\\subdi\\\\zljoz\\\\kgdme\\\\jhhbu\\\\dufxr\\\\xroxl\\\\rgunj\\\\bdcjg', 'main\\\\olmhl\\\\mmtsz\\\\nujko\\\\ywjka\\\\pxjip\\\\wthmo\\\\wtgrc\\\\mgplg\\\\rbyav\\\\ppeir\\\\subdi\\\\zljoz\\\\kgdme\\\\jhhbu\\\\dufxr\\\\xroxl\\\\rgunj\\\\bdcjg\\\\ktkfx', 'main\\\\olmhl\\\\mmtsz\\\\nujko\\\\ywjka\\\\pxjip\\\\wthmo\\\\wtgrc\\\\mgplg\\\\rbyav\\\\ppeir\\\\subdi\\\\zljoz\\\\kgdme\\\\jhhbu\\\\dufxr\\\\xroxl\\\\rgunj\\\\bdcjg\\\\vkntp', 'main\\\\olmhl\\\\mmtsz\\\\nujko\\\\ywjka\\\\pxjip\\\\wthmo\\\\wtgrc\\\\mgplg\\\\rbyav\\\\ppeir\\\\subdi\\\\zljoz\\\\kgdme\\\\jhhbu\\\\dufxr\\\\xroxl\\\\rgunj\\\\bdcjg\\\\vkntp\\\\rjqjr', 'main\\\\olmhl\\\\mmtsz\\\\nujko\\\\ywjka\\\\pxjip\\\\wthmo\\\\wtgrc\\\\mgplg\\\\rbyav\\\\ppeir\\\\subdi\\\\zljoz\\\\kgdme\\\\jhhbu\\\\dufxr\\\\xroxl\\\\rgunj\\\\bdcjg\\\\xpmcm', 'main\\\\olmhl\\\\mmtsz\\\\nujko\\\\ywjka\\\\pxjip\\\\wthmo\\\\wtgrc\\\\mgplg\\\\rbyav\\\\ppeir\\\\subdi\\\\zljoz\\\\kgdme\\\\jhhbu\\\\rnqwd', 'main\\\\olmhl\\\\mmtsz\\\\nujko\\\\ywjka\\\\pxjip\\\\wthmo\\\\wtgrc\\\\mgplg\\\\rbyav\\\\ppeir\\\\subdi\\\\zljoz\\\\kgdme\\\\jhhbu\\\\rnqwd\\\\purto', 'main\\\\olmhl\\\\mmtsz\\\\nujko\\\\ywjka\\\\pxjip\\\\wthmo\\\\wtgrc\\\\mgplg\\\\rbyav\\\\ppeir\\\\subdi\\\\zljoz\\\\kgdme\\\\jhhbu\\\\rnqwd\\\\purto\\\\bkfog', 'main\\\\olmhl\\\\mmtsz\\\\nujko\\\\ywjka\\\\pxjip\\\\wthmo\\\\wtgrc\\\\mgplg\\\\rbyav\\\\ppeir\\\\subdi\\\\zljoz\\\\kgdme\\\\jhhbu\\\\rnqwd\\\\purto\\\\bkfog\\\\rvsfo', 'main\\\\olmhl\\\\mmtsz\\\\nujko\\\\ywjka\\\\pxjip\\\\wthmo\\\\wtgrc\\\\mgplg\\\\rbyav\\\\ppeir\\\\subdi\\\\zljoz\\\\kgdme\\\\jhhbu\\\\rnqwd\\\\purto\\\\bkfog\\\\rvsfo\\\\gvbnv', 'main\\\\olmhl\\\\mmtsz\\\\nujko\\\\ywjka\\\\pxjip\\\\wthmo\\\\wtgrc\\\\mgplg\\\\rbyav\\\\ppeir\\\\subdi\\\\zljoz\\\\kgdme\\\\jhhbu\\\\rnqwd\\\\purto\\\\bkfog\\\\rvsfo\\\\rpnzm', 'main\\\\olmhl\\\\mmtsz\\\\nujko\\\\ywjka\\\\pxjip\\\\wthmo\\\\wtgrc\\\\mgplg\\\\rbyav\\\\ppeir\\\\subdi\\\\zljoz\\\\kgdme\\\\jhhbu\\\\rnqwd\\\\purto\\\\bkfog\\\\rvsfo\\\\rpnzm\\\\ilogc', 'main\\\\olmhl\\\\mmtsz\\\\nujko\\\\ywjka\\\\pxjip\\\\wthmo\\\\wtgrc\\\\mgplg\\\\rbyav\\\\ppeir\\\\subdi\\\\zljoz\\\\kgdme\\\\jhhbu\\\\rnqwd\\\\purto\\\\bkfog\\\\rvsfo\\\\rpnzm\\\\ilogc\\\\reshp', 'main\\\\olmhl\\\\mmtsz\\\\nujko\\\\ywjka\\\\pxjip\\\\wthmo\\\\wtgrc\\\\mgplg\\\\rbyav\\\\ppeir\\\\subdi\\\\zljoz\\\\kgdme\\\\jhhbu\\\\rnqwd\\\\purto\\\\bkfog\\\\rvsfo\\\\rpnzm\\\\kafov', 'main\\\\olmhl\\\\mmtsz\\\\nujko\\\\ywjka\\\\pxjip\\\\wthmo\\\\wtgrc\\\\mgplg\\\\rbyav\\\\ppeir\\\\subdi\\\\zljoz\\\\kgdme\\\\jhhbu\\\\rnqwd\\\\purto\\\\bkfog\\\\rvsfo\\\\rpnzm\\\\kafov\\\\iites\\\\ygtox\\\\bpmhg', 'main\\\\olmhl\\\\mmtsz\\\\nujko\\\\ywjka\\\\pxjip\\\\wthmo\\\\wtgrc\\\\mgplg\\\\rbyav\\\\ppeir\\\\subdi\\\\zljoz\\\\kgdme\\\\jhhbu\\\\rnqwd\\\\purto\\\\bkfog\\\\rvsfo\\\\rpnzm\\\\kafov\\\\iites\\\\ygtox\\\\rhvqn', 'main\\\\olmhl\\\\mmtsz\\\\nujko\\\\ywjka\\\\pxjip\\\\wthmo\\\\wtgrc\\\\mgplg\\\\rbyav\\\\ppeir\\\\subdi\\\\zljoz\\\\kgdme\\\\jhhbu\\\\rnqwd\\\\purto\\\\bkfog\\\\rvsfo\\\\rpnzm\\\\kafov\\\\iites\\\\ygtox\\\\rhvqn\\\\ggfcr', 'main\\\\olmhl\\\\mmtsz\\\\nujko\\\\ywjka\\\\pxjip\\\\wthmo\\\\wtgrc\\\\mgplg\\\\rbyav\\\\ppeir\\\\subdi\\\\zljoz\\\\kgdme\\\\jhhbu\\\\rnqwd\\\\purto\\\\bkfog\\\\rvsfo\\\\rpnzm\\\\kafov\\\\iites\\\\ygtox\\\\rhvqn\\\\ggfcr\\\\kxyxy\\\\qrxwt', 'main\\\\olmhl\\\\mmtsz\\\\nujko\\\\ywjka\\\\pxjip\\\\wthmo\\\\wtgrc\\\\mgplg\\\\rbyav\\\\ppeir\\\\subdi\\\\zljoz\\\\kgdme\\\\jhhbu\\\\rnqwd\\\\purto\\\\bsgqc\\\\ujtgh', 'main\\\\olmhl\\\\mmtsz\\\\nujko\\\\ywjka\\\\pxjip\\\\wthmo\\\\wtgrc\\\\mgplg\\\\rbyav\\\\ppeir\\\\subdi\\\\zljoz\\\\kgdme\\\\jhhbu\\\\rnqwd\\\\purto\\\\bsgqc\\\\ujtgh\\\\tyapv', 'main\\\\olmhl\\\\mmtsz\\\\nujko\\\\ywjka\\\\pxjip\\\\wthmo\\\\wtgrc\\\\mgplg\\\\rbyav\\\\ppeir\\\\subdi\\\\zljoz\\\\kgdme\\\\jhhbu\\\\rnqwd\\\\purto\\\\hmnro\\\\jtmnb', 'main\\\\olmhl\\\\mmtsz\\\\nujko\\\\ywjka\\\\pxjip\\\\wthmo\\\\wtgrc\\\\mgplg\\\\rbyav\\\\ppeir\\\\subdi\\\\zljoz\\\\sgmoj', 'main\\\\olmhl\\\\mmtsz\\\\nujko\\\\ywjka\\\\pxjip\\\\wthmo\\\\wtgrc\\\\mgplg\\\\rbyav\\\\ppeir\\\\subdi\\\\zljoz\\\\xrvnu', 'main\\\\olmhl\\\\mmtsz\\\\nujko\\\\ywjka\\\\pxjip\\\\wthmo\\\\wtgrc\\\\mgplg\\\\rbyav\\\\qosgw', 'main\\\\olmhl\\\\mmtsz\\\\nujko\\\\ywjka\\\\pxjip\\\\wthmo\\\\wtgrc\\\\mgplg\\\\rbyav\\\\uaodv', 'main\\\\olmhl\\\\mmtsz\\\\nujko\\\\ywjka\\\\pxjip\\\\wthmo\\\\wtgrc\\\\zfukg', 'main\\\\olmhl\\\\mmtsz\\\\nujko\\\\ywjka\\\\pxjip\\\\wthmo\\\\wtgrc\\\\zfukg\\\\cazio', 'main\\\\olmhl\\\\mmtsz\\\\nujko\\\\ywjka\\\\pxjip\\\\wthmo\\\\wtgrc\\\\zfukg\\\\cazio\\\\sosdj', 'main\\\\olmhl\\\\mmtsz\\\\nujko\\\\ywjka\\\\pxjip\\\\wthmo\\\\wtgrc\\\\zfukg\\\\cazio\\\\sosdj\\\\rcsvd', 'main\\\\olmhl\\\\mmtsz\\\\nujko\\\\ywjka\\\\pxjip\\\\wthmo\\\\wtgrc\\\\zfukg\\\\cazio\\\\sosdj\\\\uuyrs', 'main\\\\olmhl\\\\mmtsz\\\\nujko\\\\ywjka\\\\pxjip\\\\wthmo\\\\wtgrc\\\\zfukg\\\\cazio\\\\sosdj\\\\yujjk', 'main\\\\olmhl\\\\mmtsz\\\\nujko\\\\ywjka\\\\pxjip\\\\wthmo\\\\wtgrc\\\\zfukg\\\\jvmme', 'main\\\\olmhl\\\\mmtsz\\\\nujko\\\\ywjka\\\\pxjip\\\\wthmo\\\\wtgrc\\\\zfukg\\\\jvmme\\\\eayzq\\\\isyki', 'main\\\\olmhl\\\\mmtsz\\\\nujko\\\\ywjka\\\\pxjip\\\\wthmo\\\\wtgrc\\\\zfukg\\\\jvmme\\\\eayzq\\\\nuiwj', 'main\\\\olmhl\\\\mmtsz\\\\nujko\\\\ywjka\\\\pxjip\\\\wthmo\\\\wtgrc\\\\zfukg\\\\jvmme\\\\eayzq\\\\tixoq\\\\lldpv', 'main\\\\olmhl\\\\mmtsz\\\\nujko\\\\ywjka\\\\pxjip\\\\wthmo\\\\wtgrc\\\\zfukg\\\\jvmme\\\\eayzq\\\\wfnda', 'main\\\\olmhl\\\\mmtsz\\\\nujko\\\\ywjka\\\\pxjip\\\\wthmo\\\\wtgrc\\\\zfukg\\\\jvmme\\\\kehsm', 'main\\\\olmhl\\\\mmtsz\\\\nujko\\\\ywjka\\\\pxjip\\\\wthmo\\\\wtgrc\\\\zfukg\\\\jvmme\\\\vynzv', 'main\\\\olmhl\\\\mmtsz\\\\nujko\\\\ywjka\\\\pxjip\\\\wthmo\\\\wtgrc\\\\zfukg\\\\jvmme\\\\wvwva', 'main\\\\olmhl\\\\mmtsz\\\\nujko\\\\ywjka\\\\pxjip\\\\wthmo\\\\wtgrc\\\\zfukg\\\\jvmme\\\\wvwva\\\\jebnq\\\\kjmeo', 'main\\\\olmhl\\\\mmtsz\\\\nujko\\\\ywjka\\\\pxjip\\\\wthmo\\\\wtgrc\\\\zfukg\\\\jvmme\\\\wvwva\\\\jebnq\\\\phcud', 'main\\\\olmhl\\\\mmtsz\\\\nujko\\\\ywjka\\\\pxjip\\\\wthmo\\\\wtgrc\\\\zfukg\\\\vydse', 'main\\\\olmhl\\\\mmtsz\\\\nujko\\\\ywjxy', 'main\\\\olmhl\\\\mmtsz\\\\phcap', 'main\\\\qkseh', 'main\\\\sitdc', 'main\\\\taivr', 'main\\\\taivr\\\\bcsow', 'main\\\\taivr\\\\yptwa\\\\xsbzr', 'main\\\\taivr\\\\yptwa\\\\xsbzr\\\\hcasz\\\\ilitr\\\\joejy', 'main\\\\taivr\\\\yptwa\\\\xsbzr\\\\hcasz\\\\ilitr\\\\urguw\\\\sjmeg\\\\ddnaa', 'main\\\\taivr\\\\yptwa\\\\xsbzr\\\\hcasz\\\\ilitr\\\\urguw\\\\sjmeg\\\\ddnaa\\\\ckaab', 'main\\\\taivr\\\\yptwa\\\\xsbzr\\\\hcasz\\\\ilitr\\\\urguw\\\\sjmeg\\\\ddnaa\\\\jxhbl\\\\lradw', 'main\\\\taivr\\\\yptwa\\\\xsbzr\\\\hcasz\\\\ilitr\\\\urguw\\\\sjmeg\\\\ddnaa\\\\jxhbl\\\\lradw\\\\iglcm', 'main\\\\taivr\\\\yptwa\\\\xsbzr\\\\hcasz\\\\ilitr\\\\urguw\\\\sjmeg\\\\ddnaa\\\\jxhbl\\\\tpdvr', 'main\\\\taivr\\\\yptwa\\\\xsbzr\\\\hcasz\\\\ilitr\\\\urguw\\\\sjmeg\\\\ddnaa\\\\lszec', 'main\\\\taivr\\\\yptwa\\\\xsbzr\\\\hcasz\\\\ilitr\\\\urguw\\\\sjmeg\\\\ddnaa\\\\lszec\\\\wdftb\\\\mhqps', 'main\\\\uvvuz', 'main\\\\uvvuz\\\\ksnof', 'main\\\\zduna\\\\ywucw', 'main\\\\zyczx']\n"
     ]
    }
   ],
   "source": [
    "result = []\n",
    "\n",
    "for current_dir, dirs, files in os.walk(\"main\"):\n",
    "    print(current_dir, dirs, files)\n",
    "    for file in files:\n",
    "        if \".py\" in file:\n",
    "            result.append(current_dir)\n",
    "            break\n",
    "            \n",
    "result.sort()\n",
    "print(result)"
   ]
  },
  {
   "cell_type": "code",
   "execution_count": 39,
   "metadata": {},
   "outputs": [],
   "source": [
    "with open(\"main_answer.txt\", \"w\") as w:\n",
    "    w.write(\"\\n\".join(result))"
   ]
  },
  {
   "cell_type": "markdown",
   "metadata": {},
   "source": [
    "### 2.5 Работа с функциями: functool и лямбда функции + декораторы <a class=\"anchor\" id=\"2-5\"></a>"
   ]
  },
  {
   "cell_type": "markdown",
   "metadata": {},
   "source": [
    "Функция `map(f, list)`\n",
    "\n",
    "Применяет функцию `f` в каждому элементу `list`. \n",
    "\n",
    "`f(list[1], list[2], ...)`"
   ]
  },
  {
   "cell_type": "code",
   "execution_count": 1,
   "metadata": {},
   "outputs": [],
   "source": [
    "import operator as op\n",
    "from functools import partial"
   ]
  },
  {
   "cell_type": "code",
   "execution_count": 2,
   "metadata": {},
   "outputs": [
    {
     "name": "stdout",
     "output_type": "stream",
     "text": [
      "50 100\n",
      "['50', '100']\n",
      "50 100\n",
      "150\n"
     ]
    }
   ],
   "source": [
    "x = input().split()\n",
    "print(x)\n",
    "\n",
    "n, k = map(int, input().split())\n",
    "print(n+k)"
   ]
  },
  {
   "cell_type": "code",
   "execution_count": 3,
   "metadata": {
    "scrolled": true
   },
   "outputs": [
    {
     "name": "stdout",
     "output_type": "stream",
     "text": [
      "50 100\n",
      "['50', '100']\n",
      "<map object at 0x0000021B89713EC8>\n",
      "150\n"
     ]
    }
   ],
   "source": [
    "x = input().split()\n",
    "print(x)\n",
    "\n",
    "map_obj = map(int, x)\n",
    "print(map_obj)\n",
    "n = next(map_obj)\n",
    "k = next(map_obj)\n",
    "print(n+k)"
   ]
  },
  {
   "cell_type": "code",
   "execution_count": 10,
   "metadata": {},
   "outputs": [
    {
     "name": "stdout",
     "output_type": "stream",
     "text": [
      "<filter object at 0x0000021B89B9E848>\n",
      "50\n",
      "100\n",
      "<generator object <genexpr> at 0x0000021B89CFB148>\n"
     ]
    }
   ],
   "source": [
    "xs = (int(i) for i in x)\n",
    "\n",
    "def even(x):\n",
    "    return x % 2 == 0\n",
    "\n",
    "evens = filter(even, xs)\n",
    "print(evens)\n",
    "for i in evens:\n",
    "    print(i)\n",
    "    \n",
    "print(xs)"
   ]
  },
  {
   "cell_type": "code",
   "execution_count": 12,
   "metadata": {},
   "outputs": [
    {
     "name": "stdout",
     "output_type": "stream",
     "text": [
      "[50, 100]\n"
     ]
    }
   ],
   "source": [
    "xs = (int(i) for i in x)\n",
    "\n",
    "evens = list(filter(lambda x: x % 2 == 0, xs))\n",
    "print(evens)"
   ]
  },
  {
   "cell_type": "code",
   "execution_count": 20,
   "metadata": {
    "scrolled": true
   },
   "outputs": [
    {
     "name": "stdout",
     "output_type": "stream",
     "text": [
      "[16, 13, 11]\n",
      "[('John', 'Backus'), ('Haskell', 'Curry'), ('Guido', 'van', 'Rossum')]\n",
      "[('John', 'Backus'), ('Haskell', 'Curry'), ('Guido', 'van', 'Rossum')]\n"
     ]
    }
   ],
   "source": [
    "x = [\n",
    "    (\"Guido\", \"van\", \"Rossum\"),\n",
    "    (\"Haskell\", \"Curry\"),\n",
    "    (\"John\", \"Backus\")\n",
    "]\n",
    "\n",
    "\n",
    "def length(name):\n",
    "    return len(\" \".join(name))\n",
    "\n",
    "\n",
    "name_length = [length(name) for name in x]\n",
    "print(name_length)\n",
    "\n",
    "x.sort(key=length)\n",
    "print(x)\n",
    "\n",
    "\n",
    "#  вариант через лямбду\n",
    "x.sort(key=lambda name: len(\" \".join(name)))\n",
    "print(x)"
   ]
  },
  {
   "cell_type": "code",
   "execution_count": 24,
   "metadata": {},
   "outputs": [
    {
     "name": "stdout",
     "output_type": "stream",
     "text": [
      "<built-in method sort of list object at 0x0000021B8AA034C8>\n"
     ]
    }
   ],
   "source": [
    "import operator as op\n",
    "\n",
    "# print(op.add(4, 5))\n",
    "# print(op.mul(4, 5))\n",
    "# print(op.contains([1, 2, 3], 4))  # 4 in [1, 2, 3]\n",
    "#\n",
    "# x = [1, 2, 3]\n",
    "# f = op.itemgetter(1)  # f(x) == x[1]/ res = 2\n",
    "# print(f(x))\n",
    "# x = {\"123\": 3}\n",
    "# f = op.itemgetter(\"123\")  # f(x) == x[\"123\"]/ res = 3\n",
    "# print(f(x))\n",
    "\n",
    "f = op.attrgetter(\"sort\")  # f(x) == x.sort\n",
    "print(f([])) # уже есть такая библиотека у лист"
   ]
  },
  {
   "cell_type": "code",
   "execution_count": 25,
   "metadata": {
    "scrolled": true
   },
   "outputs": [
    {
     "name": "stdout",
     "output_type": "stream",
     "text": [
      "[('John', 'Backus'), ('Haskell', 'Curry'), ('Guido', 'van', 'Rossum')]\n"
     ]
    }
   ],
   "source": [
    "x = [\n",
    "    (\"Guido\", \"van\", \"Rossum\"),\n",
    "    (\"Haskell\", \"Curry\"),\n",
    "    (\"John\", \"Backus\")\n",
    "]\n",
    "\n",
    "x.sort(key=op.itemgetter(-1))  #  будем сортировать по посл. слову кортежа\n",
    "print(x)"
   ]
  },
  {
   "cell_type": "code",
   "execution_count": 26,
   "metadata": {},
   "outputs": [
    {
     "name": "stdout",
     "output_type": "stream",
     "text": [
      "13\n",
      "13\n"
     ]
    }
   ],
   "source": [
    "from functools import partial\n",
    "\n",
    "x = int(\"1101\", base=2)\n",
    "print(x)\n",
    "int_2 = partial(int, base=2)  #  что-то типо лямбда функции\n",
    "x = int_2(\"1101\")\n",
    "print(x)"
   ]
  },
  {
   "cell_type": "code",
   "execution_count": 27,
   "metadata": {
    "scrolled": true
   },
   "outputs": [
    {
     "name": "stdout",
     "output_type": "stream",
     "text": [
      "[('Guido', 'van', 'Rossum'), ('Haskell', 'Curry'), ('John', 'Backus')]\n",
      "[('John', 'Backus'), ('Haskell', 'Curry'), ('Guido', 'van', 'Rossum')]\n",
      "['cba', 'abb', 'abc']\n"
     ]
    }
   ],
   "source": [
    "x = [\n",
    "    (\"Guido\", \"van\", \"Rossum\"),\n",
    "    (\"Haskell\", \"Curry\"),\n",
    "    (\"John\", \"Backus\")\n",
    "]\n",
    "\n",
    "sort_by_last = partial(list.sort, key=op.itemgetter(-1))\n",
    "print(x)\n",
    "sort_by_last(x)\n",
    "print(x)\n",
    "\n",
    "y = [\"abc\", \"cba\", \"abb\"]\n",
    "sort_by_last(y)\n",
    "print(y)"
   ]
  },
  {
   "cell_type": "markdown",
   "metadata": {},
   "source": [
    "**reduce()**\n",
    "\n",
    "Функция reduce принимает 2 аргумента: функцию и последовательность. reduce() последовательно применяет функцию-аргумент к элементам списка, возвращает единичное значение. Обратите внимание в Python 2.x функция reduce доступна как встроенная, в то время, как в Python 3 она была перемещена в модуль functools."
   ]
  },
  {
   "cell_type": "code",
   "execution_count": 100,
   "metadata": {},
   "outputs": [
    {
     "data": {
      "text/plain": [
       "120"
      ]
     },
     "execution_count": 100,
     "metadata": {},
     "output_type": "execute_result"
    }
   ],
   "source": [
    "from functools import reduce\n",
    "\n",
    "def factorial(n):\n",
    "    return reduce(lambda x, y: x*y, range(1, n+1))\n",
    "\n",
    "factorial(5)"
   ]
  },
  {
   "cell_type": "code",
   "execution_count": 101,
   "metadata": {},
   "outputs": [
    {
     "name": "stdout",
     "output_type": "stream",
     "text": [
      "15\n"
     ]
    }
   ],
   "source": [
    "#  Вычисление суммы всех элементов списка при помощи reduce\n",
    "\n",
    "items = [1,2,3,4,5]\n",
    "sum_all = reduce(lambda x,y: x + y, items)\n",
    " \n",
    "print (sum_all)"
   ]
  },
  {
   "cell_type": "code",
   "execution_count": null,
   "metadata": {},
   "outputs": [],
   "source": [
    "#  Вычисление наибольшего элемента в списке при помощи reduce\n",
    "\n",
    "items = [1, 24, 17, 14, 9, 32, 2]\n",
    "all_max = reduce(lambda a,b: a if (a > b) else b, items)\n",
    " \n",
    "print (all_max)"
   ]
  },
  {
   "cell_type": "markdown",
   "metadata": {},
   "source": [
    "___\n",
    "**Декораторы**\n",
    "\n",
    "Важная тема, часто спрашивают на собесах.\n",
    "\n",
    "Декораторы — это, по сути, \"обёртки\", которые дают нам возможность изменить поведение функции, не изменяя её код."
   ]
  },
  {
   "cell_type": "code",
   "execution_count": 84,
   "metadata": {
    "scrolled": true
   },
   "outputs": [
    {
     "name": "stdout",
     "output_type": "stream",
     "text": [
      "Я - код, который отработает до вызова функции\n",
      "Я простая одинокая функция, ты ведь не посмеешь меня изменять?\n",
      "А я - код, срабатывающий после\n"
     ]
    }
   ],
   "source": [
    "def my_shiny_new_decorator(function_to_decorate):\n",
    "    # Внутри себя декоратор определяет функцию-\"обёртку\". Она будет обёрнута вокруг декорируемой,\n",
    "    # получая возможность исполнять произвольный код до и после неё.\n",
    "    def the_wrapper_around_the_original_function():\n",
    "        print(\"Я - код, который отработает до вызова функции\")\n",
    "        function_to_decorate() # Сама функция\n",
    "        print(\"А я - код, срабатывающий после\")\n",
    "    # Вернём эту функцию\n",
    "    return the_wrapper_around_the_original_function\n",
    "\n",
    "# Представим теперь, что у нас есть функция, которую мы не планируем больше трогать.\n",
    "def stand_alone_function():\n",
    "    print(\"Я простая одинокая функция, ты ведь не посмеешь меня изменять?\")\n",
    "\n",
    "# Однако, чтобы изменить её поведение, мы можем декорировать её, то есть просто передать декоратору,\n",
    "# который обернет исходную функцию в любой код, который нам потребуется, и вернёт новую,\n",
    "# готовую к использованию функцию:\n",
    "stand_alone_function_decorated = my_shiny_new_decorator(stand_alone_function)\n",
    "stand_alone_function_decorated()"
   ]
  },
  {
   "cell_type": "code",
   "execution_count": 49,
   "metadata": {},
   "outputs": [],
   "source": [
    "import time"
   ]
  },
  {
   "cell_type": "code",
   "execution_count": 81,
   "metadata": {},
   "outputs": [],
   "source": [
    "def for_evaluate():\n",
    "    for _ in range(100000000):\n",
    "        a = 2/3.1*7\n",
    "    print(\"Я закончил\")"
   ]
  },
  {
   "cell_type": "code",
   "execution_count": 72,
   "metadata": {},
   "outputs": [
    {
     "name": "stdout",
     "output_type": "stream",
     "text": [
      "2.0468814373016357\n"
     ]
    }
   ],
   "source": [
    "start = time.time()\n",
    "for_evaluate()\n",
    "print(time.time() - start)"
   ]
  },
  {
   "cell_type": "code",
   "execution_count": 87,
   "metadata": {},
   "outputs": [
    {
     "name": "stdout",
     "output_type": "stream",
     "text": [
      "Я закончил\n",
      "2.0538957118988037\n"
     ]
    }
   ],
   "source": [
    "#  Сделаем декоратор, который будет считать время для функции\n",
    "\n",
    "def evaluating_time(function_to_decorate):\n",
    "    \n",
    "    def the_wrapper_around_the_original_function():\n",
    "        start = time.time()\n",
    "        function_to_decorate()\n",
    "        print(time.time() - start)\n",
    "        \n",
    "    return the_wrapper_around_the_original_function\n",
    "\n",
    "def for_computation():\n",
    "    for _ in range(100000000):\n",
    "        a = 2/3.1*7\n",
    "    print(\"Я закончил\")\n",
    "\n",
    "for_computation_with_time = evaluating_time(for_computation)\n",
    "for_computation_with_time()"
   ]
  },
  {
   "cell_type": "code",
   "execution_count": 90,
   "metadata": {},
   "outputs": [],
   "source": [
    "@evaluating_time\n",
    "def new_computation():\n",
    "    for _ in range(100000000):\n",
    "        a = 3*3*3\n",
    "    print(\"new_computation закончил\")"
   ]
  },
  {
   "cell_type": "code",
   "execution_count": 91,
   "metadata": {
    "scrolled": true
   },
   "outputs": [
    {
     "name": "stdout",
     "output_type": "stream",
     "text": [
      "new_computation закончил\n",
      "2.029010772705078\n"
     ]
    }
   ],
   "source": [
    "new_computation()"
   ]
  },
  {
   "cell_type": "code",
   "execution_count": 92,
   "metadata": {
    "scrolled": true
   },
   "outputs": [
    {
     "name": "stdout",
     "output_type": "stream",
     "text": [
      "--ветчина--\n",
      "\n",
      "#помидоры#\n",
      "--ветчина--\n",
      "~салат~\n",
      "<\\______/>\n"
     ]
    }
   ],
   "source": [
    "#  При этом, естественно, можно использовать несколько \n",
    "#  декораторов для одной функции, например так:\n",
    "\n",
    "def bread(func):\n",
    "    def wrapper():\n",
    "        print()\n",
    "        func()\n",
    "        print(\"<\\______/>\")\n",
    "    return wrapper\n",
    "\n",
    "def ingredients(func):\n",
    "    def wrapper():\n",
    "        print(\"#помидоры#\")\n",
    "        func()\n",
    "        print(\"~салат~\")\n",
    "    return wrapper\n",
    "\n",
    "def sandwich(food=\"--ветчина--\"):\n",
    "    print(food)\n",
    "\n",
    "sandwich()\n",
    "#  --ветчина--\n",
    "sandwich = bread(ingredients(sandwich))\n",
    "sandwich()\n",
    "\n",
    "#  помидоры#\n",
    "#  --ветчина--\n",
    "#  ~салат~\n",
    "#  <\\______/>"
   ]
  },
  {
   "cell_type": "code",
   "execution_count": 95,
   "metadata": {
    "scrolled": false
   },
   "outputs": [
    {
     "name": "stdout",
     "output_type": "stream",
     "text": [
      "\n",
      "#помидоры#\n",
      "--ветчина--\n",
      "~салат~\n",
      "<\\______/>\n"
     ]
    }
   ],
   "source": [
    "#  При этом, естественно, можно использовать несколько \n",
    "#  декораторов для одной функции, например так:\n",
    "\n",
    "def bread(func):\n",
    "    def wrapper():\n",
    "        print()\n",
    "        func()\n",
    "        print(\"<\\______/>\")\n",
    "    return wrapper\n",
    "\n",
    "def ingredients(func):\n",
    "    def wrapper():\n",
    "        print(\"#помидоры#\")\n",
    "        func()\n",
    "        print(\"~салат~\")\n",
    "    return wrapper\n",
    "\n",
    "\n",
    "#  Важен порядок\n",
    "@bread\n",
    "@ingredients\n",
    "def sandwich(food=\"--ветчина--\"):\n",
    "    print(food)\n",
    "\n",
    "sandwich()\n",
    "\n",
    "#  помидоры#\n",
    "#  --ветчина--\n",
    "#  ~салат~\n",
    "#  <\\______/>"
   ]
  },
  {
   "cell_type": "markdown",
   "metadata": {},
   "source": [
    "**Декорирование методов**\n",
    "\n",
    "Один из важных фактов, которые следует понимать, заключается в том, что функции и методы в Python — это практически одно и то же, за исключением того, что методы всегда ожидают первым параметром ссылку на сам объект (self). Это значит, что мы можем создавать декораторы для методов точно так же, как и для функций, просто не забывая про self."
   ]
  },
  {
   "cell_type": "code",
   "execution_count": 99,
   "metadata": {},
   "outputs": [
    {
     "name": "stdout",
     "output_type": "stream",
     "text": [
      "Мне 26 лет, а ты бы сколько дал?\n"
     ]
    }
   ],
   "source": [
    "def method_friendly_decorator(method_to_decorate):\n",
    "    def wrapper(self, lie):\n",
    "        lie -= 3\n",
    "        return method_to_decorate(self, lie)\n",
    "    return wrapper\n",
    "\n",
    "class Lucy:\n",
    "    def __init__(self):\n",
    "        self.age = 32\n",
    "    @method_friendly_decorator\n",
    "    def sayYourAge(self, lie):\n",
    "        print(\"Мне {} лет, а ты бы сколько дал?\".format(self.age + lie))\n",
    "\n",
    "l = Lucy()\n",
    "l.sayYourAge(-3)\n",
    "#Мне 26 лет, а ты бы сколько дал?"
   ]
  },
  {
   "cell_type": "markdown",
   "metadata": {},
   "source": [
    "Еще много разных применений декоратор по ссылке:\n",
    "- https://pythonworld.ru/osnovy/dekoratory.html"
   ]
  },
  {
   "cell_type": "markdown",
   "metadata": {},
   "source": [
    "___\n",
    "**Задание**\n",
    "\n",
    "Лямбда функции предоставляют нам удобный способ создать функцию «прямо на месте».\n",
    "Но иногда, когда нужно создавать много однотипных лямбда функций, еще удобнее будет создать функцию, которая будет их генерировать.\n",
    "\n",
    "Реализуйте функцию mod_checker(x, mod=0), которая будет генерировать лямбда функцию от одного аргумента y, которая будет возвращать True, если остаток от деления y на x равен mod, и False иначе."
   ]
  },
  {
   "cell_type": "code",
   "execution_count": 42,
   "metadata": {},
   "outputs": [],
   "source": [
    "from functools import partial\n",
    "\n",
    "#mod_checker = partial(lambda y, x, mod: y % x == mod, x = 1,mod=0)\n",
    "\n",
    "def mod_checker(x, mod=0):\n",
    "    return lambda y : y % x == mod"
   ]
  },
  {
   "cell_type": "code",
   "execution_count": 43,
   "metadata": {},
   "outputs": [
    {
     "name": "stdout",
     "output_type": "stream",
     "text": [
      "True\n",
      "False\n",
      "True\n"
     ]
    }
   ],
   "source": [
    "#  Пример использования\n",
    "\n",
    "mod_3 = mod_checker(3)\n",
    "\n",
    "print(mod_3(3)) # True\n",
    "print(mod_3(4)) # False\n",
    "\n",
    "mod_3_1 = mod_checker(3, 1)\n",
    "print(mod_3_1(4)) # True"
   ]
  },
  {
   "cell_type": "markdown",
   "metadata": {},
   "source": [
    "### 2.6 Стиль программирования: PEP8 и документация <a class=\"anchor\" id=\"2-6\"></a>"
   ]
  },
  {
   "cell_type": "markdown",
   "metadata": {},
   "source": [
    "Читаем иногда, пытаемся писать согласно PEP8. В целом много вещей очень логичных.\n",
    "\n",
    "- Ctrl+Alt+L - выравнивание по PEP8 в pycharm\n",
    "\n",
    "https://www.python.org/dev/peps/pep-0008/"
   ]
  },
  {
   "cell_type": "markdown",
   "metadata": {},
   "source": [
    "Установка PEP8 проверялку в Jupyter (не очень удобно):"
   ]
  },
  {
   "cell_type": "code",
   "execution_count": 105,
   "metadata": {
    "collapsed": true
   },
   "outputs": [
    {
     "name": "stdout",
     "output_type": "stream",
     "text": [
      "Requirement already satisfied: flake8 in c:\\programdata\\anaconda3\\lib\\site-packages (3.7.9)\n",
      "Requirement already satisfied: pycodestyle_magic in c:\\programdata\\anaconda3\\lib\\site-packages (0.5)\n",
      "Requirement already satisfied: pycodestyle<2.6.0,>=2.5.0 in c:\\programdata\\anaconda3\\lib\\site-packages (from flake8) (2.5.0)\n",
      "Requirement already satisfied: pyflakes<2.2.0,>=2.1.0 in c:\\programdata\\anaconda3\\lib\\site-packages (from flake8) (2.1.1)\n",
      "Requirement already satisfied: entrypoints<0.4.0,>=0.3.0 in c:\\programdata\\anaconda3\\lib\\site-packages (from flake8) (0.3)\n",
      "Requirement already satisfied: mccabe<0.7.0,>=0.6.0 in c:\\programdata\\anaconda3\\lib\\site-packages (from flake8) (0.6.1)\n",
      "Note: you may need to restart the kernel to use updated packages.\n"
     ]
    }
   ],
   "source": [
    "pip install flake8 pycodestyle_magic"
   ]
  },
  {
   "cell_type": "code",
   "execution_count": 5,
   "metadata": {},
   "outputs": [],
   "source": [
    "%load_ext pycodestyle_magic"
   ]
  },
  {
   "cell_type": "code",
   "execution_count": 6,
   "metadata": {},
   "outputs": [],
   "source": [
    "%pycodestyle_on"
   ]
  },
  {
   "cell_type": "code",
   "execution_count": 4,
   "metadata": {},
   "outputs": [],
   "source": [
    "a = 43"
   ]
  },
  {
   "cell_type": "markdown",
   "metadata": {},
   "source": [
    "___\n",
    "## 3  Применение Python: анализ текста <a class=\"anchor\" id=\"3\"></a>"
   ]
  },
  {
   "cell_type": "markdown",
   "metadata": {},
   "source": [
    "### 3.1 Стандартные методы и функции для строк <a class=\"anchor\" id=\"3-1\"></a>"
   ]
  },
  {
   "cell_type": "code",
   "execution_count": 1,
   "metadata": {},
   "outputs": [
    {
     "name": "stdout",
     "output_type": "stream",
     "text": [
      "True\n",
      "False\n"
     ]
    }
   ],
   "source": [
    "print(\"abc\" in \"abcba\")\n",
    "print(\"abce\" in \"abcba\")"
   ]
  },
  {
   "cell_type": "code",
   "execution_count": 2,
   "metadata": {},
   "outputs": [
    {
     "name": "stdout",
     "output_type": "stream",
     "text": [
      "1\n",
      "0\n",
      "-1\n",
      "S.find(sub[, start[, end]]) -> int\n",
      "\n",
      "Return the lowest index in S where substring sub is found,\n",
      "such that sub is contained within S[start:end].  Optional\n",
      "arguments start and end are interpreted as in slice notation.\n",
      "\n",
      "Return -1 on failure.\n"
     ]
    }
   ],
   "source": [
    "print(\"cabcd\".find(\"abc\", 1))  # индекс первого вхождения или -1\n",
    "print(\"cabcd\"[1:].find(\"abc\"))\n",
    "print(\"cabcd\"[1:].find(\"zxc\")) # -1 если \n",
    "print(str.find.__doc__) # печатает документацию метода"
   ]
  },
  {
   "cell_type": "code",
   "execution_count": 3,
   "metadata": {},
   "outputs": [
    {
     "name": "stdout",
     "output_type": "stream",
     "text": [
      "1\n"
     ]
    },
    {
     "ename": "ValueError",
     "evalue": "substring not found",
     "output_type": "error",
     "traceback": [
      "\u001b[1;31m---------------------------------------------------------------------------\u001b[0m",
      "\u001b[1;31mValueError\u001b[0m                                Traceback (most recent call last)",
      "\u001b[1;32m<ipython-input-3-d87be87381ce>\u001b[0m in \u001b[0;36m<module>\u001b[1;34m\u001b[0m\n\u001b[0;32m      1\u001b[0m \u001b[0mprint\u001b[0m\u001b[1;33m(\u001b[0m\u001b[1;34m\"cabcd\"\u001b[0m\u001b[1;33m.\u001b[0m\u001b[0mindex\u001b[0m\u001b[1;33m(\u001b[0m\u001b[1;34m\"abc\"\u001b[0m\u001b[1;33m)\u001b[0m\u001b[1;33m)\u001b[0m  \u001b[1;31m# индекс первого вхождения или ValueError\u001b[0m\u001b[1;33m\u001b[0m\u001b[1;33m\u001b[0m\u001b[0m\n\u001b[1;32m----> 2\u001b[1;33m \u001b[0mprint\u001b[0m\u001b[1;33m(\u001b[0m\u001b[1;34m\"cabcd\"\u001b[0m\u001b[1;33m.\u001b[0m\u001b[0mindex\u001b[0m\u001b[1;33m(\u001b[0m\u001b[1;34m\"aec\"\u001b[0m\u001b[1;33m)\u001b[0m\u001b[1;33m)\u001b[0m\u001b[1;33m\u001b[0m\u001b[1;33m\u001b[0m\u001b[0m\n\u001b[0m",
      "\u001b[1;31mValueError\u001b[0m: substring not found"
     ]
    }
   ],
   "source": [
    "print(\"cabcd\".index(\"abc\"))  # индекс первого вхождения или ValueError\n",
    "print(\"cabcd\".index(\"aec\"))"
   ]
  },
  {
   "cell_type": "code",
   "execution_count": 5,
   "metadata": {},
   "outputs": [
    {
     "name": "stdout",
     "output_type": "stream",
     "text": [
      "False\n",
      "S.startswith(prefix[, start[, end]]) -> bool\n",
      "\n",
      "Return True if S starts with the specified prefix, False otherwise.\n",
      "With optional start, test S beginning at that position.\n",
      "With optional end, stop comparing S at that position.\n",
      "prefix can also be a tuple of strings to try.\n"
     ]
    }
   ],
   "source": [
    "s = \"The whale in black fled across the desert, and the gunslinger followed\"\n",
    "# Может принимать кортеж, выведет true если хотя бы один из них\n",
    "print(s.startswith((\"The woman\", \"The dog\", \"The man in black\")))\n",
    "print(s.startswith.__doc__)"
   ]
  },
  {
   "cell_type": "code",
   "execution_count": 6,
   "metadata": {},
   "outputs": [
    {
     "name": "stdout",
     "output_type": "stream",
     "text": [
      "True\n"
     ]
    }
   ],
   "source": [
    "s = \"image.png\"\n",
    "print(s.endswith(\".png\"))"
   ]
  },
  {
   "cell_type": "code",
   "execution_count": 8,
   "metadata": {},
   "outputs": [
    {
     "name": "stdout",
     "output_type": "stream",
     "text": [
      "2\n",
      "S.count(sub[, start[, end]]) -> int\n",
      "\n",
      "Return the number of non-overlapping occurrences of substring sub in\n",
      "string S[start:end].  Optional arguments start and end are\n",
      "interpreted as in slice notation.\n",
      "0\n",
      "4\n"
     ]
    }
   ],
   "source": [
    "s = \"abacaba\"\n",
    "# Return the number of non-overlapping - не пересекающиеся!  для ababa выведет 1\n",
    "print(s.count(\"aba\"))\n",
    "print(s.count.__doc__)\n",
    "print(s.find(\"aba\"))\n",
    "print(s.rfind(\"aba\")) # поиск индекса справа"
   ]
  },
  {
   "cell_type": "code",
   "execution_count": 9,
   "metadata": {},
   "outputs": [
    {
     "name": "stdout",
     "output_type": "stream",
     "text": [
      "the man in black fled across the desert, and the gunslinger followed\n",
      "THE MAN IN BLACK FLED ACROSS THE DESERT, AND THE GUNSLINGER FOLLOWED\n",
      "2\n",
      "3\n"
     ]
    }
   ],
   "source": [
    "s = \"The man in black fled across the desert, and the gunslinger followed\"\n",
    "print(s.lower())\n",
    "print(s.upper())\n",
    "print(s.count(\"the\")) # индекс имеет значение\n",
    "print(s.lower().count(\"the\"))"
   ]
  },
  {
   "cell_type": "code",
   "execution_count": 10,
   "metadata": {},
   "outputs": [
    {
     "name": "stdout",
     "output_type": "stream",
     "text": [
      "1,2,3,4\n",
      "1, 2, 3,4\n",
      "Return a copy with all occurrences of substring old replaced by new.\n",
      "\n",
      "  count\n",
      "    Maximum number of occurrences to replace.\n",
      "    -1 (the default value) means replace all occurrences.\n",
      "\n",
      "If the optional argument count is given, only the first count occurrences are\n",
      "replaced.\n"
     ]
    }
   ],
   "source": [
    "s = \"1,2,3,4\"\n",
    "print(s)\n",
    "print(s.replace(\",\", \", \", 2)) # число указывает сколько замен. автоматом все\n",
    "print(s.replace.__doc__)"
   ]
  },
  {
   "cell_type": "code",
   "execution_count": 13,
   "metadata": {},
   "outputs": [
    {
     "name": "stdout",
     "output_type": "stream",
     "text": [
      "['1', '2', '3', '4']\n",
      "Return a list of the words in the string, using sep as the delimiter string.\n",
      "\n",
      "  sep\n",
      "    The delimiter according which to split the string.\n",
      "    None (the default value) means split according to any whitespace,\n",
      "    and discard empty strings from the result.\n",
      "  maxsplit\n",
      "    Maximum number of splits to do.\n",
      "    -1 (the default value) means no limit.\n"
     ]
    }
   ],
   "source": [
    "s = \"1\\t\\t 2  3       4       \"\n",
    "print(s.split()) # все символы разделители убирает\n",
    "print(s.split.__doc__)"
   ]
  },
  {
   "cell_type": "code",
   "execution_count": 14,
   "metadata": {},
   "outputs": [
    {
     "name": "stdout",
     "output_type": "stream",
     "text": [
      "'_*__1, 2, 3, 4'\n",
      "'1, 2, 3, 4__*_'\n",
      "'1, 2, 3, 4'\n"
     ]
    }
   ],
   "source": [
    "s = \"_*__1, 2, 3, 4__*_\"\n",
    "# Можно подстригать с разных сторон, в скобках указываются какие символы\n",
    "print(repr(s.rstrip(\"*_\"))) \n",
    "print(repr(s.lstrip(\"*_\")))\n",
    "print(repr(s.strip(\"*_\")))"
   ]
  },
  {
   "cell_type": "code",
   "execution_count": 19,
   "metadata": {
    "scrolled": false
   },
   "outputs": [
    {
     "name": "stdout",
     "output_type": "stream",
     "text": [
      "<map object at 0x0000024E88C60AC8>\n",
      "1\n",
      "'2 3 4 5'\n"
     ]
    }
   ],
   "source": [
    "numbers = map(str, [1, 2, 3, 4, 5]) # создает map object (итератор)\n",
    "print(numbers) \n",
    "print(next(numbers))\n",
    "print(repr(\" \".join(numbers)))"
   ]
  },
  {
   "cell_type": "markdown",
   "metadata": {},
   "source": [
    "**Форматирование**\n",
    "\n",
    "сильный инструмент для создания шаблонов, но устарел. Ниже примеры с f-строками"
   ]
  },
  {
   "cell_type": "code",
   "execution_count": 22,
   "metadata": {},
   "outputs": [
    {
     "name": "stdout",
     "output_type": "stream",
     "text": [
      "London is the capital of Great Britain\n",
      "Vaduz is the capital of Liechtenstein\n",
      "S.format(*args, **kwargs) -> str\n",
      "\n",
      "Return a formatted version of S, using substitutions from args and kwargs.\n",
      "The substitutions are identified by braces ('{' and '}').\n"
     ]
    }
   ],
   "source": [
    "capital = 'London is the capital of Great Britain'\n",
    "template = '{} is the capital of {}'\n",
    "print(template.format(\"London\", \"Great Britain\"))\n",
    "print(template.format(\"Vaduz\", \"Liechtenstein\"))\n",
    "print(template.format.__doc__)"
   ]
  },
  {
   "cell_type": "code",
   "execution_count": 23,
   "metadata": {},
   "outputs": [
    {
     "name": "stdout",
     "output_type": "stream",
     "text": [
      "London is the capital of Great Britain\n",
      "Vaduz is the capital of Liechtenstein\n"
     ]
    }
   ],
   "source": [
    "template = '{capital} is the capital of {country}'\n",
    "print(template.format(capital=\"London\", country=\"Great Britain\"))\n",
    "print(template.format(country=\"Liechtenstein\", capital=\"Vaduz\"))"
   ]
  },
  {
   "cell_type": "code",
   "execution_count": 24,
   "metadata": {},
   "outputs": [],
   "source": [
    "import requests\n",
    "template = \"Response from {0.url} with code {0.status_code}\""
   ]
  },
  {
   "cell_type": "code",
   "execution_count": 25,
   "metadata": {},
   "outputs": [
    {
     "name": "stdout",
     "output_type": "stream",
     "text": [
      "Response from https://docs.python.org/3.5/ with code 200\n"
     ]
    }
   ],
   "source": [
    "res = requests.get(\"https://docs.python.org/3.5/\")\n",
    "print(template.format(res))"
   ]
  },
  {
   "cell_type": "code",
   "execution_count": 26,
   "metadata": {},
   "outputs": [
    {
     "name": "stdout",
     "output_type": "stream",
     "text": [
      "Response from https://docs.python.org/3.5/random with code 404\n"
     ]
    }
   ],
   "source": [
    "res = requests.get(\"https://docs.python.org/3.5/random\")\n",
    "print(template.format(res))"
   ]
  },
  {
   "cell_type": "code",
   "execution_count": 27,
   "metadata": {},
   "outputs": [
    {
     "name": "stdout",
     "output_type": "stream",
     "text": [
      "0.5916929189838684\n",
      "0.592\n"
     ]
    }
   ],
   "source": [
    "from random import random\n",
    "x = random()\n",
    "print(x)\n",
    "print(\"{:.3}\".format(x))"
   ]
  },
  {
   "cell_type": "markdown",
   "metadata": {},
   "source": [
    "**f-строки**\n",
    "\n",
    "Новый и более современный способ работы с форматированием"
   ]
  },
  {
   "cell_type": "code",
   "execution_count": 28,
   "metadata": {},
   "outputs": [
    {
     "name": "stdout",
     "output_type": "stream",
     "text": [
      "Hello, Eric. You are 74.\n"
     ]
    }
   ],
   "source": [
    "name = \"Eric\"\n",
    "age = 74\n",
    " \n",
    "print(f\"Hello, {name}. You are {age}.\")"
   ]
  },
  {
   "cell_type": "code",
   "execution_count": 29,
   "metadata": {},
   "outputs": [
    {
     "name": "stdout",
     "output_type": "stream",
     "text": [
      "Hello, Eric. You are 74.\n"
     ]
    }
   ],
   "source": [
    "# Можно использовать заглавную букву F:\n",
    "\n",
    "print(F\"Hello, {name}. You are {age}.\")"
   ]
  },
  {
   "cell_type": "code",
   "execution_count": 30,
   "metadata": {},
   "outputs": [
    {
     "name": "stdout",
     "output_type": "stream",
     "text": [
      "74\n"
     ]
    }
   ],
   "source": [
    "print(f\"{2 * 37}\")"
   ]
  },
  {
   "cell_type": "code",
   "execution_count": 31,
   "metadata": {
    "scrolled": true
   },
   "outputs": [
    {
     "name": "stdout",
     "output_type": "stream",
     "text": [
      "eric idle is funny.\n"
     ]
    }
   ],
   "source": [
    "def to_lowercase(input):\n",
    "    return input.lower()\n",
    " \n",
    "name = \"Eric Idle\"\n",
    " \n",
    "print(f\"{to_lowercase(name)} is funny.\")\n",
    "# Вывод: 'eric idle is funny.'"
   ]
  },
  {
   "cell_type": "code",
   "execution_count": 32,
   "metadata": {
    "scrolled": true
   },
   "outputs": [
    {
     "name": "stdout",
     "output_type": "stream",
     "text": [
      "eric idle is funny.\n"
     ]
    }
   ],
   "source": [
    "print(f\"{name.lower()} is funny.\")\n",
    "# Вывод: 'eric idle is funny.'"
   ]
  },
  {
   "cell_type": "code",
   "execution_count": 33,
   "metadata": {},
   "outputs": [],
   "source": [
    "# Можете использовать объекты, созданные из классов при помощи f-строки. \n",
    "# Представим, что у вас есть следующий класс:\n",
    "\n",
    "class Comedian:\n",
    "    def __init__(self, first_name, last_name, age):\n",
    "        self.first_name = first_name\n",
    "        self.last_name = last_name\n",
    "        self.age = age\n",
    " \n",
    "    def __str__(self):\n",
    "        return f\"{self.first_name} {self.last_name} is {self.age}.\"\n",
    " \n",
    "    def __repr__(self):\n",
    "        return f\"{self.first_name} {self.last_name} is {self.age}. Surprise!\""
   ]
  },
  {
   "cell_type": "code",
   "execution_count": 34,
   "metadata": {
    "scrolled": true
   },
   "outputs": [
    {
     "name": "stdout",
     "output_type": "stream",
     "text": [
      "Eric Idle is 74.\n"
     ]
    }
   ],
   "source": [
    "# Вы могли бы сделать следующее:\n",
    "new_comedian = Comedian(\"Eric\", \"Idle\", \"74\")\n",
    " \n",
    "print(f\"{new_comedian}\")\n",
    "# Вывод: 'Eric Idle is 74.'"
   ]
  },
  {
   "cell_type": "markdown",
   "metadata": {},
   "source": [
    "**Многострочные F-Strings**"
   ]
  },
  {
   "cell_type": "code",
   "execution_count": 36,
   "metadata": {},
   "outputs": [
    {
     "name": "stdout",
     "output_type": "stream",
     "text": [
      "Hi Eric. You are a comedian. You were in Monty Python.\n"
     ]
    }
   ],
   "source": [
    "name = \"Eric\"\n",
    "profession = \"comedian\"\n",
    "affiliation = \"Monty Python\"\n",
    " \n",
    "message = (\n",
    "    f\"Hi {name}. \"\n",
    "    f\"You are a {profession}. \"\n",
    "    f\"You were in {affiliation}.\"\n",
    ")\n",
    " \n",
    "print(message)\n",
    "# Вывод: 'Hi Eric. You are a comedian. You were in Monty Python.'"
   ]
  },
  {
   "cell_type": "markdown",
   "metadata": {},
   "source": [
    "Более подробно:\n",
    "\n",
    "https://python-scripts.com/f-strings"
   ]
  },
  {
   "cell_type": "markdown",
   "metadata": {},
   "source": [
    "**Задание 3.1.1**\n",
    "\n",
    "Вашей программе на вход подаются три строки s, a, b, состоящие из строчных латинских букв.\n",
    "За одну операцию вы можете заменить все вхождения строки a в строку s на строку b.\n",
    "\n",
    "Например, s = \"abab\", a = \"ab\", b = \"ba\", тогда после выполнения одной операции строка s перейдет в строку \"baba\", после выполнения двух и операций – в строку \"bbaa\", и дальнейшие операции не будут изменять строку s.\n",
    "\n",
    "Необходимо узнать, после какого минимального количества операций в строке s не останется вхождений строки a. Если операций потребуется более 1000, выведите Impossible.\n",
    "\n",
    "Выведите одно число – минимальное число операций, после применения которых в строке s не останется вхождений строки a, или Impossible, если операций потребуется более 1000."
   ]
  },
  {
   "cell_type": "code",
   "execution_count": 61,
   "metadata": {},
   "outputs": [
    {
     "name": "stdout",
     "output_type": "stream",
     "text": [
      "ababac\n",
      "'ababac'\n",
      "Impossible\n"
     ]
    }
   ],
   "source": [
    "s = \"ababa\"\n",
    "a = \"c\"\n",
    "b = \"c\"\n",
    "\n",
    "i = 0\n",
    "while i < 1000:\n",
    "    if s.find(a) != -1:\n",
    "        s = s.replace(a, b)\n",
    "        i += 1\n",
    "    else:\n",
    "        break\n",
    "        \n",
    "\n",
    "if i == 1000:\n",
    "    print(\"Impossible\")\n",
    "else:\n",
    "    print(i)"
   ]
  },
  {
   "cell_type": "markdown",
   "metadata": {},
   "source": [
    "___\n",
    "**Задание 3.1.2**\n",
    "\n",
    "Вашей программе на вход подаются две строки s и t, состоящие из строчных латинских букв.\n",
    "\n",
    "Выведите одно число – количество вхождений строки t в строку s.\n",
    "\n",
    "Пример:\n",
    "s = \"abababa\"\n",
    "t = \"aba\"\n",
    "\n",
    "Вхождения строки t в строку s:\n",
    "**aba**baba\n",
    "ab**aba**ba\n",
    "abab**aba**\n",
    "\n",
    "(надо учитывать пересечения)"
   ]
  },
  {
   "cell_type": "code",
   "execution_count": 97,
   "metadata": {
    "scrolled": true
   },
   "outputs": [
    {
     "name": "stdout",
     "output_type": "stream",
     "text": [
      "6\n"
     ]
    }
   ],
   "source": [
    "# мой кривой вариант\n",
    "\n",
    "s = \"abababaaab\"\n",
    "t = \"a\"\n",
    "#s.count(t) # не учитывает пересечения\n",
    "p = 0\n",
    "i = 0\n",
    "if s.find(t) != -1:\n",
    "    i += 1\n",
    "    p = s.find(t)\n",
    "#    print(\"p =\",p)\n",
    "    while p != -1:\n",
    "        p = s.find(t, p+1)\n",
    "#        print(\"p =\",p)\n",
    "        if p != -1:\n",
    "            i += 1\n",
    "\n",
    "print(i)"
   ]
  },
  {
   "cell_type": "code",
   "execution_count": 78,
   "metadata": {
    "scrolled": true
   },
   "outputs": [
    {
     "data": {
      "text/plain": [
       "-1"
      ]
     },
     "execution_count": 78,
     "metadata": {},
     "output_type": "execute_result"
    }
   ],
   "source": [
    "# решение препода через .startswith()\n",
    "\n",
    "s = input()\n",
    "t = input()\n",
    "ans = 0\n",
    "for i in range(len(s)):\n",
    "    if s[i:].startswith(t):\n",
    "        ans += 1\n",
    "\n",
    "print(ans)"
   ]
  },
  {
   "cell_type": "markdown",
   "metadata": {},
   "source": [
    "### 3.2 Регулярные выражения в Python <a class=\"anchor\" id=\"3-2\"></a>"
   ]
  },
  {
   "cell_type": "markdown",
   "metadata": {},
   "source": [
    "**Важная тема и сложная тема**\n",
    "\n",
    "- `[]` -- можно указать множество подходящих символов\n",
    "- `. ^ $ * + ? { } [ ] \\ | ( )` - метасимволы\n",
    "- `\\d ~ [0-9]` - цифры\n",
    "- `\\D ~ [^0-9]` - отрицание (не)\n",
    "- `\\s ~ [ \\t\\n\\r\\f\\v]` - пробельные символы\n",
    "- `\\S ~ [^ \\t\\n\\r\\f\\v]` - отрицание\n",
    "- `\\w ~ [a-zA-Z0-9_]` - буквы + цифры + _\n",
    "- `\\W ~ [^a-zA-Z0-9_]` - отрицание"
   ]
  },
  {
   "cell_type": "code",
   "execution_count": 4,
   "metadata": {},
   "outputs": [
    {
     "name": "stdout",
     "output_type": "stream",
     "text": [
      "Hello\n",
      "world\n",
      "Hello\\nworld\n"
     ]
    }
   ],
   "source": [
    "x = \"Hello\\nworld\" \n",
    "print(x)\n",
    "\n",
    "x = r\"Hello\\nworld\" # raw - сырая строка\n",
    "print(x) # перенос строки не работает"
   ]
  },
  {
   "cell_type": "code",
   "execution_count": 7,
   "metadata": {
    "scrolled": true
   },
   "outputs": [
    {
     "name": "stdout",
     "output_type": "stream",
     "text": [
      "<function match at 0x000001FC46CC50D8>\n",
      "<function search at 0x000001FC46CD5D38>\n",
      "<function findall at 0x000001FC46D0AD38>\n",
      "<function sub at 0x000001FC46D0AB88>\n"
     ]
    }
   ],
   "source": [
    "import re\n",
    "\n",
    "print(re.match)  # подходит ли строка под наш шаблон\n",
    "print(re.search) # берет первую подстроку, которая подходит под наш шаблон\n",
    "print(re.findall) # находит все подстроки подходящие под шаблон\n",
    "print(re.sub) # заменяет подсроки с шаблона на что-то другое"
   ]
  },
  {
   "cell_type": "code",
   "execution_count": 14,
   "metadata": {
    "scrolled": true
   },
   "outputs": [
    {
     "name": "stdout",
     "output_type": "stream",
     "text": [
      "<re.Match object; span=(0, 3), match='abc'>\n"
     ]
    }
   ],
   "source": [
    "pattern = r\"abc\"\n",
    "string = \"abcd\" # abcd - будет подходить, babcd - нет, т.к. начинается с b\n",
    "match_object = re.match(pattern, string)\n",
    "print(match_object)"
   ]
  },
  {
   "cell_type": "code",
   "execution_count": 15,
   "metadata": {},
   "outputs": [
    {
     "name": "stdout",
     "output_type": "stream",
     "text": [
      "<re.Match object; span=(1, 4), match='abc'>\n"
     ]
    }
   ],
   "source": [
    "pattern = r\"abc\"\n",
    "string = \"babcd\" \n",
    "# находим позицию в строке\n",
    "match_object = re.search(pattern, string)\n",
    "print(match_object)\n",
    "\n",
    "# span - диапозон, интервал"
   ]
  },
  {
   "cell_type": "code",
   "execution_count": 18,
   "metadata": {
    "scrolled": true
   },
   "outputs": [
    {
     "name": "stdout",
     "output_type": "stream",
     "text": [
      "<re.Match object; span=(0, 3), match='acc'>\n"
     ]
    }
   ],
   "source": [
    "# [] -- можно указать множество подходящих символов\n",
    "\n",
    "pattern = r\"a[abc]c\" # в скобках символ, любой из которых подойдет\n",
    "# string = \"aac\" # подходит \n",
    "# string = \"abc\" # подходит \n",
    "string = \"acc\" # подходит \n",
    "match_object = re.match(pattern, string)\n",
    "print(match_object)"
   ]
  },
  {
   "cell_type": "code",
   "execution_count": 20,
   "metadata": {},
   "outputs": [
    {
     "name": "stdout",
     "output_type": "stream",
     "text": [
      "abc, abc, abc\n"
     ]
    }
   ],
   "source": [
    "pattern = r\"a[abc]c\"\n",
    "string = \"abc, acc, aac\"\n",
    "fixed_typos = re.sub(pattern, \"abc\", string) # замена всех \"a[abc]c\" на \"abc\"\n",
    "print(fixed_typos)"
   ]
  },
  {
   "cell_type": "code",
   "execution_count": 24,
   "metadata": {},
   "outputs": [
    {
     "name": "stdout",
     "output_type": "stream",
     "text": [
      "['abc', 'aac']\n",
      "abc, a.c, abc, a-c, aBc, azc\n"
     ]
    }
   ],
   "source": [
    "pattern = r\"a[abc]c\"\n",
    "string = \"abc, a.c, aac, a-c, aBc, azc\"\n",
    "\n",
    "# возвращает подсроки, которые подошли\n",
    "all_inclusions = re.findall(pattern, string)\n",
    "print(all_inclusions)\n",
    "\n",
    "fixed_typos = re.sub(pattern, \"abc\", string)\n",
    "print(fixed_typos)"
   ]
  },
  {
   "cell_type": "code",
   "execution_count": null,
   "metadata": {},
   "outputs": [],
   "source": [
    "import re\n",
    "\n",
    "#pattern = r\" english\\?\"\n",
    "# если не проставить \\, не будет искать ?, т.к. ? - метасимвол\n",
    "# необходимо экранировать каждый метасимвол\n",
    "pattern = r\" english\\?\"\n",
    "string = \"Do you speak english?\"\n",
    "match = re.search(pattern, string)\n",
    "print(match)"
   ]
  },
  {
   "cell_type": "code",
   "execution_count": 32,
   "metadata": {
    "scrolled": false
   },
   "outputs": [
    {
     "name": "stdout",
     "output_type": "stream",
     "text": [
      "<re.Match object; span=(0, 3), match='adc'>\n",
      "['abc', 'a.c', 'aac', 'a-c', 'aBc', 'azc']\n",
      "abc, abc, abc, abc, abc, abc\n"
     ]
    }
   ],
   "source": [
    "# [] -- можно указать множество подходящих символов\n",
    "# . ^ $ * + ? { } [ ] \\ | ( ) -- метасимволы\n",
    "# \\d ~ [0-9] -- цифры\n",
    "# \\D ~ [^0-9]\n",
    "# \\s ~ [ \\t\\n\\r\\f\\v] -- пробельные символы\n",
    "# \\S ~ [^ \\t\\n\\r\\f\\v]\n",
    "# \\w ~ [a-zA-Z0-9_] -- буквы + цифры + _\n",
    "# \\W ~ [^a-zA-Z0-9_]\n",
    "\n",
    "pattern = r\"a.c\" # [a-d] - любой от a до d. \".\" - любой символ\n",
    "# [\\w.] буквы + цифры + _ + \".\"\n",
    "string = \"adc\"\n",
    "\n",
    "match_object = re.match(pattern, string)\n",
    "print(match_object)\n",
    "\n",
    "string = \"abc, a.c, aac, a-c, aBc, azc\"\n",
    "all_inclusions = re.findall(pattern, string)\n",
    "print(all_inclusions)\n",
    "\n",
    "fixed_typos = re.sub(pattern, \"abc\", string)\n",
    "print(fixed_typos)"
   ]
  },
  {
   "cell_type": "markdown",
   "metadata": {},
   "source": [
    "___\n",
    "Метасимволы"
   ]
  },
  {
   "cell_type": "code",
   "execution_count": 34,
   "metadata": {},
   "outputs": [
    {
     "name": "stdout",
     "output_type": "stream",
     "text": [
      "['aa', 'aba', 'abba']\n"
     ]
    }
   ],
   "source": [
    "# \"*\" говорит, что нам подходит любое кол-во символа b, включая 0\n",
    "pattern = r\"ab*a\"\n",
    "string = \"aa, aba, abba\"\n",
    "print(re.findall(pattern, string))"
   ]
  },
  {
   "cell_type": "code",
   "execution_count": 36,
   "metadata": {},
   "outputs": [
    {
     "name": "stdout",
     "output_type": "stream",
     "text": [
      "['aba', 'abba']\n"
     ]
    }
   ],
   "source": [
    "# \"+\" тоже самое, что \"*\", но без 0 (положительное кол-во символов)\n",
    "pattern = r\"ab+a\"\n",
    "string = \"aa, aba, abba\"\n",
    "print(re.findall(pattern, string))"
   ]
  },
  {
   "cell_type": "code",
   "execution_count": 37,
   "metadata": {},
   "outputs": [
    {
     "name": "stdout",
     "output_type": "stream",
     "text": [
      "['aba', 'abba']\n"
     ]
    }
   ],
   "source": [
    "# \"?\" ноль или одно вхождение символа b\n",
    "pattern = r\"ab+a\"\n",
    "string = \"aa, aba, abba\"\n",
    "print(re.findall(pattern, string))"
   ]
  },
  {
   "cell_type": "code",
   "execution_count": 39,
   "metadata": {},
   "outputs": [
    {
     "name": "stdout",
     "output_type": "stream",
     "text": [
      "['abbba']\n"
     ]
    }
   ],
   "source": [
    "# \"{number}\" - внутри скобок указываем кол-во, которое нас интересует\n",
    "pattern = r\"ab{3}a\"\n",
    "string = \"aa, aba, abba, abbba, abbbba\"\n",
    "print(re.findall(pattern, string))"
   ]
  },
  {
   "cell_type": "code",
   "execution_count": 40,
   "metadata": {
    "scrolled": true
   },
   "outputs": [
    {
     "name": "stdout",
     "output_type": "stream",
     "text": [
      "['abba', 'abbba', 'abbbba']\n"
     ]
    }
   ],
   "source": [
    "# \"{number1, number2}\" - от number1 до number2 кол-во вхождений\n",
    "pattern = r\"ab{2,4}a\"\n",
    "string = \"aa, aba, abba, abbba, abbbba\"\n",
    "print(re.findall(pattern, string))"
   ]
  },
  {
   "cell_type": "markdown",
   "metadata": {},
   "source": [
    "___\n",
    "По умолчанию, наши метасимволы жадные - пытаются вобрать максимальное количество.\n",
    "\n",
    "    pattern = r\"a[ab]+a\"\n",
    "    string = \"abaaba\"\n",
    "    \n",
    "match - вберет в себя всю строку (\"abaaba\"), хотя подходить под шаблон может и \"aba\".\n",
    "\n",
    "    pattern = r\"a[ab]+?a\"\n",
    "    string = \"abaaba\"\n",
    "    \n",
    "таким образом, будет минимальное количество взято, подлходящее под шаблон (\"aba\")"
   ]
  },
  {
   "cell_type": "code",
   "execution_count": 49,
   "metadata": {},
   "outputs": [
    {
     "name": "stdout",
     "output_type": "stream",
     "text": [
      "<re.Match object; span=(0, 6), match='abaaba'>\n",
      "['abaaba']\n"
     ]
    }
   ],
   "source": [
    "# оставшийся символ a, который в конце, проверяется отходом на 1 символ назад,\n",
    "# пока он не найдет себе место, т.к. [ab]+ забирает в себя всю строку.\n",
    "# string = \"abaabb\", res = \"abaa\"\n",
    "pattern = r\"a[ab]+a\"\n",
    "string = \"abaaba\"\n",
    "print(re.match(pattern, string))\n",
    "print(re.findall(pattern, string))"
   ]
  },
  {
   "cell_type": "code",
   "execution_count": null,
   "metadata": {},
   "outputs": [],
   "source": [
    "# поиск не жадным способом, т.е. найти наименьшее кол-во символов, подходящее\n",
    "# под шаблон\n",
    "pattern = r\"a[ab]+?a\"\n",
    "string = \"abaaba\"\n",
    "print(re.match(pattern, string))\n",
    "print(re.findall(pattern, string))"
   ]
  },
  {
   "cell_type": "markdown",
   "metadata": {},
   "source": [
    "### 3.3 Обзорно об интернете: http-запросы, html-страницы и requests <a class=\"anchor\" id=\"3-3\"></a>"
   ]
  },
  {
   "cell_type": "markdown",
   "metadata": {},
   "source": [
    "URL: uniform resource locator\n",
    "\n",
    "https://stepic.org/512\n",
    "- *https* - протокол\n",
    "- *stepic.org* - домен, хост\n",
    "- *512* - путь до ресурса"
   ]
  },
  {
   "cell_type": "code",
   "execution_count": 99,
   "metadata": {
    "scrolled": false
   },
   "outputs": [
    {
     "data": {
      "text/plain": [
       "'\\n<!DOCTYPE html>\\n<html lang=\"ru\" dir=\"ltr\" class-\"client-nojs\">\\n<head>\\n<meta charset=\"UTF-8/>\\n<title>Python -Википедия</title>\\n...\\n'"
      ]
     },
     "execution_count": 99,
     "metadata": {},
     "output_type": "execute_result"
    }
   ],
   "source": [
    "# Internet overview, html and requests\n",
    "\"\"\"\n",
    "Http is hypertext exchange protocol. It is very old. Hypertext is just text filled\n",
    "with hyperlinks. Http is two sided, with client and server sides. Client sends\n",
    "a request, server gives a response\n",
    "Main instrument is URL: uniform resource locator\n",
    "https://stepik.org/512 --- protocol://host/path_to_resouce\n",
    "\"\"\"\n",
    "# Example request\n",
    "# try to GET https://ru.wikipedia.org/wiki/Python\n",
    "# there are also POST requests for sending forms or uploads\n",
    "\"\"\"\n",
    "GET /wiki/Python HTTP/1.1\n",
    "Host: ru.wikipedia.org\n",
    "...\n",
    "\"\"\"\n",
    "# Part 2: RESPONSE - HEADER\n",
    "# http version followed by response code\n",
    "# 200 is OK\n",
    "# 404 is not found\n",
    "# 500 is server error\n",
    "\"\"\"\n",
    "HTTP/1.1 200 OK\n",
    "Date: Sun, 10 Apr 2016 18:21:18 GMT\n",
    "Content-Type text/html: charset=UTF-8\n",
    "...\n",
    "\"\"\"\n",
    "# Part 3: RESPONSE - BODY\n",
    "# response message itself\n",
    "\"\"\"\n",
    "<!DOCTYPE html>\n",
    "<html lang=\"ru\" dir=\"ltr\" class-\"client-nojs\">\n",
    "<head>\n",
    "<meta charset=\"UTF-8/>\n",
    "<title>Python -Википедия</title>\n",
    "...\n",
    "\"\"\""
   ]
  },
  {
   "cell_type": "code",
   "execution_count": 107,
   "metadata": {
    "scrolled": true
   },
   "outputs": [
    {
     "name": "stdout",
     "output_type": "stream",
     "text": [
      "200\n",
      "text/html\n"
     ]
    }
   ],
   "source": [
    "import requests\n",
    "\n",
    "res = requests.get(\"https://docs.python.org/3.9/\")\n",
    "print(res.status_code)\n",
    "print(res.headers['Content-Type'])\n",
    "\n",
    "#print(res.content) # получаем бинарные данные\n",
    "#print(res.text) # если уверены, что получаем текст"
   ]
  },
  {
   "cell_type": "code",
   "execution_count": 112,
   "metadata": {
    "scrolled": false
   },
   "outputs": [
    {
     "name": "stdout",
     "output_type": "stream",
     "text": [
      "200\n",
      "image/png\n"
     ]
    }
   ],
   "source": [
    "# можем запрашивать картинку\n",
    "\n",
    "res = requests.get(\"https://docs.python.org/3.9/_static/py.png\")\n",
    "print(res.status_code)\n",
    "print(res.headers['Content-Type'])\n",
    "\n",
    "#print(res.content) \n",
    "\n",
    "# записываем в файл в бинарном виде, получаем картинку\n",
    "with open(\"python.png\", \"wb\") as f:\n",
    "    f.write(res.content)"
   ]
  },
  {
   "cell_type": "code",
   "execution_count": 114,
   "metadata": {
    "scrolled": true
   },
   "outputs": [
    {
     "name": "stdout",
     "output_type": "stream",
     "text": [
      "200\n",
      "text/html; charset=utf-8\n",
      "https://yandex.ru/search/?text=Stepic&test=test1&name=Name+With+Spaces&list=test1&list=test2\n"
     ]
    }
   ],
   "source": [
    "# get автоматически подставляет параметры\n",
    "res = requests.get(\"https://yandex.ru/search/\",\n",
    "                   params={\n",
    "                       \"text\": \"Stepic\",\n",
    "                       \"test\": \"test1\",\n",
    "                       \"name\": \"Name With Spaces\",\n",
    "                       \"list\": [\"test1\", \"test2\"]\n",
    "                   })\n",
    "print(res.status_code)\n",
    "print(res.headers['Content-Type'])\n",
    "print(res.url)\n",
    "# print(res.text)"
   ]
  },
  {
   "cell_type": "markdown",
   "metadata": {},
   "source": [
    "**Библиотека для парсинга сайта**\n",
    "\n",
    "https://www.crummy.com/software/BeautifulSoup/"
   ]
  },
  {
   "cell_type": "markdown",
   "metadata": {},
   "source": [
    "___\n",
    "**Задание 3.3.1**\n",
    "\n",
    "\n",
    "Рассмотрим два HTML-документа A и B.\n",
    "Из A можно перейти в B за один переход, если в A есть ссылка на B, т. е. внутри A есть тег `<a href=\"B\">`, возможно с дополнительными параметрами внутри тега.\n",
    "Из A можно перейти в B за два перехода если существует такой документ C, что из A в C можно перейти за один переход и из C в B можно перейти за один переход.\n",
    "\n",
    "Вашей программе на вход подаются две строки, содержащие url двух документов A и B.\n",
    "Выведите Yes, если из A в B можно перейти за два перехода, иначе выведите No.\n",
    "\n",
    "Обратите внимание на то, что не все ссылки внутри HTML документа могут вести на существующие HTML документы."
   ]
  },
  {
   "cell_type": "code",
   "execution_count": 166,
   "metadata": {
    "scrolled": true
   },
   "outputs": [
    {
     "name": "stdout",
     "output_type": "stream",
     "text": [
      "Yes\n"
     ]
    }
   ],
   "source": [
    "# решал без Regex, получилось сложно, но верно\n",
    "\n",
    "A = \"https://stepic.org/media/attachments/lesson/24472/sample0.html\"\n",
    "B = \"https://stepic.org/media/attachments/lesson/24472/sample2.html\"\n",
    "\n",
    "res = requests.get(A)\n",
    "if res.status_code == 200:\n",
    "    sample = res.text\n",
    "    sample_count = sample.count(\"href=\")\n",
    "    urls = []\n",
    "    if sample_count > 0:\n",
    "        start = 0\n",
    "        for _ in range(sample_count):\n",
    "            first_arg = sample.find(\"href=\", start)+6\n",
    "            second_arg = sample.find(\">\", sample.find(\"href=\", start))-1\n",
    "            urls.append(sample[first_arg : second_arg])\n",
    "            start = sample.find(\">\", sample.find(\"href=\", start))\n",
    "        #print(urls)\n",
    "        new_urls = []\n",
    "        for url in urls:\n",
    "            res = requests.get(url)\n",
    "            if res.status_code == 200:\n",
    "                sample = res.text\n",
    "                sample_count = sample.count(\"href=\")\n",
    "                \n",
    "                if sample_count > 0:\n",
    "                    start = 0\n",
    "                    for _ in range(sample_count):\n",
    "                        first_arg = sample.find(\"href=\", start)+6\n",
    "                        second_arg = sample.find(\">\", sample.find(\"href=\", start))-1\n",
    "                        new_urls.append(sample[first_arg : second_arg])\n",
    "                        start = sample.find(\">\", sample.find(\"href=\", start))\n",
    "                    #print(new_urls)\n",
    "    if B in new_urls:\n",
    "        print(\"Yes\")\n",
    "    else:\n",
    "        print(\"No\")\n",
    "else:\n",
    "    print(\"No\")"
   ]
  },
  {
   "cell_type": "code",
   "execution_count": null,
   "metadata": {},
   "outputs": [],
   "source": [
    "# Пример препода через regex\n",
    "\n",
    "import re\n",
    "import requests\n",
    "\n",
    "start_url = input()\n",
    "end_url = input()\n",
    "\n",
    "found = False\n",
    "\n",
    "link_pattern = re.compile(r'<a[^>]*?href=\"(.*?)\"[^>]*?>')\n",
    "\n",
    "resp = requests.get(start_url).text\n",
    "for url in link_pattern.findall(resp):\n",
    "    cur_resp = requests.get(url).text\n",
    "    if end_url in link_pattern.findall(cur_resp):\n",
    "        found = True\n",
    "        break\n",
    "\n",
    "print(\"Yes\" if found else \"No\")"
   ]
  },
  {
   "cell_type": "markdown",
   "metadata": {},
   "source": [
    "___\n",
    "**Задание 3.3.2**\n",
    "\n",
    "Вашей программе на вход подается ссылка на HTML файл.\n",
    "Вам необходимо скачать этот файл, затем найти в нем все ссылки вида `<a ... href=\"...\" ... >` и вывести список сайтов, на которые есть ссылка.\n",
    "\n",
    "Сайтом в данной задаче будем называть имя домена вместе с именами поддоменов. То есть, это последовательность символов, которая следует сразу после символов протокола, если он есть, до символов порта или пути, если они есть, за исключением случаев с относительными ссылками вида\n",
    "`<a href=\"../some_path/index.html\">`.\n",
    "\n",
    "Сайты следует выводить в алфавитном порядке.\n",
    "\n",
    "Пример HTML файла:\n",
    "\n",
    "- `<a href=\"http://stepic.org/courses\">`\n",
    "- `<a href='https://stepic.org'>`\n",
    "- `<a href='http://neerc.ifmo.ru:1345'>`\n",
    "- `<a href=\"ftp://mail.ru/distib\" >`\n",
    "- `<a href=\"ya.ru\">`\n",
    "- `<a href=\"www.ya.ru\">`\n",
    "- `<a href=\"../skip_relative_links\">`\n",
    "\n",
    "Пример ответа:\n",
    "\n",
    "- `mail.ru`\n",
    "- `neerc.ifmo.ru`\n",
    "- `stepic.org`\n",
    "- `www.ya.ru`\n",
    "- `ya.ru`"
   ]
  },
  {
   "cell_type": "code",
   "execution_count": null,
   "metadata": {},
   "outputs": [],
   "source": [
    "# для решения все таки придется выучить regex"
   ]
  },
  {
   "cell_type": "markdown",
   "metadata": {},
   "source": [
    "### 3.4 Распространённые форматы текстовых файлов: CSV, JSON <a class=\"anchor\" id=\"3-4\"></a>"
   ]
  },
  {
   "cell_type": "markdown",
   "metadata": {},
   "source": [
    "**csv**\n",
    "\n",
    "библиотека csv"
   ]
  },
  {
   "cell_type": "code",
   "execution_count": 168,
   "metadata": {},
   "outputs": [],
   "source": [
    "import csv\n",
    "#\n",
    "# with open(\"example.tsv\") as f:\n",
    "#     reader = csv.reader(f, delimiter=\"\\t\")\n",
    "#     for row in reader:\n",
    "#         print(row)\n",
    "\n",
    "students = [\n",
    "    [\"Greg\", \"Dean\", 70, 80, 90, \"Good job, Greg\"],\n",
    "    [\"Wirt\", \"Wood\", 80, 80.2, 80, \"Nicely done\"]\n",
    "]\n",
    "\n",
    "with open(\"example.csv\", \"a\") as f:\n",
    "    writer = csv.writer(f, quoting=csv.QUOTE_NONNUMERIC)\n",
    "    writer.writerows(students)"
   ]
  },
  {
   "cell_type": "markdown",
   "metadata": {},
   "source": [
    "**Задача**\n",
    "\n",
    "\n",
    "Вам дана частичная выборка из датасета зафиксированных преступлений, совершенных в городе Чикаго с 2001 года по настоящее время.\n",
    "\n",
    "Одним из атрибутов преступления является его тип – Primary Type.\n",
    "\n",
    "Вам необходимо узнать тип преступления, которое было зафиксировано максимальное число раз в 2015 году."
   ]
  },
  {
   "cell_type": "code",
   "execution_count": 167,
   "metadata": {},
   "outputs": [
    {
     "name": "stdout",
     "output_type": "stream",
     "text": [
      "Counter({'THEFT': 596, 'BATTERY': 473, 'CRIMINAL DAMAGE': 297, 'NARCOTICS': 254, 'OTHER OFFENSE': 179, 'ASSAULT': 175, 'DECEPTIVE PRACTICE': 140, 'BURGLARY': 132, 'MOTOR VEHICLE THEFT': 123, 'ROBBERY': 88, 'CRIMINAL TRESPASS': 64, 'PUBLIC PEACE VIOLATION': 28, 'WEAPONS VIOLATION': 28, 'OFFENSE INVOLVING CHILDREN': 18, 'CRIM SEXUAL ASSAULT': 17, 'PROSTITUTION': 14, 'INTERFERENCE WITH PUBLIC OFFICER': 13, 'SEX OFFENSE': 9, 'HOMICIDE': 5, 'LIQUOR LAW VIOLATION': 4, 'ARSON': 3, 'INTIMIDATION': 2, 'KIDNAPPING': 2, 'STALKING': 2, 'GAMBLING': 2})\n"
     ]
    }
   ],
   "source": [
    "import csv\n",
    "from collections import Counter as c\n",
    "\n",
    "with open('Crimes.csv') as f:\n",
    "    data = csv.reader(f)\n",
    "    print(c( row[5] for row in data if '2015' in row[2] ))"
   ]
  },
  {
   "cell_type": "code",
   "execution_count": null,
   "metadata": {},
   "outputs": [],
   "source": []
  },
  {
   "cell_type": "markdown",
   "metadata": {},
   "source": [
    "### 3.5 API <a class=\"anchor\" id=\"3-5\"></a>"
   ]
  },
  {
   "cell_type": "code",
   "execution_count": null,
   "metadata": {},
   "outputs": [],
   "source": []
  },
  {
   "cell_type": "code",
   "execution_count": null,
   "metadata": {},
   "outputs": [],
   "source": []
  },
  {
   "cell_type": "code",
   "execution_count": null,
   "metadata": {},
   "outputs": [],
   "source": []
  },
  {
   "cell_type": "code",
   "execution_count": null,
   "metadata": {},
   "outputs": [],
   "source": []
  },
  {
   "cell_type": "code",
   "execution_count": null,
   "metadata": {},
   "outputs": [],
   "source": []
  },
  {
   "cell_type": "code",
   "execution_count": null,
   "metadata": {},
   "outputs": [],
   "source": []
  },
  {
   "cell_type": "code",
   "execution_count": null,
   "metadata": {},
   "outputs": [],
   "source": []
  },
  {
   "cell_type": "code",
   "execution_count": null,
   "metadata": {},
   "outputs": [],
   "source": []
  },
  {
   "cell_type": "code",
   "execution_count": null,
   "metadata": {},
   "outputs": [],
   "source": []
  },
  {
   "cell_type": "code",
   "execution_count": null,
   "metadata": {},
   "outputs": [],
   "source": []
  },
  {
   "cell_type": "code",
   "execution_count": null,
   "metadata": {},
   "outputs": [],
   "source": []
  },
  {
   "cell_type": "markdown",
   "metadata": {},
   "source": [
    "### 3.6 XML, библиотека ElementTree, библиотека lxml <a class=\"anchor\" id=\"3-6\"></a>"
   ]
  },
  {
   "cell_type": "code",
   "execution_count": null,
   "metadata": {},
   "outputs": [],
   "source": []
  },
  {
   "cell_type": "code",
   "execution_count": null,
   "metadata": {},
   "outputs": [],
   "source": []
  },
  {
   "cell_type": "code",
   "execution_count": null,
   "metadata": {},
   "outputs": [],
   "source": []
  },
  {
   "cell_type": "code",
   "execution_count": null,
   "metadata": {},
   "outputs": [],
   "source": []
  },
  {
   "cell_type": "code",
   "execution_count": null,
   "metadata": {},
   "outputs": [],
   "source": []
  },
  {
   "cell_type": "code",
   "execution_count": null,
   "metadata": {},
   "outputs": [],
   "source": []
  },
  {
   "cell_type": "code",
   "execution_count": null,
   "metadata": {},
   "outputs": [],
   "source": []
  },
  {
   "cell_type": "code",
   "execution_count": null,
   "metadata": {},
   "outputs": [],
   "source": []
  },
  {
   "cell_type": "code",
   "execution_count": null,
   "metadata": {},
   "outputs": [],
   "source": []
  }
 ],
 "metadata": {
  "kernelspec": {
   "display_name": "Python 3",
   "language": "python",
   "name": "python3"
  },
  "language_info": {
   "codemirror_mode": {
    "name": "ipython",
    "version": 3
   },
   "file_extension": ".py",
   "mimetype": "text/x-python",
   "name": "python",
   "nbconvert_exporter": "python",
   "pygments_lexer": "ipython3",
   "version": "3.7.6"
  }
 },
 "nbformat": 4,
 "nbformat_minor": 4
}
