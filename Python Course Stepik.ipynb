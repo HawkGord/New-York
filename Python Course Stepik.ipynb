{
 "cells": [
  {
   "cell_type": "markdown",
   "metadata": {},
   "source": [
    "# Тетрадь по курсу \"Python: основы и применение\"\n",
    "\n",
    "Ссылка на курс\n",
    "https://stepik.org/course/512/syllabus"
   ]
  },
  {
   "cell_type": "markdown",
   "metadata": {},
   "source": [
    "## 1. Базовые принципы языка Python"
   ]
  },
  {
   "cell_type": "markdown",
   "metadata": {},
   "source": [
    "### 1.2 Модель данных: объекты"
   ]
  },
  {
   "cell_type": "markdown",
   "metadata": {},
   "source": [
    "- Объект - абстракция для данных.\n",
    "- Данные - объекты и отношения между ними.\n",
    "- У любого объекта есть 3 обязательные вещи: идентификатор, тип, значение.\n",
    "- Идентификатор не может измениться\n",
    "\n",
    "Если встречается число, сразу создается объект. Если встречается список, то сначала создается объект для каждого элемента списка, а потом объект и для самого списка."
   ]
  },
  {
   "cell_type": "markdown",
   "metadata": {},
   "source": [
    "**Идентификатор**\n",
    "\n",
    "- Создается объект 4\n",
    "- Соответствие переменной **x** и идентификатора объекта 4\n",
    "\n",
    "имя = (объект)"
   ]
  },
  {
   "cell_type": "code",
   "execution_count": 32,
   "metadata": {},
   "outputs": [],
   "source": [
    "x = 4"
   ]
  },
  {
   "cell_type": "markdown",
   "metadata": {},
   "source": [
    "- Получение идентификатора с помощью функции `id()`\n",
    "\n",
    "получается два разных объекта с разным идентификатором, так как созданы в разное время"
   ]
  },
  {
   "cell_type": "code",
   "execution_count": 33,
   "metadata": {},
   "outputs": [
    {
     "name": "stdout",
     "output_type": "stream",
     "text": [
      "2250027345928\n",
      "2250028261832\n"
     ]
    }
   ],
   "source": [
    "x = [1,2,3]\n",
    "print(id(x))\n",
    "print(id([1,2,3]))"
   ]
  },
  {
   "cell_type": "markdown",
   "metadata": {},
   "source": [
    "- Ссылаются ли две переменные на один объект можно проверить оператором `is`"
   ]
  },
  {
   "cell_type": "code",
   "execution_count": 34,
   "metadata": {},
   "outputs": [
    {
     "name": "stdout",
     "output_type": "stream",
     "text": [
      "True\n",
      "False\n"
     ]
    }
   ],
   "source": [
    "x = [1,2,3]\n",
    "y = x\n",
    "print(y is x) #True\n",
    "print(y is [1,2,3]) #False"
   ]
  },
  {
   "cell_type": "markdown",
   "metadata": {},
   "source": [
    "- Изменяется объект, а не переменная\n",
    "\n",
    "Наглядный пример списки, так как они изменяемые. Если две переменные ссылаются на один список, то изменив его через одну переменную, при вызове через другую мы вызовем измененный список"
   ]
  },
  {
   "cell_type": "code",
   "execution_count": 35,
   "metadata": {},
   "outputs": [
    {
     "name": "stdout",
     "output_type": "stream",
     "text": [
      "[1, 2, 3, 4]\n",
      "[1, 2, 3, 4]\n"
     ]
    }
   ],
   "source": [
    "x = [1,2,3]\n",
    "y = x\n",
    "x.append(4)\n",
    "print(x) # [1, 2, 3, 4]\n",
    "print(y) # [1, 2, 3, 4]"
   ]
  },
  {
   "cell_type": "code",
   "execution_count": 36,
   "metadata": {},
   "outputs": [
    {
     "data": {
      "text/plain": [
       "int"
      ]
     },
     "execution_count": 36,
     "metadata": {},
     "output_type": "execute_result"
    }
   ],
   "source": [
    "type(id(x)) # идентификатор это число типа int"
   ]
  },
  {
   "cell_type": "code",
   "execution_count": 37,
   "metadata": {},
   "outputs": [
    {
     "name": "stdout",
     "output_type": "stream",
     "text": [
      "id(x): 2250027344008\n",
      "id(y): 2250027344008\n",
      "id(s): 2250028243440\n",
      "id(t): 2250028243440\n",
      "id(t): 2250026261360\n",
      "\n",
      "[1, 2, 3, 4] 123\n"
     ]
    }
   ],
   "source": [
    "# Задание на знание того, что строки - неизменяемые объекты\n",
    "x = [1, 2, 3]\n",
    "y = x\n",
    "y.append(4)\n",
    "print(\"id(x): \" + str(id(x)))\n",
    "print(\"id(y): \" + str(id(y)))\n",
    "\n",
    "s = \"123\" \n",
    "print(\"id(s): \" + str(id(s)))\n",
    "\n",
    "t = s       \n",
    "print(\"id(t): \" + str(id(t)))\n",
    "\n",
    "t = t + \"4\" #по сути мы создаем копию, а не ссылаемся на тот же объект, так как строку менять нельзя\n",
    "print(\"id(t): \" + str(id(t)))\n",
    "\n",
    "print()\n",
    "print(str(x) + \" \" + s)"
   ]
  },
  {
   "cell_type": "markdown",
   "metadata": {},
   "source": [
    "Ниже отличный пример из комментариев и пояснение\n",
    "\n",
    "В первом случае `y=y*2` мы вызываем метод `__mul__` у объекта \"y\" - он присваивает переменной \"y\" новый объект (результат умножения) - то есть \"x\" и \"y\" в данном случае разные объекты, т.к \"y\" теперь ссылается на другой объект\n",
    "\n",
    "А во втором случае `y*=2` у \"y\" вызывается метод `__imul__` который модифицирует сам объект, т.е ссылка \"y\" указывает на то же самое место в памяти, туда же, куда указывает и \"x\", в результате умножения объект изменяется и в результате обе ссылки показывают его новое значение"
   ]
  },
  {
   "cell_type": "code",
   "execution_count": 38,
   "metadata": {},
   "outputs": [
    {
     "name": "stdout",
     "output_type": "stream",
     "text": [
      "[1, 2, 3]\n",
      "[1, 2, 3, 1, 2, 3]\n",
      "[1, 2, 3, 1, 2, 3]\n",
      "[1, 2, 3, 1, 2, 3]\n"
     ]
    }
   ],
   "source": [
    "x=[1,2,3]\n",
    "y=x\n",
    "y=y*2\n",
    "print(x) #[1, 2, 3]\n",
    "print(y) #[1, 2, 3, 1, 2, 3]\n",
    "\n",
    "#\n",
    "\n",
    "x=[1,2,3]\n",
    "y=x\n",
    "y*=2\n",
    "print(x) #[1, 2, 3, 1, 2, 3]\n",
    "print(y) #[1, 2, 3, 1, 2, 3]"
   ]
  },
  {
   "cell_type": "markdown",
   "metadata": {},
   "source": [
    "**Тип объекта**\n",
    "\n",
    "- Тип объекта не может быть изменен после создания объекта (как и идентификатор)\n",
    "- Узнать тип объекта можно при помощи функции `type()` "
   ]
  },
  {
   "cell_type": "code",
   "execution_count": 39,
   "metadata": {},
   "outputs": [
    {
     "name": "stdout",
     "output_type": "stream",
     "text": [
      "<class 'list'>\n",
      "<class 'int'>\n",
      "<class 'type'>\n"
     ]
    }
   ],
   "source": [
    "x = [1,2,3]\n",
    "print(type(x)) #<class 'list'>\n",
    "print(type(4)) #<class 'int'>\n",
    "print(type(type(x))) #<class 'type'>"
   ]
  },
  {
   "cell_type": "markdown",
   "metadata": {},
   "source": [
    "**Два вида объектов - Mutable (изменчивый)  и Immutable (неизменный)**\n",
    "\n",
    "- **Immutable**\n",
    "    - int\n",
    "    - float\n",
    "    - complex\n",
    "    - bool\n",
    "    - tuple\n",
    "    - str\n",
    "    - frozenset\n",
    "        \n",
    "    \n",
    "- **Mutable***\n",
    "    - list\n",
    "    - dict\n",
    "    - set\n",
    "   "
   ]
  },
  {
   "cell_type": "markdown",
   "metadata": {},
   "source": [
    "**Словари (dict)**\n",
    "неупорядоченные коллекции произвольных объектов с доступом по ключу. Их иногда ещё называют ассоциативными массивами или хеш-таблицами.\n",
    "\n",
    "Чтобы работать со словарём, его нужно создать. Создать его можно несколькими способами: \n",
    "- с помощью литерала `{}`\n",
    "- с помощью функции `dict`\n",
    "- с помощью метода `fromkeys`\n",
    "- с помощью генераторов словарей, которые очень похожи на генераторы списков"
   ]
  },
  {
   "cell_type": "code",
   "execution_count": 40,
   "metadata": {
    "scrolled": true
   },
   "outputs": [
    {
     "name": "stdout",
     "output_type": "stream",
     "text": [
      "{}\n",
      "{'dict': 1, 'dictionary': 2}\n"
     ]
    }
   ],
   "source": [
    "d = {}\n",
    "print(d)\n",
    "\n",
    "d = {'dict': 1, 'dictionary': 2}\n",
    "print(d)"
   ]
  },
  {
   "cell_type": "code",
   "execution_count": 41,
   "metadata": {},
   "outputs": [
    {
     "name": "stdout",
     "output_type": "stream",
     "text": [
      "{'short': 'dict', 'long': 'dictionary'}\n",
      "{1: 1, 2: 4}\n"
     ]
    }
   ],
   "source": [
    "d = dict(short='dict', long='dictionary')\n",
    "print(d)\n",
    "\n",
    "d = dict([(1, 1), (2, 4)])\n",
    "print(d)"
   ]
  },
  {
   "cell_type": "code",
   "execution_count": 42,
   "metadata": {},
   "outputs": [
    {
     "name": "stdout",
     "output_type": "stream",
     "text": [
      "{'a': None, 'b': None}\n",
      "{'a': 100, 'b': 100}\n"
     ]
    }
   ],
   "source": [
    "d = dict.fromkeys(['a', 'b'])\n",
    "print(d)\n",
    "\n",
    "d = dict.fromkeys(['a', 'b'], 100)\n",
    "print(d)"
   ]
  },
  {
   "cell_type": "code",
   "execution_count": 43,
   "metadata": {
    "scrolled": true
   },
   "outputs": [
    {
     "data": {
      "text/plain": [
       "{0: 0, 1: 1, 2: 4, 3: 9, 4: 16, 5: 25, 6: 36}"
      ]
     },
     "execution_count": 43,
     "metadata": {},
     "output_type": "execute_result"
    }
   ],
   "source": [
    "d = {a: a ** 2 for a in range(7)}\n",
    "d"
   ]
  },
  {
   "cell_type": "code",
   "execution_count": 44,
   "metadata": {},
   "outputs": [
    {
     "name": "stdout",
     "output_type": "stream",
     "text": [
      "2\n",
      "{1: 2, 2: 4, 3: 9, 4: 16}\n"
     ]
    }
   ],
   "source": [
    "d = {1: 2, 2: 4, 3: 9}\n",
    "print(d[1])\n",
    "d[4] = 4 ** 2\n",
    "print(d)"
   ]
  },
  {
   "cell_type": "markdown",
   "metadata": {},
   "source": [
    "**Множества (set)**\n",
    "\n",
    "Множество в python - \"контейнер\", содержащий не повторяющиеся элементы в случайном порядке."
   ]
  },
  {
   "cell_type": "code",
   "execution_count": 45,
   "metadata": {},
   "outputs": [
    {
     "name": "stdout",
     "output_type": "stream",
     "text": [
      "{'l', 'e', 'h', 'o'}\n",
      "{0, 1, 64, 4, 36, 9, 16, 49, 81, 25}\n",
      "<class 'dict'>\n"
     ]
    }
   ],
   "source": [
    "#Примеры для set (множества)\n",
    "\n",
    "a = set('hello')\n",
    "print(a) #{'l', 'h', 'e', 'o'} - хранятся уникальные значения\n",
    "\n",
    "a = {i ** 2 for i in range(10)} # генератор множеств\n",
    "print(a) #{0, 1, 64, 4, 36, 9, 16, 49, 81, 25}\n",
    "\n",
    "a = {}  # А так нельзя!\n",
    "print(type(a)) #Получим словарь <class 'dict'>"
   ]
  },
  {
   "cell_type": "code",
   "execution_count": 46,
   "metadata": {},
   "outputs": [
    {
     "name": "stdout",
     "output_type": "stream",
     "text": [
      "{'e', 1, 't', 'r', 'q', 'y', 'w'}\n"
     ]
    }
   ],
   "source": [
    "#Примеры для frozenset\n",
    "\n",
    "a = set('qwerty')\n",
    "b = frozenset('qwerty')\n",
    "a == b #True\n",
    "type(a - b) #<class 'set'>\n",
    "type(a | b) #<class 'set'>\n",
    "a.add(1)\n",
    "print(a)"
   ]
  },
  {
   "cell_type": "code",
   "execution_count": 47,
   "metadata": {},
   "outputs": [
    {
     "ename": "AttributeError",
     "evalue": "'frozenset' object has no attribute 'add'",
     "output_type": "error",
     "traceback": [
      "\u001b[1;31m---------------------------------------------------------------------------\u001b[0m",
      "\u001b[1;31mAttributeError\u001b[0m                            Traceback (most recent call last)",
      "\u001b[1;32m<ipython-input-47-0e06f9372d14>\u001b[0m in \u001b[0;36m<module>\u001b[1;34m\u001b[0m\n\u001b[1;32m----> 1\u001b[1;33m \u001b[0mb\u001b[0m\u001b[1;33m.\u001b[0m\u001b[0madd\u001b[0m\u001b[1;33m(\u001b[0m\u001b[1;36m1\u001b[0m\u001b[1;33m)\u001b[0m \u001b[1;31m#нельзя менять frozenset\u001b[0m\u001b[1;33m\u001b[0m\u001b[1;33m\u001b[0m\u001b[0m\n\u001b[0m",
      "\u001b[1;31mAttributeError\u001b[0m: 'frozenset' object has no attribute 'add'"
     ]
    }
   ],
   "source": [
    "b.add(1) #нельзя менять frozenset"
   ]
  },
  {
   "cell_type": "markdown",
   "metadata": {},
   "source": [
    "**Кортежи (tuple)**\n",
    "\n",
    "Кортеж, по сути - неизменяемый список.\n",
    "\n",
    "Зачем нужны кортежи, если есть списки?\n",
    "- Защита от дурака. То есть кортеж защищен от изменений, как намеренных (что плохо), так и случайных (что хорошо).\n",
    "- Меньший размер.\n",
    "- Возможность использовать кортежи в качестве ключей словаря:"
   ]
  },
  {
   "cell_type": "code",
   "execution_count": 48,
   "metadata": {},
   "outputs": [
    {
     "name": "stdout",
     "output_type": "stream",
     "text": [
      "72\n",
      "88\n"
     ]
    }
   ],
   "source": [
    "a = (1, 2, 3, 4, 5, 6)\n",
    "b = [1, 2, 3, 4, 5, 6]\n",
    "print(a.__sizeof__()) #72 - меньше память\n",
    "print(b.__sizeof__()) #88"
   ]
  },
  {
   "cell_type": "code",
   "execution_count": 49,
   "metadata": {},
   "outputs": [
    {
     "data": {
      "text/plain": [
       "{(1, 1, 1): 1}"
      ]
     },
     "execution_count": 49,
     "metadata": {},
     "output_type": "execute_result"
    }
   ],
   "source": [
    "# Возможность использовать кортежи в качестве ключей словаря:\n",
    "d = {(1, 1, 1) : 1}\n",
    "d #{(1, 1, 1): 1}"
   ]
  },
  {
   "cell_type": "code",
   "execution_count": 50,
   "metadata": {},
   "outputs": [
    {
     "ename": "TypeError",
     "evalue": "unhashable type: 'list'",
     "output_type": "error",
     "traceback": [
      "\u001b[1;31m---------------------------------------------------------------------------\u001b[0m",
      "\u001b[1;31mTypeError\u001b[0m                                 Traceback (most recent call last)",
      "\u001b[1;32m<ipython-input-50-dbf8c6bbab54>\u001b[0m in \u001b[0;36m<module>\u001b[1;34m\u001b[0m\n\u001b[1;32m----> 1\u001b[1;33m \u001b[0md\u001b[0m \u001b[1;33m=\u001b[0m \u001b[1;33m{\u001b[0m\u001b[1;33m[\u001b[0m\u001b[1;36m1\u001b[0m\u001b[1;33m,\u001b[0m \u001b[1;36m1\u001b[0m\u001b[1;33m,\u001b[0m \u001b[1;36m1\u001b[0m\u001b[1;33m]\u001b[0m \u001b[1;33m:\u001b[0m \u001b[1;36m1\u001b[0m\u001b[1;33m}\u001b[0m \u001b[1;31m#нельзя использовать список\u001b[0m\u001b[1;33m\u001b[0m\u001b[1;33m\u001b[0m\u001b[0m\n\u001b[0m",
      "\u001b[1;31mTypeError\u001b[0m: unhashable type: 'list'"
     ]
    }
   ],
   "source": [
    "d = {[1, 1, 1] : 1} #нельзя использовать список"
   ]
  },
  {
   "cell_type": "code",
   "execution_count": 61,
   "metadata": {},
   "outputs": [
    {
     "data": {
      "text/plain": [
       "('h', 'e', 'l', 'l', 'o', ',', ' ', 'w', 'o', 'r', 'l', 'd', '!')"
      ]
     },
     "execution_count": 61,
     "metadata": {},
     "output_type": "execute_result"
    }
   ],
   "source": [
    "a = tuple('hello, world!')\n",
    "a"
   ]
  },
  {
   "cell_type": "markdown",
   "metadata": {},
   "source": [
    "**Итоговое задание 1.2**\n",
    "\n",
    "*Реализуйте программу, которая будет вычислять количество различных объектов в списке.\n",
    "Два объекта a и b считаются различными, если a is b равно False.*\n",
    "\n",
    "Что важно:\n",
    "\n",
    "`True == 1` (True), но `True is 1 ` (False)\n",
    "\n",
    "Задание требует проверять через `is`, а `set` проверяет через ==\n",
    "\n",
    "Пояснение автора курса:\n",
    "___\n",
    "В процессе решения данной задачи, вы в комментариях задали один очень интересный вопрос: почему внутри set 1 и True считаются одинаковыми элементами, в то время, как True is not 1.\n",
    "\n",
    "Ответ заключается в том, как в языке python устроены множества (сет) и словари (dict), а также, важная деталь про значения 1 и True.\n",
    "\n",
    "Прежде всего убедитесь в том, что `1 == True` и `True is not 1`(запустите это в интерпретаторе)\n",
    "\n",
    "Объекты (коробки) действительно разные, однако оператор == будет возвращать значение True, равенство логических значений значениям 0 и 1 появилось в очень старые времена (во многих языках).\n",
    "\n",
    "Теперь проясним одну важную деталь языка python: чтобы узнать, лежит ли объект внутри множества (или ключей словаря) или нет, мы пользуемся hash и сравнением через == : https://docs.python.org/3/reference/datamodel.html#object.__hash__ \n",
    "\n",
    "Таким образом, раз `1 == True` (и `hash(1) == hash(True)`) внутри множества эти объекты считаются одинаковыми, несмотря на то, что объекты различаются (так как `1 is not True`).\n",
    "\n",
    "Похожим примером будет сравнение листов: вы можете убедиться, что `[1, 2, 3] is not [1, 2, 3]` однако `[1, 2, 3] == [1, 2, 3]`\n",
    "___"
   ]
  },
  {
   "cell_type": "code",
   "execution_count": null,
   "metadata": {},
   "outputs": [],
   "source": [
    "#Такое решение не подходит\n",
    "objects = [1, 2, 1, 2, 3, 'asd', True, False, 0] \n",
    "a = set(objects)\n",
    "print(a)\n",
    "print(len(a))"
   ]
  },
  {
   "cell_type": "code",
   "execution_count": null,
   "metadata": {},
   "outputs": [],
   "source": [
    "print (1 == True)\n",
    "print (True is 1)"
   ]
  },
  {
   "cell_type": "code",
   "execution_count": null,
   "metadata": {},
   "outputs": [],
   "source": [
    "#Один из вариантов, но не совсем верно, так как надо количество уникальных, а я нашел количество тех, у которых нет копий.\n",
    "\n",
    "objects = [1, 2, 1, 2, 3, 'asd', True, False, 0, 1] \n",
    "\n",
    "not_uniq = 0\n",
    "\n",
    "for i in range(len(objects)): # доступная переменная objects\n",
    "    objects2 = objects.copy() \n",
    "    objects2.pop(i)\n",
    "    for obj2 in objects2:\n",
    "        if objects[i] is obj2: \n",
    "            not_uniq += 1\n",
    "            break;\n",
    "\n",
    "print(len(objects)-not_uniq)"
   ]
  },
  {
   "cell_type": "code",
   "execution_count": null,
   "metadata": {},
   "outputs": [],
   "source": [
    "#Верное решение\n",
    "\n",
    "objects = [1, 2, 1, 2, 3, 'asd', True, False, 0, 1] \n",
    "objects_id = []\n",
    "for obj in objects:\n",
    "    objects_id.append(id(obj))\n",
    "    \n",
    "ans = len(set(objects_id)) \n",
    "print(ans)"
   ]
  },
  {
   "cell_type": "code",
   "execution_count": null,
   "metadata": {},
   "outputs": [],
   "source": [
    "#Тоже самое, только короче, с использованием map\n",
    "print(len(set(map(id, objects))))"
   ]
  },
  {
   "cell_type": "code",
   "execution_count": null,
   "metadata": {},
   "outputs": [],
   "source": [
    "n = len(objects)\n",
    "ans = n\n",
    "for i in range(n):\n",
    "    for j in range(i):\n",
    "        if id(objects[i]) == id(objects[j]):\n",
    "            ans -= 1\n",
    "            break\n",
    "\n",
    "print(ans)"
   ]
  },
  {
   "cell_type": "markdown",
   "metadata": {},
   "source": [
    "### 1.3 Функции и стек вызовов"
   ]
  },
  {
   "cell_type": "markdown",
   "metadata": {},
   "source": [
    "Причины использованиы функций\n",
    "1. Переиспользование кода\n",
    "2. Структурирование кода (читабельность кода)\n",
    "3. Сокрытие деталий реализации (например функция `print`, не знаем как устроена, но знаем, что она делает)"
   ]
  },
  {
   "cell_type": "markdown",
   "metadata": {},
   "source": [
    "Синтаксис\n",
    "\n",
    "- `function_name` - имя функции (начинать с цифры нельзя)\n",
    "- `( )` - обязательные скобки\n",
    "- `argument1, argument2` - аргументы (параметры?) функции\n",
    "- `function body` - тело функции, отступ в 4 пробела обязателен"
   ]
  },
  {
   "cell_type": "code",
   "execution_count": null,
   "metadata": {
    "scrolled": true
   },
   "outputs": [],
   "source": [
    "#Синтаксис\n",
    "def function_name(argument1, argument2): #\n",
    "    # function body\n",
    "    return argument1 + argument2\n",
    "x = function_name(2, 8)\n",
    "y = function_name(x, 21)\n",
    "print(y)"
   ]
  },
  {
   "cell_type": "markdown",
   "metadata": {},
   "source": [
    "Функции являются так же объектом, сначало считывается весь код тела функции, потом `function_name` ссылается на него"
   ]
  },
  {
   "cell_type": "code",
   "execution_count": null,
   "metadata": {
    "scrolled": true
   },
   "outputs": [],
   "source": [
    "print(type(function_name))\n",
    "print(id(function_name))"
   ]
  },
  {
   "cell_type": "markdown",
   "metadata": {},
   "source": [
    "При вызове функции `x = function_name(2, 8)`, интерпретатор смотрит на переменную и на какой объект она ссылается, понимает, что принимаются аргументы, и до исполнения тела функции инициализирует переменные. Т.е. первый аргумент начнет ссылаться на 2, а второй на 8. Далее построчное исполнение тела функции, и потом инструкция return. Далее создается объект суммы - 10 (если его не было ранее в памяти), и сумма будет ссылаться на этот объект. В итоге передается ссылка на объект 10 переменной `x`."
   ]
  },
  {
   "cell_type": "markdown",
   "metadata": {},
   "source": [
    "http://www.pythontutor.com/visualize.html - отличный сайт для визуализации кода\n",
    "\n",
    "На примере ниже смотрим, как работает интепретатор."
   ]
  },
  {
   "cell_type": "code",
   "execution_count": null,
   "metadata": {},
   "outputs": [],
   "source": [
    "def list_sum(lst):\n",
    "    result = 0\n",
    "    for element in lst:\n",
    "        result += element\n",
    "    return result\n",
    "\n",
    "def sum(a, b):\n",
    "    return a + b\n",
    "\n",
    "y = sum(14, 29)\n",
    "z = list_sum([1,2,3])\n",
    "print(y)\n",
    "print(z)"
   ]
  },
  {
   "cell_type": "markdown",
   "metadata": {},
   "source": [
    "Задание: Что будет выведено на экран в результате исполнения данного кода?"
   ]
  },
  {
   "cell_type": "code",
   "execution_count": null,
   "metadata": {},
   "outputs": [],
   "source": [
    "a = []\n",
    "\n",
    "def foo(arg1, arg2):\n",
    "    print(arg1)\n",
    "    a.append(\"foo\")\n",
    "\n",
    "foo(a.append(\"arg1\"), a.append(\"arg2\"))\n",
    "\n",
    "#print(a)\n",
    "\n",
    "# Через визуализатор видим, что arg1, arg2 и return имеют значение None, который является объектом со своим id"
   ]
  },
  {
   "cell_type": "code",
   "execution_count": null,
   "metadata": {},
   "outputs": [],
   "source": [
    "print(id(None))\n",
    "print(type(None))"
   ]
  },
  {
   "cell_type": "markdown",
   "metadata": {},
   "source": [
    "**Стек вызовов**\n",
    "\n",
    "Стек - абстрактная структура данных. Можно сравнить со стопкой элементов, можем класть элементы наверх, или убирать сверху. Нельзя класть или забирать не из верха. Кладем комнанда `push`, забираем команда `pop`.\n",
    "\n",
    "Стек вызовов хранит функции, которые мы вызвали. Если нужно испольнить функции, интерпретатор кладет функцию на стек, если завершает исполнение, он со стека ее снимает.\n",
    "\n",
    "В самом начале стека находится функция module, она исполняет наши запросы. Она определяет функции, скалдывает числа и т.д."
   ]
  },
  {
   "cell_type": "code",
   "execution_count": null,
   "metadata": {},
   "outputs": [],
   "source": [
    "def g():\n",
    "    print(\"I am in function g\")\n",
    "    \n",
    "def f():\n",
    "    print(\"I am in function f\")\n",
    "    g()\n",
    "    print(\"I am in function f\")\n",
    "    \n",
    "print(\"I am outside of any function f\")\n",
    "f()\n",
    "print(\"I am outside of any function f\")"
   ]
  },
  {
   "cell_type": "markdown",
   "metadata": {},
   "source": [
    "Реализация стека при помощи списка. При помощи методов `append()` и `pop()` мы имитируем стек. Добавляем в конец и убираем."
   ]
  },
  {
   "cell_type": "code",
   "execution_count": null,
   "metadata": {},
   "outputs": [],
   "source": [
    "x = [1,2,3]\n",
    "\n",
    "x.append(4)\n",
    "x.append(5)\n",
    "\n",
    "print(x) # [1, 2, 3, 4, 5]\n",
    "\n",
    "top = x.pop()\n",
    "print(top) # 5\n",
    "print(x)  # [1, 2, 3, 4]\n",
    "\n",
    "top = x.pop()\n",
    "print(top) # 4\n",
    "print(x) # [1, 2, 3]"
   ]
  },
  {
   "cell_type": "markdown",
   "metadata": {},
   "source": [
    "**Задание:**\n",
    "\n",
    "В процессе выполнения кода на стек добавляются и со стека снимаются функции. Добавление функции на стек увеличивает его размер на 1, снятие функции со стека уменьшает его размер на 1.\n",
    "\n",
    "Чему равен максимальный размер стека в процессе выполнения следующего кода?\n",
    "___\n",
    "\n",
    "    def h():\n",
    "      print(12)\n",
    "    \n",
    "    def f():\n",
    "      g(h)\n",
    "    \n",
    "    def g(a):\n",
    "      a()\n",
    "      \n",
    "    g(f)\n",
    "___"
   ]
  },
  {
   "cell_type": "code",
   "execution_count": null,
   "metadata": {},
   "outputs": [],
   "source": [
    "#Так можем проверить\n",
    "def h():\n",
    "    print(\"- H\")\n",
    "    print(\"- 12\")\n",
    "    print(\"H - end\")\n",
    "\n",
    "def f():\n",
    "    print(\"- F\")\n",
    "    g(h)\n",
    "    print(\"F - end\")\n",
    "\n",
    "def g(a):\n",
    "    print(\"- G\")\n",
    "    a()\n",
    "    print(\"G - end\")\n",
    "\n",
    "print(\"\\n- MODULE\")\n",
    "g(f)"
   ]
  },
  {
   "cell_type": "markdown",
   "metadata": {},
   "source": [
    "- Функции возвращают значение при помощи return. Если их несколько, после первого выполненого остальные не будут вызваны\n",
    "- Не обязательно должен быть return (возвращает объект None)"
   ]
  },
  {
   "cell_type": "code",
   "execution_count": null,
   "metadata": {},
   "outputs": [],
   "source": [
    "x = print(4)\n",
    "print(x)\n",
    "print(type(x))\n",
    "print(x is None) #проверять ссылку на None только так"
   ]
  },
  {
   "cell_type": "markdown",
   "metadata": {},
   "source": [
    "**Задание:**\n",
    "    \n",
    "Напишите реализацию функции closest_mod_5, принимающую в качестве единственного аргумента целое число x и возвращающую самое маленькое целое число y, такое что:\n",
    "\n",
    "- y больше или равно x\n",
    "- y делится нацело на 5"
   ]
  },
  {
   "cell_type": "code",
   "execution_count": null,
   "metadata": {},
   "outputs": [],
   "source": [
    "#Мое решение\n",
    "def closest_mod_5(x):\n",
    "    y = x\n",
    "    while y % 5 != 0:\n",
    "        y += 1\n",
    "    return y"
   ]
  },
  {
   "cell_type": "code",
   "execution_count": null,
   "metadata": {},
   "outputs": [],
   "source": [
    "closest_mod_5(17)"
   ]
  },
  {
   "cell_type": "code",
   "execution_count": null,
   "metadata": {},
   "outputs": [],
   "source": [
    "#Пример рекурсивного решения\n",
    "def closest_mod_5(x):\n",
    "    return x if x % 5 == 0 else closest_mod_5(x + 1)"
   ]
  },
  {
   "cell_type": "markdown",
   "metadata": {},
   "source": [
    "___\n",
    "Правила вызова функций\n",
    "1. Каждый аргумент должен быть проинициализирован\n",
    "2. Ни один аргумент не должен быть инициализирован дважды\n",
    "\n",
    "Примеры вызова функций\n",
    "1. Классический (позиционные аргументы) - `printab(10,20)`  \n",
    "2. Именованные аргументы - `printab(a = 10, b = 20)`"
   ]
  },
  {
   "cell_type": "code",
   "execution_count": null,
   "metadata": {},
   "outputs": [],
   "source": [
    "def printab(a,b):\n",
    "    print(a)\n",
    "    print(b)\n",
    "    \n",
    "#CORRECT WAYS TO CALL A FUNCTION\n",
    "printab(10, 20)\n",
    "printab(a = 10, b = 20) #порядок не так важен, printab(b = 20, a = 10)\n",
    "#keyword argument always afterr non-keyword argument\n",
    "printab(10, b=20) #сначало обязательно позициоонный аргумент\n",
    "\n",
    "lst = [10, 20]\n",
    "printab(*lst) # = printab(lst[0], lst[1])\n",
    "\n",
    "args = {'a': 10, 'b': 20}\n",
    "printab(**args) # = printab(key1=args[key1],\n",
    "                #       key2=args[key2])\n",
    "    \n",
    "#звездочки (*) выполняют функцию развертования"
   ]
  },
  {
   "cell_type": "code",
   "execution_count": null,
   "metadata": {},
   "outputs": [],
   "source": [
    "#INCORRECT\n",
    "printab(a = 10, b) "
   ]
  },
  {
   "cell_type": "markdown",
   "metadata": {},
   "source": [
    "___\n",
    "Такие же правила определения функций с значениями по умолчанию"
   ]
  },
  {
   "cell_type": "code",
   "execution_count": null,
   "metadata": {},
   "outputs": [],
   "source": [
    "# CORRECT\n",
    "def printab(a,b):\n",
    "    print(a)\n",
    "    print(b)\n",
    "    \n",
    "def printab(a, b = 10): # printab(5)\n",
    "    print(a)\n",
    "    print(b)\n",
    "    \n",
    "def printab(a = 10, b = 10): # printab()\n",
    "    print(a)\n",
    "    print(b)"
   ]
  },
  {
   "cell_type": "code",
   "execution_count": null,
   "metadata": {},
   "outputs": [],
   "source": [
    "# INCORRECT\n",
    "def printab(a = 10, b):\n",
    "    print(a)\n",
    "    print(b)"
   ]
  },
  {
   "cell_type": "code",
   "execution_count": null,
   "metadata": {},
   "outputs": [],
   "source": [
    "#Передача непоределенного числа аргументов\n",
    "\n",
    "#здесь звездочки (*) наоборот свертовают в кортеж\n",
    "def printab(a,b, *args):\n",
    "    print(\"positional argument a:\", a)\n",
    "    print(\"positional argument b:\", b)\n",
    "    print(\"additional arguments:\", end = ' ')\n",
    "    for arg in args:\n",
    "        print(arg, end = ' ')\n",
    "        \n",
    "printab(10, 20, 30, 40, 50) # все после второго аргументы помещаеются в кортеж\n",
    "                            # args = (30, 40, 50)"
   ]
  },
  {
   "cell_type": "code",
   "execution_count": null,
   "metadata": {},
   "outputs": [],
   "source": [
    "#используем словарь\n",
    "def printab(a,b, **kwargs):\n",
    "    print(\"positional argument a:\", a)\n",
    "    print(\"positional argument b:\", b)\n",
    "    print(\"additional arguments:\")\n",
    "    for key in kwargs:\n",
    "        print(key, kwargs[key])\n",
    "        \n",
    "printab(10, 20, c = 30, d = 40, jimmi = 123)\n",
    "\n",
    "#kwargs = {'c': 30, 'd': 40, 'jimmi': 123}"
   ]
  },
  {
   "cell_type": "code",
   "execution_count": null,
   "metadata": {},
   "outputs": [],
   "source": [
    "printab(10, c = 30, d = 40, jimmi = 123, b = 20)\n",
    "# ничего не меняется, хотя \"b = 20\" поставили в конец"
   ]
  },
  {
   "cell_type": "markdown",
   "metadata": {},
   "source": [
    "___\n",
    "*Общий синтаксис определения функции*\n",
    "\n",
    "    def function_name([ positional_args,\n",
    "                      [ positional_args_with_default,\n",
    "                      [ *pos_args_name,\n",
    "                      [ keyword_only_args,\n",
    "                      [ **kw_args_name]]]]]):"
   ]
  },
  {
   "cell_type": "code",
   "execution_count": null,
   "metadata": {},
   "outputs": [],
   "source": [
    "#Пример для понимание, как все складывается\n",
    "def pr(a, b, c, *lst, **dct):\n",
    "    print(a)\n",
    "    print(b)\n",
    "    print(c)\n",
    "    print(lst) \n",
    "    print(dct) \n",
    "    \n",
    "pr(1, 2, 3, 4, 5, 6, one = 7, two = 8)"
   ]
  },
  {
   "cell_type": "markdown",
   "metadata": {},
   "source": [
    "**Задание**\n",
    "\n",
    "Дана функция *s*:\n",
    "\n",
    "    def s(a, *vs, b=10):\n",
    "       res = a + b\n",
    "       for v in vs:\n",
    "           res += v\n",
    "       return res\n",
    "В результате каких вызовов данная функция вернет число 31?"
   ]
  },
  {
   "cell_type": "code",
   "execution_count": null,
   "metadata": {},
   "outputs": [],
   "source": [
    "def s(a, *vs, b=10):\n",
    "    res = a + b\n",
    "    for v in vs:\n",
    "        res += v\n",
    "    return res\n",
    "\n",
    "print(s(0, 0, 31))\n",
    "print(s(11, 10, 10))\n",
    "print(s(11, b=20))\n",
    "#print(s(b=31, 0)) \n",
    "print(s(11, 10))\n",
    "print(s(21))\n",
    "print(s(11, 10, b=10))\n",
    "#print(s(b=31))\n",
    "print(s(5, 5, 5, 5, 1))"
   ]
  },
  {
   "cell_type": "code",
   "execution_count": null,
   "metadata": {},
   "outputs": [],
   "source": [
    "#Рекурсивные функции на примере последовательности числер Фибоначчи\n",
    "# 1 1 2 3 5 8 ...\n",
    "def fib(x):\n",
    "    if x == 0 or x == 1:\n",
    "        return 1\n",
    "    else:\n",
    "        return fib(x-1)+fib(x-2)\n",
    "    \n",
    "y = fib(5)\n",
    "print(y) # 8"
   ]
  },
  {
   "cell_type": "markdown",
   "metadata": {},
   "source": [
    "**Итоговое задание 1.3**\n",
    "\n",
    "Сочетанием из n элементов по k называется подмножество этих n элементов размера k.\n",
    "Два сочетания называются различными, если одно из сочетаний содержит элемент, который не содержит другое.\n",
    "Числом сочетаний из n по k называется количество различных сочетаний из n по k. Обозначим это число за C(n, k).\n",
    "\n",
    "Пример:\n",
    "Пусть n = 3, т. е. есть три элемента (1, 2, 3). Пусть k = 2.\n",
    "Все различные сочетания из 3 элементов по 2: (1, 2), (1, 3), (2, 3).\n",
    "Различных сочетаний три, поэтому C(3, 2) = 3.\n",
    "\n",
    "Несложно понять, что C(n, 0) = 1, так как из n элементов выбрать 0 можно единственным образом, а именно, ничего не выбрать.\n",
    "Также несложно понять, что если k > n, то C(n, k) = 0, так как невозможно, например, из трех элементов выбрать пять.\n",
    "\n",
    "Для вычисления C(n, k) в других случаях используется следующая рекуррентная формула:\n",
    "C(n, k) = C(n - 1, k) + C(n - 1, k - 1).\n",
    "\n",
    "Реализуйте программу, которая для заданных n и k вычисляет C(n, k).\n",
    "\n",
    "Вашей программе на вход подается строка, содержащая два целых числа n и k (1 ≤ n ≤ 10, 0 ≤ k ≤ 10).\n",
    "Ваша программа должна вывести единственное число: C(n, k).\n",
    "\n",
    "Примечание:\n",
    "Считать два числа n и k вы можете, например, следующим образом:\n",
    "\n",
    "`n, k = map(int, input().split())`"
   ]
  },
  {
   "cell_type": "code",
   "execution_count": null,
   "metadata": {},
   "outputs": [],
   "source": [
    "n, k = map(int, input().split())\n",
    "def C(n, k):\n",
    "    if k == 0:\n",
    "        return 1\n",
    "    elif k > n:\n",
    "        return 0\n",
    "    else:\n",
    "        return C(n-1, k)+C(n-1, k-1)\n",
    "\n",
    "res = C(n, k)\n",
    "print(res)"
   ]
  },
  {
   "cell_type": "markdown",
   "metadata": {},
   "source": [
    "### 1.4 Пространства имён и области видимости\n",
    "\n",
    "**Namespace** - сопоставление имен наших переменных, функций или классов и реальных объектов из оперативной памяти\n",
    "\n",
    "Пространств имен много\n",
    "\n",
    "Cоздаются namespace:\n",
    "1. builtins: int, str, float, max, abs, id... (когда запускаем интерпретатор)\n",
    "2. main (является глобальным, и содержит имена, которые мы определили на верхнем уровне нашего кода)"
   ]
  },
  {
   "cell_type": "code",
   "execution_count": 51,
   "metadata": {},
   "outputs": [
    {
     "name": "stdout",
     "output_type": "stream",
     "text": [
      "64.4\n",
      "ok\n"
     ]
    }
   ],
   "source": [
    "t_c = 18\n",
    "tmp = 'ok'\n",
    "\n",
    "def fahrenheit(t_c):\n",
    "    tmp = t_c * 9 /5\n",
    "    return tmp+32\n",
    "\n",
    "print(fahrenheit(t_c))\n",
    "print(tmp)\n",
    "\n",
    "# Здесь демонстрируется порядок использование переменных в программе.\n",
    "# Иерархия использования строится с верхней части стека, \n",
    "# и далее в самый низ до builtins.\n",
    "# t_c и tmp добавляются в global (это над builtins).\n",
    "# далее при вызове функции с теми же переменными\n",
    "# мы используем не глобальные их ссылки, а локальные"
   ]
  },
  {
   "cell_type": "markdown",
   "metadata": {},
   "source": [
    "**Области видимости (a scope)** - текстовые фрагменты программы, в которых локальные namespace доступны напрямую.\n",
    "У каждого фрагмента программы своя область видимости. \n",
    "\n",
    "Существуют 4 категории \"скоупов\" - **LEGB** \n",
    "- Local\n",
    "- Enclosing\n",
    "- Global\n",
    "- Builtins\n",
    "\n",
    "Поиск имен начинается сверху вниз\n",
    "\n",
    "Далее два примера, показывающих как строится эта иерархия и где может быть ошибка:"
   ]
  },
  {
   "cell_type": "code",
   "execution_count": 52,
   "metadata": {},
   "outputs": [
    {
     "name": "stdout",
     "output_type": "stream",
     "text": [
      "31\n"
     ]
    }
   ],
   "source": [
    "def b():\n",
    "    x = 31\n",
    "    \n",
    "    def a():\n",
    "        print(x)\n",
    "    a()\n",
    "    \n",
    "b()\n",
    "\n",
    "# порядок построяния скоупов:\n",
    "# a scope -> b scope -> global scope -> builtins"
   ]
  },
  {
   "cell_type": "code",
   "execution_count": 53,
   "metadata": {},
   "outputs": [
    {
     "name": "stdout",
     "output_type": "stream",
     "text": [
      "[1, 2, 3]\n"
     ]
    }
   ],
   "source": [
    "def a():\n",
    "    print(x)\n",
    "\n",
    "def b():\n",
    "    x = 31\n",
    "    a()\n",
    "     \n",
    "b() #NameError\n",
    "\n",
    "# здесь порядок иной, a scope и b scope находятся на одной линии\n",
    "#\n",
    "# b scope -> \n",
    "#             global scope -> builtins   \n",
    "# a scope -> \n",
    "#\n",
    "# a scope не видит x, который находится в b scope"
   ]
  },
  {
   "cell_type": "markdown",
   "metadata": {},
   "source": [
    "**Вопрос**\n",
    "\n",
    "В какой момент создается локальное пространство имен для функции?\n",
    "\n",
    "**Ответ**: В момент вызова функции"
   ]
  },
  {
   "cell_type": "markdown",
   "metadata": {},
   "source": [
    "___\n",
    "При использование циклов и условных операторов, пространство имен не создается"
   ]
  },
  {
   "cell_type": "code",
   "execution_count": 54,
   "metadata": {},
   "outputs": [
    {
     "name": "stdout",
     "output_type": "stream",
     "text": [
      "14\n"
     ]
    }
   ],
   "source": [
    "x = 13\n",
    "if x % 2 == 1:\n",
    "    x += 1 #x тот же, что и выше\n",
    "    \n",
    "print(x) #14"
   ]
  },
  {
   "cell_type": "code",
   "execution_count": 55,
   "metadata": {},
   "outputs": [
    {
     "name": "stdout",
     "output_type": "stream",
     "text": [
      "16\n"
     ]
    }
   ],
   "source": [
    "for i in range(5):\n",
    "    x = i*i #создали в глобальном namespace\n",
    "\n",
    "print(x) #16"
   ]
  },
  {
   "cell_type": "code",
   "execution_count": 56,
   "metadata": {},
   "outputs": [
    {
     "ename": "NameError",
     "evalue": "name 'y' is not defined",
     "output_type": "error",
     "traceback": [
      "\u001b[1;31m---------------------------------------------------------------------------\u001b[0m",
      "\u001b[1;31mNameError\u001b[0m                                 Traceback (most recent call last)",
      "\u001b[1;32m<ipython-input-56-52426ba6be63>\u001b[0m in \u001b[0;36m<module>\u001b[1;34m\u001b[0m\n\u001b[0;32m      4\u001b[0m     \u001b[0my\u001b[0m \u001b[1;33m=\u001b[0m \u001b[0mi\u001b[0m\u001b[1;33m*\u001b[0m\u001b[0mi\u001b[0m\u001b[1;33m\u001b[0m\u001b[1;33m\u001b[0m\u001b[0m\n\u001b[0;32m      5\u001b[0m \u001b[1;33m\u001b[0m\u001b[0m\n\u001b[1;32m----> 6\u001b[1;33m \u001b[0mprint\u001b[0m\u001b[1;33m(\u001b[0m\u001b[0my\u001b[0m\u001b[1;33m)\u001b[0m\u001b[1;33m\u001b[0m\u001b[1;33m\u001b[0m\u001b[0m\n\u001b[0m",
      "\u001b[1;31mNameError\u001b[0m: name 'y' is not defined"
     ]
    }
   ],
   "source": [
    "del y #удалим, чтобы продемострировать ошибку\n",
    "\n",
    "for i in []: #мы не входим в цикл, а значит не создаем y\n",
    "    y = i*i\n",
    "\n",
    "print(y) "
   ]
  },
  {
   "cell_type": "markdown",
   "metadata": {},
   "source": [
    "___\n",
    "Если хотим менять менять и использовать глобальную переменную внутри функции, используем команду `global`"
   ]
  },
  {
   "cell_type": "code",
   "execution_count": 57,
   "metadata": {
    "scrolled": true
   },
   "outputs": [
    {
     "name": "stdout",
     "output_type": "stream",
     "text": [
      "True\n",
      "True\n",
      "False\n",
      "False\n"
     ]
    }
   ],
   "source": [
    "#полезно для отслеживание статуса на примере поиска гласных в списке\n",
    "\n",
    "ok_status = True\n",
    "vowels = ['a', 'u', 'i', 'e', 'o']\n",
    "\n",
    "def check(word):\n",
    "    global ok_status # = True\n",
    "    for vowel in vowels:\n",
    "        if vowel in word:\n",
    "            return True\n",
    "    ok_status = False\n",
    "    return False\n",
    "\n",
    "print(check('abacaba')) #True\n",
    "print(ok_status) #True\n",
    "print(check('www')) #False\n",
    "print(ok_status) #False"
   ]
  },
  {
   "cell_type": "markdown",
   "metadata": {},
   "source": [
    "___\n",
    "Ниже пример, который демонстрирует, что если между namespace'ом функции и глобалом поместить еще один слой (добавить функцию), то использовать `global` уже не получится"
   ]
  },
  {
   "cell_type": "code",
   "execution_count": 58,
   "metadata": {},
   "outputs": [
    {
     "name": "stdout",
     "output_type": "stream",
     "text": [
      "True\n",
      "True\n",
      "False\n",
      "True\n",
      "False\n"
     ]
    }
   ],
   "source": [
    "def f():\n",
    "    ok_status = True\n",
    "    vowels = ['a', 'u', 'i', 'e', 'o']\n",
    "\n",
    "    def check(word):\n",
    "        global ok_status # Тут мы его создаем, так как в глобале его нет\n",
    "        for vowel in vowels:\n",
    "            if vowel in word:\n",
    "                return True\n",
    "        ok_status = False\n",
    "        return False\n",
    "\n",
    "    print(check('abacaba')) #True\n",
    "    print(ok_status) #True\n",
    "    print(check('www')) #False\n",
    "    print(ok_status) #True <------ ok_status is not global\n",
    "    \n",
    "f()\n",
    "print(ok_status) #False <------ ok_status is global"
   ]
  },
  {
   "cell_type": "markdown",
   "metadata": {},
   "source": [
    "`nonlocal` - позволяет искать ближайшее пространство имен, в которое вложенно текущее пространство, и обращаться к указанной переменной из него\n",
    "\n",
    "Ссылка на документацию\n",
    "https://docs.python.org/3.7/tutorial/classes.html#python-scopes-and-namespaces"
   ]
  },
  {
   "cell_type": "code",
   "execution_count": 59,
   "metadata": {},
   "outputs": [
    {
     "name": "stdout",
     "output_type": "stream",
     "text": [
      "True\n",
      "True\n",
      "False\n",
      "False\n"
     ]
    },
    {
     "ename": "NameError",
     "evalue": "name 'ok_status' is not defined",
     "output_type": "error",
     "traceback": [
      "\u001b[1;31m---------------------------------------------------------------------------\u001b[0m",
      "\u001b[1;31mNameError\u001b[0m                                 Traceback (most recent call last)",
      "\u001b[1;32m<ipython-input-59-41aaefabc17e>\u001b[0m in \u001b[0;36m<module>\u001b[1;34m\u001b[0m\n\u001b[0;32m     20\u001b[0m \u001b[1;33m\u001b[0m\u001b[0m\n\u001b[0;32m     21\u001b[0m \u001b[0mf\u001b[0m\u001b[1;33m(\u001b[0m\u001b[1;33m)\u001b[0m\u001b[1;33m\u001b[0m\u001b[1;33m\u001b[0m\u001b[0m\n\u001b[1;32m---> 22\u001b[1;33m \u001b[0mprint\u001b[0m\u001b[1;33m(\u001b[0m\u001b[0mok_status\u001b[0m\u001b[1;33m)\u001b[0m \u001b[1;31m#NameError\u001b[0m\u001b[1;33m\u001b[0m\u001b[1;33m\u001b[0m\u001b[0m\n\u001b[0m",
      "\u001b[1;31mNameError\u001b[0m: name 'ok_status' is not defined"
     ]
    }
   ],
   "source": [
    "del ok_status\n",
    "\n",
    "def f():\n",
    "    ok_status = True\n",
    "    vowels = ['a', 'u', 'i', 'e', 'o']\n",
    "\n",
    "    def check(word):\n",
    "        nonlocal ok_status # Ищем ближайшее пространство имен к check - \n",
    "                           # это пространство f()\n",
    "        for vowel in vowels:\n",
    "            if vowel in word:\n",
    "                return True\n",
    "        ok_status = False\n",
    "        return False\n",
    "\n",
    "    print(check('abacaba')) #True\n",
    "    print(ok_status) #True\n",
    "    print(check('www')) #False\n",
    "    print(ok_status) #True\n",
    "    \n",
    "f()\n",
    "print(ok_status) #NameError"
   ]
  },
  {
   "cell_type": "markdown",
   "metadata": {},
   "source": [
    "___\n",
    "**Итоговое задание 1.4**\n",
    "\n",
    "Реализуйте программу, которая будет эмулировать работу с пространствами имен. Необходимо реализовать поддержку создания пространств имен и добавление в них переменных.\n",
    "\n",
    "Полное задание длинное, прочитать можно по ссылке https://stepik.org/lesson/24460/step/10?unit=6766"
   ]
  },
  {
   "cell_type": "code",
   "execution_count": 60,
   "metadata": {},
   "outputs": [
    {
     "name": "stdout",
     "output_type": "stream",
     "text": [
      "0\n"
     ]
    }
   ],
   "source": [
    "def get(namespace, arg):\n",
    "    '''\n",
    "    Рекурсивный вызов функции.\n",
    "    Ищем у \"namespace\" в \"vars\" значение \"arg\".\n",
    "    Если находим, выводим \"namespace\".\n",
    "    Иначе, вызываем снова эту функцию, \n",
    "    со значением \"namespace\" = get('parent')   \n",
    "    '''\n",
    "    global program_ns\n",
    "    if namespace == 'global' and arg not in program_ns[namespace].get('vars'):\n",
    "        return print(None)\n",
    "    elif arg in program_ns[namespace].get('vars'):\n",
    "        return print(namespace)\n",
    "    else:\n",
    "        get(program_ns[namespace].get('parent'), arg)\n",
    "        \n",
    "n = int(input()) #кол-во строк, которые будут поступать\n",
    "program_ns = {'global': {'vars': [], 'parent': None, 'inc': []}} # шаблон\n",
    "\n",
    "for _ in range(n): #цикл без лишней переменной, которая будет итерировать\n",
    "    cmd, namespace, arg = input().split() #ввод\n",
    "    if cmd == 'create':   \n",
    "        program_ns[namespace] = {'vars': [], 'parent': arg, 'inc': []}\n",
    "        program_ns[arg]['inc'].append(namespace)\n",
    "    elif cmd == 'add':\n",
    "        program_ns[namespace]['vars'].append(arg)\n",
    "    elif cmd == 'get':\n",
    "        get(namespace, arg)"
   ]
  },
  {
   "cell_type": "markdown",
   "metadata": {},
   "source": [
    "### 1.5 Введение в классы"
   ]
  },
  {
   "cell_type": "markdown",
   "metadata": {},
   "source": [
    "Классы используются для создания и описания своих собственных типов данных. "
   ]
  },
  {
   "cell_type": "code",
   "execution_count": 1,
   "metadata": {},
   "outputs": [],
   "source": [
    "class MyClass: #MyClass - имя класса\n",
    "    #Тело класса\n",
    "    a = 10\n",
    "    \n",
    "    def func(self):\n",
    "        print('Hello')"
   ]
  },
  {
   "cell_type": "code",
   "execution_count": 9,
   "metadata": {
    "scrolled": true
   },
   "outputs": [
    {
     "name": "stdout",
     "output_type": "stream",
     "text": [
      "10\n",
      "<function MyClass.func at 0x0000019297B22AF8>\n"
     ]
    }
   ],
   "source": [
    "# переменная a и func существуют в namespace MyClass\n",
    "print(MyClass.a)\n",
    "print(MyClass.func)"
   ]
  },
  {
   "cell_type": "code",
   "execution_count": 20,
   "metadata": {},
   "outputs": [],
   "source": [
    "# Конструктор у встроенных классов (list)\n",
    "lst = list() #явный запуск конструктора\n",
    "lst = [] #использование синтаксиса для вызова конструктора"
   ]
  },
  {
   "cell_type": "code",
   "execution_count": 21,
   "metadata": {},
   "outputs": [
    {
     "name": "stdout",
     "output_type": "stream",
     "text": [
      "<class '__main__.MyClass'>\n",
      "<class 'type'>\n"
     ]
    }
   ],
   "source": [
    "x = MyClass() # Здесь вызывается конструктор класса и создается объект\n",
    "\n",
    "print(type(x))\n",
    "print(type(MyClass))"
   ]
  },
  {
   "cell_type": "markdown",
   "metadata": {},
   "source": [
    "Нам гарантирован вызов конструктора класса и обращение к его атрибутам"
   ]
  },
  {
   "cell_type": "code",
   "execution_count": 19,
   "metadata": {
    "scrolled": true
   },
   "outputs": [
    {
     "name": "stdout",
     "output_type": "stream",
     "text": [
      "<class '__main__.Counter'>\n",
      "<__main__.Counter object at 0x0000019299477C88>\n"
     ]
    }
   ],
   "source": [
    "class Counter:\n",
    "    pass # пустое тело\n",
    "\n",
    "print(Counter)\n",
    "x = Counter() #создается объект экземпляра (instance object)\n",
    "# для каждого экземпляра создается свое пространство имен\n",
    "print(x)\n",
    "x.counter = 0 # для нашего экземпляра создается \n",
    "              #имя 'count' (атрибут) и оно ссылается на 0\n",
    "x.counter += 1 #теперь ссылается на 1"
   ]
  },
  {
   "cell_type": "markdown",
   "metadata": {},
   "source": [
    "Конструкторы нужны для создания новых объектов нашего класса\n",
    "Для определения поведения конструктора необходимо определить функцию `__init__` внутри нашего класса"
   ]
  },
  {
   "cell_type": "code",
   "execution_count": 25,
   "metadata": {},
   "outputs": [
    {
     "name": "stdout",
     "output_type": "stream",
     "text": [
      "0\n",
      "1\n"
     ]
    }
   ],
   "source": [
    "class Counter:\n",
    "    def __init__(self): #может принимать и не один аргумент\n",
    "        # self это экземпляр нашего класса\n",
    "        self.count = 0\n",
    "        \n",
    "Counter # class object\n",
    "x = Counter()\n",
    "print(x.count)\n",
    "x.count += 1\n",
    "print(x.count)"
   ]
  },
  {
   "cell_type": "code",
   "execution_count": 27,
   "metadata": {},
   "outputs": [
    {
     "name": "stdout",
     "output_type": "stream",
     "text": [
      "0\n",
      "10\n"
     ]
    }
   ],
   "source": [
    "class Counter:\n",
    "    def __init__(self, start = 0): #может принимать и не один аргумент\n",
    "        # self это экземпляр нашего класса\n",
    "        self.count = start\n",
    "        \n",
    "Counter # class object\n",
    "x1 = Counter(10) #задаем значение start = 10\n",
    "x = Counter() #по умолчанию count 0\n",
    "print(x.count)\n",
    "print(x1.count)"
   ]
  },
  {
   "cell_type": "code",
   "execution_count": 29,
   "metadata": {},
   "outputs": [
    {
     "name": "stdout",
     "output_type": "stream",
     "text": [
      "[1, 2, 3]\n"
     ]
    }
   ],
   "source": [
    "#Классы так же могут иметь методы\n",
    "x = [2,3,1]\n",
    "x.sort() # метод сорт позволяет сортировать список\n",
    "print(x)"
   ]
  },
  {
   "cell_type": "code",
   "execution_count": 31,
   "metadata": {},
   "outputs": [
    {
     "name": "stdout",
     "output_type": "stream",
     "text": [
      "1\n",
      "2\n",
      "0\n"
     ]
    }
   ],
   "source": [
    "class Counter:\n",
    "    def __init__(self): \n",
    "        self.count = 0\n",
    "        \n",
    "    def inc(self):\n",
    "        self.count += 1\n",
    "    \n",
    "    def reset(self):\n",
    "        self.count = 0\n",
    "\n",
    "Counter # class object\n",
    "x = Counter() #создаем экземпляр класса\n",
    "x.inc() # вызываем метод inc\n",
    "# Сначало inc ищется в пространстве имен x, но там находится только 'count'\n",
    "# Далее интерпретатор переходит искать в пространство имен класса Counter\n",
    "print(x.count)\n",
    "Counter.inc(x) # == x.inc(). Абсолютно эквивалентны. Можно передавать как функцию\n",
    "print(x.count)\n",
    "x.reset()\n",
    "print(x.count)"
   ]
  },
  {
   "cell_type": "markdown",
   "metadata": {},
   "source": [
    "Bound Method (связанные методы)\n",
    "\n",
    "вызывая `x.inc()` ~ `Counter.inc(x)`"
   ]
  },
  {
   "cell_type": "markdown",
   "metadata": {},
   "source": [
    "___\n",
    "**Задание**\n",
    "\n",
    "Реализуйте класс MoneyBox, для работы с виртуальной копилкой.\n",
    "\n",
    "Каждая копилка имеет ограниченную вместимость, которая выражается целым числом – количеством монет, которые можно положить в копилку. Класс должен поддерживать информацию о количестве монет в копилке, предоставлять возможность добавлять монеты в копилку и узнавать, можно ли добавить в копилку ещё какое-то количество монет, не превышая ее вместимость.\n",
    "\n",
    "При создании копилки, число монет в ней равно 0.\n",
    "Примечание:\n",
    "Гарантируется, что метод `add(self, v)` будет вызываться только если `can_add(self, v) – True`."
   ]
  },
  {
   "cell_type": "code",
   "execution_count": 46,
   "metadata": {},
   "outputs": [
    {
     "name": "stdout",
     "output_type": "stream",
     "text": [
      "Вместимость копилки будет превышена\n",
      "0\n",
      "20\n"
     ]
    }
   ],
   "source": [
    "class MoneyBox:\n",
    "    def __init__(self, capacity):\n",
    "        # конструктор с аргументом – вместимость копилки\n",
    "        self.count = 0 #количество монет в копилке\n",
    "        self.capacity = capacity #вместимость копилки\n",
    "\n",
    "    def can_add(self, v):\n",
    "        # True, если можно добавить v монет, False иначе\n",
    "        return self.count + v <= self.capacity\n",
    "\n",
    "    def add(self, v):\n",
    "        # положить v монет в копилку\n",
    "        if self.can_add(v):\n",
    "            self.count += v\n",
    "        else:\n",
    "            print('Вместимость копилки будет превышена')\n",
    "            \n",
    "box = MoneyBox(50)\n",
    "box.add(60)\n",
    "print(box.count)\n",
    "\n",
    "box.add(20)\n",
    "print(box.count)"
   ]
  },
  {
   "cell_type": "markdown",
   "metadata": {},
   "source": [
    "___\n",
    "**Задание**\n",
    "\n",
    "Вам дается последовательность целых чисел и вам нужно ее обработать и вывести на экран сумму первой пятерки чисел из этой последовательности, затем сумму второй пятерки, и т. д.\n",
    "\n",
    "Но последовательность не дается вам сразу целиком. С течением времени к вам поступают её последовательные части. Например, сначала первые три элемента, потом следующие шесть, потом следующие два и т. д.\n",
    "\n",
    "Реализуйте класс Buffer, который будет накапливать в себе элементы последовательности и выводить сумму пятерок последовательных элементов по мере их накопления.\n",
    "\n",
    "Одним из требований к классу является то, что он не должен хранить в себе больше элементов, чем ему действительно необходимо, т. е. он не должен хранить элементы, которые уже вошли в пятерку, для которой была выведена сумма."
   ]
  },
  {
   "cell_type": "code",
   "execution_count": 7,
   "metadata": {},
   "outputs": [],
   "source": [
    "#Мой вариант\n",
    "\n",
    "class Buffer:\n",
    "    def __init__(self):\n",
    "        # конструктор без аргументов\n",
    "        self.lst = []\n",
    "\n",
    "    def add(self, *a):\n",
    "        # добавить следующую часть последовательности\n",
    "        self.lst.extend(a)\n",
    "        while len(self.lst) >= 5:\n",
    "            sum = 0\n",
    "            for _ in range(5):\n",
    "                sum += self.lst.pop(0)\n",
    "            print(sum)\n",
    "\n",
    "    def get_current_part(self):\n",
    "        # вернуть сохраненные в текущий момент элементы последовательности \n",
    "        # в порядке, в котором они были добавлены\n",
    "        return self.lst"
   ]
  },
  {
   "cell_type": "code",
   "execution_count": 8,
   "metadata": {},
   "outputs": [
    {
     "name": "stdout",
     "output_type": "stream",
     "text": [
      "15\n",
      "40\n",
      "5\n",
      "5\n"
     ]
    },
    {
     "data": {
      "text/plain": [
       "[1]"
      ]
     },
     "execution_count": 8,
     "metadata": {},
     "output_type": "execute_result"
    }
   ],
   "source": [
    "#Пример работы с классом\n",
    "buf = Buffer()\n",
    "buf.add(1, 2, 3)\n",
    "buf.get_current_part() # вернуть [1, 2, 3]\n",
    "buf.add(4, 5, 6) # print(15) – вывод суммы первой пятерки элементов\n",
    "buf.get_current_part() # вернуть [6]\n",
    "buf.add(7, 8, 9, 10) # print(40) – вывод суммы второй пятерки элементов\n",
    "buf.get_current_part() # вернуть []\n",
    "buf.add(1, 1, 1, 1, 1, 1, 1, 1, 1, 1, 1) # print(5), print(5) – вывод сумм третьей и четвертой пятерки\n",
    "buf.get_current_part() # вернуть [1]"
   ]
  },
  {
   "cell_type": "code",
   "execution_count": 10,
   "metadata": {},
   "outputs": [],
   "source": [
    "#Вариант препода\n",
    "\n",
    "class Buffer:\n",
    "    def __init__(self):\n",
    "        self.part = []\n",
    "\n",
    "    def add(self, *a):\n",
    "        for i in a: \n",
    "            self.part.append(i) #он здесь добавляет по одному элементу\n",
    "            #и сразу делает проверку, а в конце удаляет.\n",
    "            #выглядит оптимальнее чем мой вариант\n",
    "            if len(self.part) == 5:\n",
    "                print(sum(self.part))\n",
    "                self.part.clear()\n",
    "\n",
    "    def get_current_part(self):\n",
    "        return self.part"
   ]
  },
  {
   "cell_type": "markdown",
   "metadata": {},
   "source": [
    "___\n",
    "Переменные класса. Создавая переменную в структуре класса, она общая. Пример ниже это демонстрирует. Если нам надо создать отдельно теги для каждой песни, мы должны были сделать tags в конструкторе класса"
   ]
  },
  {
   "cell_type": "code",
   "execution_count": 17,
   "metadata": {},
   "outputs": [
    {
     "name": "stdout",
     "output_type": "stream",
     "text": [
      "['tag1', 'tag2', 'tag3', 'tag4']\n"
     ]
    }
   ],
   "source": [
    "class Song:\n",
    "    tags = []\n",
    "    \n",
    "    def __init__(self, artist, song):\n",
    "        self.artist = artist\n",
    "        self.song = song\n",
    "        #self.tags = [] - так теги будут у каждой песни свои\n",
    "        \n",
    "    def add_tags(self, *args):\n",
    "        self.tags.extend(args)\n",
    "        \n",
    "song1 = Song('Test_artist', 'Test_song')\n",
    "song1.add_tags('tag1', 'tag2')\n",
    "\n",
    "song2 = Song('Test_artist2', 'Test_song2')\n",
    "song2.add_tags('tag3', 'tag4')\n",
    "\n",
    "print(song2.tags) #теги для всех песен общие"
   ]
  },
  {
   "cell_type": "markdown",
   "metadata": {},
   "source": [
    "**Пояснение к заданию ниже**\n",
    "\n",
    "Запись a.bar() запускает в работу функцию bar, которая увеличивает значение атрибута val экземпляра a (a.val) на единицу, но изначальное значение a.val не определено конструктором, поэтому в качестве начального значения a.val программа берет значение атрибута val всего класса A (A.val), которое изначально равно единице.\n",
    "\n",
    "Запись a.foo() запускает в работу функцию foo, которая увеличивает значение атрибута A.val на два. Функция foo при этом не изменяет значение a.val !!\n",
    "\n",
    "Поскольку значения b.val и c.val не заданы, то программа при выводе обращается к значению A.val, которое, как показано выше, к моменту исполнения данных строк уже не равняется единице."
   ]
  },
  {
   "cell_type": "code",
   "execution_count": 19,
   "metadata": {},
   "outputs": [
    {
     "name": "stdout",
     "output_type": "stream",
     "text": [
      "2\n",
      "3\n",
      "3\n"
     ]
    }
   ],
   "source": [
    "#Задание - что выведется в результате выполнения кода?\n",
    "class A:\n",
    "    val = 1\n",
    "\n",
    "    def foo(self):\n",
    "        # мы всегда обращаемся к атрибуту класса, из любого экземпляра\n",
    "        A.val = A.val + 2\n",
    "\n",
    "    def bar(self):\n",
    "                   # во время первого вызова bar это обращение к атрибуту класса, \n",
    "                   # т.к. у экземпляра класса еще нет атрибута val\n",
    "                   # |\n",
    "                   # |\n",
    "        self.val = self.val + 1\n",
    "        # |\n",
    "        # |\n",
    "        # после присвоения, у экземпляра появится свой атрибут val,\n",
    "        # все последующие вызовы bar будут работать с ним\n",
    "\n",
    "a = A() # инстанс класса А, у него нет своего атрибута val \n",
    "b = A() # инстанс класса А, у него нет своего атрибута val \n",
    "\n",
    "A.bar(a) # у экземпляра a появился свой атрибут a.val = A.val + 1\n",
    "A.foo(a) # изменение атрибута класса A.val = A.val + 2\n",
    "\n",
    "c = A() # инстанс класса А, у него нет своего атрибута val\n",
    "\n",
    "print(a.val)\n",
    "print(b.val)\n",
    "print(c.val)"
   ]
  },
  {
   "cell_type": "markdown",
   "metadata": {},
   "source": [
    "**Итог:**\n",
    "3 новых типа\n",
    "- объекты класса - описываем\n",
    "- объекты экземпляра\n",
    "- связанные методы"
   ]
  },
  {
   "cell_type": "markdown",
   "metadata": {},
   "source": [
    "### 1.6 Наследование классов"
   ]
  },
  {
   "cell_type": "code",
   "execution_count": 21,
   "metadata": {},
   "outputs": [
    {
     "name": "stdout",
     "output_type": "stream",
     "text": [
      "[]\n",
      "[1, 2, 3, 4, 5]\n",
      "False\n",
      "True\n"
     ]
    }
   ],
   "source": [
    "#Унаследуем класс list, чтобы расширить его функционал\n",
    "class MyList(list): #В скобках указываем класс, который наследуем\n",
    "    def even_length(self):\n",
    "        return len(self) % 2 == 0\n",
    "    \n",
    "x = MyList()\n",
    "print(x) # []\n",
    "x.extend([1,2,3,4,5]) #методы от класса list\n",
    "#сначала ищем методы в namespace икса, потом в MyList, потом идем в насл. классы\n",
    "print(x) # [1,2,3,4,5]\n",
    "print(x.even_length()) #False\n",
    "x.append(6)\n",
    "print(x.even_length()) #True"
   ]
  },
  {
   "cell_type": "markdown",
   "metadata": {},
   "source": [
    "___\n",
    "Классы, для которых не указано наследование, автоматически наследуются от класса object. Картинка с схемой ниже"
   ]
  },
  {
   "cell_type": "code",
   "execution_count": 22,
   "metadata": {},
   "outputs": [],
   "source": [
    "#Множественное наследование\n",
    "class D: pass\n",
    "class E: pass\n",
    "class B(D, E): pass\n",
    "class C: pass\n",
    "class A(B, C): pass\n",
    "# Схема наследования\n",
    "#           ---> D\n",
    "#   ---> B  ---> E\n",
    "# A ---> C\n",
    "# А наследуется от B и C, B от D и E"
   ]
  },
  {
   "cell_type": "code",
   "execution_count": 23,
   "metadata": {},
   "outputs": [
    {
     "data": {
      "text/plain": [
       "False"
      ]
     },
     "execution_count": 23,
     "metadata": {},
     "output_type": "execute_result"
    }
   ],
   "source": [
    "#Функция, проверяющая, является ли класс наследником\n",
    "issubclass(A, A) # True (любой класс наследник сам себя)\n",
    "issubclass(C, D) # False\n",
    "issubclass(A, D) # True\n",
    "issubclass(C, object) # True\n",
    "issubclass(object, C) # False"
   ]
  },
  {
   "cell_type": "code",
   "execution_count": 25,
   "metadata": {},
   "outputs": [
    {
     "data": {
      "text/plain": [
       "False"
      ]
     },
     "execution_count": 25,
     "metadata": {},
     "output_type": "execute_result"
    }
   ],
   "source": [
    "# Проверка объекта на экземпляр класса\n",
    "# по сути проверяет, является ли type(x) наследником класса \n",
    "x = A()\n",
    "isinstance(x, A) # True\n",
    "isinstance(x, B) # True\n",
    "isinstance(x, object) # True\n",
    "isinstance(x, str) # Falsr"
   ]
  },
  {
   "cell_type": "code",
   "execution_count": 26,
   "metadata": {},
   "outputs": [],
   "source": [
    "#Немного о наследование\n",
    "class MyList(list): #В скобках указываем класс, который наследуем\n",
    "    def even_length(self):\n",
    "        return len(self) % 2 == 0\n",
    "    \n",
    "x = MyList() \n",
    "# При создании объекта, используется конструктор\n",
    "# [def __init__(self,...):] от класса list\n",
    "\n",
    "print(x)\n",
    "# при вызове принта, мы вызываем метод  __repr__(self): [representetion]\n",
    "# его тоже из list, так как мы такой не создавали"
   ]
  },
  {
   "cell_type": "markdown",
   "metadata": {},
   "source": [
    "Порядок выполнения методов. \n",
    "\n",
    "Вопрос стоит в том, какой будет выполнятся метод, если класс наследуется от двух сразу.\n",
    "\n",
    "Для отображение порядка есть метов `.mro()`\n",
    "\n",
    "![](mro.png)\n",
    "\n",
    "\n",
    "Их порядок зависит от порядка их объявления в скобках"
   ]
  },
  {
   "cell_type": "code",
   "execution_count": 29,
   "metadata": {
    "scrolled": true
   },
   "outputs": [
    {
     "name": "stdout",
     "output_type": "stream",
     "text": [
      "[<class '__main__.A'>, <class '__main__.B'>, <class '__main__.D'>, <class '__main__.E'>, <class '__main__.C'>, <class 'object'>]\n"
     ]
    }
   ],
   "source": [
    "class D: pass\n",
    "class E: pass\n",
    "class B(D, E): pass\n",
    "class C: pass\n",
    "class A(B, C): pass\n",
    "\n",
    "print(A.mro()) #[methor resolution order]\n",
    "#<class '__main__.A'>, \n",
    "#<class '__main__.B'>, \n",
    "#<class '__main__.D'>, \n",
    "#<class '__main__.E'>, \n",
    "#<class '__main__.C'>, \n",
    "#<class 'object'>"
   ]
  },
  {
   "cell_type": "code",
   "execution_count": 31,
   "metadata": {},
   "outputs": [
    {
     "name": "stdout",
     "output_type": "stream",
     "text": [
      "Last value is 17\n",
      "17\n",
      "[1, 2, 4]\n"
     ]
    }
   ],
   "source": [
    "#Опрелеение метода, совпадающего с родительским классом\n",
    "\n",
    "class EvenLengthMixin: \n",
    "    def even_length(self):\n",
    "        return len(self) % 2 == 0\n",
    "    \n",
    "class MyList(list, EvenLengthMixin): #В скобках указываем класс, который наследуем\n",
    "    def pop(self):\n",
    "        x = super(MyList, self).pop() # функция супер позволяет вызвать метод\n",
    "                                      # из родительского класса, в скобках\n",
    "                                      # super(класс_в_чьих_родителях искать, self)\n",
    "                                      # ~list.pop(self)        \n",
    "        print(\"Last value is\", x)\n",
    "        return x\n",
    "    \n",
    "ml = MyList([1,2,4,17])\n",
    "z = ml.pop() # метод из класса MyList\n",
    "print(z)\n",
    "print(ml)"
   ]
  },
  {
   "cell_type": "code",
   "execution_count": null,
   "metadata": {},
   "outputs": [],
   "source": [
    "# пример с котопсом: (из комментариев)\n",
    "\n",
    "class Cat():\n",
    "    def say(self,times):\n",
    "        print('Meow '*times)\n",
    "class Dog():\n",
    "    def say(self,times):\n",
    "        print('Bow-Wow '*times)\n",
    "class CatDog(Cat,Dog):\n",
    "    pass\n",
    "\n",
    "class DogCat(Dog,Cat):\n",
    "    pass\n",
    "\n",
    "muteDog=CatDog()\n",
    "muteDog.say(3)       #Meow Meow Meow\n",
    "\n",
    "muteCat=DogCat()\n",
    "muteCat.say(2)       #Bow-Wow Bow-Wow"
   ]
  },
  {
   "cell_type": "markdown",
   "metadata": {},
   "source": [
    "___\n",
    "На задание ниже разбираем последовательность выполнения методов\n",
    "\n",
    "Итак, мы обычно идем налево вверх к родителю (E -> B -> A), но если родитель (A) имеет еще наследника, идущего после (B) в списке, то проверяем сначало другого наследника (C) и (C2), и только потом переходим к родителю (A) "
   ]
  },
  {
   "cell_type": "code",
   "execution_count": 42,
   "metadata": {
    "scrolled": true
   },
   "outputs": [
    {
     "name": "stdout",
     "output_type": "stream",
     "text": [
      "C2\n",
      "[<class '__main__.E'>, <class '__main__.B'>, <class '__main__.C'>, <class '__main__.C2'>, <class '__main__.A'>, <class '__main__.D'>, <class 'object'>]\n"
     ]
    }
   ],
   "source": [
    "class A:\n",
    "    def foo(self):\n",
    "        print(\"A\")\n",
    "\n",
    "class B(A):\n",
    "    pass\n",
    "\n",
    "class C(A):\n",
    "    pass\n",
    "#    def foo(self):\n",
    "#        print(\"C\")\n",
    "        \n",
    "class C2(A):\n",
    "    def foo(self):\n",
    "        print(\"C2\")\n",
    "\n",
    "class D:\n",
    "    def foo(self):\n",
    "        print(\"D\")\n",
    "\n",
    "class E(B, C, C2, D):\n",
    "    pass\n",
    "\n",
    "E().foo() # я ожидал ответа A, поэтому разбираемся\n",
    "print(E.mro())"
   ]
  },
  {
   "cell_type": "markdown",
   "metadata": {},
   "source": [
    "___\n",
    "Ниже задание, показывающие пример с ошибкой. Нельзя родителя (С) в списке E(B, C, D) указывать перед потомком (D). \n",
    "\n",
    "Текст с пояснением из комментариев:\n",
    "\n",
    "Для запоминания порядка MRO:\n",
    "\n",
    "1) если среди родителей класса - два класса, которые являются прямыми \"родственниками\", причём \"родитель\" перечислен до \"потомка\" - то возникает ошибка.  Потому, как - вроде программист определяет такой  порядок, а MRO предусматривает обратный (т.е. сначала \"потомки\" - потом \"родители\").\n",
    "\n",
    "P.S. (1) Конечно, разработчикам можно было и избегать ошибки, самостоятельно определяя что приоритетнее - но это противоречит \"Дзену Python'а\" (явное лучше подразумеваемого) - а потому, python заставляет программиста точно определиться - либо поменять порядок, либо выкинуть один из классов из списка родителей..\n",
    "\n",
    "2) если же предыдущее правило не нарушается, то MRO строится \"слева --> направо\" до ближайшего \"общего родителя\". Все \"родители\" должны расположится после своих \"прямых\" и \"опосредованных\" потомков, но как можно левее (раньше).\n",
    " \n",
    "P.S. (2) Получается что-то похожее на рекурсию или алгоритм класса \"разделяй и властвуй\", когда модель графа наследования делятся на кусочки до \"ближайшего общего родителя\", выполняется построение до этого \"общего родителя\", а потом этот \"родитель\" рассматривается как отдельный узел графа для выстраивания последующего порядка разрешения методов.."
   ]
  },
  {
   "cell_type": "code",
   "execution_count": 43,
   "metadata": {
    "scrolled": false
   },
   "outputs": [
    {
     "ename": "TypeError",
     "evalue": "Cannot create a consistent method resolution\norder (MRO) for bases object, C, D",
     "output_type": "error",
     "traceback": [
      "\u001b[1;31m---------------------------------------------------------------------------\u001b[0m",
      "\u001b[1;31mTypeError\u001b[0m                                 Traceback (most recent call last)",
      "\u001b[1;32m<ipython-input-43-7067f6076d32>\u001b[0m in \u001b[0;36m<module>\u001b[1;34m\u001b[0m\n\u001b[0;32m     11\u001b[0m     \u001b[1;32mpass\u001b[0m\u001b[1;33m\u001b[0m\u001b[1;33m\u001b[0m\u001b[0m\n\u001b[0;32m     12\u001b[0m \u001b[1;33m\u001b[0m\u001b[0m\n\u001b[1;32m---> 13\u001b[1;33m \u001b[1;32mclass\u001b[0m \u001b[0mE\u001b[0m\u001b[1;33m(\u001b[0m\u001b[0mB\u001b[0m\u001b[1;33m,\u001b[0m \u001b[0mC\u001b[0m\u001b[1;33m,\u001b[0m \u001b[0mD\u001b[0m\u001b[1;33m)\u001b[0m\u001b[1;33m:\u001b[0m\u001b[1;33m\u001b[0m\u001b[1;33m\u001b[0m\u001b[0m\n\u001b[0m\u001b[0;32m     14\u001b[0m     \u001b[1;32mpass\u001b[0m\u001b[1;33m\u001b[0m\u001b[1;33m\u001b[0m\u001b[0m\n",
      "\u001b[1;31mTypeError\u001b[0m: Cannot create a consistent method resolution\norder (MRO) for bases object, C, D"
     ]
    }
   ],
   "source": [
    "class A:\n",
    "    pass\n",
    "\n",
    "class B(A):\n",
    "    pass\n",
    "\n",
    "class C:\n",
    "    pass\n",
    "\n",
    "class D(C):\n",
    "    pass\n",
    "\n",
    "class E(B, C, D):\n",
    "    pass"
   ]
  },
  {
   "cell_type": "markdown",
   "metadata": {},
   "source": [
    "___\n",
    "**Задание 1**\n",
    "\n",
    "Формат входных данных\n",
    "\n",
    "В первой строке входных данных содержится целое число n - число классов.\n",
    "\n",
    "В следующих n строках содержится описание наследования классов. В i-й строке указано от каких классов наследуется i-й класс. Обратите внимание, что класс может ни от кого не наследоваться. Гарантируется, что класс не наследуется сам от себя (прямо или косвенно), что класс не наследуется явно от одного класса более одного раза.\n",
    "\n",
    "В следующей строке содержится число q - количество запросов.\n",
    "\n",
    "В следующих q строках содержится описание запросов в формате <имя класса 1> <имя класса 2>.\n",
    "Имя класса – строка, состоящая из символов латинского алфавита, длины не более 50.\n",
    "\n",
    "Формат выходных данных\n",
    "\n",
    "Для каждого запроса выведите в отдельной строке слово \"Ye"
   ]
  },
  {
   "cell_type": "code",
   "execution_count": null,
   "metadata": {},
   "outputs": [],
   "source": [
    "#Мое решение (немного громосткое, много где можно было упростить)\n",
    "\n",
    "def is_par(cl1, cl2):\n",
    "    global is_find\n",
    "    global class_graph\n",
    "    parents = class_graph[cl2].get('parent')\n",
    "    if cl1 in parents:\n",
    "        is_find = True\n",
    "        return print('Yes') \n",
    "    elif 'object' not in parents:\n",
    "        for par in parents:\n",
    "            if is_find  == False:\n",
    "                is_par(cl1, par)\n",
    "\n",
    "class_graph = {'object': {'parent': [None]}} \n",
    "\n",
    "n = int(input()) \n",
    "\n",
    "for _ in range(n):\n",
    "    inp = input().split()\n",
    "    if len(inp) > 2:\n",
    "        class_graph[inp[0]] = {'parent': [*inp[2:]]}\n",
    "    else:\n",
    "        class_graph[inp[0]] = {'parent': ['object']}\n",
    "\n",
    "q = int(input()) \n",
    "\n",
    "for _ in range(q):\n",
    "    cl1, cl2 = input().split()\n",
    "    is_find = False\n",
    "    if cl1 in class_graph.keys() and cl2 in class_graph.keys():\n",
    "        if cl1 == cl2:\n",
    "            is_find = True\n",
    "            print('Yes')\n",
    "        else:\n",
    "            is_par(cl1, cl2)\n",
    "    if is_find == False:\n",
    "        print('No')"
   ]
  },
  {
   "cell_type": "code",
   "execution_count": null,
   "metadata": {},
   "outputs": [],
   "source": [
    "#Решение препода\n",
    "\n",
    "n = int(input())\n",
    "\n",
    "parents = {}\n",
    "for _ in range(n):\n",
    "    a = input().split()\n",
    "    parents[a[0]] = [] if len(a) == 1 else a[2:]\n",
    "\n",
    "def is_parent(child, parent):\n",
    "    return child == parent or any(map(lambda p: is_parent(p, parent), parents[child]))\n",
    "\n",
    "q = int(input())\n",
    "for _ in range(q):\n",
    "    a, b = input().split()\n",
    "    print(\"Yes\" if is_parent(b, a) else \"No\")"
   ]
  },
  {
   "cell_type": "markdown",
   "metadata": {},
   "source": [
    "___\n",
    "**Задание 2**\n",
    "\n",
    "Реализуйте структуру данных, представляющую собой расширенную структуру стек. Необходимо поддерживать добавление элемента на вершину стека, удаление с вершины стека, и необходимо поддерживать операции сложения, вычитания, умножения и целочисленного деления.\n",
    "\n",
    "Операция сложения на стеке определяется следующим образом. Со стека снимается верхний элемент (top1), затем снимается следующий верхний элемент (top2), и затем как результат операции сложения на вершину стека кладется элемент, равный top1 + top2.\n",
    "\n",
    "Аналогичным образом определяются операции вычитания (top1 - top2), умножения (top1 * top2) и целочисленного деления (top1 // top2).\n",
    "\n",
    "Реализуйте эту структуру данных как класс ExtendedStack, отнаследовав его от стандартного класса list.\n",
    "\n",
    "Примечание\n",
    "Для добавления элемента на стек используется метод append, а для снятия со стека – метод pop.\n",
    "Гарантируется, что операции будут совершаться только когда в стеке есть хотя бы два элемента."
   ]
  },
  {
   "cell_type": "code",
   "execution_count": 37,
   "metadata": {},
   "outputs": [],
   "source": [
    "class ExtendedStack(list):\n",
    "    def av_len(self):\n",
    "        return len(self) > 1\n",
    "    \n",
    "    def sum(self):\n",
    "        # операция сложения\n",
    "        if self.av_len:\n",
    "            top1 = self.pop()\n",
    "            top2 = self.pop()\n",
    "            self.append(top1 + top2)\n",
    "\n",
    "    def sub(self):\n",
    "        # операция вычитания\n",
    "        if self.av_len:\n",
    "            top1 = self.pop()\n",
    "            top2 = self.pop()\n",
    "            self.append(top1 - top2)\n",
    "\n",
    "    def mul(self):\n",
    "        # операция умножения\n",
    "        if self.av_len:\n",
    "            top1 = self.pop()\n",
    "            top2 = self.pop()\n",
    "            self.append(top1 * top2)\n",
    "\n",
    "    def div(self):\n",
    "        # операция целочисленного деления\n",
    "        if self.av_len:\n",
    "            top1 = self.pop()\n",
    "            top2 = self.pop()\n",
    "            self.append(top1 // top2)\n",
    "    \n"
   ]
  },
  {
   "cell_type": "code",
   "execution_count": 43,
   "metadata": {},
   "outputs": [
    {
     "ename": "AssertionError",
     "evalue": "ex_stack.pop() != 2",
     "output_type": "error",
     "traceback": [
      "\u001b[1;31m---------------------------------------------------------------------------\u001b[0m",
      "\u001b[1;31mAssertionError\u001b[0m                            Traceback (most recent call last)",
      "\u001b[1;32m<ipython-input-43-ff5df750cec1>\u001b[0m in \u001b[0;36m<module>\u001b[1;34m\u001b[0m\n\u001b[0;32m      2\u001b[0m \u001b[0mex_stack\u001b[0m \u001b[1;33m=\u001b[0m \u001b[0mExtendedStack\u001b[0m\u001b[1;33m(\u001b[0m\u001b[1;33m[\u001b[0m\u001b[1;36m1\u001b[0m\u001b[1;33m,\u001b[0m \u001b[1;36m2\u001b[0m\u001b[1;33m,\u001b[0m \u001b[1;36m3\u001b[0m\u001b[1;33m,\u001b[0m \u001b[1;36m4\u001b[0m\u001b[1;33m,\u001b[0m \u001b[1;33m-\u001b[0m\u001b[1;36m3\u001b[0m\u001b[1;33m,\u001b[0m \u001b[1;36m3\u001b[0m\u001b[1;33m,\u001b[0m \u001b[1;36m5\u001b[0m\u001b[1;33m,\u001b[0m \u001b[1;36m10\u001b[0m\u001b[1;33m]\u001b[0m\u001b[1;33m)\u001b[0m\u001b[1;33m\u001b[0m\u001b[1;33m\u001b[0m\u001b[0m\n\u001b[0;32m      3\u001b[0m \u001b[0mex_stack\u001b[0m\u001b[1;33m.\u001b[0m\u001b[0mdiv\u001b[0m\u001b[1;33m(\u001b[0m\u001b[1;33m)\u001b[0m\u001b[1;33m\u001b[0m\u001b[1;33m\u001b[0m\u001b[0m\n\u001b[1;32m----> 4\u001b[1;33m \u001b[1;32massert\u001b[0m \u001b[0mex_stack\u001b[0m\u001b[1;33m.\u001b[0m\u001b[0mpop\u001b[0m\u001b[1;33m(\u001b[0m\u001b[1;33m)\u001b[0m \u001b[1;33m==\u001b[0m \u001b[1;36m3\u001b[0m\u001b[1;33m,\u001b[0m \u001b[1;34m'ex_stack.pop() != 2'\u001b[0m\u001b[1;33m\u001b[0m\u001b[1;33m\u001b[0m\u001b[0m\n\u001b[0m\u001b[0;32m      5\u001b[0m \u001b[0mex_stack\u001b[0m\u001b[1;33m.\u001b[0m\u001b[0msub\u001b[0m\u001b[1;33m(\u001b[0m\u001b[1;33m)\u001b[0m\u001b[1;33m\u001b[0m\u001b[1;33m\u001b[0m\u001b[0m\n\u001b[0;32m      6\u001b[0m \u001b[1;32massert\u001b[0m \u001b[0mex_stack\u001b[0m\u001b[1;33m.\u001b[0m\u001b[0mpop\u001b[0m\u001b[1;33m(\u001b[0m\u001b[1;33m)\u001b[0m \u001b[1;33m==\u001b[0m \u001b[1;36m6\u001b[0m\u001b[1;33m\u001b[0m\u001b[1;33m\u001b[0m\u001b[0m\n",
      "\u001b[1;31mAssertionError\u001b[0m: ex_stack.pop() != 2"
     ]
    }
   ],
   "source": [
    "#Тест\n",
    "ex_stack = ExtendedStack([1, 2, 3, 4, -3, 3, 5, 10])\n",
    "ex_stack.div()\n",
    "assert ex_stack.pop() == 3, 'ex_stack.pop() != 2'\n",
    "ex_stack.sub()\n",
    "assert ex_stack.pop() == 6\n",
    "ex_stack.sum()\n",
    "assert ex_stack.pop() == 7\n",
    "ex_stack.mul()\n",
    "assert ex_stack.pop() == 2\n",
    "assert len(ex_stack) == 0"
   ]
  },
  {
   "cell_type": "markdown",
   "metadata": {},
   "source": [
    "**Задание**\n",
    "\n",
    "Одно из применений множественного наследование – расширение функциональности класса каким-то заранее определенным способом. Например, если нам понадобится логировать какую-то информацию при обращении к методам класса.\n",
    "\n",
    "Рассмотрим класс Loggable:\n",
    "\n",
    "    import time\n",
    "    \n",
    "        class Loggable:\n",
    "            def log(self, msg):\n",
    "                print(str(time.ctime()) + \": \" + str(msg))\n",
    "                \n",
    "У него есть ровно один метод log, который позволяет выводить в лог (в данном случае в stdout) какое-то сообщение, добавляя при этом текущее время.\n",
    "\n",
    "Реализуйте класс LoggableList, отнаследовав его от классов list и Loggable таким образом, чтобы при добавлении элемента в список посредством метода append в лог отправлялось сообщение, состоящее из только что добавленного элемента.\n",
    "\n",
    "Примечание.\n",
    "Ваша программа не должна содержать класс Loggable. При проверке вашей программе будет доступен этот класс, и он будет содержать метод log, описанный выше."
   ]
  },
  {
   "cell_type": "code",
   "execution_count": 35,
   "metadata": {},
   "outputs": [],
   "source": [
    "import time\n",
    "\n",
    "class Loggable:\n",
    "    def log(self, msg):\n",
    "        print(str(time.ctime()) + \": \" + str(msg))\n",
    "        \n",
    "class LoggableList(Loggable, list):\n",
    "    def append(self, value):\n",
    "        self.log(value)\n",
    "        super(LoggableList, self).append(value)\n"
   ]
  },
  {
   "cell_type": "code",
   "execution_count": 41,
   "metadata": {},
   "outputs": [],
   "source": [
    "x = LoggableList()"
   ]
  },
  {
   "cell_type": "code",
   "execution_count": 47,
   "metadata": {},
   "outputs": [
    {
     "name": "stdout",
     "output_type": "stream",
     "text": [
      "Fri Mar 19 14:47:19 2021: 4\n"
     ]
    }
   ],
   "source": [
    "x.append(4)"
   ]
  },
  {
   "cell_type": "code",
   "execution_count": 48,
   "metadata": {},
   "outputs": [
    {
     "data": {
      "text/plain": [
       "[4, 4, 4, 4]"
      ]
     },
     "execution_count": 48,
     "metadata": {},
     "output_type": "execute_result"
    }
   ],
   "source": [
    "x"
   ]
  },
  {
   "cell_type": "markdown",
   "metadata": {},
   "source": [
    "## 2. Cтандартные средства языка Python"
   ]
  },
  {
   "cell_type": "code",
   "execution_count": null,
   "metadata": {},
   "outputs": [],
   "source": []
  },
  {
   "cell_type": "code",
   "execution_count": null,
   "metadata": {},
   "outputs": [],
   "source": []
  },
  {
   "cell_type": "code",
   "execution_count": null,
   "metadata": {},
   "outputs": [],
   "source": []
  }
 ],
 "metadata": {
  "kernelspec": {
   "display_name": "Python 3",
   "language": "python",
   "name": "python3"
  },
  "language_info": {
   "codemirror_mode": {
    "name": "ipython",
    "version": 3
   },
   "file_extension": ".py",
   "mimetype": "text/x-python",
   "name": "python",
   "nbconvert_exporter": "python",
   "pygments_lexer": "ipython3",
   "version": "3.7.6"
  }
 },
 "nbformat": 4,
 "nbformat_minor": 4
}
