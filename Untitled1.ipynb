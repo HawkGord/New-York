{
 "cells": [
  {
   "cell_type": "code",
   "execution_count": null,
   "metadata": {},
   "outputs": [],
   "source": [
    "import requests\n",
    "\n",
    "api_url = \"http://api.openweathermap.org/data/2.5/weather\"\n",
    "\n",
    "city = input(\"City?  \")\n",
    "\n",
    "params = {\n",
    "    'q': city,\n",
    "    'appid': '11c0d3dc6093f7442898ee49d2430d20'\n",
    "}\n",
    "\n",
    "res = requests.get(api_url, params=params)\n",
    "\n",
    "data = res.json()\n",
    "\n",
    "print(f'Current temperature in {city} is {data[\"main\"][\"temp\"]-273.15}')"
   ]
  }
 ],
 "metadata": {
  "kernelspec": {
   "display_name": "Python 3",
   "language": "python",
   "name": "python3"
  }
 },
 "nbformat": 4,
 "nbformat_minor": 4
}
